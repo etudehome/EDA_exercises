{
 "cells": [
  {
   "cell_type": "markdown",
   "id": "72d80384",
   "metadata": {},
   "source": [
    "Nesibe Elibol, "
   ]
  },
  {
   "cell_type": "markdown",
   "id": "90e08043",
   "metadata": {},
   "source": [
    "# Project Teil 2\n",
    "\n",
    "## EDA"
   ]
  },
  {
   "cell_type": "code",
   "execution_count": 1,
   "id": "a0108aa3",
   "metadata": {},
   "outputs": [
    {
     "data": {
      "text/html": [
       "        <script type=\"text/javascript\">\n",
       "        window.PlotlyConfig = {MathJaxConfig: 'local'};\n",
       "        if (window.MathJax) {MathJax.Hub.Config({SVG: {font: \"STIX-Web\"}});}\n",
       "        if (typeof require !== 'undefined') {\n",
       "        require.undef(\"plotly\");\n",
       "        requirejs.config({\n",
       "            paths: {\n",
       "                'plotly': ['https://cdn.plot.ly/plotly-2.2.0.min']\n",
       "            }\n",
       "        });\n",
       "        require(['plotly'], function(Plotly) {\n",
       "            window._Plotly = Plotly;\n",
       "        });\n",
       "        }\n",
       "        </script>\n",
       "        "
      ]
     },
     "metadata": {},
     "output_type": "display_data"
    }
   ],
   "source": [
    "%matplotlib inline\n",
    "import csv\n",
    "import pandas as pd\n",
    "import numpy as np\n",
    "import seaborn as sns\n",
    "import matplotlib\n",
    "import matplotlib.pyplot as plt\n",
    "import plotly.express as px\n",
    "import plotly.graph_objects as go\n",
    "import plotly.graph_objects as go\n",
    "from plotly.subplots import make_subplots\n",
    "from plotly.offline import init_notebook_mode, iplot\n",
    "init_notebook_mode(connected=True)"
   ]
  },
  {
   "cell_type": "code",
   "execution_count": 2,
   "id": "376592fe",
   "metadata": {},
   "outputs": [
    {
     "data": {
      "text/html": [
       "<div>\n",
       "<style scoped>\n",
       "    .dataframe tbody tr th:only-of-type {\n",
       "        vertical-align: middle;\n",
       "    }\n",
       "\n",
       "    .dataframe tbody tr th {\n",
       "        vertical-align: top;\n",
       "    }\n",
       "\n",
       "    .dataframe thead th {\n",
       "        text-align: right;\n",
       "    }\n",
       "</style>\n",
       "<table border=\"1\" class=\"dataframe\">\n",
       "  <thead>\n",
       "    <tr style=\"text-align: right;\">\n",
       "      <th></th>\n",
       "      <th>funded_amount</th>\n",
       "      <th>loan_amount</th>\n",
       "      <th>activity</th>\n",
       "      <th>sector</th>\n",
       "      <th>country_code</th>\n",
       "      <th>country</th>\n",
       "      <th>region</th>\n",
       "      <th>currency</th>\n",
       "      <th>term_in_months</th>\n",
       "      <th>lender_count</th>\n",
       "      <th>borrower_genders</th>\n",
       "      <th>repayment_interval</th>\n",
       "      <th>pers_count</th>\n",
       "      <th>male_count</th>\n",
       "      <th>female_count</th>\n",
       "      <th>continent</th>\n",
       "      <th>pay_monat</th>\n",
       "      <th>pay_mp</th>\n",
       "      <th>goal_pctg</th>\n",
       "      <th>funded_pp</th>\n",
       "    </tr>\n",
       "  </thead>\n",
       "  <tbody>\n",
       "    <tr>\n",
       "      <th>0</th>\n",
       "      <td>300</td>\n",
       "      <td>300</td>\n",
       "      <td>Fruits &amp; Vegetables</td>\n",
       "      <td>Food</td>\n",
       "      <td>PK</td>\n",
       "      <td>Pakistan</td>\n",
       "      <td>Lahore</td>\n",
       "      <td>PKR</td>\n",
       "      <td>12</td>\n",
       "      <td>12</td>\n",
       "      <td>female</td>\n",
       "      <td>irregular</td>\n",
       "      <td>1</td>\n",
       "      <td>0</td>\n",
       "      <td>1</td>\n",
       "      <td>Asia</td>\n",
       "      <td>25.00</td>\n",
       "      <td>25.00</td>\n",
       "      <td>100.0</td>\n",
       "      <td>300.0</td>\n",
       "    </tr>\n",
       "    <tr>\n",
       "      <th>1</th>\n",
       "      <td>575</td>\n",
       "      <td>575</td>\n",
       "      <td>Rickshaw</td>\n",
       "      <td>Transportation</td>\n",
       "      <td>PK</td>\n",
       "      <td>Pakistan</td>\n",
       "      <td>Lahore</td>\n",
       "      <td>PKR</td>\n",
       "      <td>11</td>\n",
       "      <td>14</td>\n",
       "      <td>female, female</td>\n",
       "      <td>irregular</td>\n",
       "      <td>2</td>\n",
       "      <td>0</td>\n",
       "      <td>2</td>\n",
       "      <td>Asia</td>\n",
       "      <td>52.27</td>\n",
       "      <td>26.14</td>\n",
       "      <td>100.0</td>\n",
       "      <td>287.5</td>\n",
       "    </tr>\n",
       "    <tr>\n",
       "      <th>2</th>\n",
       "      <td>150</td>\n",
       "      <td>150</td>\n",
       "      <td>Transportation</td>\n",
       "      <td>Transportation</td>\n",
       "      <td>IN</td>\n",
       "      <td>India</td>\n",
       "      <td>Maynaguri</td>\n",
       "      <td>INR</td>\n",
       "      <td>43</td>\n",
       "      <td>6</td>\n",
       "      <td>female</td>\n",
       "      <td>bullet</td>\n",
       "      <td>1</td>\n",
       "      <td>0</td>\n",
       "      <td>1</td>\n",
       "      <td>Asia</td>\n",
       "      <td>3.49</td>\n",
       "      <td>3.49</td>\n",
       "      <td>100.0</td>\n",
       "      <td>150.0</td>\n",
       "    </tr>\n",
       "    <tr>\n",
       "      <th>3</th>\n",
       "      <td>200</td>\n",
       "      <td>200</td>\n",
       "      <td>Embroidery</td>\n",
       "      <td>Arts</td>\n",
       "      <td>PK</td>\n",
       "      <td>Pakistan</td>\n",
       "      <td>Lahore</td>\n",
       "      <td>PKR</td>\n",
       "      <td>11</td>\n",
       "      <td>8</td>\n",
       "      <td>female</td>\n",
       "      <td>irregular</td>\n",
       "      <td>1</td>\n",
       "      <td>0</td>\n",
       "      <td>1</td>\n",
       "      <td>Asia</td>\n",
       "      <td>18.18</td>\n",
       "      <td>18.18</td>\n",
       "      <td>100.0</td>\n",
       "      <td>200.0</td>\n",
       "    </tr>\n",
       "    <tr>\n",
       "      <th>4</th>\n",
       "      <td>400</td>\n",
       "      <td>400</td>\n",
       "      <td>Milk Sales</td>\n",
       "      <td>Food</td>\n",
       "      <td>PK</td>\n",
       "      <td>Pakistan</td>\n",
       "      <td>Abdul Hakeem</td>\n",
       "      <td>PKR</td>\n",
       "      <td>14</td>\n",
       "      <td>16</td>\n",
       "      <td>female</td>\n",
       "      <td>monthly</td>\n",
       "      <td>1</td>\n",
       "      <td>0</td>\n",
       "      <td>1</td>\n",
       "      <td>Asia</td>\n",
       "      <td>28.57</td>\n",
       "      <td>28.57</td>\n",
       "      <td>100.0</td>\n",
       "      <td>400.0</td>\n",
       "    </tr>\n",
       "    <tr>\n",
       "      <th>...</th>\n",
       "      <td>...</td>\n",
       "      <td>...</td>\n",
       "      <td>...</td>\n",
       "      <td>...</td>\n",
       "      <td>...</td>\n",
       "      <td>...</td>\n",
       "      <td>...</td>\n",
       "      <td>...</td>\n",
       "      <td>...</td>\n",
       "      <td>...</td>\n",
       "      <td>...</td>\n",
       "      <td>...</td>\n",
       "      <td>...</td>\n",
       "      <td>...</td>\n",
       "      <td>...</td>\n",
       "      <td>...</td>\n",
       "      <td>...</td>\n",
       "      <td>...</td>\n",
       "      <td>...</td>\n",
       "      <td>...</td>\n",
       "    </tr>\n",
       "    <tr>\n",
       "      <th>671199</th>\n",
       "      <td>0</td>\n",
       "      <td>25</td>\n",
       "      <td>Livestock</td>\n",
       "      <td>Agriculture</td>\n",
       "      <td>PY</td>\n",
       "      <td>Paraguay</td>\n",
       "      <td>Concepción</td>\n",
       "      <td>USD</td>\n",
       "      <td>13</td>\n",
       "      <td>0</td>\n",
       "      <td>female</td>\n",
       "      <td>monthly</td>\n",
       "      <td>1</td>\n",
       "      <td>0</td>\n",
       "      <td>1</td>\n",
       "      <td>South America</td>\n",
       "      <td>0.00</td>\n",
       "      <td>0.00</td>\n",
       "      <td>0.0</td>\n",
       "      <td>0.0</td>\n",
       "    </tr>\n",
       "    <tr>\n",
       "      <th>671200</th>\n",
       "      <td>0</td>\n",
       "      <td>25</td>\n",
       "      <td>Livestock</td>\n",
       "      <td>Agriculture</td>\n",
       "      <td>PY</td>\n",
       "      <td>Paraguay</td>\n",
       "      <td>Concepción</td>\n",
       "      <td>USD</td>\n",
       "      <td>13</td>\n",
       "      <td>0</td>\n",
       "      <td>female</td>\n",
       "      <td>monthly</td>\n",
       "      <td>1</td>\n",
       "      <td>0</td>\n",
       "      <td>1</td>\n",
       "      <td>South America</td>\n",
       "      <td>0.00</td>\n",
       "      <td>0.00</td>\n",
       "      <td>0.0</td>\n",
       "      <td>0.0</td>\n",
       "    </tr>\n",
       "    <tr>\n",
       "      <th>671201</th>\n",
       "      <td>25</td>\n",
       "      <td>25</td>\n",
       "      <td>Livestock</td>\n",
       "      <td>Agriculture</td>\n",
       "      <td>KE</td>\n",
       "      <td>Kenya</td>\n",
       "      <td>NaN</td>\n",
       "      <td>KES</td>\n",
       "      <td>13</td>\n",
       "      <td>1</td>\n",
       "      <td>female</td>\n",
       "      <td>monthly</td>\n",
       "      <td>1</td>\n",
       "      <td>0</td>\n",
       "      <td>1</td>\n",
       "      <td>Africa</td>\n",
       "      <td>1.92</td>\n",
       "      <td>1.92</td>\n",
       "      <td>100.0</td>\n",
       "      <td>25.0</td>\n",
       "    </tr>\n",
       "    <tr>\n",
       "      <th>671203</th>\n",
       "      <td>0</td>\n",
       "      <td>25</td>\n",
       "      <td>Livestock</td>\n",
       "      <td>Agriculture</td>\n",
       "      <td>KE</td>\n",
       "      <td>Kenya</td>\n",
       "      <td>NaN</td>\n",
       "      <td>KES</td>\n",
       "      <td>13</td>\n",
       "      <td>0</td>\n",
       "      <td>female</td>\n",
       "      <td>monthly</td>\n",
       "      <td>1</td>\n",
       "      <td>0</td>\n",
       "      <td>1</td>\n",
       "      <td>Africa</td>\n",
       "      <td>0.00</td>\n",
       "      <td>0.00</td>\n",
       "      <td>0.0</td>\n",
       "      <td>0.0</td>\n",
       "    </tr>\n",
       "    <tr>\n",
       "      <th>671204</th>\n",
       "      <td>0</td>\n",
       "      <td>25</td>\n",
       "      <td>Livestock</td>\n",
       "      <td>Agriculture</td>\n",
       "      <td>KE</td>\n",
       "      <td>Kenya</td>\n",
       "      <td>NaN</td>\n",
       "      <td>KES</td>\n",
       "      <td>13</td>\n",
       "      <td>0</td>\n",
       "      <td>female</td>\n",
       "      <td>monthly</td>\n",
       "      <td>1</td>\n",
       "      <td>0</td>\n",
       "      <td>1</td>\n",
       "      <td>Africa</td>\n",
       "      <td>0.00</td>\n",
       "      <td>0.00</td>\n",
       "      <td>0.0</td>\n",
       "      <td>0.0</td>\n",
       "    </tr>\n",
       "  </tbody>\n",
       "</table>\n",
       "<p>666984 rows × 20 columns</p>\n",
       "</div>"
      ],
      "text/plain": [
       "        funded_amount  loan_amount             activity          sector  \\\n",
       "0                 300          300  Fruits & Vegetables            Food   \n",
       "1                 575          575             Rickshaw  Transportation   \n",
       "2                 150          150       Transportation  Transportation   \n",
       "3                 200          200           Embroidery            Arts   \n",
       "4                 400          400           Milk Sales            Food   \n",
       "...               ...          ...                  ...             ...   \n",
       "671199              0           25            Livestock     Agriculture   \n",
       "671200              0           25            Livestock     Agriculture   \n",
       "671201             25           25            Livestock     Agriculture   \n",
       "671203              0           25            Livestock     Agriculture   \n",
       "671204              0           25            Livestock     Agriculture   \n",
       "\n",
       "       country_code   country        region currency  term_in_months  \\\n",
       "0                PK  Pakistan        Lahore      PKR              12   \n",
       "1                PK  Pakistan        Lahore      PKR              11   \n",
       "2                IN     India     Maynaguri      INR              43   \n",
       "3                PK  Pakistan        Lahore      PKR              11   \n",
       "4                PK  Pakistan  Abdul Hakeem      PKR              14   \n",
       "...             ...       ...           ...      ...             ...   \n",
       "671199           PY  Paraguay    Concepción      USD              13   \n",
       "671200           PY  Paraguay    Concepción      USD              13   \n",
       "671201           KE     Kenya           NaN      KES              13   \n",
       "671203           KE     Kenya           NaN      KES              13   \n",
       "671204           KE     Kenya           NaN      KES              13   \n",
       "\n",
       "        lender_count borrower_genders repayment_interval  pers_count  \\\n",
       "0                 12           female          irregular           1   \n",
       "1                 14   female, female          irregular           2   \n",
       "2                  6           female             bullet           1   \n",
       "3                  8           female          irregular           1   \n",
       "4                 16           female            monthly           1   \n",
       "...              ...              ...                ...         ...   \n",
       "671199             0           female            monthly           1   \n",
       "671200             0           female            monthly           1   \n",
       "671201             1           female            monthly           1   \n",
       "671203             0           female            monthly           1   \n",
       "671204             0           female            monthly           1   \n",
       "\n",
       "        male_count  female_count      continent  pay_monat  pay_mp  goal_pctg  \\\n",
       "0                0             1           Asia      25.00   25.00      100.0   \n",
       "1                0             2           Asia      52.27   26.14      100.0   \n",
       "2                0             1           Asia       3.49    3.49      100.0   \n",
       "3                0             1           Asia      18.18   18.18      100.0   \n",
       "4                0             1           Asia      28.57   28.57      100.0   \n",
       "...            ...           ...            ...        ...     ...        ...   \n",
       "671199           0             1  South America       0.00    0.00        0.0   \n",
       "671200           0             1  South America       0.00    0.00        0.0   \n",
       "671201           0             1         Africa       1.92    1.92      100.0   \n",
       "671203           0             1         Africa       0.00    0.00        0.0   \n",
       "671204           0             1         Africa       0.00    0.00        0.0   \n",
       "\n",
       "        funded_pp  \n",
       "0           300.0  \n",
       "1           287.5  \n",
       "2           150.0  \n",
       "3           200.0  \n",
       "4           400.0  \n",
       "...           ...  \n",
       "671199        0.0  \n",
       "671200        0.0  \n",
       "671201       25.0  \n",
       "671203        0.0  \n",
       "671204        0.0  \n",
       "\n",
       "[666984 rows x 20 columns]"
      ]
     },
     "execution_count": 2,
     "metadata": {},
     "output_type": "execute_result"
    }
   ],
   "source": [
    "df = pd.read_pickle(\"df_after_processing.pkl\")\n",
    "df"
   ]
  },
  {
   "cell_type": "code",
   "execution_count": 3,
   "id": "fd9afc07",
   "metadata": {},
   "outputs": [],
   "source": [
    "df.rename({'borrower_genders': 'sex'}, axis=1, inplace=True)"
   ]
  },
  {
   "cell_type": "code",
   "execution_count": 4,
   "id": "47dd89c7",
   "metadata": {},
   "outputs": [
    {
     "data": {
      "text/plain": [
       "0                 female\n",
       "1         female, female\n",
       "2                 female\n",
       "3                 female\n",
       "4                 female\n",
       "               ...      \n",
       "671199            female\n",
       "671200            female\n",
       "671201            female\n",
       "671203            female\n",
       "671204            female\n",
       "Name: sex, Length: 666984, dtype: category\n",
       "Categories (11298, object): ['female', 'female, female', 'female, female, female', 'female, female, female, female', ..., 'male, male, male, male, male, male, male, mal..., 'male, male, male, male, male, male, male, mal..., 'male, male, male, male, male, male, male, mal..., 'male, male, male, male, male, male, male, mal...]"
      ]
     },
     "execution_count": 4,
     "metadata": {},
     "output_type": "execute_result"
    }
   ],
   "source": [
    "df.sex"
   ]
  },
  {
   "cell_type": "code",
   "execution_count": 5,
   "id": "5af74de1",
   "metadata": {},
   "outputs": [],
   "source": [
    "def multiple_genders(sex):\n",
    "    gender_list = sex.split(\",\")\n",
    "    gender_list = list(set(gender_list))\n",
    "    gender_list = [sex.strip() for sex in gender_list]\n",
    "    if len(gender_list)==2:\n",
    "        if 'female' in gender_list and 'male' in gender_list:\n",
    "            return 'both'\n",
    "        elif 'female' in gender_list:\n",
    "            return 'multiple female'\n",
    "        elif 'male' in gender_list:\n",
    "            return 'multiple male'\n",
    "    elif gender_list[0]=='female':\n",
    "        return 'female'\n",
    "    elif gender_list[0]=='male':\n",
    "        return 'male'\n",
    "    else:\n",
    "        return 'x'"
   ]
  },
  {
   "cell_type": "code",
   "execution_count": 6,
   "id": "c4dab27a",
   "metadata": {},
   "outputs": [
    {
     "data": {
      "text/plain": [
       "0                  female\n",
       "1         multiple female\n",
       "2                  female\n",
       "3                  female\n",
       "4                  female\n",
       "               ...       \n",
       "671199             female\n",
       "671200             female\n",
       "671201             female\n",
       "671203             female\n",
       "671204             female\n",
       "Name: gender, Length: 666984, dtype: object"
      ]
     },
     "execution_count": 6,
     "metadata": {},
     "output_type": "execute_result"
    }
   ],
   "source": [
    "df['gender'] = df['sex'].apply(multiple_genders)\n",
    "df.gender"
   ]
  },
  {
   "cell_type": "code",
   "execution_count": 7,
   "id": "9c0db401",
   "metadata": {},
   "outputs": [
    {
     "data": {
      "text/html": [
       "<div>\n",
       "<style scoped>\n",
       "    .dataframe tbody tr th:only-of-type {\n",
       "        vertical-align: middle;\n",
       "    }\n",
       "\n",
       "    .dataframe tbody tr th {\n",
       "        vertical-align: top;\n",
       "    }\n",
       "\n",
       "    .dataframe thead th {\n",
       "        text-align: right;\n",
       "    }\n",
       "</style>\n",
       "<table border=\"1\" class=\"dataframe\">\n",
       "  <thead>\n",
       "    <tr style=\"text-align: right;\">\n",
       "      <th></th>\n",
       "      <th>funded_amount</th>\n",
       "      <th>loan_amount</th>\n",
       "      <th>activity</th>\n",
       "      <th>sector</th>\n",
       "      <th>country_code</th>\n",
       "      <th>country</th>\n",
       "      <th>region</th>\n",
       "      <th>currency</th>\n",
       "      <th>term_in_months</th>\n",
       "      <th>lender_count</th>\n",
       "      <th>...</th>\n",
       "      <th>repayment_interval</th>\n",
       "      <th>pers_count</th>\n",
       "      <th>male_count</th>\n",
       "      <th>female_count</th>\n",
       "      <th>continent</th>\n",
       "      <th>pay_monat</th>\n",
       "      <th>pay_mp</th>\n",
       "      <th>goal_pctg</th>\n",
       "      <th>funded_pp</th>\n",
       "      <th>gender</th>\n",
       "    </tr>\n",
       "  </thead>\n",
       "  <tbody>\n",
       "    <tr>\n",
       "      <th>0</th>\n",
       "      <td>300</td>\n",
       "      <td>300</td>\n",
       "      <td>Fruits &amp; Vegetables</td>\n",
       "      <td>Food</td>\n",
       "      <td>PK</td>\n",
       "      <td>Pakistan</td>\n",
       "      <td>Lahore</td>\n",
       "      <td>PKR</td>\n",
       "      <td>12</td>\n",
       "      <td>12</td>\n",
       "      <td>...</td>\n",
       "      <td>irregular</td>\n",
       "      <td>1</td>\n",
       "      <td>0</td>\n",
       "      <td>1</td>\n",
       "      <td>Asia</td>\n",
       "      <td>25.00</td>\n",
       "      <td>25.00</td>\n",
       "      <td>100.0</td>\n",
       "      <td>300.0</td>\n",
       "      <td>female</td>\n",
       "    </tr>\n",
       "    <tr>\n",
       "      <th>1</th>\n",
       "      <td>575</td>\n",
       "      <td>575</td>\n",
       "      <td>Rickshaw</td>\n",
       "      <td>Transportation</td>\n",
       "      <td>PK</td>\n",
       "      <td>Pakistan</td>\n",
       "      <td>Lahore</td>\n",
       "      <td>PKR</td>\n",
       "      <td>11</td>\n",
       "      <td>14</td>\n",
       "      <td>...</td>\n",
       "      <td>irregular</td>\n",
       "      <td>2</td>\n",
       "      <td>0</td>\n",
       "      <td>2</td>\n",
       "      <td>Asia</td>\n",
       "      <td>52.27</td>\n",
       "      <td>26.14</td>\n",
       "      <td>100.0</td>\n",
       "      <td>287.5</td>\n",
       "      <td>multiple female</td>\n",
       "    </tr>\n",
       "    <tr>\n",
       "      <th>2</th>\n",
       "      <td>150</td>\n",
       "      <td>150</td>\n",
       "      <td>Transportation</td>\n",
       "      <td>Transportation</td>\n",
       "      <td>IN</td>\n",
       "      <td>India</td>\n",
       "      <td>Maynaguri</td>\n",
       "      <td>INR</td>\n",
       "      <td>43</td>\n",
       "      <td>6</td>\n",
       "      <td>...</td>\n",
       "      <td>bullet</td>\n",
       "      <td>1</td>\n",
       "      <td>0</td>\n",
       "      <td>1</td>\n",
       "      <td>Asia</td>\n",
       "      <td>3.49</td>\n",
       "      <td>3.49</td>\n",
       "      <td>100.0</td>\n",
       "      <td>150.0</td>\n",
       "      <td>female</td>\n",
       "    </tr>\n",
       "    <tr>\n",
       "      <th>3</th>\n",
       "      <td>200</td>\n",
       "      <td>200</td>\n",
       "      <td>Embroidery</td>\n",
       "      <td>Arts</td>\n",
       "      <td>PK</td>\n",
       "      <td>Pakistan</td>\n",
       "      <td>Lahore</td>\n",
       "      <td>PKR</td>\n",
       "      <td>11</td>\n",
       "      <td>8</td>\n",
       "      <td>...</td>\n",
       "      <td>irregular</td>\n",
       "      <td>1</td>\n",
       "      <td>0</td>\n",
       "      <td>1</td>\n",
       "      <td>Asia</td>\n",
       "      <td>18.18</td>\n",
       "      <td>18.18</td>\n",
       "      <td>100.0</td>\n",
       "      <td>200.0</td>\n",
       "      <td>female</td>\n",
       "    </tr>\n",
       "    <tr>\n",
       "      <th>4</th>\n",
       "      <td>400</td>\n",
       "      <td>400</td>\n",
       "      <td>Milk Sales</td>\n",
       "      <td>Food</td>\n",
       "      <td>PK</td>\n",
       "      <td>Pakistan</td>\n",
       "      <td>Abdul Hakeem</td>\n",
       "      <td>PKR</td>\n",
       "      <td>14</td>\n",
       "      <td>16</td>\n",
       "      <td>...</td>\n",
       "      <td>monthly</td>\n",
       "      <td>1</td>\n",
       "      <td>0</td>\n",
       "      <td>1</td>\n",
       "      <td>Asia</td>\n",
       "      <td>28.57</td>\n",
       "      <td>28.57</td>\n",
       "      <td>100.0</td>\n",
       "      <td>400.0</td>\n",
       "      <td>female</td>\n",
       "    </tr>\n",
       "    <tr>\n",
       "      <th>...</th>\n",
       "      <td>...</td>\n",
       "      <td>...</td>\n",
       "      <td>...</td>\n",
       "      <td>...</td>\n",
       "      <td>...</td>\n",
       "      <td>...</td>\n",
       "      <td>...</td>\n",
       "      <td>...</td>\n",
       "      <td>...</td>\n",
       "      <td>...</td>\n",
       "      <td>...</td>\n",
       "      <td>...</td>\n",
       "      <td>...</td>\n",
       "      <td>...</td>\n",
       "      <td>...</td>\n",
       "      <td>...</td>\n",
       "      <td>...</td>\n",
       "      <td>...</td>\n",
       "      <td>...</td>\n",
       "      <td>...</td>\n",
       "      <td>...</td>\n",
       "    </tr>\n",
       "    <tr>\n",
       "      <th>671199</th>\n",
       "      <td>0</td>\n",
       "      <td>25</td>\n",
       "      <td>Livestock</td>\n",
       "      <td>Agriculture</td>\n",
       "      <td>PY</td>\n",
       "      <td>Paraguay</td>\n",
       "      <td>Concepción</td>\n",
       "      <td>USD</td>\n",
       "      <td>13</td>\n",
       "      <td>0</td>\n",
       "      <td>...</td>\n",
       "      <td>monthly</td>\n",
       "      <td>1</td>\n",
       "      <td>0</td>\n",
       "      <td>1</td>\n",
       "      <td>South America</td>\n",
       "      <td>0.00</td>\n",
       "      <td>0.00</td>\n",
       "      <td>0.0</td>\n",
       "      <td>0.0</td>\n",
       "      <td>female</td>\n",
       "    </tr>\n",
       "    <tr>\n",
       "      <th>671200</th>\n",
       "      <td>0</td>\n",
       "      <td>25</td>\n",
       "      <td>Livestock</td>\n",
       "      <td>Agriculture</td>\n",
       "      <td>PY</td>\n",
       "      <td>Paraguay</td>\n",
       "      <td>Concepción</td>\n",
       "      <td>USD</td>\n",
       "      <td>13</td>\n",
       "      <td>0</td>\n",
       "      <td>...</td>\n",
       "      <td>monthly</td>\n",
       "      <td>1</td>\n",
       "      <td>0</td>\n",
       "      <td>1</td>\n",
       "      <td>South America</td>\n",
       "      <td>0.00</td>\n",
       "      <td>0.00</td>\n",
       "      <td>0.0</td>\n",
       "      <td>0.0</td>\n",
       "      <td>female</td>\n",
       "    </tr>\n",
       "    <tr>\n",
       "      <th>671201</th>\n",
       "      <td>25</td>\n",
       "      <td>25</td>\n",
       "      <td>Livestock</td>\n",
       "      <td>Agriculture</td>\n",
       "      <td>KE</td>\n",
       "      <td>Kenya</td>\n",
       "      <td>NaN</td>\n",
       "      <td>KES</td>\n",
       "      <td>13</td>\n",
       "      <td>1</td>\n",
       "      <td>...</td>\n",
       "      <td>monthly</td>\n",
       "      <td>1</td>\n",
       "      <td>0</td>\n",
       "      <td>1</td>\n",
       "      <td>Africa</td>\n",
       "      <td>1.92</td>\n",
       "      <td>1.92</td>\n",
       "      <td>100.0</td>\n",
       "      <td>25.0</td>\n",
       "      <td>female</td>\n",
       "    </tr>\n",
       "    <tr>\n",
       "      <th>671203</th>\n",
       "      <td>0</td>\n",
       "      <td>25</td>\n",
       "      <td>Livestock</td>\n",
       "      <td>Agriculture</td>\n",
       "      <td>KE</td>\n",
       "      <td>Kenya</td>\n",
       "      <td>NaN</td>\n",
       "      <td>KES</td>\n",
       "      <td>13</td>\n",
       "      <td>0</td>\n",
       "      <td>...</td>\n",
       "      <td>monthly</td>\n",
       "      <td>1</td>\n",
       "      <td>0</td>\n",
       "      <td>1</td>\n",
       "      <td>Africa</td>\n",
       "      <td>0.00</td>\n",
       "      <td>0.00</td>\n",
       "      <td>0.0</td>\n",
       "      <td>0.0</td>\n",
       "      <td>female</td>\n",
       "    </tr>\n",
       "    <tr>\n",
       "      <th>671204</th>\n",
       "      <td>0</td>\n",
       "      <td>25</td>\n",
       "      <td>Livestock</td>\n",
       "      <td>Agriculture</td>\n",
       "      <td>KE</td>\n",
       "      <td>Kenya</td>\n",
       "      <td>NaN</td>\n",
       "      <td>KES</td>\n",
       "      <td>13</td>\n",
       "      <td>0</td>\n",
       "      <td>...</td>\n",
       "      <td>monthly</td>\n",
       "      <td>1</td>\n",
       "      <td>0</td>\n",
       "      <td>1</td>\n",
       "      <td>Africa</td>\n",
       "      <td>0.00</td>\n",
       "      <td>0.00</td>\n",
       "      <td>0.0</td>\n",
       "      <td>0.0</td>\n",
       "      <td>female</td>\n",
       "    </tr>\n",
       "  </tbody>\n",
       "</table>\n",
       "<p>666984 rows × 21 columns</p>\n",
       "</div>"
      ],
      "text/plain": [
       "        funded_amount  loan_amount             activity          sector  \\\n",
       "0                 300          300  Fruits & Vegetables            Food   \n",
       "1                 575          575             Rickshaw  Transportation   \n",
       "2                 150          150       Transportation  Transportation   \n",
       "3                 200          200           Embroidery            Arts   \n",
       "4                 400          400           Milk Sales            Food   \n",
       "...               ...          ...                  ...             ...   \n",
       "671199              0           25            Livestock     Agriculture   \n",
       "671200              0           25            Livestock     Agriculture   \n",
       "671201             25           25            Livestock     Agriculture   \n",
       "671203              0           25            Livestock     Agriculture   \n",
       "671204              0           25            Livestock     Agriculture   \n",
       "\n",
       "       country_code   country        region currency  term_in_months  \\\n",
       "0                PK  Pakistan        Lahore      PKR              12   \n",
       "1                PK  Pakistan        Lahore      PKR              11   \n",
       "2                IN     India     Maynaguri      INR              43   \n",
       "3                PK  Pakistan        Lahore      PKR              11   \n",
       "4                PK  Pakistan  Abdul Hakeem      PKR              14   \n",
       "...             ...       ...           ...      ...             ...   \n",
       "671199           PY  Paraguay    Concepción      USD              13   \n",
       "671200           PY  Paraguay    Concepción      USD              13   \n",
       "671201           KE     Kenya           NaN      KES              13   \n",
       "671203           KE     Kenya           NaN      KES              13   \n",
       "671204           KE     Kenya           NaN      KES              13   \n",
       "\n",
       "        lender_count  ... repayment_interval pers_count  male_count  \\\n",
       "0                 12  ...          irregular          1           0   \n",
       "1                 14  ...          irregular          2           0   \n",
       "2                  6  ...             bullet          1           0   \n",
       "3                  8  ...          irregular          1           0   \n",
       "4                 16  ...            monthly          1           0   \n",
       "...              ...  ...                ...        ...         ...   \n",
       "671199             0  ...            monthly          1           0   \n",
       "671200             0  ...            monthly          1           0   \n",
       "671201             1  ...            monthly          1           0   \n",
       "671203             0  ...            monthly          1           0   \n",
       "671204             0  ...            monthly          1           0   \n",
       "\n",
       "        female_count      continent pay_monat  pay_mp  goal_pctg  funded_pp  \\\n",
       "0                  1           Asia     25.00   25.00      100.0      300.0   \n",
       "1                  2           Asia     52.27   26.14      100.0      287.5   \n",
       "2                  1           Asia      3.49    3.49      100.0      150.0   \n",
       "3                  1           Asia     18.18   18.18      100.0      200.0   \n",
       "4                  1           Asia     28.57   28.57      100.0      400.0   \n",
       "...              ...            ...       ...     ...        ...        ...   \n",
       "671199             1  South America      0.00    0.00        0.0        0.0   \n",
       "671200             1  South America      0.00    0.00        0.0        0.0   \n",
       "671201             1         Africa      1.92    1.92      100.0       25.0   \n",
       "671203             1         Africa      0.00    0.00        0.0        0.0   \n",
       "671204             1         Africa      0.00    0.00        0.0        0.0   \n",
       "\n",
       "                 gender  \n",
       "0                female  \n",
       "1       multiple female  \n",
       "2                female  \n",
       "3                female  \n",
       "4                female  \n",
       "...                 ...  \n",
       "671199           female  \n",
       "671200           female  \n",
       "671201           female  \n",
       "671203           female  \n",
       "671204           female  \n",
       "\n",
       "[666984 rows x 21 columns]"
      ]
     },
     "execution_count": 7,
     "metadata": {},
     "output_type": "execute_result"
    }
   ],
   "source": [
    "df"
   ]
  },
  {
   "cell_type": "markdown",
   "id": "5999ac0a",
   "metadata": {},
   "source": [
    "## Who are the borrower?"
   ]
  },
  {
   "cell_type": "code",
   "execution_count": 8,
   "id": "169dfc92",
   "metadata": {},
   "outputs": [
    {
     "data": {
      "application/vnd.plotly.v1+json": {
       "config": {
        "plotlyServerURL": "https://plot.ly"
       },
       "data": [
        {
         "hoverinfo": "label+percent",
         "labels": [
          "female",
          "male"
         ],
         "showlegend": true,
         "textfont": {
          "size": 20
         },
         "type": "pie",
         "values": [
          77.00979333837094,
          22.990206661629063
         ]
        }
       ],
       "layout": {
        "template": {
         "data": {
          "bar": [
           {
            "error_x": {
             "color": "#2a3f5f"
            },
            "error_y": {
             "color": "#2a3f5f"
            },
            "marker": {
             "line": {
              "color": "#E5ECF6",
              "width": 0.5
             },
             "pattern": {
              "fillmode": "overlay",
              "size": 10,
              "solidity": 0.2
             }
            },
            "type": "bar"
           }
          ],
          "barpolar": [
           {
            "marker": {
             "line": {
              "color": "#E5ECF6",
              "width": 0.5
             },
             "pattern": {
              "fillmode": "overlay",
              "size": 10,
              "solidity": 0.2
             }
            },
            "type": "barpolar"
           }
          ],
          "carpet": [
           {
            "aaxis": {
             "endlinecolor": "#2a3f5f",
             "gridcolor": "white",
             "linecolor": "white",
             "minorgridcolor": "white",
             "startlinecolor": "#2a3f5f"
            },
            "baxis": {
             "endlinecolor": "#2a3f5f",
             "gridcolor": "white",
             "linecolor": "white",
             "minorgridcolor": "white",
             "startlinecolor": "#2a3f5f"
            },
            "type": "carpet"
           }
          ],
          "choropleth": [
           {
            "colorbar": {
             "outlinewidth": 0,
             "ticks": ""
            },
            "type": "choropleth"
           }
          ],
          "contour": [
           {
            "colorbar": {
             "outlinewidth": 0,
             "ticks": ""
            },
            "colorscale": [
             [
              0,
              "#0d0887"
             ],
             [
              0.1111111111111111,
              "#46039f"
             ],
             [
              0.2222222222222222,
              "#7201a8"
             ],
             [
              0.3333333333333333,
              "#9c179e"
             ],
             [
              0.4444444444444444,
              "#bd3786"
             ],
             [
              0.5555555555555556,
              "#d8576b"
             ],
             [
              0.6666666666666666,
              "#ed7953"
             ],
             [
              0.7777777777777778,
              "#fb9f3a"
             ],
             [
              0.8888888888888888,
              "#fdca26"
             ],
             [
              1,
              "#f0f921"
             ]
            ],
            "type": "contour"
           }
          ],
          "contourcarpet": [
           {
            "colorbar": {
             "outlinewidth": 0,
             "ticks": ""
            },
            "type": "contourcarpet"
           }
          ],
          "heatmap": [
           {
            "colorbar": {
             "outlinewidth": 0,
             "ticks": ""
            },
            "colorscale": [
             [
              0,
              "#0d0887"
             ],
             [
              0.1111111111111111,
              "#46039f"
             ],
             [
              0.2222222222222222,
              "#7201a8"
             ],
             [
              0.3333333333333333,
              "#9c179e"
             ],
             [
              0.4444444444444444,
              "#bd3786"
             ],
             [
              0.5555555555555556,
              "#d8576b"
             ],
             [
              0.6666666666666666,
              "#ed7953"
             ],
             [
              0.7777777777777778,
              "#fb9f3a"
             ],
             [
              0.8888888888888888,
              "#fdca26"
             ],
             [
              1,
              "#f0f921"
             ]
            ],
            "type": "heatmap"
           }
          ],
          "heatmapgl": [
           {
            "colorbar": {
             "outlinewidth": 0,
             "ticks": ""
            },
            "colorscale": [
             [
              0,
              "#0d0887"
             ],
             [
              0.1111111111111111,
              "#46039f"
             ],
             [
              0.2222222222222222,
              "#7201a8"
             ],
             [
              0.3333333333333333,
              "#9c179e"
             ],
             [
              0.4444444444444444,
              "#bd3786"
             ],
             [
              0.5555555555555556,
              "#d8576b"
             ],
             [
              0.6666666666666666,
              "#ed7953"
             ],
             [
              0.7777777777777778,
              "#fb9f3a"
             ],
             [
              0.8888888888888888,
              "#fdca26"
             ],
             [
              1,
              "#f0f921"
             ]
            ],
            "type": "heatmapgl"
           }
          ],
          "histogram": [
           {
            "marker": {
             "pattern": {
              "fillmode": "overlay",
              "size": 10,
              "solidity": 0.2
             }
            },
            "type": "histogram"
           }
          ],
          "histogram2d": [
           {
            "colorbar": {
             "outlinewidth": 0,
             "ticks": ""
            },
            "colorscale": [
             [
              0,
              "#0d0887"
             ],
             [
              0.1111111111111111,
              "#46039f"
             ],
             [
              0.2222222222222222,
              "#7201a8"
             ],
             [
              0.3333333333333333,
              "#9c179e"
             ],
             [
              0.4444444444444444,
              "#bd3786"
             ],
             [
              0.5555555555555556,
              "#d8576b"
             ],
             [
              0.6666666666666666,
              "#ed7953"
             ],
             [
              0.7777777777777778,
              "#fb9f3a"
             ],
             [
              0.8888888888888888,
              "#fdca26"
             ],
             [
              1,
              "#f0f921"
             ]
            ],
            "type": "histogram2d"
           }
          ],
          "histogram2dcontour": [
           {
            "colorbar": {
             "outlinewidth": 0,
             "ticks": ""
            },
            "colorscale": [
             [
              0,
              "#0d0887"
             ],
             [
              0.1111111111111111,
              "#46039f"
             ],
             [
              0.2222222222222222,
              "#7201a8"
             ],
             [
              0.3333333333333333,
              "#9c179e"
             ],
             [
              0.4444444444444444,
              "#bd3786"
             ],
             [
              0.5555555555555556,
              "#d8576b"
             ],
             [
              0.6666666666666666,
              "#ed7953"
             ],
             [
              0.7777777777777778,
              "#fb9f3a"
             ],
             [
              0.8888888888888888,
              "#fdca26"
             ],
             [
              1,
              "#f0f921"
             ]
            ],
            "type": "histogram2dcontour"
           }
          ],
          "mesh3d": [
           {
            "colorbar": {
             "outlinewidth": 0,
             "ticks": ""
            },
            "type": "mesh3d"
           }
          ],
          "parcoords": [
           {
            "line": {
             "colorbar": {
              "outlinewidth": 0,
              "ticks": ""
             }
            },
            "type": "parcoords"
           }
          ],
          "pie": [
           {
            "automargin": true,
            "type": "pie"
           }
          ],
          "scatter": [
           {
            "marker": {
             "colorbar": {
              "outlinewidth": 0,
              "ticks": ""
             }
            },
            "type": "scatter"
           }
          ],
          "scatter3d": [
           {
            "line": {
             "colorbar": {
              "outlinewidth": 0,
              "ticks": ""
             }
            },
            "marker": {
             "colorbar": {
              "outlinewidth": 0,
              "ticks": ""
             }
            },
            "type": "scatter3d"
           }
          ],
          "scattercarpet": [
           {
            "marker": {
             "colorbar": {
              "outlinewidth": 0,
              "ticks": ""
             }
            },
            "type": "scattercarpet"
           }
          ],
          "scattergeo": [
           {
            "marker": {
             "colorbar": {
              "outlinewidth": 0,
              "ticks": ""
             }
            },
            "type": "scattergeo"
           }
          ],
          "scattergl": [
           {
            "marker": {
             "colorbar": {
              "outlinewidth": 0,
              "ticks": ""
             }
            },
            "type": "scattergl"
           }
          ],
          "scattermapbox": [
           {
            "marker": {
             "colorbar": {
              "outlinewidth": 0,
              "ticks": ""
             }
            },
            "type": "scattermapbox"
           }
          ],
          "scatterpolar": [
           {
            "marker": {
             "colorbar": {
              "outlinewidth": 0,
              "ticks": ""
             }
            },
            "type": "scatterpolar"
           }
          ],
          "scatterpolargl": [
           {
            "marker": {
             "colorbar": {
              "outlinewidth": 0,
              "ticks": ""
             }
            },
            "type": "scatterpolargl"
           }
          ],
          "scatterternary": [
           {
            "marker": {
             "colorbar": {
              "outlinewidth": 0,
              "ticks": ""
             }
            },
            "type": "scatterternary"
           }
          ],
          "surface": [
           {
            "colorbar": {
             "outlinewidth": 0,
             "ticks": ""
            },
            "colorscale": [
             [
              0,
              "#0d0887"
             ],
             [
              0.1111111111111111,
              "#46039f"
             ],
             [
              0.2222222222222222,
              "#7201a8"
             ],
             [
              0.3333333333333333,
              "#9c179e"
             ],
             [
              0.4444444444444444,
              "#bd3786"
             ],
             [
              0.5555555555555556,
              "#d8576b"
             ],
             [
              0.6666666666666666,
              "#ed7953"
             ],
             [
              0.7777777777777778,
              "#fb9f3a"
             ],
             [
              0.8888888888888888,
              "#fdca26"
             ],
             [
              1,
              "#f0f921"
             ]
            ],
            "type": "surface"
           }
          ],
          "table": [
           {
            "cells": {
             "fill": {
              "color": "#EBF0F8"
             },
             "line": {
              "color": "white"
             }
            },
            "header": {
             "fill": {
              "color": "#C8D4E3"
             },
             "line": {
              "color": "white"
             }
            },
            "type": "table"
           }
          ]
         },
         "layout": {
          "annotationdefaults": {
           "arrowcolor": "#2a3f5f",
           "arrowhead": 0,
           "arrowwidth": 1
          },
          "autotypenumbers": "strict",
          "coloraxis": {
           "colorbar": {
            "outlinewidth": 0,
            "ticks": ""
           }
          },
          "colorscale": {
           "diverging": [
            [
             0,
             "#8e0152"
            ],
            [
             0.1,
             "#c51b7d"
            ],
            [
             0.2,
             "#de77ae"
            ],
            [
             0.3,
             "#f1b6da"
            ],
            [
             0.4,
             "#fde0ef"
            ],
            [
             0.5,
             "#f7f7f7"
            ],
            [
             0.6,
             "#e6f5d0"
            ],
            [
             0.7,
             "#b8e186"
            ],
            [
             0.8,
             "#7fbc41"
            ],
            [
             0.9,
             "#4d9221"
            ],
            [
             1,
             "#276419"
            ]
           ],
           "sequential": [
            [
             0,
             "#0d0887"
            ],
            [
             0.1111111111111111,
             "#46039f"
            ],
            [
             0.2222222222222222,
             "#7201a8"
            ],
            [
             0.3333333333333333,
             "#9c179e"
            ],
            [
             0.4444444444444444,
             "#bd3786"
            ],
            [
             0.5555555555555556,
             "#d8576b"
            ],
            [
             0.6666666666666666,
             "#ed7953"
            ],
            [
             0.7777777777777778,
             "#fb9f3a"
            ],
            [
             0.8888888888888888,
             "#fdca26"
            ],
            [
             1,
             "#f0f921"
            ]
           ],
           "sequentialminus": [
            [
             0,
             "#0d0887"
            ],
            [
             0.1111111111111111,
             "#46039f"
            ],
            [
             0.2222222222222222,
             "#7201a8"
            ],
            [
             0.3333333333333333,
             "#9c179e"
            ],
            [
             0.4444444444444444,
             "#bd3786"
            ],
            [
             0.5555555555555556,
             "#d8576b"
            ],
            [
             0.6666666666666666,
             "#ed7953"
            ],
            [
             0.7777777777777778,
             "#fb9f3a"
            ],
            [
             0.8888888888888888,
             "#fdca26"
            ],
            [
             1,
             "#f0f921"
            ]
           ]
          },
          "colorway": [
           "#636efa",
           "#EF553B",
           "#00cc96",
           "#ab63fa",
           "#FFA15A",
           "#19d3f3",
           "#FF6692",
           "#B6E880",
           "#FF97FF",
           "#FECB52"
          ],
          "font": {
           "color": "#2a3f5f"
          },
          "geo": {
           "bgcolor": "white",
           "lakecolor": "white",
           "landcolor": "#E5ECF6",
           "showlakes": true,
           "showland": true,
           "subunitcolor": "white"
          },
          "hoverlabel": {
           "align": "left"
          },
          "hovermode": "closest",
          "mapbox": {
           "style": "light"
          },
          "paper_bgcolor": "white",
          "plot_bgcolor": "#E5ECF6",
          "polar": {
           "angularaxis": {
            "gridcolor": "white",
            "linecolor": "white",
            "ticks": ""
           },
           "bgcolor": "#E5ECF6",
           "radialaxis": {
            "gridcolor": "white",
            "linecolor": "white",
            "ticks": ""
           }
          },
          "scene": {
           "xaxis": {
            "backgroundcolor": "#E5ECF6",
            "gridcolor": "white",
            "gridwidth": 2,
            "linecolor": "white",
            "showbackground": true,
            "ticks": "",
            "zerolinecolor": "white"
           },
           "yaxis": {
            "backgroundcolor": "#E5ECF6",
            "gridcolor": "white",
            "gridwidth": 2,
            "linecolor": "white",
            "showbackground": true,
            "ticks": "",
            "zerolinecolor": "white"
           },
           "zaxis": {
            "backgroundcolor": "#E5ECF6",
            "gridcolor": "white",
            "gridwidth": 2,
            "linecolor": "white",
            "showbackground": true,
            "ticks": "",
            "zerolinecolor": "white"
           }
          },
          "shapedefaults": {
           "line": {
            "color": "#2a3f5f"
           }
          },
          "ternary": {
           "aaxis": {
            "gridcolor": "white",
            "linecolor": "white",
            "ticks": ""
           },
           "baxis": {
            "gridcolor": "white",
            "linecolor": "white",
            "ticks": ""
           },
           "bgcolor": "#E5ECF6",
           "caxis": {
            "gridcolor": "white",
            "linecolor": "white",
            "ticks": ""
           }
          },
          "title": {
           "x": 0.05
          },
          "xaxis": {
           "automargin": true,
           "gridcolor": "white",
           "linecolor": "white",
           "ticks": "",
           "title": {
            "standoff": 15
           },
           "zerolinecolor": "white",
           "zerolinewidth": 2
          },
          "yaxis": {
           "automargin": true,
           "gridcolor": "white",
           "linecolor": "white",
           "ticks": "",
           "title": {
            "standoff": 15
           },
           "zerolinecolor": "white",
           "zerolinewidth": 2
          }
         }
        },
        "title": {
         "text": "Gender proportion of borrower in projects"
        }
       }
      },
      "text/html": [
       "<div>                            <div id=\"bf28efaa-df6a-4e98-8daf-5800cce42218\" class=\"plotly-graph-div\" style=\"height:525px; width:100%;\"></div>            <script type=\"text/javascript\">                require([\"plotly\"], function(Plotly) {                    window.PLOTLYENV=window.PLOTLYENV || {};                                    if (document.getElementById(\"bf28efaa-df6a-4e98-8daf-5800cce42218\")) {                    Plotly.newPlot(                        \"bf28efaa-df6a-4e98-8daf-5800cce42218\",                        [{\"hoverinfo\":\"label+percent\",\"labels\":[\"female\",\"male\"],\"showlegend\":true,\"textfont\":{\"size\":20},\"type\":\"pie\",\"values\":[77.00979333837094,22.990206661629063]}],                        {\"template\":{\"data\":{\"bar\":[{\"error_x\":{\"color\":\"#2a3f5f\"},\"error_y\":{\"color\":\"#2a3f5f\"},\"marker\":{\"line\":{\"color\":\"#E5ECF6\",\"width\":0.5},\"pattern\":{\"fillmode\":\"overlay\",\"size\":10,\"solidity\":0.2}},\"type\":\"bar\"}],\"barpolar\":[{\"marker\":{\"line\":{\"color\":\"#E5ECF6\",\"width\":0.5},\"pattern\":{\"fillmode\":\"overlay\",\"size\":10,\"solidity\":0.2}},\"type\":\"barpolar\"}],\"carpet\":[{\"aaxis\":{\"endlinecolor\":\"#2a3f5f\",\"gridcolor\":\"white\",\"linecolor\":\"white\",\"minorgridcolor\":\"white\",\"startlinecolor\":\"#2a3f5f\"},\"baxis\":{\"endlinecolor\":\"#2a3f5f\",\"gridcolor\":\"white\",\"linecolor\":\"white\",\"minorgridcolor\":\"white\",\"startlinecolor\":\"#2a3f5f\"},\"type\":\"carpet\"}],\"choropleth\":[{\"colorbar\":{\"outlinewidth\":0,\"ticks\":\"\"},\"type\":\"choropleth\"}],\"contour\":[{\"colorbar\":{\"outlinewidth\":0,\"ticks\":\"\"},\"colorscale\":[[0.0,\"#0d0887\"],[0.1111111111111111,\"#46039f\"],[0.2222222222222222,\"#7201a8\"],[0.3333333333333333,\"#9c179e\"],[0.4444444444444444,\"#bd3786\"],[0.5555555555555556,\"#d8576b\"],[0.6666666666666666,\"#ed7953\"],[0.7777777777777778,\"#fb9f3a\"],[0.8888888888888888,\"#fdca26\"],[1.0,\"#f0f921\"]],\"type\":\"contour\"}],\"contourcarpet\":[{\"colorbar\":{\"outlinewidth\":0,\"ticks\":\"\"},\"type\":\"contourcarpet\"}],\"heatmap\":[{\"colorbar\":{\"outlinewidth\":0,\"ticks\":\"\"},\"colorscale\":[[0.0,\"#0d0887\"],[0.1111111111111111,\"#46039f\"],[0.2222222222222222,\"#7201a8\"],[0.3333333333333333,\"#9c179e\"],[0.4444444444444444,\"#bd3786\"],[0.5555555555555556,\"#d8576b\"],[0.6666666666666666,\"#ed7953\"],[0.7777777777777778,\"#fb9f3a\"],[0.8888888888888888,\"#fdca26\"],[1.0,\"#f0f921\"]],\"type\":\"heatmap\"}],\"heatmapgl\":[{\"colorbar\":{\"outlinewidth\":0,\"ticks\":\"\"},\"colorscale\":[[0.0,\"#0d0887\"],[0.1111111111111111,\"#46039f\"],[0.2222222222222222,\"#7201a8\"],[0.3333333333333333,\"#9c179e\"],[0.4444444444444444,\"#bd3786\"],[0.5555555555555556,\"#d8576b\"],[0.6666666666666666,\"#ed7953\"],[0.7777777777777778,\"#fb9f3a\"],[0.8888888888888888,\"#fdca26\"],[1.0,\"#f0f921\"]],\"type\":\"heatmapgl\"}],\"histogram\":[{\"marker\":{\"pattern\":{\"fillmode\":\"overlay\",\"size\":10,\"solidity\":0.2}},\"type\":\"histogram\"}],\"histogram2d\":[{\"colorbar\":{\"outlinewidth\":0,\"ticks\":\"\"},\"colorscale\":[[0.0,\"#0d0887\"],[0.1111111111111111,\"#46039f\"],[0.2222222222222222,\"#7201a8\"],[0.3333333333333333,\"#9c179e\"],[0.4444444444444444,\"#bd3786\"],[0.5555555555555556,\"#d8576b\"],[0.6666666666666666,\"#ed7953\"],[0.7777777777777778,\"#fb9f3a\"],[0.8888888888888888,\"#fdca26\"],[1.0,\"#f0f921\"]],\"type\":\"histogram2d\"}],\"histogram2dcontour\":[{\"colorbar\":{\"outlinewidth\":0,\"ticks\":\"\"},\"colorscale\":[[0.0,\"#0d0887\"],[0.1111111111111111,\"#46039f\"],[0.2222222222222222,\"#7201a8\"],[0.3333333333333333,\"#9c179e\"],[0.4444444444444444,\"#bd3786\"],[0.5555555555555556,\"#d8576b\"],[0.6666666666666666,\"#ed7953\"],[0.7777777777777778,\"#fb9f3a\"],[0.8888888888888888,\"#fdca26\"],[1.0,\"#f0f921\"]],\"type\":\"histogram2dcontour\"}],\"mesh3d\":[{\"colorbar\":{\"outlinewidth\":0,\"ticks\":\"\"},\"type\":\"mesh3d\"}],\"parcoords\":[{\"line\":{\"colorbar\":{\"outlinewidth\":0,\"ticks\":\"\"}},\"type\":\"parcoords\"}],\"pie\":[{\"automargin\":true,\"type\":\"pie\"}],\"scatter\":[{\"marker\":{\"colorbar\":{\"outlinewidth\":0,\"ticks\":\"\"}},\"type\":\"scatter\"}],\"scatter3d\":[{\"line\":{\"colorbar\":{\"outlinewidth\":0,\"ticks\":\"\"}},\"marker\":{\"colorbar\":{\"outlinewidth\":0,\"ticks\":\"\"}},\"type\":\"scatter3d\"}],\"scattercarpet\":[{\"marker\":{\"colorbar\":{\"outlinewidth\":0,\"ticks\":\"\"}},\"type\":\"scattercarpet\"}],\"scattergeo\":[{\"marker\":{\"colorbar\":{\"outlinewidth\":0,\"ticks\":\"\"}},\"type\":\"scattergeo\"}],\"scattergl\":[{\"marker\":{\"colorbar\":{\"outlinewidth\":0,\"ticks\":\"\"}},\"type\":\"scattergl\"}],\"scattermapbox\":[{\"marker\":{\"colorbar\":{\"outlinewidth\":0,\"ticks\":\"\"}},\"type\":\"scattermapbox\"}],\"scatterpolar\":[{\"marker\":{\"colorbar\":{\"outlinewidth\":0,\"ticks\":\"\"}},\"type\":\"scatterpolar\"}],\"scatterpolargl\":[{\"marker\":{\"colorbar\":{\"outlinewidth\":0,\"ticks\":\"\"}},\"type\":\"scatterpolargl\"}],\"scatterternary\":[{\"marker\":{\"colorbar\":{\"outlinewidth\":0,\"ticks\":\"\"}},\"type\":\"scatterternary\"}],\"surface\":[{\"colorbar\":{\"outlinewidth\":0,\"ticks\":\"\"},\"colorscale\":[[0.0,\"#0d0887\"],[0.1111111111111111,\"#46039f\"],[0.2222222222222222,\"#7201a8\"],[0.3333333333333333,\"#9c179e\"],[0.4444444444444444,\"#bd3786\"],[0.5555555555555556,\"#d8576b\"],[0.6666666666666666,\"#ed7953\"],[0.7777777777777778,\"#fb9f3a\"],[0.8888888888888888,\"#fdca26\"],[1.0,\"#f0f921\"]],\"type\":\"surface\"}],\"table\":[{\"cells\":{\"fill\":{\"color\":\"#EBF0F8\"},\"line\":{\"color\":\"white\"}},\"header\":{\"fill\":{\"color\":\"#C8D4E3\"},\"line\":{\"color\":\"white\"}},\"type\":\"table\"}]},\"layout\":{\"annotationdefaults\":{\"arrowcolor\":\"#2a3f5f\",\"arrowhead\":0,\"arrowwidth\":1},\"autotypenumbers\":\"strict\",\"coloraxis\":{\"colorbar\":{\"outlinewidth\":0,\"ticks\":\"\"}},\"colorscale\":{\"diverging\":[[0,\"#8e0152\"],[0.1,\"#c51b7d\"],[0.2,\"#de77ae\"],[0.3,\"#f1b6da\"],[0.4,\"#fde0ef\"],[0.5,\"#f7f7f7\"],[0.6,\"#e6f5d0\"],[0.7,\"#b8e186\"],[0.8,\"#7fbc41\"],[0.9,\"#4d9221\"],[1,\"#276419\"]],\"sequential\":[[0.0,\"#0d0887\"],[0.1111111111111111,\"#46039f\"],[0.2222222222222222,\"#7201a8\"],[0.3333333333333333,\"#9c179e\"],[0.4444444444444444,\"#bd3786\"],[0.5555555555555556,\"#d8576b\"],[0.6666666666666666,\"#ed7953\"],[0.7777777777777778,\"#fb9f3a\"],[0.8888888888888888,\"#fdca26\"],[1.0,\"#f0f921\"]],\"sequentialminus\":[[0.0,\"#0d0887\"],[0.1111111111111111,\"#46039f\"],[0.2222222222222222,\"#7201a8\"],[0.3333333333333333,\"#9c179e\"],[0.4444444444444444,\"#bd3786\"],[0.5555555555555556,\"#d8576b\"],[0.6666666666666666,\"#ed7953\"],[0.7777777777777778,\"#fb9f3a\"],[0.8888888888888888,\"#fdca26\"],[1.0,\"#f0f921\"]]},\"colorway\":[\"#636efa\",\"#EF553B\",\"#00cc96\",\"#ab63fa\",\"#FFA15A\",\"#19d3f3\",\"#FF6692\",\"#B6E880\",\"#FF97FF\",\"#FECB52\"],\"font\":{\"color\":\"#2a3f5f\"},\"geo\":{\"bgcolor\":\"white\",\"lakecolor\":\"white\",\"landcolor\":\"#E5ECF6\",\"showlakes\":true,\"showland\":true,\"subunitcolor\":\"white\"},\"hoverlabel\":{\"align\":\"left\"},\"hovermode\":\"closest\",\"mapbox\":{\"style\":\"light\"},\"paper_bgcolor\":\"white\",\"plot_bgcolor\":\"#E5ECF6\",\"polar\":{\"angularaxis\":{\"gridcolor\":\"white\",\"linecolor\":\"white\",\"ticks\":\"\"},\"bgcolor\":\"#E5ECF6\",\"radialaxis\":{\"gridcolor\":\"white\",\"linecolor\":\"white\",\"ticks\":\"\"}},\"scene\":{\"xaxis\":{\"backgroundcolor\":\"#E5ECF6\",\"gridcolor\":\"white\",\"gridwidth\":2,\"linecolor\":\"white\",\"showbackground\":true,\"ticks\":\"\",\"zerolinecolor\":\"white\"},\"yaxis\":{\"backgroundcolor\":\"#E5ECF6\",\"gridcolor\":\"white\",\"gridwidth\":2,\"linecolor\":\"white\",\"showbackground\":true,\"ticks\":\"\",\"zerolinecolor\":\"white\"},\"zaxis\":{\"backgroundcolor\":\"#E5ECF6\",\"gridcolor\":\"white\",\"gridwidth\":2,\"linecolor\":\"white\",\"showbackground\":true,\"ticks\":\"\",\"zerolinecolor\":\"white\"}},\"shapedefaults\":{\"line\":{\"color\":\"#2a3f5f\"}},\"ternary\":{\"aaxis\":{\"gridcolor\":\"white\",\"linecolor\":\"white\",\"ticks\":\"\"},\"baxis\":{\"gridcolor\":\"white\",\"linecolor\":\"white\",\"ticks\":\"\"},\"bgcolor\":\"#E5ECF6\",\"caxis\":{\"gridcolor\":\"white\",\"linecolor\":\"white\",\"ticks\":\"\"}},\"title\":{\"x\":0.05},\"xaxis\":{\"automargin\":true,\"gridcolor\":\"white\",\"linecolor\":\"white\",\"ticks\":\"\",\"title\":{\"standoff\":15},\"zerolinecolor\":\"white\",\"zerolinewidth\":2},\"yaxis\":{\"automargin\":true,\"gridcolor\":\"white\",\"linecolor\":\"white\",\"ticks\":\"\",\"title\":{\"standoff\":15},\"zerolinecolor\":\"white\",\"zerolinewidth\":2}}},\"title\":{\"text\":\"Gender proportion of borrower in projects\"}},                        {\"responsive\": true}                    ).then(function(){\n",
       "                            \n",
       "var gd = document.getElementById('bf28efaa-df6a-4e98-8daf-5800cce42218');\n",
       "var x = new MutationObserver(function (mutations, observer) {{\n",
       "        var display = window.getComputedStyle(gd).display;\n",
       "        if (!display || display === 'none') {{\n",
       "            console.log([gd, 'removed!']);\n",
       "            Plotly.purge(gd);\n",
       "            observer.disconnect();\n",
       "        }}\n",
       "}});\n",
       "\n",
       "// Listen for the removal of the full notebook cells\n",
       "var notebookContainer = gd.closest('#notebook-container');\n",
       "if (notebookContainer) {{\n",
       "    x.observe(notebookContainer, {childList: true});\n",
       "}}\n",
       "\n",
       "// Listen for the clearing of the current output cell\n",
       "var outputEl = gd.closest('.output');\n",
       "if (outputEl) {{\n",
       "    x.observe(outputEl, {childList: true});\n",
       "}}\n",
       "\n",
       "                        })                };                });            </script>        </div>"
      ]
     },
     "metadata": {},
     "output_type": "display_data"
    }
   ],
   "source": [
    "import plotly.graph_objects as go\n",
    "df.sex=df.sex.str.split(',').str[0]\n",
    "borrowers = df['sex'].value_counts()\n",
    "trace = go.Pie(labels= borrowers.index, values=((borrowers / borrowers.sum())*100),\n",
    "              hoverinfo='label+percent',\n",
    "               textfont=dict(size=20),\n",
    "                showlegend=True)\n",
    "\n",
    "layout = go.Layout(\n",
    "    title=\"Gender proportion of borrower in projects\"\n",
    ")\n",
    "\n",
    "data_trace = [trace]\n",
    "fig = go.Figure(data=data_trace, layout=layout)\n",
    "fig.show()"
   ]
  },
  {
   "cell_type": "code",
   "execution_count": 9,
   "id": "fdf18610",
   "metadata": {},
   "outputs": [
    {
     "data": {
      "text/plain": [
       "1    449903\n",
       "2    145391\n",
       "3     61579\n",
       "0      6298\n",
       "4      3813\n",
       "Name: size, dtype: int64"
      ]
     },
     "execution_count": 9,
     "metadata": {},
     "output_type": "execute_result"
    }
   ],
   "source": [
    "gender=df.groupby(['gender'],as_index=False).size().sort_values(by=\"size\",ascending=False)\n",
    "gender[\"size\"]"
   ]
  },
  {
   "cell_type": "code",
   "execution_count": 10,
   "id": "a85a2d30",
   "metadata": {},
   "outputs": [
    {
     "data": {
      "application/vnd.plotly.v1+json": {
       "config": {
        "plotlyServerURL": "https://plot.ly"
       },
       "data": [
        {
         "marker": {
          "color": "firebrick"
         },
         "name": "female",
         "type": "bar",
         "x": [
          "female"
         ],
         "y": [
          449903
         ]
        },
        {
         "marker": {
          "color": "steelblue"
         },
         "name": "male",
         "type": "bar",
         "x": [
          "male"
         ],
         "y": [
          145391
         ]
        },
        {
         "marker": {
          "color": "firebrick"
         },
         "name": "multiple female",
         "type": "bar",
         "x": [
          "multiple female"
         ],
         "y": [
          61579
         ]
        },
        {
         "marker": {
          "color": "grey"
         },
         "name": "both",
         "type": "bar",
         "x": [
          "both"
         ],
         "y": [
          6298
         ]
        },
        {
         "marker": {
          "color": "steelblue"
         },
         "name": "multiple male",
         "type": "bar",
         "x": [
          "multiple male"
         ],
         "y": [
          3813
         ]
        }
       ],
       "layout": {
        "height": 400,
        "template": {
         "data": {
          "bar": [
           {
            "error_x": {
             "color": "#2a3f5f"
            },
            "error_y": {
             "color": "#2a3f5f"
            },
            "marker": {
             "line": {
              "color": "#E5ECF6",
              "width": 0.5
             },
             "pattern": {
              "fillmode": "overlay",
              "size": 10,
              "solidity": 0.2
             }
            },
            "type": "bar"
           }
          ],
          "barpolar": [
           {
            "marker": {
             "line": {
              "color": "#E5ECF6",
              "width": 0.5
             },
             "pattern": {
              "fillmode": "overlay",
              "size": 10,
              "solidity": 0.2
             }
            },
            "type": "barpolar"
           }
          ],
          "carpet": [
           {
            "aaxis": {
             "endlinecolor": "#2a3f5f",
             "gridcolor": "white",
             "linecolor": "white",
             "minorgridcolor": "white",
             "startlinecolor": "#2a3f5f"
            },
            "baxis": {
             "endlinecolor": "#2a3f5f",
             "gridcolor": "white",
             "linecolor": "white",
             "minorgridcolor": "white",
             "startlinecolor": "#2a3f5f"
            },
            "type": "carpet"
           }
          ],
          "choropleth": [
           {
            "colorbar": {
             "outlinewidth": 0,
             "ticks": ""
            },
            "type": "choropleth"
           }
          ],
          "contour": [
           {
            "colorbar": {
             "outlinewidth": 0,
             "ticks": ""
            },
            "colorscale": [
             [
              0,
              "#0d0887"
             ],
             [
              0.1111111111111111,
              "#46039f"
             ],
             [
              0.2222222222222222,
              "#7201a8"
             ],
             [
              0.3333333333333333,
              "#9c179e"
             ],
             [
              0.4444444444444444,
              "#bd3786"
             ],
             [
              0.5555555555555556,
              "#d8576b"
             ],
             [
              0.6666666666666666,
              "#ed7953"
             ],
             [
              0.7777777777777778,
              "#fb9f3a"
             ],
             [
              0.8888888888888888,
              "#fdca26"
             ],
             [
              1,
              "#f0f921"
             ]
            ],
            "type": "contour"
           }
          ],
          "contourcarpet": [
           {
            "colorbar": {
             "outlinewidth": 0,
             "ticks": ""
            },
            "type": "contourcarpet"
           }
          ],
          "heatmap": [
           {
            "colorbar": {
             "outlinewidth": 0,
             "ticks": ""
            },
            "colorscale": [
             [
              0,
              "#0d0887"
             ],
             [
              0.1111111111111111,
              "#46039f"
             ],
             [
              0.2222222222222222,
              "#7201a8"
             ],
             [
              0.3333333333333333,
              "#9c179e"
             ],
             [
              0.4444444444444444,
              "#bd3786"
             ],
             [
              0.5555555555555556,
              "#d8576b"
             ],
             [
              0.6666666666666666,
              "#ed7953"
             ],
             [
              0.7777777777777778,
              "#fb9f3a"
             ],
             [
              0.8888888888888888,
              "#fdca26"
             ],
             [
              1,
              "#f0f921"
             ]
            ],
            "type": "heatmap"
           }
          ],
          "heatmapgl": [
           {
            "colorbar": {
             "outlinewidth": 0,
             "ticks": ""
            },
            "colorscale": [
             [
              0,
              "#0d0887"
             ],
             [
              0.1111111111111111,
              "#46039f"
             ],
             [
              0.2222222222222222,
              "#7201a8"
             ],
             [
              0.3333333333333333,
              "#9c179e"
             ],
             [
              0.4444444444444444,
              "#bd3786"
             ],
             [
              0.5555555555555556,
              "#d8576b"
             ],
             [
              0.6666666666666666,
              "#ed7953"
             ],
             [
              0.7777777777777778,
              "#fb9f3a"
             ],
             [
              0.8888888888888888,
              "#fdca26"
             ],
             [
              1,
              "#f0f921"
             ]
            ],
            "type": "heatmapgl"
           }
          ],
          "histogram": [
           {
            "marker": {
             "pattern": {
              "fillmode": "overlay",
              "size": 10,
              "solidity": 0.2
             }
            },
            "type": "histogram"
           }
          ],
          "histogram2d": [
           {
            "colorbar": {
             "outlinewidth": 0,
             "ticks": ""
            },
            "colorscale": [
             [
              0,
              "#0d0887"
             ],
             [
              0.1111111111111111,
              "#46039f"
             ],
             [
              0.2222222222222222,
              "#7201a8"
             ],
             [
              0.3333333333333333,
              "#9c179e"
             ],
             [
              0.4444444444444444,
              "#bd3786"
             ],
             [
              0.5555555555555556,
              "#d8576b"
             ],
             [
              0.6666666666666666,
              "#ed7953"
             ],
             [
              0.7777777777777778,
              "#fb9f3a"
             ],
             [
              0.8888888888888888,
              "#fdca26"
             ],
             [
              1,
              "#f0f921"
             ]
            ],
            "type": "histogram2d"
           }
          ],
          "histogram2dcontour": [
           {
            "colorbar": {
             "outlinewidth": 0,
             "ticks": ""
            },
            "colorscale": [
             [
              0,
              "#0d0887"
             ],
             [
              0.1111111111111111,
              "#46039f"
             ],
             [
              0.2222222222222222,
              "#7201a8"
             ],
             [
              0.3333333333333333,
              "#9c179e"
             ],
             [
              0.4444444444444444,
              "#bd3786"
             ],
             [
              0.5555555555555556,
              "#d8576b"
             ],
             [
              0.6666666666666666,
              "#ed7953"
             ],
             [
              0.7777777777777778,
              "#fb9f3a"
             ],
             [
              0.8888888888888888,
              "#fdca26"
             ],
             [
              1,
              "#f0f921"
             ]
            ],
            "type": "histogram2dcontour"
           }
          ],
          "mesh3d": [
           {
            "colorbar": {
             "outlinewidth": 0,
             "ticks": ""
            },
            "type": "mesh3d"
           }
          ],
          "parcoords": [
           {
            "line": {
             "colorbar": {
              "outlinewidth": 0,
              "ticks": ""
             }
            },
            "type": "parcoords"
           }
          ],
          "pie": [
           {
            "automargin": true,
            "type": "pie"
           }
          ],
          "scatter": [
           {
            "marker": {
             "colorbar": {
              "outlinewidth": 0,
              "ticks": ""
             }
            },
            "type": "scatter"
           }
          ],
          "scatter3d": [
           {
            "line": {
             "colorbar": {
              "outlinewidth": 0,
              "ticks": ""
             }
            },
            "marker": {
             "colorbar": {
              "outlinewidth": 0,
              "ticks": ""
             }
            },
            "type": "scatter3d"
           }
          ],
          "scattercarpet": [
           {
            "marker": {
             "colorbar": {
              "outlinewidth": 0,
              "ticks": ""
             }
            },
            "type": "scattercarpet"
           }
          ],
          "scattergeo": [
           {
            "marker": {
             "colorbar": {
              "outlinewidth": 0,
              "ticks": ""
             }
            },
            "type": "scattergeo"
           }
          ],
          "scattergl": [
           {
            "marker": {
             "colorbar": {
              "outlinewidth": 0,
              "ticks": ""
             }
            },
            "type": "scattergl"
           }
          ],
          "scattermapbox": [
           {
            "marker": {
             "colorbar": {
              "outlinewidth": 0,
              "ticks": ""
             }
            },
            "type": "scattermapbox"
           }
          ],
          "scatterpolar": [
           {
            "marker": {
             "colorbar": {
              "outlinewidth": 0,
              "ticks": ""
             }
            },
            "type": "scatterpolar"
           }
          ],
          "scatterpolargl": [
           {
            "marker": {
             "colorbar": {
              "outlinewidth": 0,
              "ticks": ""
             }
            },
            "type": "scatterpolargl"
           }
          ],
          "scatterternary": [
           {
            "marker": {
             "colorbar": {
              "outlinewidth": 0,
              "ticks": ""
             }
            },
            "type": "scatterternary"
           }
          ],
          "surface": [
           {
            "colorbar": {
             "outlinewidth": 0,
             "ticks": ""
            },
            "colorscale": [
             [
              0,
              "#0d0887"
             ],
             [
              0.1111111111111111,
              "#46039f"
             ],
             [
              0.2222222222222222,
              "#7201a8"
             ],
             [
              0.3333333333333333,
              "#9c179e"
             ],
             [
              0.4444444444444444,
              "#bd3786"
             ],
             [
              0.5555555555555556,
              "#d8576b"
             ],
             [
              0.6666666666666666,
              "#ed7953"
             ],
             [
              0.7777777777777778,
              "#fb9f3a"
             ],
             [
              0.8888888888888888,
              "#fdca26"
             ],
             [
              1,
              "#f0f921"
             ]
            ],
            "type": "surface"
           }
          ],
          "table": [
           {
            "cells": {
             "fill": {
              "color": "#EBF0F8"
             },
             "line": {
              "color": "white"
             }
            },
            "header": {
             "fill": {
              "color": "#C8D4E3"
             },
             "line": {
              "color": "white"
             }
            },
            "type": "table"
           }
          ]
         },
         "layout": {
          "annotationdefaults": {
           "arrowcolor": "#2a3f5f",
           "arrowhead": 0,
           "arrowwidth": 1
          },
          "autotypenumbers": "strict",
          "coloraxis": {
           "colorbar": {
            "outlinewidth": 0,
            "ticks": ""
           }
          },
          "colorscale": {
           "diverging": [
            [
             0,
             "#8e0152"
            ],
            [
             0.1,
             "#c51b7d"
            ],
            [
             0.2,
             "#de77ae"
            ],
            [
             0.3,
             "#f1b6da"
            ],
            [
             0.4,
             "#fde0ef"
            ],
            [
             0.5,
             "#f7f7f7"
            ],
            [
             0.6,
             "#e6f5d0"
            ],
            [
             0.7,
             "#b8e186"
            ],
            [
             0.8,
             "#7fbc41"
            ],
            [
             0.9,
             "#4d9221"
            ],
            [
             1,
             "#276419"
            ]
           ],
           "sequential": [
            [
             0,
             "#0d0887"
            ],
            [
             0.1111111111111111,
             "#46039f"
            ],
            [
             0.2222222222222222,
             "#7201a8"
            ],
            [
             0.3333333333333333,
             "#9c179e"
            ],
            [
             0.4444444444444444,
             "#bd3786"
            ],
            [
             0.5555555555555556,
             "#d8576b"
            ],
            [
             0.6666666666666666,
             "#ed7953"
            ],
            [
             0.7777777777777778,
             "#fb9f3a"
            ],
            [
             0.8888888888888888,
             "#fdca26"
            ],
            [
             1,
             "#f0f921"
            ]
           ],
           "sequentialminus": [
            [
             0,
             "#0d0887"
            ],
            [
             0.1111111111111111,
             "#46039f"
            ],
            [
             0.2222222222222222,
             "#7201a8"
            ],
            [
             0.3333333333333333,
             "#9c179e"
            ],
            [
             0.4444444444444444,
             "#bd3786"
            ],
            [
             0.5555555555555556,
             "#d8576b"
            ],
            [
             0.6666666666666666,
             "#ed7953"
            ],
            [
             0.7777777777777778,
             "#fb9f3a"
            ],
            [
             0.8888888888888888,
             "#fdca26"
            ],
            [
             1,
             "#f0f921"
            ]
           ]
          },
          "colorway": [
           "#636efa",
           "#EF553B",
           "#00cc96",
           "#ab63fa",
           "#FFA15A",
           "#19d3f3",
           "#FF6692",
           "#B6E880",
           "#FF97FF",
           "#FECB52"
          ],
          "font": {
           "color": "#2a3f5f"
          },
          "geo": {
           "bgcolor": "white",
           "lakecolor": "white",
           "landcolor": "#E5ECF6",
           "showlakes": true,
           "showland": true,
           "subunitcolor": "white"
          },
          "hoverlabel": {
           "align": "left"
          },
          "hovermode": "closest",
          "mapbox": {
           "style": "light"
          },
          "paper_bgcolor": "white",
          "plot_bgcolor": "#E5ECF6",
          "polar": {
           "angularaxis": {
            "gridcolor": "white",
            "linecolor": "white",
            "ticks": ""
           },
           "bgcolor": "#E5ECF6",
           "radialaxis": {
            "gridcolor": "white",
            "linecolor": "white",
            "ticks": ""
           }
          },
          "scene": {
           "xaxis": {
            "backgroundcolor": "#E5ECF6",
            "gridcolor": "white",
            "gridwidth": 2,
            "linecolor": "white",
            "showbackground": true,
            "ticks": "",
            "zerolinecolor": "white"
           },
           "yaxis": {
            "backgroundcolor": "#E5ECF6",
            "gridcolor": "white",
            "gridwidth": 2,
            "linecolor": "white",
            "showbackground": true,
            "ticks": "",
            "zerolinecolor": "white"
           },
           "zaxis": {
            "backgroundcolor": "#E5ECF6",
            "gridcolor": "white",
            "gridwidth": 2,
            "linecolor": "white",
            "showbackground": true,
            "ticks": "",
            "zerolinecolor": "white"
           }
          },
          "shapedefaults": {
           "line": {
            "color": "#2a3f5f"
           }
          },
          "ternary": {
           "aaxis": {
            "gridcolor": "white",
            "linecolor": "white",
            "ticks": ""
           },
           "baxis": {
            "gridcolor": "white",
            "linecolor": "white",
            "ticks": ""
           },
           "bgcolor": "#E5ECF6",
           "caxis": {
            "gridcolor": "white",
            "linecolor": "white",
            "ticks": ""
           }
          },
          "title": {
           "x": 0.05
          },
          "xaxis": {
           "automargin": true,
           "gridcolor": "white",
           "linecolor": "white",
           "ticks": "",
           "title": {
            "standoff": 15
           },
           "zerolinecolor": "white",
           "zerolinewidth": 2
          },
          "yaxis": {
           "automargin": true,
           "gridcolor": "white",
           "linecolor": "white",
           "ticks": "",
           "title": {
            "standoff": 15
           },
           "zerolinecolor": "white",
           "zerolinewidth": 2
          }
         }
        },
        "title": {
         "text": "Amount of "
        },
        "width": 600
       }
      },
      "text/html": [
       "<div>                            <div id=\"0533ff95-a906-47d6-940e-e4ae9083a268\" class=\"plotly-graph-div\" style=\"height:400px; width:600px;\"></div>            <script type=\"text/javascript\">                require([\"plotly\"], function(Plotly) {                    window.PLOTLYENV=window.PLOTLYENV || {};                                    if (document.getElementById(\"0533ff95-a906-47d6-940e-e4ae9083a268\")) {                    Plotly.newPlot(                        \"0533ff95-a906-47d6-940e-e4ae9083a268\",                        [{\"marker\":{\"color\":\"firebrick\"},\"name\":\"female\",\"type\":\"bar\",\"x\":[\"female\"],\"y\":[449903]},{\"marker\":{\"color\":\"steelblue\"},\"name\":\"male\",\"type\":\"bar\",\"x\":[\"male\"],\"y\":[145391]},{\"marker\":{\"color\":\"firebrick\"},\"name\":\"multiple female\",\"type\":\"bar\",\"x\":[\"multiple female\"],\"y\":[61579]},{\"marker\":{\"color\":\"grey\"},\"name\":\"both\",\"type\":\"bar\",\"x\":[\"both\"],\"y\":[6298]},{\"marker\":{\"color\":\"steelblue\"},\"name\":\"multiple male\",\"type\":\"bar\",\"x\":[\"multiple male\"],\"y\":[3813]}],                        {\"height\":400,\"template\":{\"data\":{\"bar\":[{\"error_x\":{\"color\":\"#2a3f5f\"},\"error_y\":{\"color\":\"#2a3f5f\"},\"marker\":{\"line\":{\"color\":\"#E5ECF6\",\"width\":0.5},\"pattern\":{\"fillmode\":\"overlay\",\"size\":10,\"solidity\":0.2}},\"type\":\"bar\"}],\"barpolar\":[{\"marker\":{\"line\":{\"color\":\"#E5ECF6\",\"width\":0.5},\"pattern\":{\"fillmode\":\"overlay\",\"size\":10,\"solidity\":0.2}},\"type\":\"barpolar\"}],\"carpet\":[{\"aaxis\":{\"endlinecolor\":\"#2a3f5f\",\"gridcolor\":\"white\",\"linecolor\":\"white\",\"minorgridcolor\":\"white\",\"startlinecolor\":\"#2a3f5f\"},\"baxis\":{\"endlinecolor\":\"#2a3f5f\",\"gridcolor\":\"white\",\"linecolor\":\"white\",\"minorgridcolor\":\"white\",\"startlinecolor\":\"#2a3f5f\"},\"type\":\"carpet\"}],\"choropleth\":[{\"colorbar\":{\"outlinewidth\":0,\"ticks\":\"\"},\"type\":\"choropleth\"}],\"contour\":[{\"colorbar\":{\"outlinewidth\":0,\"ticks\":\"\"},\"colorscale\":[[0.0,\"#0d0887\"],[0.1111111111111111,\"#46039f\"],[0.2222222222222222,\"#7201a8\"],[0.3333333333333333,\"#9c179e\"],[0.4444444444444444,\"#bd3786\"],[0.5555555555555556,\"#d8576b\"],[0.6666666666666666,\"#ed7953\"],[0.7777777777777778,\"#fb9f3a\"],[0.8888888888888888,\"#fdca26\"],[1.0,\"#f0f921\"]],\"type\":\"contour\"}],\"contourcarpet\":[{\"colorbar\":{\"outlinewidth\":0,\"ticks\":\"\"},\"type\":\"contourcarpet\"}],\"heatmap\":[{\"colorbar\":{\"outlinewidth\":0,\"ticks\":\"\"},\"colorscale\":[[0.0,\"#0d0887\"],[0.1111111111111111,\"#46039f\"],[0.2222222222222222,\"#7201a8\"],[0.3333333333333333,\"#9c179e\"],[0.4444444444444444,\"#bd3786\"],[0.5555555555555556,\"#d8576b\"],[0.6666666666666666,\"#ed7953\"],[0.7777777777777778,\"#fb9f3a\"],[0.8888888888888888,\"#fdca26\"],[1.0,\"#f0f921\"]],\"type\":\"heatmap\"}],\"heatmapgl\":[{\"colorbar\":{\"outlinewidth\":0,\"ticks\":\"\"},\"colorscale\":[[0.0,\"#0d0887\"],[0.1111111111111111,\"#46039f\"],[0.2222222222222222,\"#7201a8\"],[0.3333333333333333,\"#9c179e\"],[0.4444444444444444,\"#bd3786\"],[0.5555555555555556,\"#d8576b\"],[0.6666666666666666,\"#ed7953\"],[0.7777777777777778,\"#fb9f3a\"],[0.8888888888888888,\"#fdca26\"],[1.0,\"#f0f921\"]],\"type\":\"heatmapgl\"}],\"histogram\":[{\"marker\":{\"pattern\":{\"fillmode\":\"overlay\",\"size\":10,\"solidity\":0.2}},\"type\":\"histogram\"}],\"histogram2d\":[{\"colorbar\":{\"outlinewidth\":0,\"ticks\":\"\"},\"colorscale\":[[0.0,\"#0d0887\"],[0.1111111111111111,\"#46039f\"],[0.2222222222222222,\"#7201a8\"],[0.3333333333333333,\"#9c179e\"],[0.4444444444444444,\"#bd3786\"],[0.5555555555555556,\"#d8576b\"],[0.6666666666666666,\"#ed7953\"],[0.7777777777777778,\"#fb9f3a\"],[0.8888888888888888,\"#fdca26\"],[1.0,\"#f0f921\"]],\"type\":\"histogram2d\"}],\"histogram2dcontour\":[{\"colorbar\":{\"outlinewidth\":0,\"ticks\":\"\"},\"colorscale\":[[0.0,\"#0d0887\"],[0.1111111111111111,\"#46039f\"],[0.2222222222222222,\"#7201a8\"],[0.3333333333333333,\"#9c179e\"],[0.4444444444444444,\"#bd3786\"],[0.5555555555555556,\"#d8576b\"],[0.6666666666666666,\"#ed7953\"],[0.7777777777777778,\"#fb9f3a\"],[0.8888888888888888,\"#fdca26\"],[1.0,\"#f0f921\"]],\"type\":\"histogram2dcontour\"}],\"mesh3d\":[{\"colorbar\":{\"outlinewidth\":0,\"ticks\":\"\"},\"type\":\"mesh3d\"}],\"parcoords\":[{\"line\":{\"colorbar\":{\"outlinewidth\":0,\"ticks\":\"\"}},\"type\":\"parcoords\"}],\"pie\":[{\"automargin\":true,\"type\":\"pie\"}],\"scatter\":[{\"marker\":{\"colorbar\":{\"outlinewidth\":0,\"ticks\":\"\"}},\"type\":\"scatter\"}],\"scatter3d\":[{\"line\":{\"colorbar\":{\"outlinewidth\":0,\"ticks\":\"\"}},\"marker\":{\"colorbar\":{\"outlinewidth\":0,\"ticks\":\"\"}},\"type\":\"scatter3d\"}],\"scattercarpet\":[{\"marker\":{\"colorbar\":{\"outlinewidth\":0,\"ticks\":\"\"}},\"type\":\"scattercarpet\"}],\"scattergeo\":[{\"marker\":{\"colorbar\":{\"outlinewidth\":0,\"ticks\":\"\"}},\"type\":\"scattergeo\"}],\"scattergl\":[{\"marker\":{\"colorbar\":{\"outlinewidth\":0,\"ticks\":\"\"}},\"type\":\"scattergl\"}],\"scattermapbox\":[{\"marker\":{\"colorbar\":{\"outlinewidth\":0,\"ticks\":\"\"}},\"type\":\"scattermapbox\"}],\"scatterpolar\":[{\"marker\":{\"colorbar\":{\"outlinewidth\":0,\"ticks\":\"\"}},\"type\":\"scatterpolar\"}],\"scatterpolargl\":[{\"marker\":{\"colorbar\":{\"outlinewidth\":0,\"ticks\":\"\"}},\"type\":\"scatterpolargl\"}],\"scatterternary\":[{\"marker\":{\"colorbar\":{\"outlinewidth\":0,\"ticks\":\"\"}},\"type\":\"scatterternary\"}],\"surface\":[{\"colorbar\":{\"outlinewidth\":0,\"ticks\":\"\"},\"colorscale\":[[0.0,\"#0d0887\"],[0.1111111111111111,\"#46039f\"],[0.2222222222222222,\"#7201a8\"],[0.3333333333333333,\"#9c179e\"],[0.4444444444444444,\"#bd3786\"],[0.5555555555555556,\"#d8576b\"],[0.6666666666666666,\"#ed7953\"],[0.7777777777777778,\"#fb9f3a\"],[0.8888888888888888,\"#fdca26\"],[1.0,\"#f0f921\"]],\"type\":\"surface\"}],\"table\":[{\"cells\":{\"fill\":{\"color\":\"#EBF0F8\"},\"line\":{\"color\":\"white\"}},\"header\":{\"fill\":{\"color\":\"#C8D4E3\"},\"line\":{\"color\":\"white\"}},\"type\":\"table\"}]},\"layout\":{\"annotationdefaults\":{\"arrowcolor\":\"#2a3f5f\",\"arrowhead\":0,\"arrowwidth\":1},\"autotypenumbers\":\"strict\",\"coloraxis\":{\"colorbar\":{\"outlinewidth\":0,\"ticks\":\"\"}},\"colorscale\":{\"diverging\":[[0,\"#8e0152\"],[0.1,\"#c51b7d\"],[0.2,\"#de77ae\"],[0.3,\"#f1b6da\"],[0.4,\"#fde0ef\"],[0.5,\"#f7f7f7\"],[0.6,\"#e6f5d0\"],[0.7,\"#b8e186\"],[0.8,\"#7fbc41\"],[0.9,\"#4d9221\"],[1,\"#276419\"]],\"sequential\":[[0.0,\"#0d0887\"],[0.1111111111111111,\"#46039f\"],[0.2222222222222222,\"#7201a8\"],[0.3333333333333333,\"#9c179e\"],[0.4444444444444444,\"#bd3786\"],[0.5555555555555556,\"#d8576b\"],[0.6666666666666666,\"#ed7953\"],[0.7777777777777778,\"#fb9f3a\"],[0.8888888888888888,\"#fdca26\"],[1.0,\"#f0f921\"]],\"sequentialminus\":[[0.0,\"#0d0887\"],[0.1111111111111111,\"#46039f\"],[0.2222222222222222,\"#7201a8\"],[0.3333333333333333,\"#9c179e\"],[0.4444444444444444,\"#bd3786\"],[0.5555555555555556,\"#d8576b\"],[0.6666666666666666,\"#ed7953\"],[0.7777777777777778,\"#fb9f3a\"],[0.8888888888888888,\"#fdca26\"],[1.0,\"#f0f921\"]]},\"colorway\":[\"#636efa\",\"#EF553B\",\"#00cc96\",\"#ab63fa\",\"#FFA15A\",\"#19d3f3\",\"#FF6692\",\"#B6E880\",\"#FF97FF\",\"#FECB52\"],\"font\":{\"color\":\"#2a3f5f\"},\"geo\":{\"bgcolor\":\"white\",\"lakecolor\":\"white\",\"landcolor\":\"#E5ECF6\",\"showlakes\":true,\"showland\":true,\"subunitcolor\":\"white\"},\"hoverlabel\":{\"align\":\"left\"},\"hovermode\":\"closest\",\"mapbox\":{\"style\":\"light\"},\"paper_bgcolor\":\"white\",\"plot_bgcolor\":\"#E5ECF6\",\"polar\":{\"angularaxis\":{\"gridcolor\":\"white\",\"linecolor\":\"white\",\"ticks\":\"\"},\"bgcolor\":\"#E5ECF6\",\"radialaxis\":{\"gridcolor\":\"white\",\"linecolor\":\"white\",\"ticks\":\"\"}},\"scene\":{\"xaxis\":{\"backgroundcolor\":\"#E5ECF6\",\"gridcolor\":\"white\",\"gridwidth\":2,\"linecolor\":\"white\",\"showbackground\":true,\"ticks\":\"\",\"zerolinecolor\":\"white\"},\"yaxis\":{\"backgroundcolor\":\"#E5ECF6\",\"gridcolor\":\"white\",\"gridwidth\":2,\"linecolor\":\"white\",\"showbackground\":true,\"ticks\":\"\",\"zerolinecolor\":\"white\"},\"zaxis\":{\"backgroundcolor\":\"#E5ECF6\",\"gridcolor\":\"white\",\"gridwidth\":2,\"linecolor\":\"white\",\"showbackground\":true,\"ticks\":\"\",\"zerolinecolor\":\"white\"}},\"shapedefaults\":{\"line\":{\"color\":\"#2a3f5f\"}},\"ternary\":{\"aaxis\":{\"gridcolor\":\"white\",\"linecolor\":\"white\",\"ticks\":\"\"},\"baxis\":{\"gridcolor\":\"white\",\"linecolor\":\"white\",\"ticks\":\"\"},\"bgcolor\":\"#E5ECF6\",\"caxis\":{\"gridcolor\":\"white\",\"linecolor\":\"white\",\"ticks\":\"\"}},\"title\":{\"x\":0.05},\"xaxis\":{\"automargin\":true,\"gridcolor\":\"white\",\"linecolor\":\"white\",\"ticks\":\"\",\"title\":{\"standoff\":15},\"zerolinecolor\":\"white\",\"zerolinewidth\":2},\"yaxis\":{\"automargin\":true,\"gridcolor\":\"white\",\"linecolor\":\"white\",\"ticks\":\"\",\"title\":{\"standoff\":15},\"zerolinecolor\":\"white\",\"zerolinewidth\":2}}},\"title\":{\"text\":\"Amount of \"},\"width\":600},                        {\"responsive\": true}                    ).then(function(){\n",
       "                            \n",
       "var gd = document.getElementById('0533ff95-a906-47d6-940e-e4ae9083a268');\n",
       "var x = new MutationObserver(function (mutations, observer) {{\n",
       "        var display = window.getComputedStyle(gd).display;\n",
       "        if (!display || display === 'none') {{\n",
       "            console.log([gd, 'removed!']);\n",
       "            Plotly.purge(gd);\n",
       "            observer.disconnect();\n",
       "        }}\n",
       "}});\n",
       "\n",
       "// Listen for the removal of the full notebook cells\n",
       "var notebookContainer = gd.closest('#notebook-container');\n",
       "if (notebookContainer) {{\n",
       "    x.observe(notebookContainer, {childList: true});\n",
       "}}\n",
       "\n",
       "// Listen for the clearing of the current output cell\n",
       "var outputEl = gd.closest('.output');\n",
       "if (outputEl) {{\n",
       "    x.observe(outputEl, {childList: true});\n",
       "}}\n",
       "\n",
       "                        })                };                });            </script>        </div>"
      ]
     },
     "metadata": {},
     "output_type": "display_data"
    }
   ],
   "source": [
    "colors = {'both':'grey',\n",
    "          'female':'firebrick',\n",
    "         \"male\":\"steelblue\",\n",
    "         \"multiple female\":\"firebrick\",\n",
    "         \"multiple male\":\"steelblue\"}\n",
    "\n",
    "fig = go.Figure()\n",
    "for g in gender['gender']:\n",
    "    dfp = gender[gender['gender']==g]\n",
    "    fig.add_traces(go.Bar(x=dfp.gender, y = dfp[\"size\"], name=g,\n",
    "                         marker_color=colors[g]))\n",
    "    \n",
    "fig['layout'].update(title = \"Amount of \",width = 600, height = 400)\n",
    "\n",
    "fig.show()"
   ]
  },
  {
   "cell_type": "markdown",
   "id": "5fb09441",
   "metadata": {},
   "source": [
    "## Which countries have the highest loan ?"
   ]
  },
  {
   "cell_type": "code",
   "execution_count": 11,
   "id": "25b4cdea",
   "metadata": {},
   "outputs": [
    {
     "name": "stderr",
     "output_type": "stream",
     "text": [
      "C:\\Users\\elibo\\anaconda3\\lib\\site-packages\\seaborn\\_decorators.py:36: FutureWarning:\n",
      "\n",
      "Pass the following variable as a keyword arg: x. From version 0.12, the only valid positional argument will be `data`, and passing other arguments without an explicit keyword will result in an error or misinterpretation.\n",
      "\n"
     ]
    },
    {
     "data": {
      "image/png": "[encoded data removed]",
      "text/plain": [
       "<Figure size 936x288 with 1 Axes>"
      ]
     },
     "metadata": {
      "needs_background": "light"
     },
     "output_type": "display_data"
    }
   ],
   "source": [
    "plt.figure(figsize=(13,4))\n",
    "sns.countplot(df['country'], order = df['country'].value_counts().iloc[0:20].index,palette=\"rocket\")\n",
    "plt.title(\"Xountry\", fontsize=20)\n",
    "plt.xlabel('Country', fontsize=18)\n",
    "plt.ylabel('Size', fontsize=18)\n",
    "plt.xticks(fontsize=14, rotation=90)\n",
    "plt.show()"
   ]
  },
  {
   "cell_type": "code",
   "execution_count": 12,
   "id": "6d824a2d",
   "metadata": {},
   "outputs": [
    {
     "data": {
      "text/html": [
       "<div>\n",
       "<style scoped>\n",
       "    .dataframe tbody tr th:only-of-type {\n",
       "        vertical-align: middle;\n",
       "    }\n",
       "\n",
       "    .dataframe tbody tr th {\n",
       "        vertical-align: top;\n",
       "    }\n",
       "\n",
       "    .dataframe thead th {\n",
       "        text-align: right;\n",
       "    }\n",
       "</style>\n",
       "<table border=\"1\" class=\"dataframe\">\n",
       "  <thead>\n",
       "    <tr style=\"text-align: right;\">\n",
       "      <th></th>\n",
       "      <th>country</th>\n",
       "      <th>loan_amount</th>\n",
       "    </tr>\n",
       "  </thead>\n",
       "  <tbody>\n",
       "    <tr>\n",
       "      <th>18</th>\n",
       "      <td>Cote D'Ivoire</td>\n",
       "      <td>50000.000000</td>\n",
       "    </tr>\n",
       "    <tr>\n",
       "      <th>44</th>\n",
       "      <td>Mauritania</td>\n",
       "      <td>15000.000000</td>\n",
       "    </tr>\n",
       "    <tr>\n",
       "      <th>6</th>\n",
       "      <td>Bhutan</td>\n",
       "      <td>10000.000000</td>\n",
       "    </tr>\n",
       "    <tr>\n",
       "      <th>13</th>\n",
       "      <td>Chile</td>\n",
       "      <td>8080.555556</td>\n",
       "    </tr>\n",
       "    <tr>\n",
       "      <th>0</th>\n",
       "      <td>Afghanistan</td>\n",
       "      <td>7000.000000</td>\n",
       "    </tr>\n",
       "    <tr>\n",
       "      <th>16</th>\n",
       "      <td>Congo</td>\n",
       "      <td>6142.578125</td>\n",
       "    </tr>\n",
       "    <tr>\n",
       "      <th>60</th>\n",
       "      <td>Puerto Rico</td>\n",
       "      <td>5394.029851</td>\n",
       "    </tr>\n",
       "    <tr>\n",
       "      <th>80</th>\n",
       "      <td>United States</td>\n",
       "      <td>5187.944547</td>\n",
       "    </tr>\n",
       "    <tr>\n",
       "      <th>83</th>\n",
       "      <td>Virgin Islands</td>\n",
       "      <td>5000.000000</td>\n",
       "    </tr>\n",
       "    <tr>\n",
       "      <th>19</th>\n",
       "      <td>Dominican Republic</td>\n",
       "      <td>4309.205021</td>\n",
       "    </tr>\n",
       "  </tbody>\n",
       "</table>\n",
       "</div>"
      ],
      "text/plain": [
       "               country   loan_amount\n",
       "18       Cote D'Ivoire  50000.000000\n",
       "44          Mauritania  15000.000000\n",
       "6               Bhutan  10000.000000\n",
       "13               Chile   8080.555556\n",
       "0          Afghanistan   7000.000000\n",
       "16               Congo   6142.578125\n",
       "60         Puerto Rico   5394.029851\n",
       "80       United States   5187.944547\n",
       "83      Virgin Islands   5000.000000\n",
       "19  Dominican Republic   4309.205021"
      ]
     },
     "execution_count": 12,
     "metadata": {},
     "output_type": "execute_result"
    }
   ],
   "source": [
    "p1=df.groupby(['country'],as_index=False).agg({'loan_amount': np.mean}).sort_values(by=\"loan_amount\",ascending=False)\n",
    "p1=p1.head(10)\n",
    "p1"
   ]
  },
  {
   "cell_type": "code",
   "execution_count": 13,
   "id": "5fe3f893",
   "metadata": {},
   "outputs": [
    {
     "data": {
      "text/plain": [
       "['Cote D'Ivoire', 'Mauritania', 'Bhutan', 'Chile', 'Afghanistan', 'Congo', 'Puerto Rico', 'United States', 'Virgin Islands', 'Dominican Republic']\n",
       "Categories (10, object): ['Afghanistan', 'Bhutan', 'Chile', 'Congo', ..., 'Mauritania', 'Puerto Rico', 'United States', 'Virgin Islands']"
      ]
     },
     "execution_count": 13,
     "metadata": {},
     "output_type": "execute_result"
    }
   ],
   "source": [
    "p1[\"country\"] = p1[\"country\"].cat.remove_unused_categories()\n",
    "p1[\"country\"].unique()"
   ]
  },
  {
   "cell_type": "code",
   "execution_count": 14,
   "id": "dee7a9fd",
   "metadata": {},
   "outputs": [
    {
     "data": {
      "image/png": "[encoded data removed]",
      "text/plain": [
       "<Figure size 864x720 with 1 Axes>"
      ]
     },
     "metadata": {
      "needs_background": "light"
     },
     "output_type": "display_data"
    }
   ],
   "source": [
    "\n",
    "plt.figure(figsize=(12,10))\n",
    "\n",
    "sns.barplot(x=p1.loan_amount,y=p1.country,palette=\"rocket\",\n",
    "            order=p1.sort_values('country',ascending=True).country)\n",
    "\n",
    "plt.xlabel('Loan Amount',fontsize=12)\n",
    "plt.ylabel('Country Name',fontsize=12)\n",
    "plt.title('Top countries in terms of loan amount',fontsize=18)\n",
    "plt.show()"
   ]
  },
  {
   "cell_type": "markdown",
   "id": "ae1621e1",
   "metadata": {},
   "source": [
    "## Which sector has the highest loan amount? "
   ]
  },
  {
   "cell_type": "code",
   "execution_count": 15,
   "id": "d386948d",
   "metadata": {},
   "outputs": [
    {
     "data": {
      "image/png": "[encoded data removed]",
      "text/plain": [
       "<Figure size 1080x504 with 1 Axes>"
      ]
     },
     "metadata": {
      "needs_background": "light"
     },
     "output_type": "display_data"
    }
   ],
   "source": [
    "plot2 = df.groupby(['sector'],as_index=False)['loan_amount'].mean()\n",
    "\n",
    "plt.subplots(figsize=(15,7))\n",
    "sns.barplot(x='sector',y='loan_amount',data=plot2,palette='flare')\n",
    "\n",
    "plt.ylabel('Average loan amount in Dollar', fontsize=18)\n",
    "plt.xticks(rotation=90,fontsize=16)\n",
    "plt.xlabel('Loan sector', fontsize=18)\n",
    "plt.title('HIghest sector ', fontsize=20)\n",
    "\n",
    "plt.show()"
   ]
  },
  {
   "cell_type": "markdown",
   "id": "35c55121",
   "metadata": {},
   "source": [
    "## Which sector has the highest funded amount? Which are popular?"
   ]
  },
  {
   "cell_type": "code",
   "execution_count": 16,
   "id": "f55fcc6f",
   "metadata": {},
   "outputs": [
    {
     "data": {
      "image/png": "[encoded data removed]",
      "text/plain": [
       "<Figure size 1080x504 with 1 Axes>"
      ]
     },
     "metadata": {
      "needs_background": "light"
     },
     "output_type": "display_data"
    }
   ],
   "source": [
    "plot3 = df.groupby(['sector'],as_index=False)['funded_amount'].mean()\n",
    "\n",
    "plt.subplots(figsize=(15,7))\n",
    "sns.barplot(x='sector',y='funded_amount',data=plot3,palette='flare')\n",
    "\n",
    "plt.ylabel('Average funded amount in Dollar', fontsize=18)\n",
    "plt.xticks(rotation=90,fontsize=16)\n",
    "plt.xlabel('Loan sector', fontsize=18)\n",
    "plt.title('HIghest sector ', fontsize=20)\n",
    "\n",
    "plt.show()"
   ]
  },
  {
   "cell_type": "markdown",
   "id": "b645731e",
   "metadata": {},
   "source": [
    "## Which activities are the most prominent in all projects?"
   ]
  },
  {
   "cell_type": "code",
   "execution_count": 17,
   "id": "3971f65b",
   "metadata": {
    "scrolled": false
   },
   "outputs": [
    {
     "name": "stderr",
     "output_type": "stream",
     "text": [
      "C:\\Users\\elibo\\anaconda3\\lib\\site-packages\\seaborn\\_decorators.py:36: FutureWarning:\n",
      "\n",
      "Pass the following variable as a keyword arg: x. From version 0.12, the only valid positional argument will be `data`, and passing other arguments without an explicit keyword will result in an error or misinterpretation.\n",
      "\n"
     ]
    },
    {
     "data": {
      "image/png": "[encoded data removed]",
      "text/plain": [
       "<Figure size 936x288 with 1 Axes>"
      ]
     },
     "metadata": {
      "needs_background": "light"
     },
     "output_type": "display_data"
    }
   ],
   "source": [
    "plt.figure(figsize=(13,4))\n",
    "sns.countplot(df['activity'], order = df['activity'].value_counts().iloc[0:20].index,palette=\"rocket\")\n",
    "plt.title(\"Activity Count\", fontsize=20)\n",
    "plt.xlabel('Activity', fontsize=18)\n",
    "plt.ylabel('Size', fontsize=18)\n",
    "plt.xticks(fontsize=14, rotation=90)\n",
    "plt.show()"
   ]
  },
  {
   "cell_type": "markdown",
   "id": "ecfca0c7",
   "metadata": {},
   "source": [
    "## Which activities have the highest loan amount ?"
   ]
  },
  {
   "cell_type": "code",
   "execution_count": 18,
   "id": "89e80020",
   "metadata": {},
   "outputs": [
    {
     "data": {
      "image/png": "[encoded data removed]",
      "text/plain": [
       "<Figure size 1296x1296 with 1 Axes>"
      ]
     },
     "metadata": {},
     "output_type": "display_data"
    }
   ],
   "source": [
    "plot4 = df.groupby(['activity'],as_index=False)['loan_amount'].mean()\n",
    "\n",
    "sns.set_theme(style='whitegrid')\n",
    "\n",
    "fig, ax = plt.subplots(figsize=(18, 18))\n",
    "          \n",
    "p1=sns.barplot(x=\"loan_amount\", y='activity',\n",
    "              palette=\"Blues_d\",data=plot4,\n",
    "               order= plot4.sort_values('loan_amount',ascending=False).iloc[0:20].activity)\n",
    "\n",
    "plt.title('Activities and loan amount', fontdict={'size': 22})\n",
    "\n",
    "plt.xlabel('Loan amount in US Dollar', fontsize=18)\n",
    "plt.ylabel(\"Activities\", fontsize=18)\n",
    "plt.xticks(fontsize=14, rotation=0)\n",
    "plt.yticks(fontsize=18, rotation=0)\n",
    "plt.show()"
   ]
  },
  {
   "cell_type": "markdown",
   "id": "8af2574d",
   "metadata": {},
   "source": [
    "## How high is the loan amount for gender in the different countries?"
   ]
  },
  {
   "cell_type": "code",
   "execution_count": 19,
   "id": "1974aa80",
   "metadata": {},
   "outputs": [
    {
     "data": {
      "application/vnd.plotly.v1+json": {
       "config": {
        "plotlyServerURL": "https://plot.ly"
       },
       "data": [
        {
         "branchvalues": "total",
         "customdata": [
          [
           null
          ],
          [
           null
          ],
          [
           null
          ],
          [
           null
          ],
          [
           "Oceania"
          ],
          [
           null
          ],
          [
           null
          ],
          [
           null
          ],
          [
           null
          ],
          [
           null
          ],
          [
           null
          ],
          [
           null
          ],
          [
           null
          ],
          [
           null
          ],
          [
           null
          ],
          [
           "Africa"
          ],
          [
           null
          ],
          [
           null
          ],
          [
           null
          ],
          [
           null
          ],
          [
           null
          ],
          [
           "Africa"
          ],
          [
           null
          ],
          [
           null
          ],
          [
           null
          ],
          [
           "Asia"
          ],
          [
           null
          ],
          [
           null
          ],
          [
           null
          ],
          [
           "North America"
          ],
          [
           null
          ],
          [
           null
          ],
          [
           null
          ],
          [
           null
          ],
          [
           null
          ],
          [
           null
          ],
          [
           "North America"
          ],
          [
           null
          ],
          [
           null
          ],
          [
           "Asia"
          ],
          [
           null
          ],
          [
           null
          ],
          [
           null
          ],
          [
           "North America"
          ],
          [
           null
          ],
          [
           "Europe"
          ],
          [
           null
          ],
          [
           null
          ],
          [
           "Africa"
          ],
          [
           null
          ],
          [
           null
          ],
          [
           "North America"
          ],
          [
           "North America"
          ],
          [
           "South America"
          ],
          [
           null
          ],
          [
           "Asia"
          ],
          [
           null
          ],
          [
           null
          ],
          [
           null
          ],
          [
           null
          ],
          [
           "Africa"
          ],
          [
           "Africa"
          ],
          [
           "South America"
          ],
          [
           "South America"
          ],
          [
           null
          ],
          [
           null
          ],
          [
           null
          ],
          [
           null
          ],
          [
           null
          ],
          [
           null
          ],
          [
           null
          ],
          [
           "North America"
          ],
          [
           null
          ],
          [
           null
          ],
          [
           null
          ],
          [
           null
          ],
          [
           null
          ],
          [
           null
          ],
          [
           "Africa"
          ],
          [
           null
          ],
          [
           null
          ],
          [
           null
          ],
          [
           null
          ],
          [
           null
          ],
          [
           null
          ],
          [
           null
          ],
          [
           null
          ],
          [
           null
          ],
          [
           null
          ],
          [
           null
          ],
          [
           null
          ],
          [
           null
          ],
          [
           "Asia"
          ],
          [
           null
          ],
          [
           null
          ],
          [
           null
          ],
          [
           null
          ],
          [
           null
          ],
          [
           null
          ],
          [
           null
          ],
          [
           "Africa"
          ],
          [
           null
          ],
          [
           "Asia"
          ],
          [
           "Asia"
          ],
          [
           null
          ],
          [
           null
          ],
          [
           null
          ],
          [
           null
          ],
          [
           null
          ],
          [
           null
          ],
          [
           "Asia"
          ],
          [
           null
          ],
          [
           null
          ],
          [
           null
          ],
          [
           null
          ],
          [
           "Africa"
          ],
          [
           null
          ],
          [
           "Africa"
          ],
          [
           null
          ],
          [
           null
          ],
          [
           null
          ],
          [
           null
          ],
          [
           "Africa"
          ],
          [
           null
          ],
          [
           null
          ],
          [
           null
          ],
          [
           null
          ],
          [
           null
          ],
          [
           "Africa"
          ],
          [
           null
          ],
          [
           null
          ],
          [
           null
          ],
          [
           "Europe"
          ],
          [
           null
          ],
          [
           null
          ],
          [
           null
          ],
          [
           null
          ],
          [
           null
          ],
          [
           null
          ],
          [
           null
          ],
          [
           "Asia"
          ],
          [
           null
          ],
          [
           null
          ],
          [
           null
          ],
          [
           null
          ],
          [
           null
          ],
          [
           null
          ],
          [
           null
          ],
          [
           "Asia"
          ],
          [
           null
          ],
          [
           "Asia"
          ],
          [
           null
          ],
          [
           null
          ],
          [
           null
          ],
          [
           null
          ],
          [
           null
          ],
          [
           "North America"
          ],
          [
           null
          ],
          [
           null
          ],
          [
           null
          ],
          [
           null
          ],
          [
           null
          ],
          [
           null
          ],
          [
           null
          ],
          [
           null
          ],
          [
           null
          ],
          [
           null
          ],
          [
           null
          ],
          [
           null
          ],
          [
           "Europe"
          ],
          [
           "Asia"
          ],
          [
           null
          ],
          [
           null
          ],
          [
           null
          ],
          [
           null
          ],
          [
           null
          ],
          [
           null
          ],
          [
           null
          ],
          [
           null
          ],
          [
           null
          ],
          [
           "Africa"
          ],
          [
           null
          ],
          [
           null
          ],
          [
           null
          ],
          [
           null
          ],
          [
           null
          ],
          [
           null
          ],
          [
           null
          ],
          [
           null
          ],
          [
           "Africa"
          ],
          [
           "Asia"
          ],
          [
           null
          ],
          [
           null
          ],
          [
           null
          ],
          [
           null
          ],
          [
           null
          ],
          [
           null
          ],
          [
           null
          ],
          [
           null
          ],
          [
           null
          ],
          [
           null
          ],
          [
           null
          ],
          [
           null
          ],
          [
           null
          ],
          [
           null
          ],
          [
           null
          ],
          [
           "Africa"
          ],
          [
           null
          ],
          [
           null
          ],
          [
           null
          ],
          [
           "Asia"
          ],
          [
           null
          ],
          [
           null
          ],
          [
           null
          ],
          [
           "Asia"
          ],
          [
           null
          ],
          [
           null
          ],
          [
           null
          ],
          [
           null
          ],
          [
           null
          ],
          [
           null
          ],
          [
           "Asia"
          ],
          [
           null
          ],
          [
           null
          ],
          [
           "Africa"
          ],
          [
           "Oceania"
          ],
          [
           "Oceania"
          ],
          [
           "Europe"
          ],
          [
           null
          ],
          [
           null
          ],
          [
           null
          ],
          [
           null
          ],
          [
           "Africa"
          ],
          [
           null
          ],
          [
           null
          ],
          [
           null
          ],
          [
           null
          ],
          [
           null
          ],
          [
           "Asia"
          ],
          [
           null
          ],
          [
           null
          ],
          [
           null
          ],
          [
           null
          ],
          [
           null
          ],
          [
           null
          ],
          [
           null
          ],
          [
           null
          ],
          [
           null
          ],
          [
           null
          ],
          [
           "Asia"
          ],
          [
           null
          ],
          [
           null
          ],
          [
           "North America"
          ],
          [
           null
          ],
          [
           null
          ],
          [
           null
          ],
          [
           null
          ],
          [
           null
          ],
          [
           "South America"
          ],
          [
           "South America"
          ],
          [
           null
          ],
          [
           null
          ],
          [
           null
          ],
          [
           "Africa"
          ],
          [
           null
          ],
          [
           null
          ],
          [
           null
          ],
          [
           null
          ],
          [
           null
          ],
          [
           "Africa"
          ],
          [
           "Africa"
          ],
          [
           "South America"
          ],
          [
           "Oceania"
          ],
          [
           null
          ],
          [
           null
          ],
          [
           null
          ],
          [
           null
          ],
          [
           null
          ],
          [
           "Europe"
          ],
          [
           null
          ],
          [
           "Asia"
          ],
          [
           null
          ],
          [
           "Asia"
          ],
          [
           null
          ],
          [
           null
          ],
          [
           null
          ],
          [
           null
          ],
          [
           "Africa"
          ],
          [
           null
          ],
          [
           null
          ],
          [
           null
          ],
          [
           null
          ],
          [
           "South America"
          ],
          [
           null
          ],
          [
           "Asia"
          ],
          [
           null
          ],
          [
           "Asia"
          ],
          [
           null
          ],
          [
           null
          ],
          [
           "Africa"
          ],
          [
           "Africa"
          ],
          [
           null
          ],
          [
           null
          ],
          [
           null
          ],
          [
           null
          ],
          [
           "Asia"
          ],
          [
           null
          ],
          [
           null
          ],
          [
           null
          ],
          [
           "North America"
          ],
          [
           "North America"
          ],
          [
           null
          ],
          [
           null
          ],
          [
           "Africa"
          ],
          [
           null
          ],
          [
           null
          ],
          [
           null
          ],
          [
           null
          ],
          [
           null
          ],
          [
           null
          ],
          [
           null
          ],
          [
           null
          ],
          [
           null
          ],
          [
           null
          ],
          [
           null
          ],
          [
           "Africa"
          ],
          [
           "Oceania"
          ],
          [
           null
          ],
          [
           null
          ],
          [
           null
          ],
          [
           "(?)"
          ],
          [
           null
          ],
          [
           null
          ],
          [
           "Africa"
          ],
          [
           null
          ],
          [
           null
          ],
          [
           null
          ],
          [
           null
          ],
          [
           null
          ],
          [
           null
          ],
          [
           "Africa"
          ],
          [
           "Asia"
          ],
          [
           null
          ],
          [
           null
          ],
          [
           null
          ],
          [
           null
          ],
          [
           null
          ],
          [
           "Asia"
          ],
          [
           null
          ],
          [
           "Asia"
          ],
          [
           null
          ],
          [
           null
          ],
          [
           null
          ],
          [
           null
          ],
          [
           null
          ],
          [
           null
          ],
          [
           null
          ],
          [
           null
          ],
          [
           null
          ],
          [
           null
          ],
          [
           null
          ],
          [
           null
          ],
          [
           null
          ],
          [
           null
          ],
          [
           null
          ],
          [
           null
          ],
          [
           "Asia"
          ],
          [
           "North America"
          ],
          [
           null
          ],
          [
           null
          ],
          [
           null
          ],
          [
           null
          ],
          [
           null
          ],
          [
           null
          ],
          [
           null
          ],
          [
           null
          ],
          [
           null
          ],
          [
           null
          ],
          [
           null
          ],
          [
           null
          ],
          [
           null
          ],
          [
           null
          ],
          [
           null
          ],
          [
           null
          ],
          [
           null
          ],
          [
           "Europe"
          ],
          [
           null
          ],
          [
           null
          ],
          [
           null
          ],
          [
           null
          ],
          [
           null
          ],
          [
           null
          ],
          [
           "Africa"
          ],
          [
           null
          ],
          [
           null
          ],
          [
           null
          ],
          [
           null
          ],
          [
           null
          ],
          [
           null
          ],
          [
           null
          ],
          [
           null
          ],
          [
           "Africa"
          ],
          [
           "Africa"
          ],
          [
           null
          ],
          [
           null
          ],
          [
           null
          ],
          [
           null
          ],
          [
           null
          ],
          [
           null
          ],
          [
           null
          ],
          [
           "Africa"
          ],
          [
           null
          ],
          [
           "Africa"
          ],
          [
           "Africa"
          ],
          [
           null
          ],
          [
           "Oceania"
          ],
          [
           null
          ],
          [
           null
          ],
          [
           null
          ],
          [
           null
          ],
          [
           null
          ],
          [
           null
          ],
          [
           null
          ],
          [
           null
          ],
          [
           null
          ],
          [
           "Asia"
          ],
          [
           "Asia"
          ],
          [
           null
          ],
          [
           null
          ],
          [
           null
          ],
          [
           null
          ],
          [
           null
          ],
          [
           null
          ],
          [
           null
          ],
          [
           "Asia"
          ],
          [
           null
          ],
          [
           null
          ],
          [
           "South America"
          ],
          [
           null
          ],
          [
           null
          ],
          [
           null
          ],
          [
           null
          ],
          [
           null
          ],
          [
           null
          ],
          [
           null
          ],
          [
           null
          ],
          [
           null
          ],
          [
           null
          ],
          [
           null
          ],
          [
           null
          ],
          [
           null
          ],
          [
           null
          ],
          [
           null
          ],
          [
           null
          ],
          [
           "Africa"
          ],
          [
           null
          ],
          [
           null
          ],
          [
           null
          ],
          [
           null
          ],
          [
           null
          ],
          [
           null
          ],
          [
           null
          ],
          [
           null
          ],
          [
           null
          ],
          [
           null
          ],
          [
           null
          ],
          [
           null
          ],
          [
           null
          ],
          [
           "Europe"
          ],
          [
           null
          ],
          [
           null
          ],
          [
           "North America"
          ],
          [
           null
          ],
          [
           null
          ],
          [
           null
          ],
          [
           null
          ],
          [
           null
          ],
          [
           null
          ],
          [
           null
          ],
          [
           null
          ],
          [
           null
          ],
          [
           "Asia"
          ],
          [
           "North America"
          ],
          [
           null
          ],
          [
           null
          ],
          [
           null
          ],
          [
           null
          ],
          [
           "South America"
          ],
          [
           "South America"
          ],
          [
           "Oceania"
          ],
          [
           "Oceania"
          ],
          [
           null
          ],
          [
           null
          ],
          [
           null
          ],
          [
           null
          ],
          [
           null
          ],
          [
           "North America"
          ],
          [
           null
          ],
          [
           null
          ],
          [
           null
          ],
          [
           null
          ],
          [
           null
          ],
          [
           null
          ],
          [
           "Asia"
          ],
          [
           null
          ],
          [
           null
          ],
          [
           null
          ],
          [
           null
          ],
          [
           null
          ],
          [
           null
          ],
          [
           "South America"
          ],
          [
           null
          ],
          [
           null
          ],
          [
           null
          ],
          [
           null
          ],
          [
           null
          ],
          [
           null
          ],
          [
           null
          ],
          [
           null
          ],
          [
           null
          ],
          [
           null
          ],
          [
           null
          ],
          [
           null
          ],
          [
           null
          ],
          [
           null
          ],
          [
           null
          ],
          [
           null
          ],
          [
           null
          ],
          [
           null
          ],
          [
           null
          ],
          [
           null
          ],
          [
           null
          ],
          [
           null
          ],
          [
           "Africa"
          ],
          [
           null
          ],
          [
           null
          ],
          [
           null
          ],
          [
           null
          ],
          [
           null
          ],
          [
           null
          ],
          [
           "North America"
          ],
          [
           null
          ],
          [
           null
          ],
          [
           null
          ],
          [
           null
          ],
          [
           null
          ],
          [
           null
          ],
          [
           null
          ],
          [
           null
          ],
          [
           "Africa"
          ],
          [
           null
          ],
          [
           null
          ],
          [
           "Africa"
          ],
          [
           null
          ],
          [
           "South America"
          ],
          [
           null
          ],
          [
           null
          ],
          [
           null
          ],
          [
           null
          ],
          [
           null
          ],
          [
           null
          ],
          [
           null
          ],
          [
           null
          ],
          [
           null
          ],
          [
           null
          ],
          [
           null
          ],
          [
           "Asia"
          ],
          [
           null
          ],
          [
           null
          ],
          [
           null
          ],
          [
           null
          ],
          [
           null
          ],
          [
           null
          ],
          [
           null
          ],
          [
           null
          ],
          [
           "Asia"
          ],
          [
           null
          ],
          [
           null
          ],
          [
           null
          ],
          [
           null
          ],
          [
           null
          ],
          [
           null
          ],
          [
           "Asia"
          ],
          [
           null
          ],
          [
           null
          ],
          [
           "South America"
          ],
          [
           null
          ],
          [
           null
          ],
          [
           null
          ],
          [
           null
          ],
          [
           null
          ],
          [
           null
          ],
          [
           null
          ],
          [
           null
          ],
          [
           null
          ],
          [
           null
          ],
          [
           null
          ],
          [
           null
          ],
          [
           null
          ],
          [
           null
          ],
          [
           null
          ],
          [
           null
          ],
          [
           null
          ],
          [
           null
          ],
          [
           null
          ],
          [
           null
          ],
          [
           null
          ],
          [
           null
          ],
          [
           null
          ],
          [
           null
          ],
          [
           null
          ],
          [
           null
          ],
          [
           null
          ],
          [
           null
          ],
          [
           null
          ],
          [
           "North America"
          ],
          [
           "South America"
          ],
          [
           null
          ],
          [
           null
          ],
          [
           null
          ],
          [
           null
          ],
          [
           "Europe"
          ],
          [
           null
          ],
          [
           null
          ],
          [
           null
          ],
          [
           null
          ],
          [
           null
          ],
          [
           null
          ],
          [
           null
          ],
          [
           null
          ],
          [
           "Asia"
          ],
          [
           null
          ],
          [
           null
          ],
          [
           null
          ],
          [
           null
          ],
          [
           null
          ],
          [
           null
          ],
          [
           null
          ],
          [
           null
          ],
          [
           null
          ],
          [
           null
          ],
          [
           null
          ],
          [
           null
          ],
          [
           null
          ],
          [
           null
          ],
          [
           null
          ],
          [
           null
          ],
          [
           null
          ],
          [
           null
          ],
          [
           null
          ],
          [
           null
          ],
          [
           null
          ],
          [
           null
          ],
          [
           "Asia"
          ],
          [
           null
          ],
          [
           null
          ],
          [
           null
          ],
          [
           null
          ],
          [
           null
          ],
          [
           null
          ],
          [
           "Asia"
          ],
          [
           "Asia"
          ],
          [
           null
          ],
          [
           null
          ],
          [
           null
          ],
          [
           null
          ],
          [
           null
          ],
          [
           null
          ],
          [
           null
          ],
          [
           "Africa"
          ],
          [
           null
          ],
          [
           null
          ],
          [
           null
          ],
          [
           null
          ],
          [
           null
          ],
          [
           null
          ],
          [
           null
          ],
          [
           null
          ],
          [
           null
          ],
          [
           null
          ],
          [
           "Asia"
          ],
          [
           "Asia"
          ],
          [
           null
          ],
          [
           null
          ],
          [
           "Asia"
          ],
          [
           null
          ],
          [
           null
          ],
          [
           null
          ],
          [
           null
          ],
          [
           null
          ],
          [
           null
          ],
          [
           "Asia"
          ],
          [
           null
          ],
          [
           null
          ],
          [
           null
          ],
          [
           null
          ],
          [
           null
          ],
          [
           null
          ],
          [
           null
          ],
          [
           null
          ],
          [
           null
          ],
          [
           null
          ],
          [
           "Africa"
          ],
          [
           null
          ],
          [
           null
          ],
          [
           null
          ],
          [
           null
          ],
          [
           null
          ],
          [
           null
          ],
          [
           null
          ],
          [
           null
          ],
          [
           null
          ],
          [
           "Asia"
          ],
          [
           "Europe"
          ],
          [
           null
          ],
          [
           null
          ],
          [
           null
          ],
          [
           null
          ],
          [
           null
          ],
          [
           null
          ],
          [
           "Europe"
          ],
          [
           null
          ],
          [
           null
          ],
          [
           null
          ],
          [
           null
          ],
          [
           null
          ],
          [
           null
          ],
          [
           null
          ],
          [
           null
          ],
          [
           null
          ],
          [
           null
          ],
          [
           null
          ],
          [
           "North America"
          ],
          [
           null
          ],
          [
           null
          ],
          [
           "Africa"
          ],
          [
           "Africa"
          ],
          [
           null
          ],
          [
           null
          ],
          [
           null
          ],
          [
           null
          ],
          [
           null
          ],
          [
           null
          ],
          [
           null
          ],
          [
           null
          ],
          [
           null
          ],
          [
           null
          ],
          [
           null
          ],
          [
           null
          ],
          [
           null
          ],
          [
           null
          ],
          [
           null
          ],
          [
           null
          ],
          [
           null
          ],
          [
           null
          ],
          [
           null
          ],
          [
           null
          ],
          [
           null
          ],
          [
           null
          ],
          [
           null
          ],
          [
           "Europe"
          ],
          [
           null
          ],
          [
           "Asia"
          ],
          [
           null
          ],
          [
           null
          ],
          [
           null
          ],
          [
           null
          ],
          [
           null
          ],
          [
           null
          ],
          [
           null
          ],
          [
           null
          ],
          [
           null
          ],
          [
           null
          ],
          [
           null
          ],
          [
           null
          ],
          [
           "North America"
          ],
          [
           null
          ],
          [
           null
          ],
          [
           null
          ],
          [
           null
          ],
          [
           "Africa"
          ],
          [
           null
          ],
          [
           null
          ],
          [
           "North America"
          ],
          [
           null
          ],
          [
           null
          ],
          [
           "Asia"
          ],
          [
           null
          ],
          [
           null
          ],
          [
           null
          ],
          [
           null
          ],
          [
           null
          ],
          [
           null
          ],
          [
           null
          ],
          [
           "South America"
          ],
          [
           null
          ],
          [
           null
          ],
          [
           null
          ],
          [
           "Africa"
          ],
          [
           null
          ],
          [
           null
          ],
          [
           null
          ],
          [
           null
          ],
          [
           null
          ],
          [
           null
          ],
          [
           null
          ],
          [
           null
          ],
          [
           null
          ],
          [
           null
          ],
          [
           null
          ],
          [
           null
          ],
          [
           null
          ],
          [
           null
          ],
          [
           "Asia"
          ],
          [
           null
          ],
          [
           "Africa"
          ],
          [
           null
          ],
          [
           "Africa"
          ],
          [
           null
          ],
          [
           null
          ],
          [
           null
          ],
          [
           null
          ],
          [
           null
          ],
          [
           "(?)"
          ],
          [
           null
          ],
          [
           "Africa"
          ],
          [
           null
          ],
          [
           "Asia"
          ],
          [
           null
          ],
          [
           null
          ],
          [
           null
          ],
          [
           null
          ],
          [
           null
          ],
          [
           null
          ],
          [
           null
          ],
          [
           null
          ],
          [
           "North America"
          ],
          [
           "North America"
          ],
          [
           null
          ],
          [
           null
          ],
          [
           null
          ],
          [
           null
          ],
          [
           null
          ],
          [
           null
          ],
          [
           null
          ],
          [
           null
          ],
          [
           "Africa"
          ],
          [
           null
          ],
          [
           "Africa"
          ],
          [
           null
          ],
          [
           null
          ],
          [
           null
          ],
          [
           null
          ],
          [
           null
          ],
          [
           null
          ],
          [
           null
          ],
          [
           null
          ],
          [
           null
          ],
          [
           null
          ],
          [
           null
          ],
          [
           "Asia"
          ],
          [
           null
          ],
          [
           null
          ],
          [
           null
          ],
          [
           null
          ],
          [
           null
          ],
          [
           null
          ],
          [
           null
          ],
          [
           null
          ],
          [
           null
          ],
          [
           null
          ],
          [
           null
          ],
          [
           null
          ],
          [
           null
          ],
          [
           null
          ],
          [
           null
          ],
          [
           null
          ],
          [
           null
          ],
          [
           null
          ],
          [
           null
          ],
          [
           null
          ],
          [
           null
          ],
          [
           null
          ],
          [
           null
          ],
          [
           null
          ],
          [
           null
          ],
          [
           null
          ],
          [
           "North America"
          ],
          [
           null
          ],
          [
           null
          ],
          [
           null
          ],
          [
           null
          ],
          [
           null
          ],
          [
           null
          ],
          [
           null
          ],
          [
           null
          ],
          [
           null
          ],
          [
           null
          ],
          [
           "North America"
          ],
          [
           null
          ],
          [
           null
          ],
          [
           null
          ],
          [
           null
          ],
          [
           null
          ],
          [
           null
          ],
          [
           null
          ],
          [
           null
          ],
          [
           null
          ],
          [
           null
          ],
          [
           null
          ],
          [
           null
          ],
          [
           null
          ],
          [
           "North America"
          ],
          [
           null
          ],
          [
           "Africa"
          ],
          [
           null
          ],
          [
           "South America"
          ],
          [
           null
          ],
          [
           null
          ],
          [
           null
          ],
          [
           null
          ],
          [
           null
          ],
          [
           null
          ],
          [
           null
          ],
          [
           "North America"
          ],
          [
           null
          ],
          [
           null
          ],
          [
           null
          ],
          [
           null
          ],
          [
           null
          ],
          [
           null
          ],
          [
           null
          ],
          [
           null
          ],
          [
           "Africa"
          ],
          [
           "Africa"
          ],
          [
           "Africa"
          ],
          [
           null
          ],
          [
           null
          ],
          [
           null
          ],
          [
           null
          ],
          [
           null
          ],
          [
           null
          ],
          [
           null
          ],
          [
           "Africa"
          ],
          [
           null
          ],
          [
           null
          ],
          [
           null
          ],
          [
           null
          ],
          [
           "Europe"
          ],
          [
           null
          ],
          [
           null
          ],
          [
           null
          ],
          [
           null
          ],
          [
           "North America"
          ],
          [
           null
          ],
          [
           "North America"
          ],
          [
           null
          ],
          [
           "Africa"
          ],
          [
           null
          ],
          [
           null
          ],
          [
           null
          ],
          [
           null
          ],
          [
           null
          ],
          [
           "Asia"
          ],
          [
           null
          ],
          [
           null
          ],
          [
           null
          ],
          [
           null
          ],
          [
           null
          ],
          [
           null
          ],
          [
           "Africa"
          ],
          [
           null
          ],
          [
           null
          ],
          [
           null
          ],
          [
           null
          ],
          [
           "Africa"
          ],
          [
           null
          ],
          [
           null
          ],
          [
           null
          ],
          [
           null
          ],
          [
           null
          ],
          [
           null
          ],
          [
           null
          ],
          [
           null
          ],
          [
           null
          ],
          [
           null
          ],
          [
           null
          ],
          [
           null
          ],
          [
           null
          ],
          [
           null
          ],
          [
           null
          ],
          [
           "South America"
          ],
          [
           null
          ],
          [
           null
          ],
          [
           null
          ],
          [
           null
          ],
          [
           null
          ],
          [
           null
          ],
          [
           null
          ],
          [
           null
          ],
          [
           null
          ],
          [
           null
          ],
          [
           null
          ],
          [
           null
          ],
          [
           null
          ],
          [
           "Africa"
          ],
          [
           "North America"
          ],
          [
           null
          ],
          [
           null
          ],
          [
           null
          ],
          [
           null
          ],
          [
           null
          ],
          [
           null
          ],
          [
           null
          ],
          [
           null
          ],
          [
           null
          ],
          [
           null
          ],
          [
           null
          ],
          [
           "Africa"
          ],
          [
           null
          ],
          [
           null
          ],
          [
           null
          ],
          [
           null
          ],
          [
           null
          ],
          [
           null
          ],
          [
           null
          ],
          [
           null
          ],
          [
           null
          ],
          [
           null
          ],
          [
           null
          ],
          [
           null
          ],
          [
           "Asia"
          ],
          [
           "Asia"
          ],
          [
           null
          ],
          [
           null
          ],
          [
           null
          ],
          [
           null
          ],
          [
           "Africa"
          ],
          [
           null
          ],
          [
           null
          ],
          [
           null
          ],
          [
           null
          ],
          [
           "Africa"
          ],
          [
           "Africa"
          ],
          [
           null
          ],
          [
           null
          ],
          [
           null
          ],
          [
           null
          ],
          [
           null
          ],
          [
           null
          ],
          [
           null
          ],
          [
           null
          ],
          [
           null
          ],
          [
           "South America"
          ],
          [
           "North America"
          ],
          [
           null
          ],
          [
           null
          ],
          [
           null
          ]
         ],
         "domain": {
          "x": [
           0,
           1
          ],
          "y": [
           0,
           1
          ]
         },
         "hovertemplate": "labels=%{label}<br>loan_amount=%{value}<br>parent=%{parent}<br>id=%{id}<br>continent=%{customdata[0]}<extra></extra>",
         "ids": [
          "female/Africa/Mauritania",
          "female/Asia/Guatemala",
          "male/Oceania/Puerto Rico",
          "female/South America/Puerto Rico",
          "female/Oceania/Guam",
          "female/Europe/Guam",
          "male/Asia/Guam",
          "male/Oceania/Saint Vincent and the Grenadines",
          "female/Africa/Guam",
          "female/South America/Ghana",
          "female/Asia/Samoa",
          "female/Oceania/Ghana",
          "female/South America/Samoa",
          "female/Asia/Ghana",
          "female/Asia/Senegal",
          "female/Africa/Ghana",
          "female/South America/Georgia",
          "male/Europe/Senegal",
          "male/North America/Georgia",
          "female/North America/Georgia",
          "female/Europe/Guatemala",
          "male/Africa/Sierra Leone",
          "female/Asia/Puerto Rico",
          "male/Oceania/Philippines",
          "male/Europe/India",
          "female/Asia/India",
          "male/Africa/India",
          "female/Africa/India",
          "male/Oceania/Honduras",
          "female/North America/Honduras",
          "female/Africa/Peru",
          "female/Europe/Honduras",
          "female/Asia/Honduras",
          "male/South America/Haiti",
          "male/Europe/Peru",
          "female/Oceania/Haiti",
          "male/North America/Haiti",
          "male/Oceania/Peru",
          "female/Africa/Philippines",
          "male/Asia/Philippines",
          "male/Europe/Philippines",
          "male/North America/Philippines",
          "male/South America/Guatemala",
          "female/North America/Guatemala",
          "male/North America/India",
          "female/Europe/Georgia",
          "male/South America/El Salvador",
          "female/Asia/Cote D'Ivoire",
          "female/Africa/Cote D'Ivoire",
          "male/South America/Costa Rica",
          "male/Oceania/Costa Rica",
          "male/North America/Costa Rica",
          "female/North America/Costa Rica",
          "male/South America/Suriname",
          "male/Africa/Costa Rica",
          "female/Asia/Tajikistan",
          "female/South America/Congo",
          "female/North America/Congo",
          "male/North America/Tajikistan",
          "male/South America/Tajikistan",
          "male/Africa/Congo",
          "female/Africa/Congo",
          "male/South America/Colombia",
          "female/South America/Colombia",
          "male/Asia/Tanzania",
          "female/North America/Tanzania",
          "male/Europe/Cote D'Ivoire",
          "male/Asia/Georgia",
          "female/North America/Cote D'Ivoire",
          "female/South America/Cote D'Ivoire",
          "female/Oceania/El Salvador",
          "male/North America/El Salvador",
          "male/Europe/El Salvador",
          "male/Asia/El Salvador",
          "male/Africa/El Salvador",
          "female/Africa/El Salvador",
          "male/North America/Somalia",
          "male/Asia/Egypt",
          "male/Africa/Egypt",
          "male/Oceania/Ecuador",
          "female/Oceania/Ecuador",
          "male/North America/Ecuador",
          "male/Europe/South Africa",
          "male/Europe/Ecuador",
          "male/Asia/Ecuador",
          "male/Africa/Ecuador",
          "male/South America/Dominican Republic",
          "male/Asia/South Sudan",
          "male/Asia/Dominican Republic",
          "male/Oceania/Cote D'Ivoire",
          "male/Europe/Colombia",
          "male/Oceania/India",
          "male/Asia/Indonesia",
          "male/Europe/Lesotho",
          "male/Europe/Mongolia",
          "male/Asia/Lesotho",
          "female/Oceania/Mongolia",
          "female/South America/Mongolia",
          "female/South America/Lebanon",
          "male/Oceania/Lebanon",
          "male/Africa/Mozambique",
          "male/North America/Lebanon",
          "male/Asia/Lebanon",
          "female/Asia/Lebanon",
          "male/North America/Mozambique",
          "male/South America/Lao People's Democratic Republic",
          "female/South America/Lao People's Democratic Republic",
          "female/Oceania/Mozambique",
          "male/Oceania/Mozambique",
          "male/Africa/Myanmar (Burma)",
          "male/Asia/Myanmar (Burma)",
          "female/South America/Myanmar (Burma)",
          "male/North America/Lesotho",
          "male/South America/Myanmar (Burma)",
          "male/Africa/Mongolia",
          "male/Africa/Liberia",
          "female/Asia/Mali",
          "female/Africa/Mali",
          "male/South America/Malawi",
          "female/South America/Malawi",
          "female/Oceania/Mali",
          "female/Oceania/Mauritania",
          "female/Africa/Malawi",
          "male/South America/Madagascar",
          "male/Africa/Mexico",
          "male/Europe/Mexico",
          "female/Europe/Madagascar",
          "male/Asia/Madagascar",
          "male/Africa/Madagascar",
          "female/Asia/Moldova",
          "female/Oceania/Liberia",
          "male/North America/Liberia",
          "female/Europe/Moldova",
          "male/Europe/Liberia",
          "male/North America/Moldova",
          "female/Africa/Mongolia",
          "male/Africa/Indonesia",
          "male/Asia/Namibia",
          "female/Europe/Kyrgyzstan",
          "female/Europe/Jordan",
          "male/Asia/Jordan",
          "female/North America/Nigeria",
          "female/Africa/Jordan",
          "male/South America/Nigeria",
          "female/Oceania/Israel",
          "male/North America/Israel",
          "female/Africa/Pakistan",
          "male/Africa/Pakistan",
          "male/Asia/Israel",
          "male/Africa/Palestine",
          "female/Asia/Palestine",
          "male/Oceania/Palestine",
          "female/Europe/Iraq",
          "female/Asia/Panama",
          "male/Oceania/Indonesia",
          "female/Oceania/Indonesia",
          "male/North America/Panama",
          "male/Oceania/Panama",
          "female/Asia/Nigeria",
          "female/North America/Kyrgyzstan",
          "male/Oceania/Jordan",
          "male/South America/Nicaragua",
          "male/Europe/Namibia",
          "male/Africa/Kyrgyzstan",
          "female/Africa/Kyrgyzstan",
          "male/North America/Namibia",
          "female/South America/Kosovo",
          "female/Oceania/Namibia",
          "female/Oceania/Kosovo",
          "female/Europe/Kosovo",
          "female/Asia/Nepal",
          "male/Africa/Kosovo",
          "female/North America/Nepal",
          "male/Oceania/Kenya",
          "female/Africa/Nicaragua",
          "male/Africa/Nicaragua",
          "female/Asia/Nicaragua",
          "male/Europe/Kenya",
          "male/Asia/Nicaragua",
          "male/Asia/Kenya",
          "male/Africa/Kenya",
          "female/South America/Jordan",
          "female/Europe/Colombia",
          "male/Europe/Mali",
          "female/Africa/Cambodia",
          "male/South America/Togo",
          "female/Africa/Turkey",
          "male/Asia/Burundi",
          "female/Asia/Burundi",
          "male/Africa/Burundi",
          "female/Asia/Turkey",
          "male/South America/Burkina Faso",
          "male/Oceania/Virgin Islands",
          "female/Europe/Virgin Islands",
          "female/Europe/Turkey",
          "female/North America/Turkey",
          "male/Africa/Virgin Islands",
          "male/North America/Burkina Faso",
          "female/North America/Burkina Faso",
          "male/Europe/Burkina Faso",
          "female/South America/Azerbaijan",
          "male/Asia/Virgin Islands",
          "male/Asia/Burkina Faso",
          "female/Oceania/Togo",
          "male/Oceania/Burundi",
          "female/South America/Cambodia",
          "male/Africa/Togo",
          "male/North America/Cambodia",
          "female/North America/Yemen",
          "female/Europe/Yemen",
          "male/Asia/Yemen",
          "female/Europe/Togo",
          "male/North America/Togo",
          "female/Europe/Cambodia",
          "female/Asia/Cambodia",
          "male/Africa/Cambodia",
          "male/Africa/Yemen",
          "female/North America/Bhutan",
          "male/Europe/Togo",
          "female/South America/Virgin Islands",
          "female/North America/Togo",
          "male/Asia/Cambodia",
          "male/Oceania/Turkey",
          "male/South America/Turkey",
          "female/Africa/Burkina Faso",
          "male/Oceania/Vanuatu",
          "female/Oceania/Vanuatu",
          "female/Europe/Ukraine",
          "male/Europe/Vanuatu",
          "male/Europe/Bolivia",
          "female/Europe/Bolivia",
          "female/North America/Benin",
          "male/Africa/Benin",
          "male/North America/Benin",
          "male/Asia/Vanuatu",
          "male/South America/Ukraine",
          "female/South America/United States",
          "male/Africa/Bhutan",
          "female/Asia/Bhutan",
          "male/Europe/United States",
          "female/Europe/Bhutan",
          "female/Oceania/Benin",
          "female/South America/Vanuatu",
          "male/South America/Belize",
          "male/Oceania/Bolivia",
          "female/Oceania/Vietnam",
          "female/Asia/Belize",
          "female/Europe/Vietnam",
          "female/Europe/Uganda",
          "female/Asia/Vietnam",
          "male/Africa/Vietnam",
          "female/North America/Uganda",
          "female/North America/Belize",
          "male/Oceania/Uganda",
          "female/South America/Uganda",
          "female/Asia/Brazil",
          "male/Africa/Brazil",
          "male/Oceania/Belize",
          "male/South America/Bolivia",
          "female/South America/Bolivia",
          "female/South America/Belize",
          "female/Oceania/Tanzania",
          "male/South America/Yemen",
          "female/Africa/Cameroon",
          "male/North America/Bhutan",
          "male/Europe/Afghanistan",
          "male/North America/Timor-Leste",
          "female/North America/Zimbabwe",
          "female/Oceania/Cameroon",
          "female/Africa/Zimbabwe",
          "male/Africa/Zambia",
          "female/South America",
          "male/Oceania",
          "female/Europe/Thailand",
          "female/South America/Cameroon",
          "male/Europe/Thailand",
          "male/Asia/Chile",
          "female/Europe/Timor-Leste",
          "female/Europe",
          "female/South America/Thailand",
          "male/Asia/Timor-Leste",
          "male/Africa/China",
          "male/Asia/China",
          "male/Europe/Cameroon",
          "female/Europe/Cameroon",
          "male/North America/Cameroon",
          "male/South America/The Democratic Republic of the Congo",
          "male/Africa/The Democratic Republic of the Congo",
          "female/Asia/Zambia",
          "male/South America/Tanzania",
          "female/Asia/The Democratic Republic of the Congo",
          "female/Africa/Thailand",
          "male/South America",
          "female/South America/Zambia",
          "female/Asia",
          "female/Europe/Zambia",
          "female/Asia/Timor-Leste",
          "male/Oceania/The Democratic Republic of the Congo",
          "male/Africa/Thailand",
          "female/Africa/The Democratic Republic of the Congo",
          "male/Africa",
          "female/Asia/Cameroon",
          "male/South America/Zimbabwe",
          "female/Oceania/Timor-Leste",
          "female/South America/China",
          "male/Asia/Nepal",
          "male/Oceania/Mauritania",
          "female/Oceania/Nepal",
          "female/South America/Nepal",
          "female/North America",
          "male/North America",
          "male/South America/Vanuatu",
          "female/South America/Mauritania",
          "female/Africa/Zambia",
          "male/Europe/Mauritania",
          "female/Oceania/United States",
          "male/Oceania/United States",
          "male/Oceania/Nigeria",
          "female/Oceania/Nigeria",
          "male/North America/Mali",
          "male/Europe/Nigeria",
          "male/Africa/Vanuatu",
          "female/Asia/Vanuatu",
          "female/Europe/Nigeria",
          "male/Asia/Nigeria",
          "male/Africa/Nigeria",
          "female/Oceania",
          "male/Oceania/Nicaragua",
          "female/Africa/Vietnam",
          "male/South America/Mali",
          "female",
          "female/Oceania/Nicaragua",
          "male/North America/Vanuatu",
          "male/Africa/Mauritania",
          "male/Asia/Mauritania",
          "female/Europe/Mauritania",
          "female/North America/Mauritania",
          "female/Africa/Mexico",
          "male/South America/Vietnam",
          "female/South America/Namibia",
          "male/Africa/Zimbabwe",
          "female/Asia/Myanmar (Burma)",
          "female/Oceania/Virgin Islands",
          "male/South America/Mozambique",
          "female/South America/Mozambique",
          "female/Oceania/Moldova",
          "female/South America/Moldova",
          "female/Asia/Mongolia",
          "male/Oceania/Zambia",
          "male/Asia/Mongolia",
          "female/North America/Zambia",
          "male/Europe/Zambia",
          "female/North America/Mozambique",
          "male/Europe/Yemen",
          "male/Europe/Mozambique",
          "male/Asia/Zambia",
          "female/Europe/Mozambique",
          "male/Asia/Mozambique",
          "male/Oceania/Mongolia",
          "male/North America/Yemen",
          "male/South America/Mongolia",
          "male/North America/Virgin Islands",
          "male/Africa/Nepal",
          "female/Asia/Zimbabwe",
          "female/North America/Moldova",
          "male/Oceania/Namibia",
          "male/Asia",
          "female/North America/Mexico",
          "female/Oceania/Mexico",
          "male/Oceania/Zimbabwe",
          "female/North America/Namibia",
          "female/Africa/Virgin Islands",
          "female/South America/Mexico",
          "female/Europe/Namibia",
          "male/Africa/Moldova",
          "female/Oceania/Zimbabwe",
          "male/Asia/Moldova",
          "male/North America/Zimbabwe",
          "female/Asia/Virgin Islands",
          "female/Asia/Namibia",
          "male/Europe/Zimbabwe",
          "male/Asia/Zimbabwe",
          "male/North America/Myanmar (Burma)",
          "female/North America/Myanmar (Burma)",
          "male/Europe/Myanmar (Burma)",
          "male/Europe/Moldova",
          "female/Europe/Myanmar (Burma)",
          "male/Oceania/Tanzania",
          "female/North America/Paraguay",
          "female/Europe/Pakistan",
          "female/Europe/South Sudan",
          "female/Asia/South Sudan",
          "female/Africa/South Sudan",
          "female/South America/South Africa",
          "male/Oceania/South Africa",
          "female/Oceania/South Africa",
          "female/North America/Timor-Leste",
          "female/North America/South Africa",
          "female/Europe/South Africa",
          "male/Asia/South Africa",
          "female/Asia/South Africa",
          "male/Africa/South Africa",
          "female/Africa/South Africa",
          "male/South America/Somalia",
          "female/South America/Somalia",
          "male/Oceania/Somalia",
          "female/North America/Mali",
          "male/South America/Timor-Leste",
          "female/North America/Somalia",
          "male/Europe/Somalia",
          "female/Africa/Togo",
          "female/Europe/Somalia",
          "male/Africa/Somalia",
          "female/Africa/Somalia",
          "female/Asia/Togo",
          "female/Oceania/Solomon Islands",
          "female/Asia/Solomon Islands",
          "male/Asia/Togo",
          "female/South America/Sierra Leone",
          "female/North America/South Sudan",
          "male/Oceania/Sierra Leone",
          "male/North America/South Sudan",
          "male/Oceania/South Sudan",
          "male/Europe/Tanzania",
          "female/Europe/Tanzania",
          "female/Asia/Thailand",
          "male/Asia/Thailand",
          "female/Asia/Tanzania",
          "female/Oceania/Tajikistan",
          "male/North America/Thailand",
          "female/Oceania/Thailand",
          "female/North America/Tajikistan",
          "male/Europe/Tajikistan",
          "female/Europe/Tajikistan",
          "male/Asia/Tajikistan",
          "male/Oceania/Thailand",
          "female/Africa/Tajikistan",
          "female/South America/Suriname",
          "male/Oceania/Suriname",
          "male/South America/Thailand",
          "female/Oceania/Suriname",
          "female/North America/Suriname",
          "female/North America/The Democratic Republic of the Congo",
          "male/Europe/Suriname",
          "male/Asia/Suriname",
          "female/Asia/Suriname",
          "female/South America/The Democratic Republic of the Congo",
          "male/Africa/Suriname",
          "female/Africa/Suriname",
          "female/Africa/Timor-Leste",
          "male/South America/South Sudan",
          "female/South America/South Sudan",
          "female/Oceania/South Sudan",
          "female/Asia/Sierra Leone",
          "female/Africa/Sierra Leone",
          "male/Asia/Senegal",
          "female/Africa/Ukraine",
          "male/North America/Paraguay",
          "male/Europe/Paraguay",
          "male/Africa/Ukraine",
          "female/Europe/Paraguay",
          "male/Asia/Ukraine",
          "male/Asia/Paraguay",
          "female/Asia/Paraguay",
          "male/Africa/Paraguay",
          "male/South America/Panama",
          "female/South America/Panama",
          "female/Oceania/Panama",
          "male/Europe/Ukraine",
          "female/North America/Ukraine",
          "female/Oceania/Ukraine",
          "female/North America/Panama",
          "female/Europe/Panama",
          "male/Asia/Panama",
          "female/Africa/Panama",
          "male/South America/Palestine",
          "female/Asia/United States",
          "male/Asia/United States",
          "male/North America/Palestine",
          "female/North America/Palestine",
          "male/Europe/Palestine",
          "male/Asia/Palestine",
          "female/North America/United States",
          "male/South America/Pakistan",
          "male/North America/Pakistan",
          "female/Oceania/Paraguay",
          "male/Oceania/Paraguay",
          "female/South America/Paraguay",
          "male/South America/Paraguay",
          "male/Oceania/Samoa",
          "female/Oceania/Samoa",
          "female/Europe/Samoa",
          "male/Asia/Samoa",
          "female/South America/Togo",
          "female/Africa/Samoa",
          "female/Oceania/Saint Vincent and the Grenadines",
          "male/North America/Saint Vincent and the Grenadines",
          "male/Asia/Saint Vincent and the Grenadines",
          "male/South America/Rwanda",
          "female/South America/Rwanda",
          "male/Oceania/Rwanda",
          "male/Europe/Turkey",
          "male/Europe/Puerto Rico",
          "female/Asia/Pakistan",
          "female/Europe/Puerto Rico",
          "female/South America/Philippines",
          "female/Oceania/Turkey",
          "female/Oceania/Philippines",
          "female/Europe/Philippines",
          "female/Asia/Uganda",
          "male/South America/Peru",
          "male/Asia/Uganda",
          "male/Europe/Uganda",
          "female/Oceania/Peru",
          "male/North America/Uganda",
          "male/Asia/Peru",
          "female/Asia/Peru",
          "female/Oceania/Uganda",
          "male/Africa/Peru",
          "male/Africa/Puerto Rico",
          "female/Oceania/Somalia",
          "female/Africa/Afghanistan",
          "male/Africa/Georgia",
          "female/Africa/Honduras",
          "female/Asia/Burkina Faso",
          "female/Europe/Burkina Faso",
          "male/Oceania/Haiti",
          "male/Oceania/Burkina Faso",
          "male/Europe/Haiti",
          "female/Europe/Haiti",
          "female/South America/Burkina Faso",
          "male/Asia/Haiti",
          "female/Asia/Haiti",
          "female/Africa/Burundi",
          "female/Europe/Burundi",
          "female/Africa/Haiti",
          "female/South America/Guatemala",
          "male/Europe/Burundi",
          "female/North America/Burundi",
          "male/North America/Burundi",
          "male/North America/Guatemala",
          "female/Oceania/Burundi",
          "female/South America/Burundi",
          "male/South America/Burundi",
          "male/Africa/Guatemala",
          "female/North America/Cambodia",
          "male/Oceania/Cambodia",
          "male/South America/Guam",
          "male/South America/Cambodia",
          "male/Africa/Cameroon",
          "male/Asia/Cameroon",
          "female/Africa/Chile",
          "male/Africa/Burkina Faso",
          "male/Africa/Chile",
          "male/South America/Brazil",
          "female/Oceania/Honduras",
          "female/Africa/Bolivia",
          "male/South America/Iraq",
          "female/South America/Iraq",
          "male/Africa/Bolivia",
          "female/Asia/Bolivia",
          "female/Oceania/Iraq",
          "male/North America/Iraq",
          "male/Asia/Bolivia",
          "male/Europe/Iraq",
          "male/North America/Bolivia",
          "male/Asia/Iraq",
          "female/Africa/Ecuador",
          "male/Africa/Iraq",
          "female/Africa/Iraq",
          "female/Oceania/Bolivia",
          "female/Africa/Brazil",
          "male/North America/Indonesia",
          "male/Europe/Indonesia",
          "female/Europe/Indonesia",
          "female/Asia/Indonesia",
          "male/Europe/Brazil",
          "male/North America/Brazil",
          "female/South America/India",
          "female/Oceania/India",
          "female/North America/India",
          "female/Oceania/Brazil",
          "male/Asia/India",
          "male/Oceania/Brazil",
          "female/South America/Honduras",
          "female/South America/Brazil",
          "male/Africa/Israel",
          "female/Asia/Chile",
          "female/North America/Chile",
          "male/Europe/Congo",
          "male/Oceania/Congo",
          "female/Africa/Georgia",
          "male/South America/Congo",
          "female/Asia/Costa Rica",
          "male/Asia/Costa Rica",
          "male/Europe/Costa Rica",
          "female/South America/Costa Rica",
          "male/Asia/Cote D'Ivoire",
          "male/Oceania/El Salvador",
          "female/Europe/Cote D'Ivoire",
          "female/Oceania/Cote D'Ivoire",
          "male/South America/Cote D'Ivoire",
          "female/Europe/El Salvador",
          "male/Africa/Dominican Republic",
          "female/Asia/Dominican Republic",
          "female/Europe/Dominican Republic",
          "male/South America/Egypt",
          "female/South America/Egypt",
          "male/Oceania/Egypt",
          "female/Oceania/Egypt",
          "male/North America/Egypt",
          "female/North America/Egypt",
          "male/Europe/Egypt",
          "female/Europe/Egypt",
          "female/Asia/Egypt",
          "female/North America/Dominican Republic",
          "male/South America/Ecuador",
          "female/Oceania/Dominican Republic",
          "female/Europe/Congo",
          "male/Europe/Chile",
          "male/Asia/Congo",
          "male/Europe/Georgia",
          "female/South America/Guam",
          "male/Oceania/Guam",
          "male/North America/Guam",
          "female/North America/Guam",
          "male/Oceania/Chile",
          "female/Asia/Guam",
          "male/Africa/Guam",
          "female/Africa/China",
          "female/Asia/China",
          "female/Europe/China",
          "male/Europe/China",
          "male/Oceania/Ghana",
          "male/North America/Ghana",
          "female/North America/China",
          "male/North America/China",
          "male/Oceania/China",
          "female/Europe/Ghana",
          "male/South America/China",
          "female/Africa/Colombia",
          "male/Africa/Colombia",
          "female/Asia/Colombia",
          "male/South America/Georgia",
          "male/Asia/Colombia",
          "male/Oceania/Georgia",
          "female/North America/Colombia",
          "male/North America/Colombia",
          "female/Oceania/Colombia",
          "male/Oceania/Colombia",
          "female/Asia/Congo",
          "female/Asia/Georgia",
          "male/South America/Bhutan",
          "female/Asia/Iraq",
          "male/Oceania/Bhutan",
          "female/Africa/Armenia",
          "female/South America/Lesotho",
          "male/Africa/Armenia",
          "female/Oceania/Lesotho",
          "female/North America/Lesotho",
          "female/Asia/Armenia",
          "male/Asia/Armenia",
          "female/Europe/Armenia",
          "male/Europe/Armenia",
          "female/Asia/Lesotho",
          "female/North America/Armenia",
          "male/North America/Armenia",
          "female/Oceania/Lebanon",
          "female/North America/Lebanon",
          "female/Africa/Liberia",
          "male/Europe/Lebanon",
          "male/Africa/Lebanon",
          "female/Africa/Lebanon",
          "female/Oceania/Armenia",
          "female/Oceania/Lao People's Democratic Republic",
          "male/Oceania/Armenia",
          "female/South America/Bhutan",
          "male/South America/Armenia",
          "male/Europe/Lao People's Democratic Republic",
          "female/Africa/Azerbaijan",
          "male/Asia/Lao People's Democratic Republic",
          "female/Asia/Lao People's Democratic Republic",
          "male/Africa/Azerbaijan",
          "male/South America/Kyrgyzstan",
          "female/Asia/Azerbaijan",
          "female/Europe/Lebanon",
          "male/South America/Albania",
          "female/South America/Albania",
          "female/Europe/Liberia",
          "male/Africa/Afghanistan",
          "male/Oceania/Malawi",
          "female/Asia/Afghanistan",
          "male/Asia/Afghanistan",
          "female/Oceania/Malawi",
          "female/Europe/Afghanistan",
          "female/North America/Malawi",
          "female/North America/Afghanistan",
          "male/North America/Afghanistan",
          "female/Europe/Malawi",
          "male/Asia/Malawi",
          "female/Asia/Malawi",
          "female/Oceania/Afghanistan",
          "male/Africa/Malawi",
          "male/Oceania/Afghanistan",
          "female/South America/Afghanistan",
          "male/South America/Afghanistan",
          "male/Oceania/Liberia",
          "female/South America/Liberia",
          "male/Oceania/Albania",
          "female/Oceania/Albania",
          "male/North America/Albania",
          "female/North America/Albania",
          "male/Asia/Azerbaijan",
          "male/Europe/Albania",
          "male/Asia/Albania",
          "female/Asia/Albania",
          "male/Africa/Albania",
          "female/Africa/Albania",
          "male/North America/Madagascar",
          "female/Oceania/Madagascar",
          "female/Europe/Albania",
          "female/Europe/Azerbaijan",
          "female/South America/Armenia",
          "male/Europe/Azerbaijan",
          "female/Africa/Kosovo",
          "male/South America/Kenya",
          "female/South America/Kenya",
          "female/Oceania/Kenya",
          "male/Oceania/Kyrgyzstan",
          "male/Asia/Belize",
          "female/Europe/Kenya",
          "female/Europe/Belize",
          "male/North America/Belize",
          "female/Oceania/Belize",
          "female/Asia/Kenya",
          "female/Africa/Kenya",
          "female/Africa/Benin",
          "female/Asia/Benin",
          "male/Asia/Benin",
          "female/Europe/Benin",
          "male/North America/Jordan",
          "male/Europe/Benin",
          "male/Europe/Jordan",
          "female/South America/Benin",
          "male/Africa/Jordan",
          "male/South America/Benin",
          "male/South America/Israel",
          "female/Africa/Bhutan",
          "male/Asia/Bhutan",
          "female/North America/Israel",
          "male/Europe/Bhutan",
          "male/South America/Azerbaijan",
          "female/Asia/Kosovo",
          "female/Asia/Ecuador",
          "male/Europe/Kyrgyzstan",
          "female/North America/Kosovo",
          "female/Oceania/Azerbaijan",
          "male/Oceania/Kosovo",
          "male/Oceania/Azerbaijan",
          "male/South America/Kosovo",
          "male/Europe/Kosovo",
          "female/North America/Azerbaijan",
          "male/Asia/Kyrgyzstan",
          "female/Oceania/Kyrgyzstan",
          "male/North America/Azerbaijan",
          "male/Asia/Kosovo",
          "male/Europe/Virgin Islands",
          "male/Oceania/Togo",
          "male/South America/United States",
          "male/South America/Uganda",
          "female/Oceania/Bhutan",
          "male/Africa/Timor-Leste",
          "male/Africa/United States",
          "female/Europe/Costa Rica",
          "female/Africa/United States",
          "male/North America/United States",
          "female/Oceania/Costa Rica",
          "female/South America/Ukraine",
          "male/Oceania/Ukraine",
          "male/Europe/Cambodia",
          "female/Africa",
          "female/Asia/Ukraine",
          "female/South America/Timor-Leste",
          "female/North America/Virgin Islands",
          "female/Africa/Dominican Republic",
          "female/Africa/Costa Rica",
          "female/Asia/Yemen",
          "female/North America/Bolivia",
          "female/Oceania/Cambodia",
          "male/North America/Turkey",
          "male/North America/Congo",
          "male/Asia/Brazil",
          "male/Oceania/Yemen",
          "female/South America/Yemen",
          "female/South America/Chile",
          "female/South America/Turkey",
          "female/Africa/Belize",
          "female/North America/Thailand",
          "male/Africa/Uganda",
          "female/Oceania/China",
          "male/Africa/Belize",
          "female/Oceania/Chile",
          "male/North America/Vietnam",
          "female/Europe/The Democratic Republic of the Congo",
          "female/North America/Vietnam",
          "female/South America/Tanzania",
          "female/Oceania/Burkina Faso",
          "male/Europe/Vietnam",
          "male/North America/Chile",
          "female/Oceania/Zambia",
          "male/North America/Tanzania",
          "male/North America/The Democratic Republic of the Congo",
          "female/Oceania/The Democratic Republic of the Congo",
          "male/Asia/Vietnam",
          "male/South America/Zambia",
          "male/Africa/Tanzania",
          "female/Europe/Brazil",
          "female/Africa/Tanzania",
          "female/South America/Tajikistan",
          "male/Asia/Turkey",
          "female/Oceania/Yemen",
          "female/Europe/Zimbabwe",
          "male/North America/Zambia",
          "male",
          "male/South America/Honduras",
          "female/Africa/Namibia",
          "female/South America/Kyrgyzstan",
          "female/Asia/Philippines",
          "male/Oceania/Myanmar (Burma)",
          "female/Oceania/Myanmar (Burma)",
          "female/North America/Philippines",
          "male/South America/Philippines",
          "female/Africa/Lao People's Democratic Republic",
          "male/Africa/Lao People's Democratic Republic",
          "male/Asia/Puerto Rico",
          "male/Asia/Guatemala",
          "female/North America/Puerto Rico",
          "male/North America/Puerto Rico",
          "female/Europe/Lao People's Democratic Republic",
          "male/North America/Peru",
          "female/Africa/Myanmar (Burma)",
          "female/North America/Lao People's Democratic Republic",
          "male/North America/Lao People's Democratic Republic",
          "male/Oceania/Lao People's Democratic Republic",
          "female/Asia/Rwanda",
          "female/Asia/Mozambique",
          "female/Africa/Mozambique",
          "male/South America/Lebanon",
          "female/Africa/Lesotho",
          "male/Asia/Rwanda",
          "female/North America/Rwanda",
          "male/North America/Mongolia",
          "male/North America/Rwanda",
          "female/Oceania/Rwanda",
          "female/Africa/Saint Vincent and the Grenadines",
          "male/South America/Puerto Rico",
          "female/Asia/Saint Vincent and the Grenadines",
          "male/North America/Kyrgyzstan",
          "male/Africa/Honduras",
          "female/North America/Jordan",
          "female/Asia/Jordan",
          "male/North America/Nigeria",
          "female/South America/Israel",
          "female/South America/Nigeria",
          "male/Oceania/Israel",
          "male/Europe/Israel",
          "female/Europe/Israel",
          "male/Europe/Nicaragua",
          "male/Europe/Pakistan",
          "female/North America/Pakistan",
          "female/Oceania/Pakistan",
          "female/South America/Pakistan",
          "female/Africa/Israel",
          "male/North America/Kosovo",
          "female/Africa/Palestine",
          "male/Oceania/Nepal",
          "female/North America/Iraq",
          "female/Oceania/Palestine",
          "female/South America/Palestine",
          "male/South America/Indonesia",
          "male/Europe/Panama",
          "female/South America/Indonesia",
          "female/North America/Indonesia",
          "female/Africa/Indonesia",
          "male/South America/India",
          "female/Europe/India",
          "male/Europe/Nepal",
          "male/North America/Honduras",
          "female/Europe/Nepal",
          "male/South America/Nepal",
          "female/Europe/Saint Vincent and the Grenadines",
          "male/Europe/Rwanda",
          "male/Europe/Saint Vincent and the Grenadines",
          "male/Europe/Sierra Leone",
          "female/North America/Sierra Leone",
          "male/North America/Sierra Leone",
          "female/Oceania/Sierra Leone",
          "female/Europe/Mali",
          "male/North America/Mexico",
          "male/Europe/Madagascar",
          "male/Africa/Solomon Islands",
          "female/South America/El Salvador",
          "female/Europe/Solomon Islands",
          "male/Europe/Solomon Islands",
          "female/Europe/Mexico",
          "female/North America/Solomon Islands",
          "male/Asia/Mexico",
          "male/North America/Solomon Islands",
          "male/Oceania/Solomon Islands",
          "female/Asia/Mexico",
          "female/South America/Solomon Islands",
          "male/South America/Solomon Islands",
          "female/North America/El Salvador",
          "male/North America/Mauritania",
          "female/Africa/Egypt",
          "male/Europe/Malawi",
          "female/South America/Ecuador",
          "male/North America/Malawi",
          "female/South America/Mali",
          "male/Oceania/Mali",
          "female/Europe/Sierra Leone",
          "male/Asia/Sierra Leone",
          "male/South America/Sierra Leone",
          "female/North America/Samoa",
          "female/North America/Saint Vincent and the Grenadines",
          "male/Oceania/Lesotho",
          "male/South America/Lesotho",
          "male/South America/Saint Vincent and the Grenadines",
          "male/South America/Ghana",
          "male/Asia/Liberia",
          "male/North America/Samoa",
          "male/Europe/Ghana",
          "male/Asia/Ghana",
          "female/Africa/Senegal",
          "male/Africa/Senegal",
          "male/Africa/Ghana",
          "male/South America/Liberia",
          "female/Oceania/Jordan",
          "male/South America/Mexico",
          "female/North America/Senegal",
          "female/Oceania/Georgia",
          "female/Africa/Moldova",
          "male/North America/Senegal",
          "female/Africa/Madagascar",
          "male/South America/Senegal",
          "female/South America/Madagascar",
          "male/Oceania/Mexico",
          "female/Europe/Nicaragua",
          "male/Europe",
          "male/Europe/Belize",
          "female/Asia/Mauritania",
          "male/Oceania/Madagascar",
          "female/North America/Mongolia",
          "female/North America/Nicaragua",
          "female/Europe/Lesotho",
          "male/North America/Nicaragua",
          "female/South America/Nicaragua",
          "male/Africa/Mali",
          "male/South America/Moldova",
          "female/North America/Kenya",
          "male/South America/Namibia",
          "female/Africa/Nepal",
          "female/Europe/Mongolia",
          "female/Asia/Kyrgyzstan",
          "female/North America/Madagascar",
          "female/South America/Vietnam",
          "female/North America/Liberia",
          "male/Oceania/Vietnam",
          "female/Asia/Madagascar",
          "male/South America/Mauritania",
          "male/Africa/Namibia",
          "male/North America/Nepal",
          "female/Africa/Yemen",
          "female/Asia/Liberia",
          "male/Oceania/Moldova",
          "male/Africa/Lesotho",
          "male/North America/Kenya",
          "male/South America/Jordan",
          "female/South America/Zimbabwe",
          "male/South America/Virgin Islands",
          "female/Europe/Ecuador",
          "female/North America/Vanuatu",
          "female/South America/Senegal",
          "male/Oceania/Senegal",
          "female/Oceania/Senegal",
          "female/Europe/Senegal",
          "male/South America/Samoa",
          "male/Europe/Samoa",
          "female/North America/Ghana",
          "male/Africa/Samoa",
          "female/South America/Saint Vincent and the Grenadines",
          "male/South America/Chile",
          "male/Europe/Guam",
          "male/Asia/The Democratic Republic of the Congo",
          "male/Europe/The Democratic Republic of the Congo",
          "male/Africa/Saint Vincent and the Grenadines",
          "female/Europe/Chile",
          "male/Oceania/Tajikistan",
          "female/Oceania/Congo",
          "female/Africa/Solomon Islands",
          "male/Africa/Tajikistan",
          "female/North America/Ecuador",
          "female/South America/Dominican Republic",
          "male/South America/South Africa",
          "male/Oceania/Dominican Republic",
          "male/Africa/South Sudan",
          "male/North America/Dominican Republic",
          "male/Europe/South Sudan",
          "female/Europe/Rwanda",
          "male/Europe/Dominican Republic",
          "male/Asia/Somalia",
          "female/Asia/Somalia",
          "male/North America/Cote D'Ivoire",
          "female/Europe/Suriname",
          "male/Africa/Cote D'Ivoire",
          "male/North America/Suriname",
          "male/Asia/Solomon Islands",
          "female/Asia/El Salvador",
          "female/Africa/Nigeria",
          "male/South America/Cameroon",
          "male/Oceania/Cameroon",
          "male/Europe/Honduras",
          "male/North America/South Africa",
          "female/North America/Brazil",
          "female/Africa/Paraguay",
          "male/Africa/Panama",
          "female/Europe/Palestine",
          "male/North America/Ukraine",
          "male/Oceania/Iraq",
          "male/Oceania/Pakistan",
          "female/Europe/United States",
          "female/Asia/Israel",
          "male/Asia/Pakistan",
          "female/Africa/Vanuatu",
          "male/Oceania/Benin",
          "female/Europe/Vanuatu",
          "male/Asia/Honduras",
          "female/Africa/Uganda",
          "female/Europe/Peru",
          "female/South America/Haiti",
          "female/North America/Cameroon",
          "male/Oceania/Timor-Leste",
          "male/Africa/Rwanda",
          "female/Africa/Rwanda",
          "female/Africa/Guatemala",
          "female/Oceania/Puerto Rico",
          "male/Europe/Guatemala",
          "male/Europe/Timor-Leste",
          "female/Africa/Puerto Rico",
          "male/Oceania/Guatemala",
          "male/Africa/Turkey",
          "male/Africa/Haiti",
          "male/Africa/Philippines",
          "female/South America/Peru",
          "female/North America/Haiti",
          "female/North America/Peru",
          "female/Oceania/Guatemala",
          "male/Asia/Mali"
         ],
         "labels": [
          "Mauritania",
          "Guatemala",
          "Puerto Rico",
          "Puerto Rico",
          "Guam",
          "Guam",
          "Guam",
          "Saint Vincent and the Grenadines",
          "Guam",
          "Ghana",
          "Samoa",
          "Ghana",
          "Samoa",
          "Ghana",
          "Senegal",
          "Ghana",
          "Georgia",
          "Senegal",
          "Georgia",
          "Georgia",
          "Guatemala",
          "Sierra Leone",
          "Puerto Rico",
          "Philippines",
          "India",
          "India",
          "India",
          "India",
          "Honduras",
          "Honduras",
          "Peru",
          "Honduras",
          "Honduras",
          "Haiti",
          "Peru",
          "Haiti",
          "Haiti",
          "Peru",
          "Philippines",
          "Philippines",
          "Philippines",
          "Philippines",
          "Guatemala",
          "Guatemala",
          "India",
          "Georgia",
          "El Salvador",
          "Cote D'Ivoire",
          "Cote D'Ivoire",
          "Costa Rica",
          "Costa Rica",
          "Costa Rica",
          "Costa Rica",
          "Suriname",
          "Costa Rica",
          "Tajikistan",
          "Congo",
          "Congo",
          "Tajikistan",
          "Tajikistan",
          "Congo",
          "Congo",
          "Colombia",
          "Colombia",
          "Tanzania",
          "Tanzania",
          "Cote D'Ivoire",
          "Georgia",
          "Cote D'Ivoire",
          "Cote D'Ivoire",
          "El Salvador",
          "El Salvador",
          "El Salvador",
          "El Salvador",
          "El Salvador",
          "El Salvador",
          "Somalia",
          "Egypt",
          "Egypt",
          "Ecuador",
          "Ecuador",
          "Ecuador",
          "South Africa",
          "Ecuador",
          "Ecuador",
          "Ecuador",
          "Dominican Republic",
          "South Sudan",
          "Dominican Republic",
          "Cote D'Ivoire",
          "Colombia",
          "India",
          "Indonesia",
          "Lesotho",
          "Mongolia",
          "Lesotho",
          "Mongolia",
          "Mongolia",
          "Lebanon",
          "Lebanon",
          "Mozambique",
          "Lebanon",
          "Lebanon",
          "Lebanon",
          "Mozambique",
          "Lao People's Democratic Republic",
          "Lao People's Democratic Republic",
          "Mozambique",
          "Mozambique",
          "Myanmar (Burma)",
          "Myanmar (Burma)",
          "Myanmar (Burma)",
          "Lesotho",
          "Myanmar (Burma)",
          "Mongolia",
          "Liberia",
          "Mali",
          "Mali",
          "Malawi",
          "Malawi",
          "Mali",
          "Mauritania",
          "Malawi",
          "Madagascar",
          "Mexico",
          "Mexico",
          "Madagascar",
          "Madagascar",
          "Madagascar",
          "Moldova",
          "Liberia",
          "Liberia",
          "Moldova",
          "Liberia",
          "Moldova",
          "Mongolia",
          "Indonesia",
          "Namibia",
          "Kyrgyzstan",
          "Jordan",
          "Jordan",
          "Nigeria",
          "Jordan",
          "Nigeria",
          "Israel",
          "Israel",
          "Pakistan",
          "Pakistan",
          "Israel",
          "Palestine",
          "Palestine",
          "Palestine",
          "Iraq",
          "Panama",
          "Indonesia",
          "Indonesia",
          "Panama",
          "Panama",
          "Nigeria",
          "Kyrgyzstan",
          "Jordan",
          "Nicaragua",
          "Namibia",
          "Kyrgyzstan",
          "Kyrgyzstan",
          "Namibia",
          "Kosovo",
          "Namibia",
          "Kosovo",
          "Kosovo",
          "Nepal",
          "Kosovo",
          "Nepal",
          "Kenya",
          "Nicaragua",
          "Nicaragua",
          "Nicaragua",
          "Kenya",
          "Nicaragua",
          "Kenya",
          "Kenya",
          "Jordan",
          "Colombia",
          "Mali",
          "Cambodia",
          "Togo",
          "Turkey",
          "Burundi",
          "Burundi",
          "Burundi",
          "Turkey",
          "Burkina Faso",
          "Virgin Islands",
          "Virgin Islands",
          "Turkey",
          "Turkey",
          "Virgin Islands",
          "Burkina Faso",
          "Burkina Faso",
          "Burkina Faso",
          "Azerbaijan",
          "Virgin Islands",
          "Burkina Faso",
          "Togo",
          "Burundi",
          "Cambodia",
          "Togo",
          "Cambodia",
          "Yemen",
          "Yemen",
          "Yemen",
          "Togo",
          "Togo",
          "Cambodia",
          "Cambodia",
          "Cambodia",
          "Yemen",
          "Bhutan",
          "Togo",
          "Virgin Islands",
          "Togo",
          "Cambodia",
          "Turkey",
          "Turkey",
          "Burkina Faso",
          "Vanuatu",
          "Vanuatu",
          "Ukraine",
          "Vanuatu",
          "Bolivia",
          "Bolivia",
          "Benin",
          "Benin",
          "Benin",
          "Vanuatu",
          "Ukraine",
          "United States",
          "Bhutan",
          "Bhutan",
          "United States",
          "Bhutan",
          "Benin",
          "Vanuatu",
          "Belize",
          "Bolivia",
          "Vietnam",
          "Belize",
          "Vietnam",
          "Uganda",
          "Vietnam",
          "Vietnam",
          "Uganda",
          "Belize",
          "Uganda",
          "Uganda",
          "Brazil",
          "Brazil",
          "Belize",
          "Bolivia",
          "Bolivia",
          "Belize",
          "Tanzania",
          "Yemen",
          "Cameroon",
          "Bhutan",
          "Afghanistan",
          "Timor-Leste",
          "Zimbabwe",
          "Cameroon",
          "Zimbabwe",
          "Zambia",
          "South America",
          "Oceania",
          "Thailand",
          "Cameroon",
          "Thailand",
          "Chile",
          "Timor-Leste",
          "Europe",
          "Thailand",
          "Timor-Leste",
          "China",
          "China",
          "Cameroon",
          "Cameroon",
          "Cameroon",
          "The Democratic Republic of the Congo",
          "The Democratic Republic of the Congo",
          "Zambia",
          "Tanzania",
          "The Democratic Republic of the Congo",
          "Thailand",
          "South America",
          "Zambia",
          "Asia",
          "Zambia",
          "Timor-Leste",
          "The Democratic Republic of the Congo",
          "Thailand",
          "The Democratic Republic of the Congo",
          "Africa",
          "Cameroon",
          "Zimbabwe",
          "Timor-Leste",
          "China",
          "Nepal",
          "Mauritania",
          "Nepal",
          "Nepal",
          "North America",
          "North America",
          "Vanuatu",
          "Mauritania",
          "Zambia",
          "Mauritania",
          "United States",
          "United States",
          "Nigeria",
          "Nigeria",
          "Mali",
          "Nigeria",
          "Vanuatu",
          "Vanuatu",
          "Nigeria",
          "Nigeria",
          "Nigeria",
          "Oceania",
          "Nicaragua",
          "Vietnam",
          "Mali",
          "female",
          "Nicaragua",
          "Vanuatu",
          "Mauritania",
          "Mauritania",
          "Mauritania",
          "Mauritania",
          "Mexico",
          "Vietnam",
          "Namibia",
          "Zimbabwe",
          "Myanmar (Burma)",
          "Virgin Islands",
          "Mozambique",
          "Mozambique",
          "Moldova",
          "Moldova",
          "Mongolia",
          "Zambia",
          "Mongolia",
          "Zambia",
          "Zambia",
          "Mozambique",
          "Yemen",
          "Mozambique",
          "Zambia",
          "Mozambique",
          "Mozambique",
          "Mongolia",
          "Yemen",
          "Mongolia",
          "Virgin Islands",
          "Nepal",
          "Zimbabwe",
          "Moldova",
          "Namibia",
          "Asia",
          "Mexico",
          "Mexico",
          "Zimbabwe",
          "Namibia",
          "Virgin Islands",
          "Mexico",
          "Namibia",
          "Moldova",
          "Zimbabwe",
          "Moldova",
          "Zimbabwe",
          "Virgin Islands",
          "Namibia",
          "Zimbabwe",
          "Zimbabwe",
          "Myanmar (Burma)",
          "Myanmar (Burma)",
          "Myanmar (Burma)",
          "Moldova",
          "Myanmar (Burma)",
          "Tanzania",
          "Paraguay",
          "Pakistan",
          "South Sudan",
          "South Sudan",
          "South Sudan",
          "South Africa",
          "South Africa",
          "South Africa",
          "Timor-Leste",
          "South Africa",
          "South Africa",
          "South Africa",
          "South Africa",
          "South Africa",
          "South Africa",
          "Somalia",
          "Somalia",
          "Somalia",
          "Mali",
          "Timor-Leste",
          "Somalia",
          "Somalia",
          "Togo",
          "Somalia",
          "Somalia",
          "Somalia",
          "Togo",
          "Solomon Islands",
          "Solomon Islands",
          "Togo",
          "Sierra Leone",
          "South Sudan",
          "Sierra Leone",
          "South Sudan",
          "South Sudan",
          "Tanzania",
          "Tanzania",
          "Thailand",
          "Thailand",
          "Tanzania",
          "Tajikistan",
          "Thailand",
          "Thailand",
          "Tajikistan",
          "Tajikistan",
          "Tajikistan",
          "Tajikistan",
          "Thailand",
          "Tajikistan",
          "Suriname",
          "Suriname",
          "Thailand",
          "Suriname",
          "Suriname",
          "The Democratic Republic of the Congo",
          "Suriname",
          "Suriname",
          "Suriname",
          "The Democratic Republic of the Congo",
          "Suriname",
          "Suriname",
          "Timor-Leste",
          "South Sudan",
          "South Sudan",
          "South Sudan",
          "Sierra Leone",
          "Sierra Leone",
          "Senegal",
          "Ukraine",
          "Paraguay",
          "Paraguay",
          "Ukraine",
          "Paraguay",
          "Ukraine",
          "Paraguay",
          "Paraguay",
          "Paraguay",
          "Panama",
          "Panama",
          "Panama",
          "Ukraine",
          "Ukraine",
          "Ukraine",
          "Panama",
          "Panama",
          "Panama",
          "Panama",
          "Palestine",
          "United States",
          "United States",
          "Palestine",
          "Palestine",
          "Palestine",
          "Palestine",
          "United States",
          "Pakistan",
          "Pakistan",
          "Paraguay",
          "Paraguay",
          "Paraguay",
          "Paraguay",
          "Samoa",
          "Samoa",
          "Samoa",
          "Samoa",
          "Togo",
          "Samoa",
          "Saint Vincent and the Grenadines",
          "Saint Vincent and the Grenadines",
          "Saint Vincent and the Grenadines",
          "Rwanda",
          "Rwanda",
          "Rwanda",
          "Turkey",
          "Puerto Rico",
          "Pakistan",
          "Puerto Rico",
          "Philippines",
          "Turkey",
          "Philippines",
          "Philippines",
          "Uganda",
          "Peru",
          "Uganda",
          "Uganda",
          "Peru",
          "Uganda",
          "Peru",
          "Peru",
          "Uganda",
          "Peru",
          "Puerto Rico",
          "Somalia",
          "Afghanistan",
          "Georgia",
          "Honduras",
          "Burkina Faso",
          "Burkina Faso",
          "Haiti",
          "Burkina Faso",
          "Haiti",
          "Haiti",
          "Burkina Faso",
          "Haiti",
          "Haiti",
          "Burundi",
          "Burundi",
          "Haiti",
          "Guatemala",
          "Burundi",
          "Burundi",
          "Burundi",
          "Guatemala",
          "Burundi",
          "Burundi",
          "Burundi",
          "Guatemala",
          "Cambodia",
          "Cambodia",
          "Guam",
          "Cambodia",
          "Cameroon",
          "Cameroon",
          "Chile",
          "Burkina Faso",
          "Chile",
          "Brazil",
          "Honduras",
          "Bolivia",
          "Iraq",
          "Iraq",
          "Bolivia",
          "Bolivia",
          "Iraq",
          "Iraq",
          "Bolivia",
          "Iraq",
          "Bolivia",
          "Iraq",
          "Ecuador",
          "Iraq",
          "Iraq",
          "Bolivia",
          "Brazil",
          "Indonesia",
          "Indonesia",
          "Indonesia",
          "Indonesia",
          "Brazil",
          "Brazil",
          "India",
          "India",
          "India",
          "Brazil",
          "India",
          "Brazil",
          "Honduras",
          "Brazil",
          "Israel",
          "Chile",
          "Chile",
          "Congo",
          "Congo",
          "Georgia",
          "Congo",
          "Costa Rica",
          "Costa Rica",
          "Costa Rica",
          "Costa Rica",
          "Cote D'Ivoire",
          "El Salvador",
          "Cote D'Ivoire",
          "Cote D'Ivoire",
          "Cote D'Ivoire",
          "El Salvador",
          "Dominican Republic",
          "Dominican Republic",
          "Dominican Republic",
          "Egypt",
          "Egypt",
          "Egypt",
          "Egypt",
          "Egypt",
          "Egypt",
          "Egypt",
          "Egypt",
          "Egypt",
          "Dominican Republic",
          "Ecuador",
          "Dominican Republic",
          "Congo",
          "Chile",
          "Congo",
          "Georgia",
          "Guam",
          "Guam",
          "Guam",
          "Guam",
          "Chile",
          "Guam",
          "Guam",
          "China",
          "China",
          "China",
          "China",
          "Ghana",
          "Ghana",
          "China",
          "China",
          "China",
          "Ghana",
          "China",
          "Colombia",
          "Colombia",
          "Colombia",
          "Georgia",
          "Colombia",
          "Georgia",
          "Colombia",
          "Colombia",
          "Colombia",
          "Colombia",
          "Congo",
          "Georgia",
          "Bhutan",
          "Iraq",
          "Bhutan",
          "Armenia",
          "Lesotho",
          "Armenia",
          "Lesotho",
          "Lesotho",
          "Armenia",
          "Armenia",
          "Armenia",
          "Armenia",
          "Lesotho",
          "Armenia",
          "Armenia",
          "Lebanon",
          "Lebanon",
          "Liberia",
          "Lebanon",
          "Lebanon",
          "Lebanon",
          "Armenia",
          "Lao People's Democratic Republic",
          "Armenia",
          "Bhutan",
          "Armenia",
          "Lao People's Democratic Republic",
          "Azerbaijan",
          "Lao People's Democratic Republic",
          "Lao People's Democratic Republic",
          "Azerbaijan",
          "Kyrgyzstan",
          "Azerbaijan",
          "Lebanon",
          "Albania",
          "Albania",
          "Liberia",
          "Afghanistan",
          "Malawi",
          "Afghanistan",
          "Afghanistan",
          "Malawi",
          "Afghanistan",
          "Malawi",
          "Afghanistan",
          "Afghanistan",
          "Malawi",
          "Malawi",
          "Malawi",
          "Afghanistan",
          "Malawi",
          "Afghanistan",
          "Afghanistan",
          "Afghanistan",
          "Liberia",
          "Liberia",
          "Albania",
          "Albania",
          "Albania",
          "Albania",
          "Azerbaijan",
          "Albania",
          "Albania",
          "Albania",
          "Albania",
          "Albania",
          "Madagascar",
          "Madagascar",
          "Albania",
          "Azerbaijan",
          "Armenia",
          "Azerbaijan",
          "Kosovo",
          "Kenya",
          "Kenya",
          "Kenya",
          "Kyrgyzstan",
          "Belize",
          "Kenya",
          "Belize",
          "Belize",
          "Belize",
          "Kenya",
          "Kenya",
          "Benin",
          "Benin",
          "Benin",
          "Benin",
          "Jordan",
          "Benin",
          "Jordan",
          "Benin",
          "Jordan",
          "Benin",
          "Israel",
          "Bhutan",
          "Bhutan",
          "Israel",
          "Bhutan",
          "Azerbaijan",
          "Kosovo",
          "Ecuador",
          "Kyrgyzstan",
          "Kosovo",
          "Azerbaijan",
          "Kosovo",
          "Azerbaijan",
          "Kosovo",
          "Kosovo",
          "Azerbaijan",
          "Kyrgyzstan",
          "Kyrgyzstan",
          "Azerbaijan",
          "Kosovo",
          "Virgin Islands",
          "Togo",
          "United States",
          "Uganda",
          "Bhutan",
          "Timor-Leste",
          "United States",
          "Costa Rica",
          "United States",
          "United States",
          "Costa Rica",
          "Ukraine",
          "Ukraine",
          "Cambodia",
          "Africa",
          "Ukraine",
          "Timor-Leste",
          "Virgin Islands",
          "Dominican Republic",
          "Costa Rica",
          "Yemen",
          "Bolivia",
          "Cambodia",
          "Turkey",
          "Congo",
          "Brazil",
          "Yemen",
          "Yemen",
          "Chile",
          "Turkey",
          "Belize",
          "Thailand",
          "Uganda",
          "China",
          "Belize",
          "Chile",
          "Vietnam",
          "The Democratic Republic of the Congo",
          "Vietnam",
          "Tanzania",
          "Burkina Faso",
          "Vietnam",
          "Chile",
          "Zambia",
          "Tanzania",
          "The Democratic Republic of the Congo",
          "The Democratic Republic of the Congo",
          "Vietnam",
          "Zambia",
          "Tanzania",
          "Brazil",
          "Tanzania",
          "Tajikistan",
          "Turkey",
          "Yemen",
          "Zimbabwe",
          "Zambia",
          "male",
          "Honduras",
          "Namibia",
          "Kyrgyzstan",
          "Philippines",
          "Myanmar (Burma)",
          "Myanmar (Burma)",
          "Philippines",
          "Philippines",
          "Lao People's Democratic Republic",
          "Lao People's Democratic Republic",
          "Puerto Rico",
          "Guatemala",
          "Puerto Rico",
          "Puerto Rico",
          "Lao People's Democratic Republic",
          "Peru",
          "Myanmar (Burma)",
          "Lao People's Democratic Republic",
          "Lao People's Democratic Republic",
          "Lao People's Democratic Republic",
          "Rwanda",
          "Mozambique",
          "Mozambique",
          "Lebanon",
          "Lesotho",
          "Rwanda",
          "Rwanda",
          "Mongolia",
          "Rwanda",
          "Rwanda",
          "Saint Vincent and the Grenadines",
          "Puerto Rico",
          "Saint Vincent and the Grenadines",
          "Kyrgyzstan",
          "Honduras",
          "Jordan",
          "Jordan",
          "Nigeria",
          "Israel",
          "Nigeria",
          "Israel",
          "Israel",
          "Israel",
          "Nicaragua",
          "Pakistan",
          "Pakistan",
          "Pakistan",
          "Pakistan",
          "Israel",
          "Kosovo",
          "Palestine",
          "Nepal",
          "Iraq",
          "Palestine",
          "Palestine",
          "Indonesia",
          "Panama",
          "Indonesia",
          "Indonesia",
          "Indonesia",
          "India",
          "India",
          "Nepal",
          "Honduras",
          "Nepal",
          "Nepal",
          "Saint Vincent and the Grenadines",
          "Rwanda",
          "Saint Vincent and the Grenadines",
          "Sierra Leone",
          "Sierra Leone",
          "Sierra Leone",
          "Sierra Leone",
          "Mali",
          "Mexico",
          "Madagascar",
          "Solomon Islands",
          "El Salvador",
          "Solomon Islands",
          "Solomon Islands",
          "Mexico",
          "Solomon Islands",
          "Mexico",
          "Solomon Islands",
          "Solomon Islands",
          "Mexico",
          "Solomon Islands",
          "Solomon Islands",
          "El Salvador",
          "Mauritania",
          "Egypt",
          "Malawi",
          "Ecuador",
          "Malawi",
          "Mali",
          "Mali",
          "Sierra Leone",
          "Sierra Leone",
          "Sierra Leone",
          "Samoa",
          "Saint Vincent and the Grenadines",
          "Lesotho",
          "Lesotho",
          "Saint Vincent and the Grenadines",
          "Ghana",
          "Liberia",
          "Samoa",
          "Ghana",
          "Ghana",
          "Senegal",
          "Senegal",
          "Ghana",
          "Liberia",
          "Jordan",
          "Mexico",
          "Senegal",
          "Georgia",
          "Moldova",
          "Senegal",
          "Madagascar",
          "Senegal",
          "Madagascar",
          "Mexico",
          "Nicaragua",
          "Europe",
          "Belize",
          "Mauritania",
          "Madagascar",
          "Mongolia",
          "Nicaragua",
          "Lesotho",
          "Nicaragua",
          "Nicaragua",
          "Mali",
          "Moldova",
          "Kenya",
          "Namibia",
          "Nepal",
          "Mongolia",
          "Kyrgyzstan",
          "Madagascar",
          "Vietnam",
          "Liberia",
          "Vietnam",
          "Madagascar",
          "Mauritania",
          "Namibia",
          "Nepal",
          "Yemen",
          "Liberia",
          "Moldova",
          "Lesotho",
          "Kenya",
          "Jordan",
          "Zimbabwe",
          "Virgin Islands",
          "Ecuador",
          "Vanuatu",
          "Senegal",
          "Senegal",
          "Senegal",
          "Senegal",
          "Samoa",
          "Samoa",
          "Ghana",
          "Samoa",
          "Saint Vincent and the Grenadines",
          "Chile",
          "Guam",
          "The Democratic Republic of the Congo",
          "The Democratic Republic of the Congo",
          "Saint Vincent and the Grenadines",
          "Chile",
          "Tajikistan",
          "Congo",
          "Solomon Islands",
          "Tajikistan",
          "Ecuador",
          "Dominican Republic",
          "South Africa",
          "Dominican Republic",
          "South Sudan",
          "Dominican Republic",
          "South Sudan",
          "Rwanda",
          "Dominican Republic",
          "Somalia",
          "Somalia",
          "Cote D'Ivoire",
          "Suriname",
          "Cote D'Ivoire",
          "Suriname",
          "Solomon Islands",
          "El Salvador",
          "Nigeria",
          "Cameroon",
          "Cameroon",
          "Honduras",
          "South Africa",
          "Brazil",
          "Paraguay",
          "Panama",
          "Palestine",
          "Ukraine",
          "Iraq",
          "Pakistan",
          "United States",
          "Israel",
          "Pakistan",
          "Vanuatu",
          "Benin",
          "Vanuatu",
          "Honduras",
          "Uganda",
          "Peru",
          "Haiti",
          "Cameroon",
          "Timor-Leste",
          "Rwanda",
          "Rwanda",
          "Guatemala",
          "Puerto Rico",
          "Guatemala",
          "Timor-Leste",
          "Puerto Rico",
          "Guatemala",
          "Turkey",
          "Haiti",
          "Philippines",
          "Peru",
          "Haiti",
          "Peru",
          "Guatemala",
          "Mali"
         ],
         "marker": {
          "colors": [
           "#636efa",
           "#636efa",
           "#636efa",
           "#636efa",
           "#EF553B",
           "#636efa",
           "#636efa",
           "#636efa",
           "#636efa",
           "#636efa",
           "#636efa",
           "#636efa",
           "#636efa",
           "#636efa",
           "#636efa",
           "#00cc96",
           "#636efa",
           "#636efa",
           "#636efa",
           "#636efa",
           "#636efa",
           "#00cc96",
           "#636efa",
           "#636efa",
           "#636efa",
           "#ab63fa",
           "#636efa",
           "#636efa",
           "#636efa",
           "#FFA15A",
           "#636efa",
           "#636efa",
           "#636efa",
           "#636efa",
           "#636efa",
           "#636efa",
           "#FFA15A",
           "#636efa",
           "#636efa",
           "#ab63fa",
           "#636efa",
           "#636efa",
           "#636efa",
           "#FFA15A",
           "#636efa",
           "#19d3f3",
           "#636efa",
           "#636efa",
           "#00cc96",
           "#636efa",
           "#636efa",
           "#FFA15A",
           "#FFA15A",
           "#FF6692",
           "#636efa",
           "#ab63fa",
           "#636efa",
           "#636efa",
           "#636efa",
           "#636efa",
           "#00cc96",
           "#00cc96",
           "#FF6692",
           "#FF6692",
           "#636efa",
           "#636efa",
           "#636efa",
           "#636efa",
           "#636efa",
           "#636efa",
           "#636efa",
           "#FFA15A",
           "#636efa",
           "#636efa",
           "#636efa",
           "#636efa",
           "#636efa",
           "#636efa",
           "#00cc96",
           "#636efa",
           "#636efa",
           "#636efa",
           "#636efa",
           "#636efa",
           "#636efa",
           "#636efa",
           "#636efa",
           "#636efa",
           "#636efa",
           "#636efa",
           "#636efa",
           "#636efa",
           "#ab63fa",
           "#636efa",
           "#636efa",
           "#636efa",
           "#636efa",
           "#636efa",
           "#636efa",
           "#636efa",
           "#00cc96",
           "#636efa",
           "#ab63fa",
           "#ab63fa",
           "#636efa",
           "#636efa",
           "#636efa",
           "#636efa",
           "#636efa",
           "#636efa",
           "#ab63fa",
           "#636efa",
           "#636efa",
           "#636efa",
           "#636efa",
           "#00cc96",
           "#636efa",
           "#00cc96",
           "#636efa",
           "#636efa",
           "#636efa",
           "#636efa",
           "#00cc96",
           "#636efa",
           "#636efa",
           "#636efa",
           "#636efa",
           "#636efa",
           "#00cc96",
           "#636efa",
           "#636efa",
           "#636efa",
           "#19d3f3",
           "#636efa",
           "#636efa",
           "#636efa",
           "#636efa",
           "#636efa",
           "#636efa",
           "#636efa",
           "#ab63fa",
           "#636efa",
           "#636efa",
           "#636efa",
           "#636efa",
           "#636efa",
           "#636efa",
           "#636efa",
           "#ab63fa",
           "#636efa",
           "#ab63fa",
           "#636efa",
           "#636efa",
           "#636efa",
           "#636efa",
           "#636efa",
           "#FFA15A",
           "#636efa",
           "#636efa",
           "#636efa",
           "#636efa",
           "#636efa",
           "#636efa",
           "#636efa",
           "#636efa",
           "#636efa",
           "#636efa",
           "#636efa",
           "#636efa",
           "#19d3f3",
           "#ab63fa",
           "#636efa",
           "#636efa",
           "#636efa",
           "#636efa",
           "#636efa",
           "#636efa",
           "#636efa",
           "#636efa",
           "#636efa",
           "#00cc96",
           "#636efa",
           "#636efa",
           "#636efa",
           "#636efa",
           "#636efa",
           "#636efa",
           "#636efa",
           "#636efa",
           "#00cc96",
           "#ab63fa",
           "#636efa",
           "#636efa",
           "#636efa",
           "#636efa",
           "#636efa",
           "#636efa",
           "#636efa",
           "#636efa",
           "#636efa",
           "#636efa",
           "#636efa",
           "#636efa",
           "#636efa",
           "#636efa",
           "#636efa",
           "#00cc96",
           "#636efa",
           "#636efa",
           "#636efa",
           "#ab63fa",
           "#636efa",
           "#636efa",
           "#636efa",
           "#ab63fa",
           "#636efa",
           "#636efa",
           "#636efa",
           "#636efa",
           "#636efa",
           "#636efa",
           "#ab63fa",
           "#636efa",
           "#636efa",
           "#00cc96",
           "#EF553B",
           "#EF553B",
           "#19d3f3",
           "#636efa",
           "#636efa",
           "#636efa",
           "#636efa",
           "#00cc96",
           "#636efa",
           "#636efa",
           "#636efa",
           "#636efa",
           "#636efa",
           "#ab63fa",
           "#636efa",
           "#636efa",
           "#636efa",
           "#636efa",
           "#636efa",
           "#636efa",
           "#636efa",
           "#636efa",
           "#636efa",
           "#636efa",
           "#ab63fa",
           "#636efa",
           "#636efa",
           "#FFA15A",
           "#636efa",
           "#636efa",
           "#636efa",
           "#636efa",
           "#636efa",
           "#FF6692",
           "#FF6692",
           "#636efa",
           "#636efa",
           "#636efa",
           "#00cc96",
           "#636efa",
           "#636efa",
           "#636efa",
           "#636efa",
           "#636efa",
           "#00cc96",
           "#00cc96",
           "#FF6692",
           "#EF553B",
           "#636efa",
           "#636efa",
           "#636efa",
           "#636efa",
           "#636efa",
           "#19d3f3",
           "#636efa",
           "#ab63fa",
           "#636efa",
           "#ab63fa",
           "#636efa",
           "#636efa",
           "#636efa",
           "#636efa",
           "#00cc96",
           "#636efa",
           "#636efa",
           "#636efa",
           "#636efa",
           "#FF6692",
           "#636efa",
           "#ab63fa",
           "#636efa",
           "#ab63fa",
           "#636efa",
           "#636efa",
           "#00cc96",
           "#00cc96",
           "#636efa",
           "#636efa",
           "#636efa",
           "#636efa",
           "#ab63fa",
           "#636efa",
           "#636efa",
           "#636efa",
           "#FFA15A",
           "#FFA15A",
           "#636efa",
           "#636efa",
           "#00cc96",
           "#636efa",
           "#636efa",
           "#636efa",
           "#636efa",
           "#636efa",
           "#636efa",
           "#636efa",
           "#636efa",
           "#636efa",
           "#636efa",
           "#636efa",
           "#00cc96",
           "#EF553B",
           "#636efa",
           "#636efa",
           "#636efa",
           "#B6E880",
           "#636efa",
           "#636efa",
           "#00cc96",
           "#636efa",
           "#636efa",
           "#636efa",
           "#636efa",
           "#636efa",
           "#636efa",
           "#00cc96",
           "#ab63fa",
           "#636efa",
           "#636efa",
           "#636efa",
           "#636efa",
           "#636efa",
           "#ab63fa",
           "#636efa",
           "#ab63fa",
           "#636efa",
           "#636efa",
           "#636efa",
           "#636efa",
           "#636efa",
           "#636efa",
           "#636efa",
           "#636efa",
           "#636efa",
           "#636efa",
           "#636efa",
           "#636efa",
           "#636efa",
           "#636efa",
           "#636efa",
           "#636efa",
           "#ab63fa",
           "#FFA15A",
           "#636efa",
           "#636efa",
           "#636efa",
           "#636efa",
           "#636efa",
           "#636efa",
           "#636efa",
           "#636efa",
           "#636efa",
           "#636efa",
           "#636efa",
           "#636efa",
           "#636efa",
           "#636efa",
           "#636efa",
           "#636efa",
           "#636efa",
           "#19d3f3",
           "#636efa",
           "#636efa",
           "#636efa",
           "#636efa",
           "#636efa",
           "#636efa",
           "#00cc96",
           "#636efa",
           "#636efa",
           "#636efa",
           "#636efa",
           "#636efa",
           "#636efa",
           "#636efa",
           "#636efa",
           "#00cc96",
           "#00cc96",
           "#636efa",
           "#636efa",
           "#636efa",
           "#636efa",
           "#636efa",
           "#636efa",
           "#636efa",
           "#00cc96",
           "#636efa",
           "#00cc96",
           "#00cc96",
           "#636efa",
           "#EF553B",
           "#636efa",
           "#636efa",
           "#636efa",
           "#636efa",
           "#636efa",
           "#636efa",
           "#636efa",
           "#636efa",
           "#636efa",
           "#ab63fa",
           "#ab63fa",
           "#636efa",
           "#636efa",
           "#636efa",
           "#636efa",
           "#636efa",
           "#636efa",
           "#636efa",
           "#ab63fa",
           "#636efa",
           "#636efa",
           "#FF6692",
           "#636efa",
           "#636efa",
           "#636efa",
           "#636efa",
           "#636efa",
           "#636efa",
           "#636efa",
           "#636efa",
           "#636efa",
           "#636efa",
           "#636efa",
           "#636efa",
           "#636efa",
           "#636efa",
           "#636efa",
           "#636efa",
           "#00cc96",
           "#636efa",
           "#636efa",
           "#636efa",
           "#636efa",
           "#636efa",
           "#636efa",
           "#636efa",
           "#636efa",
           "#636efa",
           "#636efa",
           "#636efa",
           "#636efa",
           "#636efa",
           "#19d3f3",
           "#636efa",
           "#636efa",
           "#FFA15A",
           "#636efa",
           "#636efa",
           "#636efa",
           "#636efa",
           "#636efa",
           "#636efa",
           "#636efa",
           "#636efa",
           "#636efa",
           "#ab63fa",
           "#FFA15A",
           "#636efa",
           "#636efa",
           "#636efa",
           "#636efa",
           "#FF6692",
           "#FF6692",
           "#EF553B",
           "#EF553B",
           "#636efa",
           "#636efa",
           "#636efa",
           "#636efa",
           "#636efa",
           "#FFA15A",
           "#636efa",
           "#636efa",
           "#636efa",
           "#636efa",
           "#636efa",
           "#636efa",
           "#ab63fa",
           "#636efa",
           "#636efa",
           "#636efa",
           "#636efa",
           "#636efa",
           "#636efa",
           "#FF6692",
           "#636efa",
           "#636efa",
           "#636efa",
           "#636efa",
           "#636efa",
           "#636efa",
           "#636efa",
           "#636efa",
           "#636efa",
           "#636efa",
           "#636efa",
           "#636efa",
           "#636efa",
           "#636efa",
           "#636efa",
           "#636efa",
           "#636efa",
           "#636efa",
           "#636efa",
           "#636efa",
           "#636efa",
           "#636efa",
           "#00cc96",
           "#636efa",
           "#636efa",
           "#636efa",
           "#636efa",
           "#636efa",
           "#636efa",
           "#FFA15A",
           "#636efa",
           "#636efa",
           "#636efa",
           "#636efa",
           "#636efa",
           "#636efa",
           "#636efa",
           "#636efa",
           "#00cc96",
           "#636efa",
           "#636efa",
           "#00cc96",
           "#636efa",
           "#FF6692",
           "#636efa",
           "#636efa",
           "#636efa",
           "#636efa",
           "#636efa",
           "#636efa",
           "#636efa",
           "#636efa",
           "#636efa",
           "#636efa",
           "#636efa",
           "#ab63fa",
           "#636efa",
           "#636efa",
           "#636efa",
           "#636efa",
           "#636efa",
           "#636efa",
           "#636efa",
           "#636efa",
           "#ab63fa",
           "#636efa",
           "#636efa",
           "#636efa",
           "#636efa",
           "#636efa",
           "#636efa",
           "#ab63fa",
           "#636efa",
           "#636efa",
           "#FF6692",
           "#636efa",
           "#636efa",
           "#636efa",
           "#636efa",
           "#636efa",
           "#636efa",
           "#636efa",
           "#636efa",
           "#636efa",
           "#636efa",
           "#636efa",
           "#636efa",
           "#636efa",
           "#636efa",
           "#636efa",
           "#636efa",
           "#636efa",
           "#636efa",
           "#636efa",
           "#636efa",
           "#636efa",
           "#636efa",
           "#636efa",
           "#636efa",
           "#636efa",
           "#636efa",
           "#636efa",
           "#636efa",
           "#636efa",
           "#FFA15A",
           "#FF6692",
           "#636efa",
           "#636efa",
           "#636efa",
           "#636efa",
           "#19d3f3",
           "#636efa",
           "#636efa",
           "#636efa",
           "#636efa",
           "#636efa",
           "#636efa",
           "#636efa",
           "#636efa",
           "#ab63fa",
           "#636efa",
           "#636efa",
           "#636efa",
           "#636efa",
           "#636efa",
           "#636efa",
           "#636efa",
           "#636efa",
           "#636efa",
           "#636efa",
           "#636efa",
           "#636efa",
           "#636efa",
           "#636efa",
           "#636efa",
           "#636efa",
           "#636efa",
           "#636efa",
           "#636efa",
           "#636efa",
           "#636efa",
           "#636efa",
           "#ab63fa",
           "#636efa",
           "#636efa",
           "#636efa",
           "#636efa",
           "#636efa",
           "#636efa",
           "#ab63fa",
           "#ab63fa",
           "#636efa",
           "#636efa",
           "#636efa",
           "#636efa",
           "#636efa",
           "#636efa",
           "#636efa",
           "#00cc96",
           "#636efa",
           "#636efa",
           "#636efa",
           "#636efa",
           "#636efa",
           "#636efa",
           "#636efa",
           "#636efa",
           "#636efa",
           "#636efa",
           "#ab63fa",
           "#ab63fa",
           "#636efa",
           "#636efa",
           "#ab63fa",
           "#636efa",
           "#636efa",
           "#636efa",
           "#636efa",
           "#636efa",
           "#636efa",
           "#ab63fa",
           "#636efa",
           "#636efa",
           "#636efa",
           "#636efa",
           "#636efa",
           "#636efa",
           "#636efa",
           "#636efa",
           "#636efa",
           "#636efa",
           "#00cc96",
           "#636efa",
           "#636efa",
           "#636efa",
           "#636efa",
           "#636efa",
           "#636efa",
           "#636efa",
           "#636efa",
           "#636efa",
           "#ab63fa",
           "#19d3f3",
           "#636efa",
           "#636efa",
           "#636efa",
           "#636efa",
           "#636efa",
           "#636efa",
           "#19d3f3",
           "#636efa",
           "#636efa",
           "#636efa",
           "#636efa",
           "#636efa",
           "#636efa",
           "#636efa",
           "#636efa",
           "#636efa",
           "#636efa",
           "#636efa",
           "#FFA15A",
           "#636efa",
           "#636efa",
           "#00cc96",
           "#00cc96",
           "#636efa",
           "#636efa",
           "#636efa",
           "#636efa",
           "#636efa",
           "#636efa",
           "#636efa",
           "#636efa",
           "#636efa",
           "#636efa",
           "#636efa",
           "#636efa",
           "#636efa",
           "#636efa",
           "#636efa",
           "#636efa",
           "#636efa",
           "#636efa",
           "#636efa",
           "#636efa",
           "#636efa",
           "#636efa",
           "#636efa",
           "#19d3f3",
           "#636efa",
           "#ab63fa",
           "#636efa",
           "#636efa",
           "#636efa",
           "#636efa",
           "#636efa",
           "#636efa",
           "#636efa",
           "#636efa",
           "#636efa",
           "#636efa",
           "#636efa",
           "#636efa",
           "#FFA15A",
           "#636efa",
           "#636efa",
           "#636efa",
           "#636efa",
           "#00cc96",
           "#636efa",
           "#636efa",
           "#FFA15A",
           "#636efa",
           "#636efa",
           "#ab63fa",
           "#636efa",
           "#636efa",
           "#636efa",
           "#636efa",
           "#636efa",
           "#636efa",
           "#636efa",
           "#FF6692",
           "#636efa",
           "#636efa",
           "#636efa",
           "#00cc96",
           "#636efa",
           "#636efa",
           "#636efa",
           "#636efa",
           "#636efa",
           "#636efa",
           "#636efa",
           "#636efa",
           "#636efa",
           "#636efa",
           "#636efa",
           "#636efa",
           "#636efa",
           "#636efa",
           "#ab63fa",
           "#636efa",
           "#00cc96",
           "#636efa",
           "#00cc96",
           "#636efa",
           "#636efa",
           "#636efa",
           "#636efa",
           "#636efa",
           "#B6E880",
           "#636efa",
           "#00cc96",
           "#636efa",
           "#ab63fa",
           "#636efa",
           "#636efa",
           "#636efa",
           "#636efa",
           "#636efa",
           "#636efa",
           "#636efa",
           "#636efa",
           "#FFA15A",
           "#FFA15A",
           "#636efa",
           "#636efa",
           "#636efa",
           "#636efa",
           "#636efa",
           "#636efa",
           "#636efa",
           "#636efa",
           "#00cc96",
           "#636efa",
           "#00cc96",
           "#636efa",
           "#636efa",
           "#636efa",
           "#636efa",
           "#636efa",
           "#636efa",
           "#636efa",
           "#636efa",
           "#636efa",
           "#636efa",
           "#636efa",
           "#ab63fa",
           "#636efa",
           "#636efa",
           "#636efa",
           "#636efa",
           "#636efa",
           "#636efa",
           "#636efa",
           "#636efa",
           "#636efa",
           "#636efa",
           "#636efa",
           "#636efa",
           "#636efa",
           "#636efa",
           "#636efa",
           "#636efa",
           "#636efa",
           "#636efa",
           "#636efa",
           "#636efa",
           "#636efa",
           "#636efa",
           "#636efa",
           "#636efa",
           "#636efa",
           "#636efa",
           "#FFA15A",
           "#636efa",
           "#636efa",
           "#636efa",
           "#636efa",
           "#636efa",
           "#636efa",
           "#636efa",
           "#636efa",
           "#636efa",
           "#636efa",
           "#FFA15A",
           "#636efa",
           "#636efa",
           "#636efa",
           "#636efa",
           "#636efa",
           "#636efa",
           "#636efa",
           "#636efa",
           "#636efa",
           "#636efa",
           "#636efa",
           "#636efa",
           "#636efa",
           "#FFA15A",
           "#636efa",
           "#00cc96",
           "#636efa",
           "#FF6692",
           "#636efa",
           "#636efa",
           "#636efa",
           "#636efa",
           "#636efa",
           "#636efa",
           "#636efa",
           "#FFA15A",
           "#636efa",
           "#636efa",
           "#636efa",
           "#636efa",
           "#636efa",
           "#636efa",
           "#636efa",
           "#636efa",
           "#00cc96",
           "#00cc96",
           "#00cc96",
           "#636efa",
           "#636efa",
           "#636efa",
           "#636efa",
           "#636efa",
           "#636efa",
           "#636efa",
           "#00cc96",
           "#636efa",
           "#636efa",
           "#636efa",
           "#636efa",
           "#19d3f3",
           "#636efa",
           "#636efa",
           "#636efa",
           "#636efa",
           "#FFA15A",
           "#636efa",
           "#FFA15A",
           "#636efa",
           "#00cc96",
           "#636efa",
           "#636efa",
           "#636efa",
           "#636efa",
           "#636efa",
           "#ab63fa",
           "#636efa",
           "#636efa",
           "#636efa",
           "#636efa",
           "#636efa",
           "#636efa",
           "#00cc96",
           "#636efa",
           "#636efa",
           "#636efa",
           "#636efa",
           "#00cc96",
           "#636efa",
           "#636efa",
           "#636efa",
           "#636efa",
           "#636efa",
           "#636efa",
           "#636efa",
           "#636efa",
           "#636efa",
           "#636efa",
           "#636efa",
           "#636efa",
           "#636efa",
           "#636efa",
           "#636efa",
           "#FF6692",
           "#636efa",
           "#636efa",
           "#636efa",
           "#636efa",
           "#636efa",
           "#636efa",
           "#636efa",
           "#636efa",
           "#636efa",
           "#636efa",
           "#636efa",
           "#636efa",
           "#636efa",
           "#00cc96",
           "#FFA15A",
           "#636efa",
           "#636efa",
           "#636efa",
           "#636efa",
           "#636efa",
           "#636efa",
           "#636efa",
           "#636efa",
           "#636efa",
           "#636efa",
           "#636efa",
           "#00cc96",
           "#636efa",
           "#636efa",
           "#636efa",
           "#636efa",
           "#636efa",
           "#636efa",
           "#636efa",
           "#636efa",
           "#636efa",
           "#636efa",
           "#636efa",
           "#636efa",
           "#ab63fa",
           "#ab63fa",
           "#636efa",
           "#636efa",
           "#636efa",
           "#636efa",
           "#00cc96",
           "#636efa",
           "#636efa",
           "#636efa",
           "#636efa",
           "#00cc96",
           "#00cc96",
           "#636efa",
           "#636efa",
           "#636efa",
           "#636efa",
           "#636efa",
           "#636efa",
           "#636efa",
           "#636efa",
           "#636efa",
           "#FF6692",
           "#FFA15A",
           "#636efa",
           "#636efa",
           "#636efa"
          ]
         },
         "name": "",
         "parents": [
          "female/Africa",
          "female/Asia",
          "male/Oceania",
          "female/South America",
          "female/Oceania",
          "female/Europe",
          "male/Asia",
          "male/Oceania",
          "female/Africa",
          "female/South America",
          "female/Asia",
          "female/Oceania",
          "female/South America",
          "female/Asia",
          "female/Asia",
          "female/Africa",
          "female/South America",
          "male/Europe",
          "male/North America",
          "female/North America",
          "female/Europe",
          "male/Africa",
          "female/Asia",
          "male/Oceania",
          "male/Europe",
          "female/Asia",
          "male/Africa",
          "female/Africa",
          "male/Oceania",
          "female/North America",
          "female/Africa",
          "female/Europe",
          "female/Asia",
          "male/South America",
          "male/Europe",
          "female/Oceania",
          "male/North America",
          "male/Oceania",
          "female/Africa",
          "male/Asia",
          "male/Europe",
          "male/North America",
          "male/South America",
          "female/North America",
          "male/North America",
          "female/Europe",
          "male/South America",
          "female/Asia",
          "female/Africa",
          "male/South America",
          "male/Oceania",
          "male/North America",
          "female/North America",
          "male/South America",
          "male/Africa",
          "female/Asia",
          "female/South America",
          "female/North America",
          "male/North America",
          "male/South America",
          "male/Africa",
          "female/Africa",
          "male/South America",
          "female/South America",
          "male/Asia",
          "female/North America",
          "male/Europe",
          "male/Asia",
          "female/North America",
          "female/South America",
          "female/Oceania",
          "male/North America",
          "male/Europe",
          "male/Asia",
          "male/Africa",
          "female/Africa",
          "male/North America",
          "male/Asia",
          "male/Africa",
          "male/Oceania",
          "female/Oceania",
          "male/North America",
          "male/Europe",
          "male/Europe",
          "male/Asia",
          "male/Africa",
          "male/South America",
          "male/Asia",
          "male/Asia",
          "male/Oceania",
          "male/Europe",
          "male/Oceania",
          "male/Asia",
          "male/Europe",
          "male/Europe",
          "male/Asia",
          "female/Oceania",
          "female/South America",
          "female/South America",
          "male/Oceania",
          "male/Africa",
          "male/North America",
          "male/Asia",
          "female/Asia",
          "male/North America",
          "male/South America",
          "female/South America",
          "female/Oceania",
          "male/Oceania",
          "male/Africa",
          "male/Asia",
          "female/South America",
          "male/North America",
          "male/South America",
          "male/Africa",
          "male/Africa",
          "female/Asia",
          "female/Africa",
          "male/South America",
          "female/South America",
          "female/Oceania",
          "female/Oceania",
          "female/Africa",
          "male/South America",
          "male/Africa",
          "male/Europe",
          "female/Europe",
          "male/Asia",
          "male/Africa",
          "female/Asia",
          "female/Oceania",
          "male/North America",
          "female/Europe",
          "male/Europe",
          "male/North America",
          "female/Africa",
          "male/Africa",
          "male/Asia",
          "female/Europe",
          "female/Europe",
          "male/Asia",
          "female/North America",
          "female/Africa",
          "male/South America",
          "female/Oceania",
          "male/North America",
          "female/Africa",
          "male/Africa",
          "male/Asia",
          "male/Africa",
          "female/Asia",
          "male/Oceania",
          "female/Europe",
          "female/Asia",
          "male/Oceania",
          "female/Oceania",
          "male/North America",
          "male/Oceania",
          "female/Asia",
          "female/North America",
          "male/Oceania",
          "male/South America",
          "male/Europe",
          "male/Africa",
          "female/Africa",
          "male/North America",
          "female/South America",
          "female/Oceania",
          "female/Oceania",
          "female/Europe",
          "female/Asia",
          "male/Africa",
          "female/North America",
          "male/Oceania",
          "female/Africa",
          "male/Africa",
          "female/Asia",
          "male/Europe",
          "male/Asia",
          "male/Asia",
          "male/Africa",
          "female/South America",
          "female/Europe",
          "male/Europe",
          "female/Africa",
          "male/South America",
          "female/Africa",
          "male/Asia",
          "female/Asia",
          "male/Africa",
          "female/Asia",
          "male/South America",
          "male/Oceania",
          "female/Europe",
          "female/Europe",
          "female/North America",
          "male/Africa",
          "male/North America",
          "female/North America",
          "male/Europe",
          "female/South America",
          "male/Asia",
          "male/Asia",
          "female/Oceania",
          "male/Oceania",
          "female/South America",
          "male/Africa",
          "male/North America",
          "female/North America",
          "female/Europe",
          "male/Asia",
          "female/Europe",
          "male/North America",
          "female/Europe",
          "female/Asia",
          "male/Africa",
          "male/Africa",
          "female/North America",
          "male/Europe",
          "female/South America",
          "female/North America",
          "male/Asia",
          "male/Oceania",
          "male/South America",
          "female/Africa",
          "male/Oceania",
          "female/Oceania",
          "female/Europe",
          "male/Europe",
          "male/Europe",
          "female/Europe",
          "female/North America",
          "male/Africa",
          "male/North America",
          "male/Asia",
          "male/South America",
          "female/South America",
          "male/Africa",
          "female/Asia",
          "male/Europe",
          "female/Europe",
          "female/Oceania",
          "female/South America",
          "male/South America",
          "male/Oceania",
          "female/Oceania",
          "female/Asia",
          "female/Europe",
          "female/Europe",
          "female/Asia",
          "male/Africa",
          "female/North America",
          "female/North America",
          "male/Oceania",
          "female/South America",
          "female/Asia",
          "male/Africa",
          "male/Oceania",
          "male/South America",
          "female/South America",
          "female/South America",
          "female/Oceania",
          "male/South America",
          "female/Africa",
          "male/North America",
          "male/Europe",
          "male/North America",
          "female/North America",
          "female/Oceania",
          "female/Africa",
          "male/Africa",
          "female",
          "male",
          "female/Europe",
          "female/South America",
          "male/Europe",
          "male/Asia",
          "female/Europe",
          "female",
          "female/South America",
          "male/Asia",
          "male/Africa",
          "male/Asia",
          "male/Europe",
          "female/Europe",
          "male/North America",
          "male/South America",
          "male/Africa",
          "female/Asia",
          "male/South America",
          "female/Asia",
          "female/Africa",
          "male",
          "female/South America",
          "female",
          "female/Europe",
          "female/Asia",
          "male/Oceania",
          "male/Africa",
          "female/Africa",
          "male",
          "female/Asia",
          "male/South America",
          "female/Oceania",
          "female/South America",
          "male/Asia",
          "male/Oceania",
          "female/Oceania",
          "female/South America",
          "female",
          "male",
          "male/South America",
          "female/South America",
          "female/Africa",
          "male/Europe",
          "female/Oceania",
          "male/Oceania",
          "male/Oceania",
          "female/Oceania",
          "male/North America",
          "male/Europe",
          "male/Africa",
          "female/Asia",
          "female/Europe",
          "male/Asia",
          "male/Africa",
          "female",
          "male/Oceania",
          "female/Africa",
          "male/South America",
          "",
          "female/Oceania",
          "male/North America",
          "male/Africa",
          "male/Asia",
          "female/Europe",
          "female/North America",
          "female/Africa",
          "male/South America",
          "female/South America",
          "male/Africa",
          "female/Asia",
          "female/Oceania",
          "male/South America",
          "female/South America",
          "female/Oceania",
          "female/South America",
          "female/Asia",
          "male/Oceania",
          "male/Asia",
          "female/North America",
          "male/Europe",
          "female/North America",
          "male/Europe",
          "male/Europe",
          "male/Asia",
          "female/Europe",
          "male/Asia",
          "male/Oceania",
          "male/North America",
          "male/South America",
          "male/North America",
          "male/Africa",
          "female/Asia",
          "female/North America",
          "male/Oceania",
          "male",
          "female/North America",
          "female/Oceania",
          "male/Oceania",
          "female/North America",
          "female/Africa",
          "female/South America",
          "female/Europe",
          "male/Africa",
          "female/Oceania",
          "male/Asia",
          "male/North America",
          "female/Asia",
          "female/Asia",
          "male/Europe",
          "male/Asia",
          "male/North America",
          "female/North America",
          "male/Europe",
          "male/Europe",
          "female/Europe",
          "male/Oceania",
          "female/North America",
          "female/Europe",
          "female/Europe",
          "female/Asia",
          "female/Africa",
          "female/South America",
          "male/Oceania",
          "female/Oceania",
          "female/North America",
          "female/North America",
          "female/Europe",
          "male/Asia",
          "female/Asia",
          "male/Africa",
          "female/Africa",
          "male/South America",
          "female/South America",
          "male/Oceania",
          "female/North America",
          "male/South America",
          "female/North America",
          "male/Europe",
          "female/Africa",
          "female/Europe",
          "male/Africa",
          "female/Africa",
          "female/Asia",
          "female/Oceania",
          "female/Asia",
          "male/Asia",
          "female/South America",
          "female/North America",
          "male/Oceania",
          "male/North America",
          "male/Oceania",
          "male/Europe",
          "female/Europe",
          "female/Asia",
          "male/Asia",
          "female/Asia",
          "female/Oceania",
          "male/North America",
          "female/Oceania",
          "female/North America",
          "male/Europe",
          "female/Europe",
          "male/Asia",
          "male/Oceania",
          "female/Africa",
          "female/South America",
          "male/Oceania",
          "male/South America",
          "female/Oceania",
          "female/North America",
          "female/North America",
          "male/Europe",
          "male/Asia",
          "female/Asia",
          "female/South America",
          "male/Africa",
          "female/Africa",
          "female/Africa",
          "male/South America",
          "female/South America",
          "female/Oceania",
          "female/Asia",
          "female/Africa",
          "male/Asia",
          "female/Africa",
          "male/North America",
          "male/Europe",
          "male/Africa",
          "female/Europe",
          "male/Asia",
          "male/Asia",
          "female/Asia",
          "male/Africa",
          "male/South America",
          "female/South America",
          "female/Oceania",
          "male/Europe",
          "female/North America",
          "female/Oceania",
          "female/North America",
          "female/Europe",
          "male/Asia",
          "female/Africa",
          "male/South America",
          "female/Asia",
          "male/Asia",
          "male/North America",
          "female/North America",
          "male/Europe",
          "male/Asia",
          "female/North America",
          "male/South America",
          "male/North America",
          "female/Oceania",
          "male/Oceania",
          "female/South America",
          "male/South America",
          "male/Oceania",
          "female/Oceania",
          "female/Europe",
          "male/Asia",
          "female/South America",
          "female/Africa",
          "female/Oceania",
          "male/North America",
          "male/Asia",
          "male/South America",
          "female/South America",
          "male/Oceania",
          "male/Europe",
          "male/Europe",
          "female/Asia",
          "female/Europe",
          "female/South America",
          "female/Oceania",
          "female/Oceania",
          "female/Europe",
          "female/Asia",
          "male/South America",
          "male/Asia",
          "male/Europe",
          "female/Oceania",
          "male/North America",
          "male/Asia",
          "female/Asia",
          "female/Oceania",
          "male/Africa",
          "male/Africa",
          "female/Oceania",
          "female/Africa",
          "male/Africa",
          "female/Africa",
          "female/Asia",
          "female/Europe",
          "male/Oceania",
          "male/Oceania",
          "male/Europe",
          "female/Europe",
          "female/South America",
          "male/Asia",
          "female/Asia",
          "female/Africa",
          "female/Europe",
          "female/Africa",
          "female/South America",
          "male/Europe",
          "female/North America",
          "male/North America",
          "male/North America",
          "female/Oceania",
          "female/South America",
          "male/South America",
          "male/Africa",
          "female/North America",
          "male/Oceania",
          "male/South America",
          "male/South America",
          "male/Africa",
          "male/Asia",
          "female/Africa",
          "male/Africa",
          "male/Africa",
          "male/South America",
          "female/Oceania",
          "female/Africa",
          "male/South America",
          "female/South America",
          "male/Africa",
          "female/Asia",
          "female/Oceania",
          "male/North America",
          "male/Asia",
          "male/Europe",
          "male/North America",
          "male/Asia",
          "female/Africa",
          "male/Africa",
          "female/Africa",
          "female/Oceania",
          "female/Africa",
          "male/North America",
          "male/Europe",
          "female/Europe",
          "female/Asia",
          "male/Europe",
          "male/North America",
          "female/South America",
          "female/Oceania",
          "female/North America",
          "female/Oceania",
          "male/Asia",
          "male/Oceania",
          "female/South America",
          "female/South America",
          "male/Africa",
          "female/Asia",
          "female/North America",
          "male/Europe",
          "male/Oceania",
          "female/Africa",
          "male/South America",
          "female/Asia",
          "male/Asia",
          "male/Europe",
          "female/South America",
          "male/Asia",
          "male/Oceania",
          "female/Europe",
          "female/Oceania",
          "male/South America",
          "female/Europe",
          "male/Africa",
          "female/Asia",
          "female/Europe",
          "male/South America",
          "female/South America",
          "male/Oceania",
          "female/Oceania",
          "male/North America",
          "female/North America",
          "male/Europe",
          "female/Europe",
          "female/Asia",
          "female/North America",
          "male/South America",
          "female/Oceania",
          "female/Europe",
          "male/Europe",
          "male/Asia",
          "male/Europe",
          "female/South America",
          "male/Oceania",
          "male/North America",
          "female/North America",
          "male/Oceania",
          "female/Asia",
          "male/Africa",
          "female/Africa",
          "female/Asia",
          "female/Europe",
          "male/Europe",
          "male/Oceania",
          "male/North America",
          "female/North America",
          "male/North America",
          "male/Oceania",
          "female/Europe",
          "male/South America",
          "female/Africa",
          "male/Africa",
          "female/Asia",
          "male/South America",
          "male/Asia",
          "male/Oceania",
          "female/North America",
          "male/North America",
          "female/Oceania",
          "male/Oceania",
          "female/Asia",
          "female/Asia",
          "male/South America",
          "female/Asia",
          "male/Oceania",
          "female/Africa",
          "female/South America",
          "male/Africa",
          "female/Oceania",
          "female/North America",
          "female/Asia",
          "male/Asia",
          "female/Europe",
          "male/Europe",
          "female/Asia",
          "female/North America",
          "male/North America",
          "female/Oceania",
          "female/North America",
          "female/Africa",
          "male/Europe",
          "male/Africa",
          "female/Africa",
          "female/Oceania",
          "female/Oceania",
          "male/Oceania",
          "female/South America",
          "male/South America",
          "male/Europe",
          "female/Africa",
          "male/Asia",
          "female/Asia",
          "male/Africa",
          "male/South America",
          "female/Asia",
          "female/Europe",
          "male/South America",
          "female/South America",
          "female/Europe",
          "male/Africa",
          "male/Oceania",
          "female/Asia",
          "male/Asia",
          "female/Oceania",
          "female/Europe",
          "female/North America",
          "female/North America",
          "male/North America",
          "female/Europe",
          "male/Asia",
          "female/Asia",
          "female/Oceania",
          "male/Africa",
          "male/Oceania",
          "female/South America",
          "male/South America",
          "male/Oceania",
          "female/South America",
          "male/Oceania",
          "female/Oceania",
          "male/North America",
          "female/North America",
          "male/Asia",
          "male/Europe",
          "male/Asia",
          "female/Asia",
          "male/Africa",
          "female/Africa",
          "male/North America",
          "female/Oceania",
          "female/Europe",
          "female/Europe",
          "female/South America",
          "male/Europe",
          "female/Africa",
          "male/South America",
          "female/South America",
          "female/Oceania",
          "male/Oceania",
          "male/Asia",
          "female/Europe",
          "female/Europe",
          "male/North America",
          "female/Oceania",
          "female/Asia",
          "female/Africa",
          "female/Africa",
          "female/Asia",
          "male/Asia",
          "female/Europe",
          "male/North America",
          "male/Europe",
          "male/Europe",
          "female/South America",
          "male/Africa",
          "male/South America",
          "male/South America",
          "female/Africa",
          "male/Asia",
          "female/North America",
          "male/Europe",
          "male/South America",
          "female/Asia",
          "female/Asia",
          "male/Europe",
          "female/North America",
          "female/Oceania",
          "male/Oceania",
          "male/Oceania",
          "male/South America",
          "male/Europe",
          "female/North America",
          "male/Asia",
          "female/Oceania",
          "male/North America",
          "male/Asia",
          "male/Europe",
          "male/Oceania",
          "male/South America",
          "male/South America",
          "female/Oceania",
          "male/Africa",
          "male/Africa",
          "female/Europe",
          "female/Africa",
          "male/North America",
          "female/Oceania",
          "female/South America",
          "male/Oceania",
          "male/Europe",
          "female",
          "female/Asia",
          "female/South America",
          "female/North America",
          "female/Africa",
          "female/Africa",
          "female/Asia",
          "female/North America",
          "female/Oceania",
          "male/North America",
          "male/North America",
          "male/Asia",
          "male/Oceania",
          "female/South America",
          "female/South America",
          "female/South America",
          "female/Africa",
          "female/North America",
          "male/Africa",
          "female/Oceania",
          "male/Africa",
          "female/Oceania",
          "male/North America",
          "female/Europe",
          "female/North America",
          "female/South America",
          "female/Oceania",
          "male/Europe",
          "male/North America",
          "female/Oceania",
          "male/North America",
          "male/North America",
          "female/Oceania",
          "male/Asia",
          "male/South America",
          "male/Africa",
          "female/Europe",
          "female/Africa",
          "female/South America",
          "male/Asia",
          "female/Oceania",
          "female/Europe",
          "male/North America",
          "",
          "male/South America",
          "female/Africa",
          "female/South America",
          "female/Asia",
          "male/Oceania",
          "female/Oceania",
          "female/North America",
          "male/South America",
          "female/Africa",
          "male/Africa",
          "male/Asia",
          "male/Asia",
          "female/North America",
          "male/North America",
          "female/Europe",
          "male/North America",
          "female/Africa",
          "female/North America",
          "male/North America",
          "male/Oceania",
          "female/Asia",
          "female/Asia",
          "female/Africa",
          "male/South America",
          "female/Africa",
          "male/Asia",
          "female/North America",
          "male/North America",
          "male/North America",
          "female/Oceania",
          "female/Africa",
          "male/South America",
          "female/Asia",
          "male/North America",
          "male/Africa",
          "female/North America",
          "female/Asia",
          "male/North America",
          "female/South America",
          "female/South America",
          "male/Oceania",
          "male/Europe",
          "female/Europe",
          "male/Europe",
          "male/Europe",
          "female/North America",
          "female/Oceania",
          "female/South America",
          "female/Africa",
          "male/North America",
          "female/Africa",
          "male/Oceania",
          "female/North America",
          "female/Oceania",
          "female/South America",
          "male/South America",
          "male/Europe",
          "female/South America",
          "female/North America",
          "female/Africa",
          "male/South America",
          "female/Europe",
          "male/Europe",
          "male/North America",
          "female/Europe",
          "male/South America",
          "female/Europe",
          "male/Europe",
          "male/Europe",
          "male/Europe",
          "female/North America",
          "male/North America",
          "female/Oceania",
          "female/Europe",
          "male/North America",
          "male/Europe",
          "male/Africa",
          "female/South America",
          "female/Europe",
          "male/Europe",
          "female/Europe",
          "female/North America",
          "male/Asia",
          "male/North America",
          "male/Oceania",
          "female/Asia",
          "female/South America",
          "male/South America",
          "female/North America",
          "male/North America",
          "female/Africa",
          "male/Europe",
          "female/South America",
          "male/North America",
          "female/South America",
          "male/Oceania",
          "female/Europe",
          "male/Asia",
          "male/South America",
          "female/North America",
          "female/North America",
          "male/Oceania",
          "male/South America",
          "male/South America",
          "male/South America",
          "male/Asia",
          "male/North America",
          "male/Europe",
          "male/Asia",
          "female/Africa",
          "male/Africa",
          "male/Africa",
          "male/South America",
          "female/Oceania",
          "male/South America",
          "female/North America",
          "female/Oceania",
          "female/Africa",
          "male/North America",
          "female/Africa",
          "male/South America",
          "female/South America",
          "male/Oceania",
          "female/Europe",
          "male",
          "male/Europe",
          "female/Asia",
          "male/Oceania",
          "female/North America",
          "female/North America",
          "female/Europe",
          "male/North America",
          "female/South America",
          "male/Africa",
          "male/South America",
          "female/North America",
          "male/South America",
          "female/Africa",
          "female/Europe",
          "female/Asia",
          "female/North America",
          "female/South America",
          "female/North America",
          "male/Oceania",
          "female/Asia",
          "male/South America",
          "male/Africa",
          "male/North America",
          "female/Africa",
          "female/Asia",
          "male/Oceania",
          "male/Africa",
          "male/North America",
          "male/South America",
          "female/South America",
          "male/South America",
          "female/Europe",
          "female/North America",
          "female/South America",
          "male/Oceania",
          "female/Oceania",
          "female/Europe",
          "male/South America",
          "male/Europe",
          "female/North America",
          "male/Africa",
          "female/South America",
          "male/South America",
          "male/Europe",
          "male/Asia",
          "male/Europe",
          "male/Africa",
          "female/Europe",
          "male/Oceania",
          "female/Oceania",
          "female/Africa",
          "male/Africa",
          "female/North America",
          "female/South America",
          "male/South America",
          "male/Oceania",
          "male/Africa",
          "male/North America",
          "male/Europe",
          "female/Europe",
          "male/Europe",
          "male/Asia",
          "female/Asia",
          "male/North America",
          "female/Europe",
          "male/Africa",
          "male/North America",
          "male/Asia",
          "female/Asia",
          "female/Africa",
          "male/South America",
          "male/Oceania",
          "male/Europe",
          "male/North America",
          "female/North America",
          "female/Africa",
          "male/Africa",
          "female/Europe",
          "male/North America",
          "male/Oceania",
          "male/Oceania",
          "female/Europe",
          "female/Asia",
          "male/Asia",
          "female/Africa",
          "male/Oceania",
          "female/Europe",
          "male/Asia",
          "female/Africa",
          "female/Europe",
          "female/South America",
          "female/North America",
          "male/Oceania",
          "male/Africa",
          "female/Africa",
          "female/Africa",
          "female/Oceania",
          "male/Europe",
          "male/Europe",
          "female/Africa",
          "male/Oceania",
          "male/Africa",
          "male/Africa",
          "male/Africa",
          "female/South America",
          "female/North America",
          "female/North America",
          "female/Oceania",
          "male/Asia"
         ],
         "type": "sunburst",
         "values": [
          0,
          0,
          0,
          0,
          4300,
          0,
          0,
          0,
          0,
          0,
          0,
          0,
          0,
          0,
          0,
          4029200,
          0,
          0,
          0,
          0,
          0,
          855325,
          0,
          0,
          0,
          6468625,
          0,
          0,
          0,
          3420900,
          0,
          0,
          0,
          0,
          0,
          0,
          833825,
          0,
          0,
          3663150,
          0,
          0,
          0,
          9639900,
          0,
          2215925,
          0,
          0,
          50000,
          0,
          0,
          716300,
          1406225,
          500475,
          0,
          10921100,
          0,
          0,
          0,
          0,
          224800,
          561450,
          5790825,
          8115450,
          0,
          0,
          0,
          0,
          0,
          0,
          0,
          10909050,
          0,
          0,
          0,
          0,
          0,
          0,
          690850,
          0,
          0,
          0,
          0,
          0,
          0,
          0,
          0,
          0,
          0,
          0,
          0,
          0,
          1491075,
          0,
          0,
          0,
          0,
          0,
          0,
          0,
          974125,
          0,
          3375825,
          8764075,
          0,
          0,
          0,
          0,
          0,
          0,
          1852025,
          0,
          0,
          0,
          0,
          90350,
          0,
          5961625,
          0,
          0,
          0,
          0,
          1384175,
          0,
          0,
          0,
          0,
          0,
          294125,
          0,
          0,
          0,
          383000,
          0,
          0,
          0,
          0,
          0,
          0,
          0,
          1523700,
          0,
          0,
          0,
          0,
          0,
          0,
          0,
          25100,
          0,
          4870225,
          0,
          0,
          0,
          0,
          0,
          143275,
          0,
          0,
          0,
          0,
          0,
          0,
          0,
          0,
          0,
          0,
          0,
          0,
          909075,
          287500,
          0,
          0,
          0,
          0,
          0,
          0,
          0,
          0,
          0,
          10728000,
          0,
          0,
          0,
          0,
          0,
          0,
          0,
          0,
          806300,
          721650,
          0,
          0,
          0,
          0,
          0,
          0,
          0,
          0,
          0,
          0,
          0,
          0,
          0,
          0,
          0,
          163150,
          0,
          0,
          0,
          922450,
          0,
          0,
          0,
          16909575,
          0,
          0,
          0,
          0,
          0,
          0,
          2931750,
          0,
          0,
          2323825,
          2550,
          6700,
          937400,
          0,
          0,
          0,
          0,
          72350,
          0,
          0,
          0,
          0,
          0,
          10000,
          0,
          0,
          0,
          0,
          0,
          0,
          0,
          0,
          0,
          0,
          14052700,
          0,
          0,
          11550,
          0,
          0,
          0,
          0,
          0,
          4495150,
          15200575,
          0,
          0,
          0,
          515350,
          0,
          0,
          0,
          0,
          0,
          3220850,
          661225,
          84483600,
          72525,
          0,
          0,
          0,
          0,
          0,
          5799150,
          0,
          318150,
          0,
          264650,
          0,
          0,
          0,
          0,
          1935625,
          0,
          0,
          0,
          0,
          25516500,
          0,
          157209025,
          0,
          2104250,
          0,
          0,
          9319525,
          41883325,
          0,
          0,
          0,
          0,
          20125,
          0,
          0,
          0,
          64412800,
          37554900,
          0,
          0,
          511125,
          0,
          0,
          0,
          0,
          0,
          0,
          0,
          0,
          0,
          0,
          0,
          1906700,
          6710800,
          0,
          0,
          0,
          410013300,
          0,
          0,
          15000,
          0,
          0,
          0,
          0,
          0,
          0,
          179725,
          1366375,
          0,
          0,
          0,
          0,
          0,
          758325,
          0,
          875325,
          0,
          0,
          0,
          0,
          0,
          0,
          0,
          0,
          0,
          0,
          0,
          0,
          0,
          0,
          0,
          0,
          40723075,
          6386300,
          0,
          0,
          0,
          0,
          0,
          0,
          0,
          0,
          0,
          0,
          0,
          0,
          0,
          0,
          0,
          0,
          0,
          329700,
          0,
          0,
          0,
          0,
          0,
          0,
          73700,
          0,
          0,
          0,
          0,
          0,
          0,
          0,
          0,
          243475,
          328775,
          0,
          0,
          0,
          0,
          0,
          0,
          0,
          1362675,
          0,
          103275,
          122600,
          0,
          512550,
          0,
          0,
          0,
          0,
          0,
          0,
          0,
          0,
          0,
          249500,
          176600,
          0,
          0,
          0,
          0,
          0,
          0,
          0,
          4055350,
          0,
          0,
          40325,
          0,
          0,
          0,
          0,
          0,
          0,
          0,
          0,
          0,
          0,
          0,
          0,
          0,
          0,
          0,
          0,
          3200825,
          0,
          0,
          0,
          0,
          0,
          0,
          0,
          0,
          0,
          0,
          0,
          0,
          0,
          676800,
          0,
          0,
          121900,
          0,
          0,
          0,
          0,
          0,
          0,
          0,
          0,
          0,
          8172300,
          17098125,
          0,
          0,
          0,
          0,
          27488675,
          2025350,
          69975,
          6187250,
          0,
          0,
          0,
          0,
          0,
          26225,
          0,
          0,
          0,
          0,
          0,
          0,
          11700450,
          0,
          0,
          0,
          0,
          0,
          0,
          9156150,
          0,
          0,
          0,
          0,
          0,
          0,
          0,
          0,
          0,
          0,
          0,
          0,
          0,
          0,
          0,
          0,
          0,
          0,
          0,
          0,
          0,
          0,
          1675400,
          0,
          0,
          0,
          0,
          0,
          0,
          1660175,
          0,
          0,
          0,
          0,
          0,
          0,
          0,
          0,
          419175,
          0,
          0,
          642350,
          0,
          152350,
          0,
          0,
          0,
          0,
          0,
          0,
          0,
          0,
          0,
          0,
          0,
          1165075,
          0,
          0,
          0,
          0,
          0,
          0,
          0,
          0,
          3337675,
          0,
          0,
          0,
          0,
          0,
          0,
          165250,
          0,
          0,
          459675,
          0,
          0,
          0,
          0,
          0,
          0,
          0,
          0,
          0,
          0,
          0,
          0,
          0,
          0,
          0,
          0,
          0,
          0,
          0,
          0,
          0,
          0,
          0,
          0,
          0,
          0,
          0,
          0,
          0,
          1544250,
          3361200,
          0,
          0,
          0,
          0,
          1393575,
          0,
          0,
          0,
          0,
          0,
          0,
          0,
          0,
          107875,
          0,
          0,
          0,
          0,
          0,
          0,
          0,
          0,
          0,
          0,
          0,
          0,
          0,
          0,
          0,
          0,
          0,
          0,
          0,
          0,
          0,
          0,
          1453375,
          0,
          0,
          0,
          0,
          0,
          0,
          8454150,
          4456325,
          0,
          0,
          0,
          0,
          0,
          0,
          0,
          1080600,
          0,
          0,
          0,
          0,
          0,
          0,
          0,
          0,
          0,
          0,
          679500,
          482000,
          0,
          0,
          1227625,
          0,
          0,
          0,
          0,
          0,
          0,
          14000,
          0,
          0,
          0,
          0,
          0,
          0,
          0,
          0,
          0,
          0,
          227075,
          0,
          0,
          0,
          0,
          0,
          0,
          0,
          0,
          0,
          1594450,
          1291750,
          0,
          0,
          0,
          0,
          0,
          0,
          1353750,
          0,
          0,
          0,
          0,
          0,
          0,
          0,
          0,
          0,
          0,
          0,
          100425,
          0,
          0,
          23456350,
          446600,
          0,
          0,
          0,
          0,
          0,
          0,
          0,
          0,
          0,
          0,
          0,
          0,
          0,
          0,
          0,
          0,
          0,
          0,
          0,
          0,
          0,
          0,
          0,
          1011700,
          0,
          567350,
          0,
          0,
          0,
          0,
          0,
          0,
          0,
          0,
          0,
          0,
          0,
          0,
          13681950,
          0,
          0,
          0,
          0,
          91397925,
          0,
          0,
          10000,
          0,
          0,
          945375,
          0,
          0,
          0,
          0,
          0,
          0,
          0,
          37725,
          0,
          0,
          0,
          9035900,
          0,
          0,
          0,
          0,
          0,
          0,
          0,
          0,
          0,
          0,
          0,
          0,
          0,
          0,
          837975,
          0,
          2101825,
          0,
          4454075,
          0,
          0,
          0,
          0,
          0,
          150453850,
          0,
          15800,
          0,
          51638350,
          0,
          0,
          0,
          0,
          0,
          0,
          0,
          0,
          187000,
          174400,
          0,
          0,
          0,
          0,
          0,
          0,
          0,
          0,
          1086850,
          0,
          304275,
          0,
          0,
          0,
          0,
          0,
          0,
          0,
          0,
          0,
          0,
          0,
          3115850,
          0,
          0,
          0,
          0,
          0,
          0,
          0,
          0,
          0,
          0,
          0,
          0,
          0,
          0,
          0,
          0,
          0,
          0,
          0,
          0,
          0,
          0,
          0,
          0,
          0,
          0,
          2552975,
          0,
          0,
          0,
          0,
          0,
          0,
          0,
          0,
          0,
          0,
          3107325,
          0,
          0,
          0,
          0,
          0,
          0,
          0,
          0,
          0,
          0,
          0,
          0,
          0,
          15342650,
          0,
          412425,
          0,
          11588500,
          0,
          0,
          0,
          0,
          0,
          0,
          0,
          23000,
          0,
          0,
          0,
          0,
          0,
          0,
          0,
          0,
          6704275,
          317550,
          837625,
          0,
          0,
          0,
          0,
          0,
          0,
          0,
          940125,
          0,
          0,
          0,
          0,
          4703525,
          0,
          0,
          0,
          0,
          7396550,
          0,
          3133425,
          0,
          3021500,
          0,
          0,
          0,
          0,
          0,
          6582450,
          0,
          0,
          0,
          0,
          0,
          0,
          16575,
          0,
          0,
          0,
          0,
          55250,
          0,
          0,
          0,
          0,
          0,
          0,
          0,
          0,
          0,
          0,
          0,
          0,
          0,
          0,
          0,
          35000,
          0,
          0,
          0,
          0,
          0,
          0,
          0,
          0,
          0,
          0,
          0,
          0,
          0,
          30975,
          515550,
          0,
          0,
          0,
          0,
          0,
          0,
          0,
          0,
          0,
          0,
          0,
          298200,
          0,
          0,
          0,
          0,
          0,
          0,
          0,
          0,
          0,
          0,
          0,
          0,
          665950,
          1589575,
          0,
          0,
          0,
          0,
          6173625,
          0,
          0,
          0,
          0,
          5233125,
          11383625,
          0,
          0,
          0,
          0,
          0,
          0,
          0,
          0,
          0,
          21552675,
          1824450,
          0,
          0,
          0
         ]
        }
       ],
       "layout": {
        "height": 800,
        "legend": {
         "tracegroupgap": 0
        },
        "margin": {
         "t": 60
        },
        "template": {
         "data": {
          "bar": [
           {
            "error_x": {
             "color": "#2a3f5f"
            },
            "error_y": {
             "color": "#2a3f5f"
            },
            "marker": {
             "line": {
              "color": "#E5ECF6",
              "width": 0.5
             },
             "pattern": {
              "fillmode": "overlay",
              "size": 10,
              "solidity": 0.2
             }
            },
            "type": "bar"
           }
          ],
          "barpolar": [
           {
            "marker": {
             "line": {
              "color": "#E5ECF6",
              "width": 0.5
             },
             "pattern": {
              "fillmode": "overlay",
              "size": 10,
              "solidity": 0.2
             }
            },
            "type": "barpolar"
           }
          ],
          "carpet": [
           {
            "aaxis": {
             "endlinecolor": "#2a3f5f",
             "gridcolor": "white",
             "linecolor": "white",
             "minorgridcolor": "white",
             "startlinecolor": "#2a3f5f"
            },
            "baxis": {
             "endlinecolor": "#2a3f5f",
             "gridcolor": "white",
             "linecolor": "white",
             "minorgridcolor": "white",
             "startlinecolor": "#2a3f5f"
            },
            "type": "carpet"
           }
          ],
          "choropleth": [
           {
            "colorbar": {
             "outlinewidth": 0,
             "ticks": ""
            },
            "type": "choropleth"
           }
          ],
          "contour": [
           {
            "colorbar": {
             "outlinewidth": 0,
             "ticks": ""
            },
            "colorscale": [
             [
              0,
              "#0d0887"
             ],
             [
              0.1111111111111111,
              "#46039f"
             ],
             [
              0.2222222222222222,
              "#7201a8"
             ],
             [
              0.3333333333333333,
              "#9c179e"
             ],
             [
              0.4444444444444444,
              "#bd3786"
             ],
             [
              0.5555555555555556,
              "#d8576b"
             ],
             [
              0.6666666666666666,
              "#ed7953"
             ],
             [
              0.7777777777777778,
              "#fb9f3a"
             ],
             [
              0.8888888888888888,
              "#fdca26"
             ],
             [
              1,
              "#f0f921"
             ]
            ],
            "type": "contour"
           }
          ],
          "contourcarpet": [
           {
            "colorbar": {
             "outlinewidth": 0,
             "ticks": ""
            },
            "type": "contourcarpet"
           }
          ],
          "heatmap": [
           {
            "colorbar": {
             "outlinewidth": 0,
             "ticks": ""
            },
            "colorscale": [
             [
              0,
              "#0d0887"
             ],
             [
              0.1111111111111111,
              "#46039f"
             ],
             [
              0.2222222222222222,
              "#7201a8"
             ],
             [
              0.3333333333333333,
              "#9c179e"
             ],
             [
              0.4444444444444444,
              "#bd3786"
             ],
             [
              0.5555555555555556,
              "#d8576b"
             ],
             [
              0.6666666666666666,
              "#ed7953"
             ],
             [
              0.7777777777777778,
              "#fb9f3a"
             ],
             [
              0.8888888888888888,
              "#fdca26"
             ],
             [
              1,
              "#f0f921"
             ]
            ],
            "type": "heatmap"
           }
          ],
          "heatmapgl": [
           {
            "colorbar": {
             "outlinewidth": 0,
             "ticks": ""
            },
            "colorscale": [
             [
              0,
              "#0d0887"
             ],
             [
              0.1111111111111111,
              "#46039f"
             ],
             [
              0.2222222222222222,
              "#7201a8"
             ],
             [
              0.3333333333333333,
              "#9c179e"
             ],
             [
              0.4444444444444444,
              "#bd3786"
             ],
             [
              0.5555555555555556,
              "#d8576b"
             ],
             [
              0.6666666666666666,
              "#ed7953"
             ],
             [
              0.7777777777777778,
              "#fb9f3a"
             ],
             [
              0.8888888888888888,
              "#fdca26"
             ],
             [
              1,
              "#f0f921"
             ]
            ],
            "type": "heatmapgl"
           }
          ],
          "histogram": [
           {
            "marker": {
             "pattern": {
              "fillmode": "overlay",
              "size": 10,
              "solidity": 0.2
             }
            },
            "type": "histogram"
           }
          ],
          "histogram2d": [
           {
            "colorbar": {
             "outlinewidth": 0,
             "ticks": ""
            },
            "colorscale": [
             [
              0,
              "#0d0887"
             ],
             [
              0.1111111111111111,
              "#46039f"
             ],
             [
              0.2222222222222222,
              "#7201a8"
             ],
             [
              0.3333333333333333,
              "#9c179e"
             ],
             [
              0.4444444444444444,
              "#bd3786"
             ],
             [
              0.5555555555555556,
              "#d8576b"
             ],
             [
              0.6666666666666666,
              "#ed7953"
             ],
             [
              0.7777777777777778,
              "#fb9f3a"
             ],
             [
              0.8888888888888888,
              "#fdca26"
             ],
             [
              1,
              "#f0f921"
             ]
            ],
            "type": "histogram2d"
           }
          ],
          "histogram2dcontour": [
           {
            "colorbar": {
             "outlinewidth": 0,
             "ticks": ""
            },
            "colorscale": [
             [
              0,
              "#0d0887"
             ],
             [
              0.1111111111111111,
              "#46039f"
             ],
             [
              0.2222222222222222,
              "#7201a8"
             ],
             [
              0.3333333333333333,
              "#9c179e"
             ],
             [
              0.4444444444444444,
              "#bd3786"
             ],
             [
              0.5555555555555556,
              "#d8576b"
             ],
             [
              0.6666666666666666,
              "#ed7953"
             ],
             [
              0.7777777777777778,
              "#fb9f3a"
             ],
             [
              0.8888888888888888,
              "#fdca26"
             ],
             [
              1,
              "#f0f921"
             ]
            ],
            "type": "histogram2dcontour"
           }
          ],
          "mesh3d": [
           {
            "colorbar": {
             "outlinewidth": 0,
             "ticks": ""
            },
            "type": "mesh3d"
           }
          ],
          "parcoords": [
           {
            "line": {
             "colorbar": {
              "outlinewidth": 0,
              "ticks": ""
             }
            },
            "type": "parcoords"
           }
          ],
          "pie": [
           {
            "automargin": true,
            "type": "pie"
           }
          ],
          "scatter": [
           {
            "marker": {
             "colorbar": {
              "outlinewidth": 0,
              "ticks": ""
             }
            },
            "type": "scatter"
           }
          ],
          "scatter3d": [
           {
            "line": {
             "colorbar": {
              "outlinewidth": 0,
              "ticks": ""
             }
            },
            "marker": {
             "colorbar": {
              "outlinewidth": 0,
              "ticks": ""
             }
            },
            "type": "scatter3d"
           }
          ],
          "scattercarpet": [
           {
            "marker": {
             "colorbar": {
              "outlinewidth": 0,
              "ticks": ""
             }
            },
            "type": "scattercarpet"
           }
          ],
          "scattergeo": [
           {
            "marker": {
             "colorbar": {
              "outlinewidth": 0,
              "ticks": ""
             }
            },
            "type": "scattergeo"
           }
          ],
          "scattergl": [
           {
            "marker": {
             "colorbar": {
              "outlinewidth": 0,
              "ticks": ""
             }
            },
            "type": "scattergl"
           }
          ],
          "scattermapbox": [
           {
            "marker": {
             "colorbar": {
              "outlinewidth": 0,
              "ticks": ""
             }
            },
            "type": "scattermapbox"
           }
          ],
          "scatterpolar": [
           {
            "marker": {
             "colorbar": {
              "outlinewidth": 0,
              "ticks": ""
             }
            },
            "type": "scatterpolar"
           }
          ],
          "scatterpolargl": [
           {
            "marker": {
             "colorbar": {
              "outlinewidth": 0,
              "ticks": ""
             }
            },
            "type": "scatterpolargl"
           }
          ],
          "scatterternary": [
           {
            "marker": {
             "colorbar": {
              "outlinewidth": 0,
              "ticks": ""
             }
            },
            "type": "scatterternary"
           }
          ],
          "surface": [
           {
            "colorbar": {
             "outlinewidth": 0,
             "ticks": ""
            },
            "colorscale": [
             [
              0,
              "#0d0887"
             ],
             [
              0.1111111111111111,
              "#46039f"
             ],
             [
              0.2222222222222222,
              "#7201a8"
             ],
             [
              0.3333333333333333,
              "#9c179e"
             ],
             [
              0.4444444444444444,
              "#bd3786"
             ],
             [
              0.5555555555555556,
              "#d8576b"
             ],
             [
              0.6666666666666666,
              "#ed7953"
             ],
             [
              0.7777777777777778,
              "#fb9f3a"
             ],
             [
              0.8888888888888888,
              "#fdca26"
             ],
             [
              1,
              "#f0f921"
             ]
            ],
            "type": "surface"
           }
          ],
          "table": [
           {
            "cells": {
             "fill": {
              "color": "#EBF0F8"
             },
             "line": {
              "color": "white"
             }
            },
            "header": {
             "fill": {
              "color": "#C8D4E3"
             },
             "line": {
              "color": "white"
             }
            },
            "type": "table"
           }
          ]
         },
         "layout": {
          "annotationdefaults": {
           "arrowcolor": "#2a3f5f",
           "arrowhead": 0,
           "arrowwidth": 1
          },
          "autotypenumbers": "strict",
          "coloraxis": {
           "colorbar": {
            "outlinewidth": 0,
            "ticks": ""
           }
          },
          "colorscale": {
           "diverging": [
            [
             0,
             "#8e0152"
            ],
            [
             0.1,
             "#c51b7d"
            ],
            [
             0.2,
             "#de77ae"
            ],
            [
             0.3,
             "#f1b6da"
            ],
            [
             0.4,
             "#fde0ef"
            ],
            [
             0.5,
             "#f7f7f7"
            ],
            [
             0.6,
             "#e6f5d0"
            ],
            [
             0.7,
             "#b8e186"
            ],
            [
             0.8,
             "#7fbc41"
            ],
            [
             0.9,
             "#4d9221"
            ],
            [
             1,
             "#276419"
            ]
           ],
           "sequential": [
            [
             0,
             "#0d0887"
            ],
            [
             0.1111111111111111,
             "#46039f"
            ],
            [
             0.2222222222222222,
             "#7201a8"
            ],
            [
             0.3333333333333333,
             "#9c179e"
            ],
            [
             0.4444444444444444,
             "#bd3786"
            ],
            [
             0.5555555555555556,
             "#d8576b"
            ],
            [
             0.6666666666666666,
             "#ed7953"
            ],
            [
             0.7777777777777778,
             "#fb9f3a"
            ],
            [
             0.8888888888888888,
             "#fdca26"
            ],
            [
             1,
             "#f0f921"
            ]
           ],
           "sequentialminus": [
            [
             0,
             "#0d0887"
            ],
            [
             0.1111111111111111,
             "#46039f"
            ],
            [
             0.2222222222222222,
             "#7201a8"
            ],
            [
             0.3333333333333333,
             "#9c179e"
            ],
            [
             0.4444444444444444,
             "#bd3786"
            ],
            [
             0.5555555555555556,
             "#d8576b"
            ],
            [
             0.6666666666666666,
             "#ed7953"
            ],
            [
             0.7777777777777778,
             "#fb9f3a"
            ],
            [
             0.8888888888888888,
             "#fdca26"
            ],
            [
             1,
             "#f0f921"
            ]
           ]
          },
          "colorway": [
           "#636efa",
           "#EF553B",
           "#00cc96",
           "#ab63fa",
           "#FFA15A",
           "#19d3f3",
           "#FF6692",
           "#B6E880",
           "#FF97FF",
           "#FECB52"
          ],
          "font": {
           "color": "#2a3f5f"
          },
          "geo": {
           "bgcolor": "white",
           "lakecolor": "white",
           "landcolor": "#E5ECF6",
           "showlakes": true,
           "showland": true,
           "subunitcolor": "white"
          },
          "hoverlabel": {
           "align": "left"
          },
          "hovermode": "closest",
          "mapbox": {
           "style": "light"
          },
          "paper_bgcolor": "white",
          "plot_bgcolor": "#E5ECF6",
          "polar": {
           "angularaxis": {
            "gridcolor": "white",
            "linecolor": "white",
            "ticks": ""
           },
           "bgcolor": "#E5ECF6",
           "radialaxis": {
            "gridcolor": "white",
            "linecolor": "white",
            "ticks": ""
           }
          },
          "scene": {
           "xaxis": {
            "backgroundcolor": "#E5ECF6",
            "gridcolor": "white",
            "gridwidth": 2,
            "linecolor": "white",
            "showbackground": true,
            "ticks": "",
            "zerolinecolor": "white"
           },
           "yaxis": {
            "backgroundcolor": "#E5ECF6",
            "gridcolor": "white",
            "gridwidth": 2,
            "linecolor": "white",
            "showbackground": true,
            "ticks": "",
            "zerolinecolor": "white"
           },
           "zaxis": {
            "backgroundcolor": "#E5ECF6",
            "gridcolor": "white",
            "gridwidth": 2,
            "linecolor": "white",
            "showbackground": true,
            "ticks": "",
            "zerolinecolor": "white"
           }
          },
          "shapedefaults": {
           "line": {
            "color": "#2a3f5f"
           }
          },
          "ternary": {
           "aaxis": {
            "gridcolor": "white",
            "linecolor": "white",
            "ticks": ""
           },
           "baxis": {
            "gridcolor": "white",
            "linecolor": "white",
            "ticks": ""
           },
           "bgcolor": "#E5ECF6",
           "caxis": {
            "gridcolor": "white",
            "linecolor": "white",
            "ticks": ""
           }
          },
          "title": {
           "x": 0.05
          },
          "xaxis": {
           "automargin": true,
           "gridcolor": "white",
           "linecolor": "white",
           "ticks": "",
           "title": {
            "standoff": 15
           },
           "zerolinecolor": "white",
           "zerolinewidth": 2
          },
          "yaxis": {
           "automargin": true,
           "gridcolor": "white",
           "linecolor": "white",
           "ticks": "",
           "title": {
            "standoff": 15
           },
           "zerolinecolor": "white",
           "zerolinewidth": 2
          }
         }
        },
        "width": 800
       }
      },
      "text/html": [
       "<div>                            <div id=\"f99600c8-fc21-4b2b-9129-f3f1276839df\" class=\"plotly-graph-div\" style=\"height:800px; width:800px;\"></div>            <script type=\"text/javascript\">                require([\"plotly\"], function(Plotly) {                    window.PLOTLYENV=window.PLOTLYENV || {};                                    if (document.getElementById(\"f99600c8-fc21-4b2b-9129-f3f1276839df\")) {                    Plotly.newPlot(                        \"f99600c8-fc21-4b2b-9129-f3f1276839df\",                        [{\"branchvalues\":\"total\",\"customdata\":[[null],[null],[null],[null],[\"Oceania\"],[null],[null],[null],[null],[null],[null],[null],[null],[null],[null],[\"Africa\"],[null],[null],[null],[null],[null],[\"Africa\"],[null],[null],[null],[\"Asia\"],[null],[null],[null],[\"North America\"],[null],[null],[null],[null],[null],[null],[\"North America\"],[null],[null],[\"Asia\"],[null],[null],[null],[\"North America\"],[null],[\"Europe\"],[null],[null],[\"Africa\"],[null],[null],[\"North America\"],[\"North America\"],[\"South America\"],[null],[\"Asia\"],[null],[null],[null],[null],[\"Africa\"],[\"Africa\"],[\"South America\"],[\"South America\"],[null],[null],[null],[null],[null],[null],[null],[\"North America\"],[null],[null],[null],[null],[null],[null],[\"Africa\"],[null],[null],[null],[null],[null],[null],[null],[null],[null],[null],[null],[null],[null],[\"Asia\"],[null],[null],[null],[null],[null],[null],[null],[\"Africa\"],[null],[\"Asia\"],[\"Asia\"],[null],[null],[null],[null],[null],[null],[\"Asia\"],[null],[null],[null],[null],[\"Africa\"],[null],[\"Africa\"],[null],[null],[null],[null],[\"Africa\"],[null],[null],[null],[null],[null],[\"Africa\"],[null],[null],[null],[\"Europe\"],[null],[null],[null],[null],[null],[null],[null],[\"Asia\"],[null],[null],[null],[null],[null],[null],[null],[\"Asia\"],[null],[\"Asia\"],[null],[null],[null],[null],[null],[\"North America\"],[null],[null],[null],[null],[null],[null],[null],[null],[null],[null],[null],[null],[\"Europe\"],[\"Asia\"],[null],[null],[null],[null],[null],[null],[null],[null],[null],[\"Africa\"],[null],[null],[null],[null],[null],[null],[null],[null],[\"Africa\"],[\"Asia\"],[null],[null],[null],[null],[null],[null],[null],[null],[null],[null],[null],[null],[null],[null],[null],[\"Africa\"],[null],[null],[null],[\"Asia\"],[null],[null],[null],[\"Asia\"],[null],[null],[null],[null],[null],[null],[\"Asia\"],[null],[null],[\"Africa\"],[\"Oceania\"],[\"Oceania\"],[\"Europe\"],[null],[null],[null],[null],[\"Africa\"],[null],[null],[null],[null],[null],[\"Asia\"],[null],[null],[null],[null],[null],[null],[null],[null],[null],[null],[\"Asia\"],[null],[null],[\"North America\"],[null],[null],[null],[null],[null],[\"South America\"],[\"South America\"],[null],[null],[null],[\"Africa\"],[null],[null],[null],[null],[null],[\"Africa\"],[\"Africa\"],[\"South America\"],[\"Oceania\"],[null],[null],[null],[null],[null],[\"Europe\"],[null],[\"Asia\"],[null],[\"Asia\"],[null],[null],[null],[null],[\"Africa\"],[null],[null],[null],[null],[\"South America\"],[null],[\"Asia\"],[null],[\"Asia\"],[null],[null],[\"Africa\"],[\"Africa\"],[null],[null],[null],[null],[\"Asia\"],[null],[null],[null],[\"North America\"],[\"North America\"],[null],[null],[\"Africa\"],[null],[null],[null],[null],[null],[null],[null],[null],[null],[null],[null],[\"Africa\"],[\"Oceania\"],[null],[null],[null],[\"(?)\"],[null],[null],[\"Africa\"],[null],[null],[null],[null],[null],[null],[\"Africa\"],[\"Asia\"],[null],[null],[null],[null],[null],[\"Asia\"],[null],[\"Asia\"],[null],[null],[null],[null],[null],[null],[null],[null],[null],[null],[null],[null],[null],[null],[null],[null],[\"Asia\"],[\"North America\"],[null],[null],[null],[null],[null],[null],[null],[null],[null],[null],[null],[null],[null],[null],[null],[null],[null],[\"Europe\"],[null],[null],[null],[null],[null],[null],[\"Africa\"],[null],[null],[null],[null],[null],[null],[null],[null],[\"Africa\"],[\"Africa\"],[null],[null],[null],[null],[null],[null],[null],[\"Africa\"],[null],[\"Africa\"],[\"Africa\"],[null],[\"Oceania\"],[null],[null],[null],[null],[null],[null],[null],[null],[null],[\"Asia\"],[\"Asia\"],[null],[null],[null],[null],[null],[null],[null],[\"Asia\"],[null],[null],[\"South America\"],[null],[null],[null],[null],[null],[null],[null],[null],[null],[null],[null],[null],[null],[null],[null],[null],[\"Africa\"],[null],[null],[null],[null],[null],[null],[null],[null],[null],[null],[null],[null],[null],[\"Europe\"],[null],[null],[\"North America\"],[null],[null],[null],[null],[null],[null],[null],[null],[null],[\"Asia\"],[\"North America\"],[null],[null],[null],[null],[\"South America\"],[\"South America\"],[\"Oceania\"],[\"Oceania\"],[null],[null],[null],[null],[null],[\"North America\"],[null],[null],[null],[null],[null],[null],[\"Asia\"],[null],[null],[null],[null],[null],[null],[\"South America\"],[null],[null],[null],[null],[null],[null],[null],[null],[null],[null],[null],[null],[null],[null],[null],[null],[null],[null],[null],[null],[null],[null],[\"Africa\"],[null],[null],[null],[null],[null],[null],[\"North America\"],[null],[null],[null],[null],[null],[null],[null],[null],[\"Africa\"],[null],[null],[\"Africa\"],[null],[\"South America\"],[null],[null],[null],[null],[null],[null],[null],[null],[null],[null],[null],[\"Asia\"],[null],[null],[null],[null],[null],[null],[null],[null],[\"Asia\"],[null],[null],[null],[null],[null],[null],[\"Asia\"],[null],[null],[\"South America\"],[null],[null],[null],[null],[null],[null],[null],[null],[null],[null],[null],[null],[null],[null],[null],[null],[null],[null],[null],[null],[null],[null],[null],[null],[null],[null],[null],[null],[null],[\"North America\"],[\"South America\"],[null],[null],[null],[null],[\"Europe\"],[null],[null],[null],[null],[null],[null],[null],[null],[\"Asia\"],[null],[null],[null],[null],[null],[null],[null],[null],[null],[null],[null],[null],[null],[null],[null],[null],[null],[null],[null],[null],[null],[null],[\"Asia\"],[null],[null],[null],[null],[null],[null],[\"Asia\"],[\"Asia\"],[null],[null],[null],[null],[null],[null],[null],[\"Africa\"],[null],[null],[null],[null],[null],[null],[null],[null],[null],[null],[\"Asia\"],[\"Asia\"],[null],[null],[\"Asia\"],[null],[null],[null],[null],[null],[null],[\"Asia\"],[null],[null],[null],[null],[null],[null],[null],[null],[null],[null],[\"Africa\"],[null],[null],[null],[null],[null],[null],[null],[null],[null],[\"Asia\"],[\"Europe\"],[null],[null],[null],[null],[null],[null],[\"Europe\"],[null],[null],[null],[null],[null],[null],[null],[null],[null],[null],[null],[\"North America\"],[null],[null],[\"Africa\"],[\"Africa\"],[null],[null],[null],[null],[null],[null],[null],[null],[null],[null],[null],[null],[null],[null],[null],[null],[null],[null],[null],[null],[null],[null],[null],[\"Europe\"],[null],[\"Asia\"],[null],[null],[null],[null],[null],[null],[null],[null],[null],[null],[null],[null],[\"North America\"],[null],[null],[null],[null],[\"Africa\"],[null],[null],[\"North America\"],[null],[null],[\"Asia\"],[null],[null],[null],[null],[null],[null],[null],[\"South America\"],[null],[null],[null],[\"Africa\"],[null],[null],[null],[null],[null],[null],[null],[null],[null],[null],[null],[null],[null],[null],[\"Asia\"],[null],[\"Africa\"],[null],[\"Africa\"],[null],[null],[null],[null],[null],[\"(?)\"],[null],[\"Africa\"],[null],[\"Asia\"],[null],[null],[null],[null],[null],[null],[null],[null],[\"North America\"],[\"North America\"],[null],[null],[null],[null],[null],[null],[null],[null],[\"Africa\"],[null],[\"Africa\"],[null],[null],[null],[null],[null],[null],[null],[null],[null],[null],[null],[\"Asia\"],[null],[null],[null],[null],[null],[null],[null],[null],[null],[null],[null],[null],[null],[null],[null],[null],[null],[null],[null],[null],[null],[null],[null],[null],[null],[null],[\"North America\"],[null],[null],[null],[null],[null],[null],[null],[null],[null],[null],[\"North America\"],[null],[null],[null],[null],[null],[null],[null],[null],[null],[null],[null],[null],[null],[\"North America\"],[null],[\"Africa\"],[null],[\"South America\"],[null],[null],[null],[null],[null],[null],[null],[\"North America\"],[null],[null],[null],[null],[null],[null],[null],[null],[\"Africa\"],[\"Africa\"],[\"Africa\"],[null],[null],[null],[null],[null],[null],[null],[\"Africa\"],[null],[null],[null],[null],[\"Europe\"],[null],[null],[null],[null],[\"North America\"],[null],[\"North America\"],[null],[\"Africa\"],[null],[null],[null],[null],[null],[\"Asia\"],[null],[null],[null],[null],[null],[null],[\"Africa\"],[null],[null],[null],[null],[\"Africa\"],[null],[null],[null],[null],[null],[null],[null],[null],[null],[null],[null],[null],[null],[null],[null],[\"South America\"],[null],[null],[null],[null],[null],[null],[null],[null],[null],[null],[null],[null],[null],[\"Africa\"],[\"North America\"],[null],[null],[null],[null],[null],[null],[null],[null],[null],[null],[null],[\"Africa\"],[null],[null],[null],[null],[null],[null],[null],[null],[null],[null],[null],[null],[\"Asia\"],[\"Asia\"],[null],[null],[null],[null],[\"Africa\"],[null],[null],[null],[null],[\"Africa\"],[\"Africa\"],[null],[null],[null],[null],[null],[null],[null],[null],[null],[\"South America\"],[\"North America\"],[null],[null],[null]],\"domain\":{\"x\":[0.0,1.0],\"y\":[0.0,1.0]},\"hovertemplate\":\"labels=%{label}<br>loan_amount=%{value}<br>parent=%{parent}<br>id=%{id}<br>continent=%{customdata[0]}<extra></extra>\",\"ids\":[\"female/Africa/Mauritania\",\"female/Asia/Guatemala\",\"male/Oceania/Puerto Rico\",\"female/South America/Puerto Rico\",\"female/Oceania/Guam\",\"female/Europe/Guam\",\"male/Asia/Guam\",\"male/Oceania/Saint Vincent and the Grenadines\",\"female/Africa/Guam\",\"female/South America/Ghana\",\"female/Asia/Samoa\",\"female/Oceania/Ghana\",\"female/South America/Samoa\",\"female/Asia/Ghana\",\"female/Asia/Senegal\",\"female/Africa/Ghana\",\"female/South America/Georgia\",\"male/Europe/Senegal\",\"male/North America/Georgia\",\"female/North America/Georgia\",\"female/Europe/Guatemala\",\"male/Africa/Sierra Leone\",\"female/Asia/Puerto Rico\",\"male/Oceania/Philippines\",\"male/Europe/India\",\"female/Asia/India\",\"male/Africa/India\",\"female/Africa/India\",\"male/Oceania/Honduras\",\"female/North America/Honduras\",\"female/Africa/Peru\",\"female/Europe/Honduras\",\"female/Asia/Honduras\",\"male/South America/Haiti\",\"male/Europe/Peru\",\"female/Oceania/Haiti\",\"male/North America/Haiti\",\"male/Oceania/Peru\",\"female/Africa/Philippines\",\"male/Asia/Philippines\",\"male/Europe/Philippines\",\"male/North America/Philippines\",\"male/South America/Guatemala\",\"female/North America/Guatemala\",\"male/North America/India\",\"female/Europe/Georgia\",\"male/South America/El Salvador\",\"female/Asia/Cote D'Ivoire\",\"female/Africa/Cote D'Ivoire\",\"male/South America/Costa Rica\",\"male/Oceania/Costa Rica\",\"male/North America/Costa Rica\",\"female/North America/Costa Rica\",\"male/South America/Suriname\",\"male/Africa/Costa Rica\",\"female/Asia/Tajikistan\",\"female/South America/Congo\",\"female/North America/Congo\",\"male/North America/Tajikistan\",\"male/South America/Tajikistan\",\"male/Africa/Congo\",\"female/Africa/Congo\",\"male/South America/Colombia\",\"female/South America/Colombia\",\"male/Asia/Tanzania\",\"female/North America/Tanzania\",\"male/Europe/Cote D'Ivoire\",\"male/Asia/Georgia\",\"female/North America/Cote D'Ivoire\",\"female/South America/Cote D'Ivoire\",\"female/Oceania/El Salvador\",\"male/North America/El Salvador\",\"male/Europe/El Salvador\",\"male/Asia/El Salvador\",\"male/Africa/El Salvador\",\"female/Africa/El Salvador\",\"male/North America/Somalia\",\"male/Asia/Egypt\",\"male/Africa/Egypt\",\"male/Oceania/Ecuador\",\"female/Oceania/Ecuador\",\"male/North America/Ecuador\",\"male/Europe/South Africa\",\"male/Europe/Ecuador\",\"male/Asia/Ecuador\",\"male/Africa/Ecuador\",\"male/South America/Dominican Republic\",\"male/Asia/South Sudan\",\"male/Asia/Dominican Republic\",\"male/Oceania/Cote D'Ivoire\",\"male/Europe/Colombia\",\"male/Oceania/India\",\"male/Asia/Indonesia\",\"male/Europe/Lesotho\",\"male/Europe/Mongolia\",\"male/Asia/Lesotho\",\"female/Oceania/Mongolia\",\"female/South America/Mongolia\",\"female/South America/Lebanon\",\"male/Oceania/Lebanon\",\"male/Africa/Mozambique\",\"male/North America/Lebanon\",\"male/Asia/Lebanon\",\"female/Asia/Lebanon\",\"male/North America/Mozambique\",\"male/South America/Lao People's Democratic Republic\",\"female/South America/Lao People's Democratic Republic\",\"female/Oceania/Mozambique\",\"male/Oceania/Mozambique\",\"male/Africa/Myanmar (Burma)\",\"male/Asia/Myanmar (Burma)\",\"female/South America/Myanmar (Burma)\",\"male/North America/Lesotho\",\"male/South America/Myanmar (Burma)\",\"male/Africa/Mongolia\",\"male/Africa/Liberia\",\"female/Asia/Mali\",\"female/Africa/Mali\",\"male/South America/Malawi\",\"female/South America/Malawi\",\"female/Oceania/Mali\",\"female/Oceania/Mauritania\",\"female/Africa/Malawi\",\"male/South America/Madagascar\",\"male/Africa/Mexico\",\"male/Europe/Mexico\",\"female/Europe/Madagascar\",\"male/Asia/Madagascar\",\"male/Africa/Madagascar\",\"female/Asia/Moldova\",\"female/Oceania/Liberia\",\"male/North America/Liberia\",\"female/Europe/Moldova\",\"male/Europe/Liberia\",\"male/North America/Moldova\",\"female/Africa/Mongolia\",\"male/Africa/Indonesia\",\"male/Asia/Namibia\",\"female/Europe/Kyrgyzstan\",\"female/Europe/Jordan\",\"male/Asia/Jordan\",\"female/North America/Nigeria\",\"female/Africa/Jordan\",\"male/South America/Nigeria\",\"female/Oceania/Israel\",\"male/North America/Israel\",\"female/Africa/Pakistan\",\"male/Africa/Pakistan\",\"male/Asia/Israel\",\"male/Africa/Palestine\",\"female/Asia/Palestine\",\"male/Oceania/Palestine\",\"female/Europe/Iraq\",\"female/Asia/Panama\",\"male/Oceania/Indonesia\",\"female/Oceania/Indonesia\",\"male/North America/Panama\",\"male/Oceania/Panama\",\"female/Asia/Nigeria\",\"female/North America/Kyrgyzstan\",\"male/Oceania/Jordan\",\"male/South America/Nicaragua\",\"male/Europe/Namibia\",\"male/Africa/Kyrgyzstan\",\"female/Africa/Kyrgyzstan\",\"male/North America/Namibia\",\"female/South America/Kosovo\",\"female/Oceania/Namibia\",\"female/Oceania/Kosovo\",\"female/Europe/Kosovo\",\"female/Asia/Nepal\",\"male/Africa/Kosovo\",\"female/North America/Nepal\",\"male/Oceania/Kenya\",\"female/Africa/Nicaragua\",\"male/Africa/Nicaragua\",\"female/Asia/Nicaragua\",\"male/Europe/Kenya\",\"male/Asia/Nicaragua\",\"male/Asia/Kenya\",\"male/Africa/Kenya\",\"female/South America/Jordan\",\"female/Europe/Colombia\",\"male/Europe/Mali\",\"female/Africa/Cambodia\",\"male/South America/Togo\",\"female/Africa/Turkey\",\"male/Asia/Burundi\",\"female/Asia/Burundi\",\"male/Africa/Burundi\",\"female/Asia/Turkey\",\"male/South America/Burkina Faso\",\"male/Oceania/Virgin Islands\",\"female/Europe/Virgin Islands\",\"female/Europe/Turkey\",\"female/North America/Turkey\",\"male/Africa/Virgin Islands\",\"male/North America/Burkina Faso\",\"female/North America/Burkina Faso\",\"male/Europe/Burkina Faso\",\"female/South America/Azerbaijan\",\"male/Asia/Virgin Islands\",\"male/Asia/Burkina Faso\",\"female/Oceania/Togo\",\"male/Oceania/Burundi\",\"female/South America/Cambodia\",\"male/Africa/Togo\",\"male/North America/Cambodia\",\"female/North America/Yemen\",\"female/Europe/Yemen\",\"male/Asia/Yemen\",\"female/Europe/Togo\",\"male/North America/Togo\",\"female/Europe/Cambodia\",\"female/Asia/Cambodia\",\"male/Africa/Cambodia\",\"male/Africa/Yemen\",\"female/North America/Bhutan\",\"male/Europe/Togo\",\"female/South America/Virgin Islands\",\"female/North America/Togo\",\"male/Asia/Cambodia\",\"male/Oceania/Turkey\",\"male/South America/Turkey\",\"female/Africa/Burkina Faso\",\"male/Oceania/Vanuatu\",\"female/Oceania/Vanuatu\",\"female/Europe/Ukraine\",\"male/Europe/Vanuatu\",\"male/Europe/Bolivia\",\"female/Europe/Bolivia\",\"female/North America/Benin\",\"male/Africa/Benin\",\"male/North America/Benin\",\"male/Asia/Vanuatu\",\"male/South America/Ukraine\",\"female/South America/United States\",\"male/Africa/Bhutan\",\"female/Asia/Bhutan\",\"male/Europe/United States\",\"female/Europe/Bhutan\",\"female/Oceania/Benin\",\"female/South America/Vanuatu\",\"male/South America/Belize\",\"male/Oceania/Bolivia\",\"female/Oceania/Vietnam\",\"female/Asia/Belize\",\"female/Europe/Vietnam\",\"female/Europe/Uganda\",\"female/Asia/Vietnam\",\"male/Africa/Vietnam\",\"female/North America/Uganda\",\"female/North America/Belize\",\"male/Oceania/Uganda\",\"female/South America/Uganda\",\"female/Asia/Brazil\",\"male/Africa/Brazil\",\"male/Oceania/Belize\",\"male/South America/Bolivia\",\"female/South America/Bolivia\",\"female/South America/Belize\",\"female/Oceania/Tanzania\",\"male/South America/Yemen\",\"female/Africa/Cameroon\",\"male/North America/Bhutan\",\"male/Europe/Afghanistan\",\"male/North America/Timor-Leste\",\"female/North America/Zimbabwe\",\"female/Oceania/Cameroon\",\"female/Africa/Zimbabwe\",\"male/Africa/Zambia\",\"female/South America\",\"male/Oceania\",\"female/Europe/Thailand\",\"female/South America/Cameroon\",\"male/Europe/Thailand\",\"male/Asia/Chile\",\"female/Europe/Timor-Leste\",\"female/Europe\",\"female/South America/Thailand\",\"male/Asia/Timor-Leste\",\"male/Africa/China\",\"male/Asia/China\",\"male/Europe/Cameroon\",\"female/Europe/Cameroon\",\"male/North America/Cameroon\",\"male/South America/The Democratic Republic of the Congo\",\"male/Africa/The Democratic Republic of the Congo\",\"female/Asia/Zambia\",\"male/South America/Tanzania\",\"female/Asia/The Democratic Republic of the Congo\",\"female/Africa/Thailand\",\"male/South America\",\"female/South America/Zambia\",\"female/Asia\",\"female/Europe/Zambia\",\"female/Asia/Timor-Leste\",\"male/Oceania/The Democratic Republic of the Congo\",\"male/Africa/Thailand\",\"female/Africa/The Democratic Republic of the Congo\",\"male/Africa\",\"female/Asia/Cameroon\",\"male/South America/Zimbabwe\",\"female/Oceania/Timor-Leste\",\"female/South America/China\",\"male/Asia/Nepal\",\"male/Oceania/Mauritania\",\"female/Oceania/Nepal\",\"female/South America/Nepal\",\"female/North America\",\"male/North America\",\"male/South America/Vanuatu\",\"female/South America/Mauritania\",\"female/Africa/Zambia\",\"male/Europe/Mauritania\",\"female/Oceania/United States\",\"male/Oceania/United States\",\"male/Oceania/Nigeria\",\"female/Oceania/Nigeria\",\"male/North America/Mali\",\"male/Europe/Nigeria\",\"male/Africa/Vanuatu\",\"female/Asia/Vanuatu\",\"female/Europe/Nigeria\",\"male/Asia/Nigeria\",\"male/Africa/Nigeria\",\"female/Oceania\",\"male/Oceania/Nicaragua\",\"female/Africa/Vietnam\",\"male/South America/Mali\",\"female\",\"female/Oceania/Nicaragua\",\"male/North America/Vanuatu\",\"male/Africa/Mauritania\",\"male/Asia/Mauritania\",\"female/Europe/Mauritania\",\"female/North America/Mauritania\",\"female/Africa/Mexico\",\"male/South America/Vietnam\",\"female/South America/Namibia\",\"male/Africa/Zimbabwe\",\"female/Asia/Myanmar (Burma)\",\"female/Oceania/Virgin Islands\",\"male/South America/Mozambique\",\"female/South America/Mozambique\",\"female/Oceania/Moldova\",\"female/South America/Moldova\",\"female/Asia/Mongolia\",\"male/Oceania/Zambia\",\"male/Asia/Mongolia\",\"female/North America/Zambia\",\"male/Europe/Zambia\",\"female/North America/Mozambique\",\"male/Europe/Yemen\",\"male/Europe/Mozambique\",\"male/Asia/Zambia\",\"female/Europe/Mozambique\",\"male/Asia/Mozambique\",\"male/Oceania/Mongolia\",\"male/North America/Yemen\",\"male/South America/Mongolia\",\"male/North America/Virgin Islands\",\"male/Africa/Nepal\",\"female/Asia/Zimbabwe\",\"female/North America/Moldova\",\"male/Oceania/Namibia\",\"male/Asia\",\"female/North America/Mexico\",\"female/Oceania/Mexico\",\"male/Oceania/Zimbabwe\",\"female/North America/Namibia\",\"female/Africa/Virgin Islands\",\"female/South America/Mexico\",\"female/Europe/Namibia\",\"male/Africa/Moldova\",\"female/Oceania/Zimbabwe\",\"male/Asia/Moldova\",\"male/North America/Zimbabwe\",\"female/Asia/Virgin Islands\",\"female/Asia/Namibia\",\"male/Europe/Zimbabwe\",\"male/Asia/Zimbabwe\",\"male/North America/Myanmar (Burma)\",\"female/North America/Myanmar (Burma)\",\"male/Europe/Myanmar (Burma)\",\"male/Europe/Moldova\",\"female/Europe/Myanmar (Burma)\",\"male/Oceania/Tanzania\",\"female/North America/Paraguay\",\"female/Europe/Pakistan\",\"female/Europe/South Sudan\",\"female/Asia/South Sudan\",\"female/Africa/South Sudan\",\"female/South America/South Africa\",\"male/Oceania/South Africa\",\"female/Oceania/South Africa\",\"female/North America/Timor-Leste\",\"female/North America/South Africa\",\"female/Europe/South Africa\",\"male/Asia/South Africa\",\"female/Asia/South Africa\",\"male/Africa/South Africa\",\"female/Africa/South Africa\",\"male/South America/Somalia\",\"female/South America/Somalia\",\"male/Oceania/Somalia\",\"female/North America/Mali\",\"male/South America/Timor-Leste\",\"female/North America/Somalia\",\"male/Europe/Somalia\",\"female/Africa/Togo\",\"female/Europe/Somalia\",\"male/Africa/Somalia\",\"female/Africa/Somalia\",\"female/Asia/Togo\",\"female/Oceania/Solomon Islands\",\"female/Asia/Solomon Islands\",\"male/Asia/Togo\",\"female/South America/Sierra Leone\",\"female/North America/South Sudan\",\"male/Oceania/Sierra Leone\",\"male/North America/South Sudan\",\"male/Oceania/South Sudan\",\"male/Europe/Tanzania\",\"female/Europe/Tanzania\",\"female/Asia/Thailand\",\"male/Asia/Thailand\",\"female/Asia/Tanzania\",\"female/Oceania/Tajikistan\",\"male/North America/Thailand\",\"female/Oceania/Thailand\",\"female/North America/Tajikistan\",\"male/Europe/Tajikistan\",\"female/Europe/Tajikistan\",\"male/Asia/Tajikistan\",\"male/Oceania/Thailand\",\"female/Africa/Tajikistan\",\"female/South America/Suriname\",\"male/Oceania/Suriname\",\"male/South America/Thailand\",\"female/Oceania/Suriname\",\"female/North America/Suriname\",\"female/North America/The Democratic Republic of the Congo\",\"male/Europe/Suriname\",\"male/Asia/Suriname\",\"female/Asia/Suriname\",\"female/South America/The Democratic Republic of the Congo\",\"male/Africa/Suriname\",\"female/Africa/Suriname\",\"female/Africa/Timor-Leste\",\"male/South America/South Sudan\",\"female/South America/South Sudan\",\"female/Oceania/South Sudan\",\"female/Asia/Sierra Leone\",\"female/Africa/Sierra Leone\",\"male/Asia/Senegal\",\"female/Africa/Ukraine\",\"male/North America/Paraguay\",\"male/Europe/Paraguay\",\"male/Africa/Ukraine\",\"female/Europe/Paraguay\",\"male/Asia/Ukraine\",\"male/Asia/Paraguay\",\"female/Asia/Paraguay\",\"male/Africa/Paraguay\",\"male/South America/Panama\",\"female/South America/Panama\",\"female/Oceania/Panama\",\"male/Europe/Ukraine\",\"female/North America/Ukraine\",\"female/Oceania/Ukraine\",\"female/North America/Panama\",\"female/Europe/Panama\",\"male/Asia/Panama\",\"female/Africa/Panama\",\"male/South America/Palestine\",\"female/Asia/United States\",\"male/Asia/United States\",\"male/North America/Palestine\",\"female/North America/Palestine\",\"male/Europe/Palestine\",\"male/Asia/Palestine\",\"female/North America/United States\",\"male/South America/Pakistan\",\"male/North America/Pakistan\",\"female/Oceania/Paraguay\",\"male/Oceania/Paraguay\",\"female/South America/Paraguay\",\"male/South America/Paraguay\",\"male/Oceania/Samoa\",\"female/Oceania/Samoa\",\"female/Europe/Samoa\",\"male/Asia/Samoa\",\"female/South America/Togo\",\"female/Africa/Samoa\",\"female/Oceania/Saint Vincent and the Grenadines\",\"male/North America/Saint Vincent and the Grenadines\",\"male/Asia/Saint Vincent and the Grenadines\",\"male/South America/Rwanda\",\"female/South America/Rwanda\",\"male/Oceania/Rwanda\",\"male/Europe/Turkey\",\"male/Europe/Puerto Rico\",\"female/Asia/Pakistan\",\"female/Europe/Puerto Rico\",\"female/South America/Philippines\",\"female/Oceania/Turkey\",\"female/Oceania/Philippines\",\"female/Europe/Philippines\",\"female/Asia/Uganda\",\"male/South America/Peru\",\"male/Asia/Uganda\",\"male/Europe/Uganda\",\"female/Oceania/Peru\",\"male/North America/Uganda\",\"male/Asia/Peru\",\"female/Asia/Peru\",\"female/Oceania/Uganda\",\"male/Africa/Peru\",\"male/Africa/Puerto Rico\",\"female/Oceania/Somalia\",\"female/Africa/Afghanistan\",\"male/Africa/Georgia\",\"female/Africa/Honduras\",\"female/Asia/Burkina Faso\",\"female/Europe/Burkina Faso\",\"male/Oceania/Haiti\",\"male/Oceania/Burkina Faso\",\"male/Europe/Haiti\",\"female/Europe/Haiti\",\"female/South America/Burkina Faso\",\"male/Asia/Haiti\",\"female/Asia/Haiti\",\"female/Africa/Burundi\",\"female/Europe/Burundi\",\"female/Africa/Haiti\",\"female/South America/Guatemala\",\"male/Europe/Burundi\",\"female/North America/Burundi\",\"male/North America/Burundi\",\"male/North America/Guatemala\",\"female/Oceania/Burundi\",\"female/South America/Burundi\",\"male/South America/Burundi\",\"male/Africa/Guatemala\",\"female/North America/Cambodia\",\"male/Oceania/Cambodia\",\"male/South America/Guam\",\"male/South America/Cambodia\",\"male/Africa/Cameroon\",\"male/Asia/Cameroon\",\"female/Africa/Chile\",\"male/Africa/Burkina Faso\",\"male/Africa/Chile\",\"male/South America/Brazil\",\"female/Oceania/Honduras\",\"female/Africa/Bolivia\",\"male/South America/Iraq\",\"female/South America/Iraq\",\"male/Africa/Bolivia\",\"female/Asia/Bolivia\",\"female/Oceania/Iraq\",\"male/North America/Iraq\",\"male/Asia/Bolivia\",\"male/Europe/Iraq\",\"male/North America/Bolivia\",\"male/Asia/Iraq\",\"female/Africa/Ecuador\",\"male/Africa/Iraq\",\"female/Africa/Iraq\",\"female/Oceania/Bolivia\",\"female/Africa/Brazil\",\"male/North America/Indonesia\",\"male/Europe/Indonesia\",\"female/Europe/Indonesia\",\"female/Asia/Indonesia\",\"male/Europe/Brazil\",\"male/North America/Brazil\",\"female/South America/India\",\"female/Oceania/India\",\"female/North America/India\",\"female/Oceania/Brazil\",\"male/Asia/India\",\"male/Oceania/Brazil\",\"female/South America/Honduras\",\"female/South America/Brazil\",\"male/Africa/Israel\",\"female/Asia/Chile\",\"female/North America/Chile\",\"male/Europe/Congo\",\"male/Oceania/Congo\",\"female/Africa/Georgia\",\"male/South America/Congo\",\"female/Asia/Costa Rica\",\"male/Asia/Costa Rica\",\"male/Europe/Costa Rica\",\"female/South America/Costa Rica\",\"male/Asia/Cote D'Ivoire\",\"male/Oceania/El Salvador\",\"female/Europe/Cote D'Ivoire\",\"female/Oceania/Cote D'Ivoire\",\"male/South America/Cote D'Ivoire\",\"female/Europe/El Salvador\",\"male/Africa/Dominican Republic\",\"female/Asia/Dominican Republic\",\"female/Europe/Dominican Republic\",\"male/South America/Egypt\",\"female/South America/Egypt\",\"male/Oceania/Egypt\",\"female/Oceania/Egypt\",\"male/North America/Egypt\",\"female/North America/Egypt\",\"male/Europe/Egypt\",\"female/Europe/Egypt\",\"female/Asia/Egypt\",\"female/North America/Dominican Republic\",\"male/South America/Ecuador\",\"female/Oceania/Dominican Republic\",\"female/Europe/Congo\",\"male/Europe/Chile\",\"male/Asia/Congo\",\"male/Europe/Georgia\",\"female/South America/Guam\",\"male/Oceania/Guam\",\"male/North America/Guam\",\"female/North America/Guam\",\"male/Oceania/Chile\",\"female/Asia/Guam\",\"male/Africa/Guam\",\"female/Africa/China\",\"female/Asia/China\",\"female/Europe/China\",\"male/Europe/China\",\"male/Oceania/Ghana\",\"male/North America/Ghana\",\"female/North America/China\",\"male/North America/China\",\"male/Oceania/China\",\"female/Europe/Ghana\",\"male/South America/China\",\"female/Africa/Colombia\",\"male/Africa/Colombia\",\"female/Asia/Colombia\",\"male/South America/Georgia\",\"male/Asia/Colombia\",\"male/Oceania/Georgia\",\"female/North America/Colombia\",\"male/North America/Colombia\",\"female/Oceania/Colombia\",\"male/Oceania/Colombia\",\"female/Asia/Congo\",\"female/Asia/Georgia\",\"male/South America/Bhutan\",\"female/Asia/Iraq\",\"male/Oceania/Bhutan\",\"female/Africa/Armenia\",\"female/South America/Lesotho\",\"male/Africa/Armenia\",\"female/Oceania/Lesotho\",\"female/North America/Lesotho\",\"female/Asia/Armenia\",\"male/Asia/Armenia\",\"female/Europe/Armenia\",\"male/Europe/Armenia\",\"female/Asia/Lesotho\",\"female/North America/Armenia\",\"male/North America/Armenia\",\"female/Oceania/Lebanon\",\"female/North America/Lebanon\",\"female/Africa/Liberia\",\"male/Europe/Lebanon\",\"male/Africa/Lebanon\",\"female/Africa/Lebanon\",\"female/Oceania/Armenia\",\"female/Oceania/Lao People's Democratic Republic\",\"male/Oceania/Armenia\",\"female/South America/Bhutan\",\"male/South America/Armenia\",\"male/Europe/Lao People's Democratic Republic\",\"female/Africa/Azerbaijan\",\"male/Asia/Lao People's Democratic Republic\",\"female/Asia/Lao People's Democratic Republic\",\"male/Africa/Azerbaijan\",\"male/South America/Kyrgyzstan\",\"female/Asia/Azerbaijan\",\"female/Europe/Lebanon\",\"male/South America/Albania\",\"female/South America/Albania\",\"female/Europe/Liberia\",\"male/Africa/Afghanistan\",\"male/Oceania/Malawi\",\"female/Asia/Afghanistan\",\"male/Asia/Afghanistan\",\"female/Oceania/Malawi\",\"female/Europe/Afghanistan\",\"female/North America/Malawi\",\"female/North America/Afghanistan\",\"male/North America/Afghanistan\",\"female/Europe/Malawi\",\"male/Asia/Malawi\",\"female/Asia/Malawi\",\"female/Oceania/Afghanistan\",\"male/Africa/Malawi\",\"male/Oceania/Afghanistan\",\"female/South America/Afghanistan\",\"male/South America/Afghanistan\",\"male/Oceania/Liberia\",\"female/South America/Liberia\",\"male/Oceania/Albania\",\"female/Oceania/Albania\",\"male/North America/Albania\",\"female/North America/Albania\",\"male/Asia/Azerbaijan\",\"male/Europe/Albania\",\"male/Asia/Albania\",\"female/Asia/Albania\",\"male/Africa/Albania\",\"female/Africa/Albania\",\"male/North America/Madagascar\",\"female/Oceania/Madagascar\",\"female/Europe/Albania\",\"female/Europe/Azerbaijan\",\"female/South America/Armenia\",\"male/Europe/Azerbaijan\",\"female/Africa/Kosovo\",\"male/South America/Kenya\",\"female/South America/Kenya\",\"female/Oceania/Kenya\",\"male/Oceania/Kyrgyzstan\",\"male/Asia/Belize\",\"female/Europe/Kenya\",\"female/Europe/Belize\",\"male/North America/Belize\",\"female/Oceania/Belize\",\"female/Asia/Kenya\",\"female/Africa/Kenya\",\"female/Africa/Benin\",\"female/Asia/Benin\",\"male/Asia/Benin\",\"female/Europe/Benin\",\"male/North America/Jordan\",\"male/Europe/Benin\",\"male/Europe/Jordan\",\"female/South America/Benin\",\"male/Africa/Jordan\",\"male/South America/Benin\",\"male/South America/Israel\",\"female/Africa/Bhutan\",\"male/Asia/Bhutan\",\"female/North America/Israel\",\"male/Europe/Bhutan\",\"male/South America/Azerbaijan\",\"female/Asia/Kosovo\",\"female/Asia/Ecuador\",\"male/Europe/Kyrgyzstan\",\"female/North America/Kosovo\",\"female/Oceania/Azerbaijan\",\"male/Oceania/Kosovo\",\"male/Oceania/Azerbaijan\",\"male/South America/Kosovo\",\"male/Europe/Kosovo\",\"female/North America/Azerbaijan\",\"male/Asia/Kyrgyzstan\",\"female/Oceania/Kyrgyzstan\",\"male/North America/Azerbaijan\",\"male/Asia/Kosovo\",\"male/Europe/Virgin Islands\",\"male/Oceania/Togo\",\"male/South America/United States\",\"male/South America/Uganda\",\"female/Oceania/Bhutan\",\"male/Africa/Timor-Leste\",\"male/Africa/United States\",\"female/Europe/Costa Rica\",\"female/Africa/United States\",\"male/North America/United States\",\"female/Oceania/Costa Rica\",\"female/South America/Ukraine\",\"male/Oceania/Ukraine\",\"male/Europe/Cambodia\",\"female/Africa\",\"female/Asia/Ukraine\",\"female/South America/Timor-Leste\",\"female/North America/Virgin Islands\",\"female/Africa/Dominican Republic\",\"female/Africa/Costa Rica\",\"female/Asia/Yemen\",\"female/North America/Bolivia\",\"female/Oceania/Cambodia\",\"male/North America/Turkey\",\"male/North America/Congo\",\"male/Asia/Brazil\",\"male/Oceania/Yemen\",\"female/South America/Yemen\",\"female/South America/Chile\",\"female/South America/Turkey\",\"female/Africa/Belize\",\"female/North America/Thailand\",\"male/Africa/Uganda\",\"female/Oceania/China\",\"male/Africa/Belize\",\"female/Oceania/Chile\",\"male/North America/Vietnam\",\"female/Europe/The Democratic Republic of the Congo\",\"female/North America/Vietnam\",\"female/South America/Tanzania\",\"female/Oceania/Burkina Faso\",\"male/Europe/Vietnam\",\"male/North America/Chile\",\"female/Oceania/Zambia\",\"male/North America/Tanzania\",\"male/North America/The Democratic Republic of the Congo\",\"female/Oceania/The Democratic Republic of the Congo\",\"male/Asia/Vietnam\",\"male/South America/Zambia\",\"male/Africa/Tanzania\",\"female/Europe/Brazil\",\"female/Africa/Tanzania\",\"female/South America/Tajikistan\",\"male/Asia/Turkey\",\"female/Oceania/Yemen\",\"female/Europe/Zimbabwe\",\"male/North America/Zambia\",\"male\",\"male/South America/Honduras\",\"female/Africa/Namibia\",\"female/South America/Kyrgyzstan\",\"female/Asia/Philippines\",\"male/Oceania/Myanmar (Burma)\",\"female/Oceania/Myanmar (Burma)\",\"female/North America/Philippines\",\"male/South America/Philippines\",\"female/Africa/Lao People's Democratic Republic\",\"male/Africa/Lao People's Democratic Republic\",\"male/Asia/Puerto Rico\",\"male/Asia/Guatemala\",\"female/North America/Puerto Rico\",\"male/North America/Puerto Rico\",\"female/Europe/Lao People's Democratic Republic\",\"male/North America/Peru\",\"female/Africa/Myanmar (Burma)\",\"female/North America/Lao People's Democratic Republic\",\"male/North America/Lao People's Democratic Republic\",\"male/Oceania/Lao People's Democratic Republic\",\"female/Asia/Rwanda\",\"female/Asia/Mozambique\",\"female/Africa/Mozambique\",\"male/South America/Lebanon\",\"female/Africa/Lesotho\",\"male/Asia/Rwanda\",\"female/North America/Rwanda\",\"male/North America/Mongolia\",\"male/North America/Rwanda\",\"female/Oceania/Rwanda\",\"female/Africa/Saint Vincent and the Grenadines\",\"male/South America/Puerto Rico\",\"female/Asia/Saint Vincent and the Grenadines\",\"male/North America/Kyrgyzstan\",\"male/Africa/Honduras\",\"female/North America/Jordan\",\"female/Asia/Jordan\",\"male/North America/Nigeria\",\"female/South America/Israel\",\"female/South America/Nigeria\",\"male/Oceania/Israel\",\"male/Europe/Israel\",\"female/Europe/Israel\",\"male/Europe/Nicaragua\",\"male/Europe/Pakistan\",\"female/North America/Pakistan\",\"female/Oceania/Pakistan\",\"female/South America/Pakistan\",\"female/Africa/Israel\",\"male/North America/Kosovo\",\"female/Africa/Palestine\",\"male/Oceania/Nepal\",\"female/North America/Iraq\",\"female/Oceania/Palestine\",\"female/South America/Palestine\",\"male/South America/Indonesia\",\"male/Europe/Panama\",\"female/South America/Indonesia\",\"female/North America/Indonesia\",\"female/Africa/Indonesia\",\"male/South America/India\",\"female/Europe/India\",\"male/Europe/Nepal\",\"male/North America/Honduras\",\"female/Europe/Nepal\",\"male/South America/Nepal\",\"female/Europe/Saint Vincent and the Grenadines\",\"male/Europe/Rwanda\",\"male/Europe/Saint Vincent and the Grenadines\",\"male/Europe/Sierra Leone\",\"female/North America/Sierra Leone\",\"male/North America/Sierra Leone\",\"female/Oceania/Sierra Leone\",\"female/Europe/Mali\",\"male/North America/Mexico\",\"male/Europe/Madagascar\",\"male/Africa/Solomon Islands\",\"female/South America/El Salvador\",\"female/Europe/Solomon Islands\",\"male/Europe/Solomon Islands\",\"female/Europe/Mexico\",\"female/North America/Solomon Islands\",\"male/Asia/Mexico\",\"male/North America/Solomon Islands\",\"male/Oceania/Solomon Islands\",\"female/Asia/Mexico\",\"female/South America/Solomon Islands\",\"male/South America/Solomon Islands\",\"female/North America/El Salvador\",\"male/North America/Mauritania\",\"female/Africa/Egypt\",\"male/Europe/Malawi\",\"female/South America/Ecuador\",\"male/North America/Malawi\",\"female/South America/Mali\",\"male/Oceania/Mali\",\"female/Europe/Sierra Leone\",\"male/Asia/Sierra Leone\",\"male/South America/Sierra Leone\",\"female/North America/Samoa\",\"female/North America/Saint Vincent and the Grenadines\",\"male/Oceania/Lesotho\",\"male/South America/Lesotho\",\"male/South America/Saint Vincent and the Grenadines\",\"male/South America/Ghana\",\"male/Asia/Liberia\",\"male/North America/Samoa\",\"male/Europe/Ghana\",\"male/Asia/Ghana\",\"female/Africa/Senegal\",\"male/Africa/Senegal\",\"male/Africa/Ghana\",\"male/South America/Liberia\",\"female/Oceania/Jordan\",\"male/South America/Mexico\",\"female/North America/Senegal\",\"female/Oceania/Georgia\",\"female/Africa/Moldova\",\"male/North America/Senegal\",\"female/Africa/Madagascar\",\"male/South America/Senegal\",\"female/South America/Madagascar\",\"male/Oceania/Mexico\",\"female/Europe/Nicaragua\",\"male/Europe\",\"male/Europe/Belize\",\"female/Asia/Mauritania\",\"male/Oceania/Madagascar\",\"female/North America/Mongolia\",\"female/North America/Nicaragua\",\"female/Europe/Lesotho\",\"male/North America/Nicaragua\",\"female/South America/Nicaragua\",\"male/Africa/Mali\",\"male/South America/Moldova\",\"female/North America/Kenya\",\"male/South America/Namibia\",\"female/Africa/Nepal\",\"female/Europe/Mongolia\",\"female/Asia/Kyrgyzstan\",\"female/North America/Madagascar\",\"female/South America/Vietnam\",\"female/North America/Liberia\",\"male/Oceania/Vietnam\",\"female/Asia/Madagascar\",\"male/South America/Mauritania\",\"male/Africa/Namibia\",\"male/North America/Nepal\",\"female/Africa/Yemen\",\"female/Asia/Liberia\",\"male/Oceania/Moldova\",\"male/Africa/Lesotho\",\"male/North America/Kenya\",\"male/South America/Jordan\",\"female/South America/Zimbabwe\",\"male/South America/Virgin Islands\",\"female/Europe/Ecuador\",\"female/North America/Vanuatu\",\"female/South America/Senegal\",\"male/Oceania/Senegal\",\"female/Oceania/Senegal\",\"female/Europe/Senegal\",\"male/South America/Samoa\",\"male/Europe/Samoa\",\"female/North America/Ghana\",\"male/Africa/Samoa\",\"female/South America/Saint Vincent and the Grenadines\",\"male/South America/Chile\",\"male/Europe/Guam\",\"male/Asia/The Democratic Republic of the Congo\",\"male/Europe/The Democratic Republic of the Congo\",\"male/Africa/Saint Vincent and the Grenadines\",\"female/Europe/Chile\",\"male/Oceania/Tajikistan\",\"female/Oceania/Congo\",\"female/Africa/Solomon Islands\",\"male/Africa/Tajikistan\",\"female/North America/Ecuador\",\"female/South America/Dominican Republic\",\"male/South America/South Africa\",\"male/Oceania/Dominican Republic\",\"male/Africa/South Sudan\",\"male/North America/Dominican Republic\",\"male/Europe/South Sudan\",\"female/Europe/Rwanda\",\"male/Europe/Dominican Republic\",\"male/Asia/Somalia\",\"female/Asia/Somalia\",\"male/North America/Cote D'Ivoire\",\"female/Europe/Suriname\",\"male/Africa/Cote D'Ivoire\",\"male/North America/Suriname\",\"male/Asia/Solomon Islands\",\"female/Asia/El Salvador\",\"female/Africa/Nigeria\",\"male/South America/Cameroon\",\"male/Oceania/Cameroon\",\"male/Europe/Honduras\",\"male/North America/South Africa\",\"female/North America/Brazil\",\"female/Africa/Paraguay\",\"male/Africa/Panama\",\"female/Europe/Palestine\",\"male/North America/Ukraine\",\"male/Oceania/Iraq\",\"male/Oceania/Pakistan\",\"female/Europe/United States\",\"female/Asia/Israel\",\"male/Asia/Pakistan\",\"female/Africa/Vanuatu\",\"male/Oceania/Benin\",\"female/Europe/Vanuatu\",\"male/Asia/Honduras\",\"female/Africa/Uganda\",\"female/Europe/Peru\",\"female/South America/Haiti\",\"female/North America/Cameroon\",\"male/Oceania/Timor-Leste\",\"male/Africa/Rwanda\",\"female/Africa/Rwanda\",\"female/Africa/Guatemala\",\"female/Oceania/Puerto Rico\",\"male/Europe/Guatemala\",\"male/Europe/Timor-Leste\",\"female/Africa/Puerto Rico\",\"male/Oceania/Guatemala\",\"male/Africa/Turkey\",\"male/Africa/Haiti\",\"male/Africa/Philippines\",\"female/South America/Peru\",\"female/North America/Haiti\",\"female/North America/Peru\",\"female/Oceania/Guatemala\",\"male/Asia/Mali\"],\"labels\":[\"Mauritania\",\"Guatemala\",\"Puerto Rico\",\"Puerto Rico\",\"Guam\",\"Guam\",\"Guam\",\"Saint Vincent and the Grenadines\",\"Guam\",\"Ghana\",\"Samoa\",\"Ghana\",\"Samoa\",\"Ghana\",\"Senegal\",\"Ghana\",\"Georgia\",\"Senegal\",\"Georgia\",\"Georgia\",\"Guatemala\",\"Sierra Leone\",\"Puerto Rico\",\"Philippines\",\"India\",\"India\",\"India\",\"India\",\"Honduras\",\"Honduras\",\"Peru\",\"Honduras\",\"Honduras\",\"Haiti\",\"Peru\",\"Haiti\",\"Haiti\",\"Peru\",\"Philippines\",\"Philippines\",\"Philippines\",\"Philippines\",\"Guatemala\",\"Guatemala\",\"India\",\"Georgia\",\"El Salvador\",\"Cote D'Ivoire\",\"Cote D'Ivoire\",\"Costa Rica\",\"Costa Rica\",\"Costa Rica\",\"Costa Rica\",\"Suriname\",\"Costa Rica\",\"Tajikistan\",\"Congo\",\"Congo\",\"Tajikistan\",\"Tajikistan\",\"Congo\",\"Congo\",\"Colombia\",\"Colombia\",\"Tanzania\",\"Tanzania\",\"Cote D'Ivoire\",\"Georgia\",\"Cote D'Ivoire\",\"Cote D'Ivoire\",\"El Salvador\",\"El Salvador\",\"El Salvador\",\"El Salvador\",\"El Salvador\",\"El Salvador\",\"Somalia\",\"Egypt\",\"Egypt\",\"Ecuador\",\"Ecuador\",\"Ecuador\",\"South Africa\",\"Ecuador\",\"Ecuador\",\"Ecuador\",\"Dominican Republic\",\"South Sudan\",\"Dominican Republic\",\"Cote D'Ivoire\",\"Colombia\",\"India\",\"Indonesia\",\"Lesotho\",\"Mongolia\",\"Lesotho\",\"Mongolia\",\"Mongolia\",\"Lebanon\",\"Lebanon\",\"Mozambique\",\"Lebanon\",\"Lebanon\",\"Lebanon\",\"Mozambique\",\"Lao People's Democratic Republic\",\"Lao People's Democratic Republic\",\"Mozambique\",\"Mozambique\",\"Myanmar (Burma)\",\"Myanmar (Burma)\",\"Myanmar (Burma)\",\"Lesotho\",\"Myanmar (Burma)\",\"Mongolia\",\"Liberia\",\"Mali\",\"Mali\",\"Malawi\",\"Malawi\",\"Mali\",\"Mauritania\",\"Malawi\",\"Madagascar\",\"Mexico\",\"Mexico\",\"Madagascar\",\"Madagascar\",\"Madagascar\",\"Moldova\",\"Liberia\",\"Liberia\",\"Moldova\",\"Liberia\",\"Moldova\",\"Mongolia\",\"Indonesia\",\"Namibia\",\"Kyrgyzstan\",\"Jordan\",\"Jordan\",\"Nigeria\",\"Jordan\",\"Nigeria\",\"Israel\",\"Israel\",\"Pakistan\",\"Pakistan\",\"Israel\",\"Palestine\",\"Palestine\",\"Palestine\",\"Iraq\",\"Panama\",\"Indonesia\",\"Indonesia\",\"Panama\",\"Panama\",\"Nigeria\",\"Kyrgyzstan\",\"Jordan\",\"Nicaragua\",\"Namibia\",\"Kyrgyzstan\",\"Kyrgyzstan\",\"Namibia\",\"Kosovo\",\"Namibia\",\"Kosovo\",\"Kosovo\",\"Nepal\",\"Kosovo\",\"Nepal\",\"Kenya\",\"Nicaragua\",\"Nicaragua\",\"Nicaragua\",\"Kenya\",\"Nicaragua\",\"Kenya\",\"Kenya\",\"Jordan\",\"Colombia\",\"Mali\",\"Cambodia\",\"Togo\",\"Turkey\",\"Burundi\",\"Burundi\",\"Burundi\",\"Turkey\",\"Burkina Faso\",\"Virgin Islands\",\"Virgin Islands\",\"Turkey\",\"Turkey\",\"Virgin Islands\",\"Burkina Faso\",\"Burkina Faso\",\"Burkina Faso\",\"Azerbaijan\",\"Virgin Islands\",\"Burkina Faso\",\"Togo\",\"Burundi\",\"Cambodia\",\"Togo\",\"Cambodia\",\"Yemen\",\"Yemen\",\"Yemen\",\"Togo\",\"Togo\",\"Cambodia\",\"Cambodia\",\"Cambodia\",\"Yemen\",\"Bhutan\",\"Togo\",\"Virgin Islands\",\"Togo\",\"Cambodia\",\"Turkey\",\"Turkey\",\"Burkina Faso\",\"Vanuatu\",\"Vanuatu\",\"Ukraine\",\"Vanuatu\",\"Bolivia\",\"Bolivia\",\"Benin\",\"Benin\",\"Benin\",\"Vanuatu\",\"Ukraine\",\"United States\",\"Bhutan\",\"Bhutan\",\"United States\",\"Bhutan\",\"Benin\",\"Vanuatu\",\"Belize\",\"Bolivia\",\"Vietnam\",\"Belize\",\"Vietnam\",\"Uganda\",\"Vietnam\",\"Vietnam\",\"Uganda\",\"Belize\",\"Uganda\",\"Uganda\",\"Brazil\",\"Brazil\",\"Belize\",\"Bolivia\",\"Bolivia\",\"Belize\",\"Tanzania\",\"Yemen\",\"Cameroon\",\"Bhutan\",\"Afghanistan\",\"Timor-Leste\",\"Zimbabwe\",\"Cameroon\",\"Zimbabwe\",\"Zambia\",\"South America\",\"Oceania\",\"Thailand\",\"Cameroon\",\"Thailand\",\"Chile\",\"Timor-Leste\",\"Europe\",\"Thailand\",\"Timor-Leste\",\"China\",\"China\",\"Cameroon\",\"Cameroon\",\"Cameroon\",\"The Democratic Republic of the Congo\",\"The Democratic Republic of the Congo\",\"Zambia\",\"Tanzania\",\"The Democratic Republic of the Congo\",\"Thailand\",\"South America\",\"Zambia\",\"Asia\",\"Zambia\",\"Timor-Leste\",\"The Democratic Republic of the Congo\",\"Thailand\",\"The Democratic Republic of the Congo\",\"Africa\",\"Cameroon\",\"Zimbabwe\",\"Timor-Leste\",\"China\",\"Nepal\",\"Mauritania\",\"Nepal\",\"Nepal\",\"North America\",\"North America\",\"Vanuatu\",\"Mauritania\",\"Zambia\",\"Mauritania\",\"United States\",\"United States\",\"Nigeria\",\"Nigeria\",\"Mali\",\"Nigeria\",\"Vanuatu\",\"Vanuatu\",\"Nigeria\",\"Nigeria\",\"Nigeria\",\"Oceania\",\"Nicaragua\",\"Vietnam\",\"Mali\",\"female\",\"Nicaragua\",\"Vanuatu\",\"Mauritania\",\"Mauritania\",\"Mauritania\",\"Mauritania\",\"Mexico\",\"Vietnam\",\"Namibia\",\"Zimbabwe\",\"Myanmar (Burma)\",\"Virgin Islands\",\"Mozambique\",\"Mozambique\",\"Moldova\",\"Moldova\",\"Mongolia\",\"Zambia\",\"Mongolia\",\"Zambia\",\"Zambia\",\"Mozambique\",\"Yemen\",\"Mozambique\",\"Zambia\",\"Mozambique\",\"Mozambique\",\"Mongolia\",\"Yemen\",\"Mongolia\",\"Virgin Islands\",\"Nepal\",\"Zimbabwe\",\"Moldova\",\"Namibia\",\"Asia\",\"Mexico\",\"Mexico\",\"Zimbabwe\",\"Namibia\",\"Virgin Islands\",\"Mexico\",\"Namibia\",\"Moldova\",\"Zimbabwe\",\"Moldova\",\"Zimbabwe\",\"Virgin Islands\",\"Namibia\",\"Zimbabwe\",\"Zimbabwe\",\"Myanmar (Burma)\",\"Myanmar (Burma)\",\"Myanmar (Burma)\",\"Moldova\",\"Myanmar (Burma)\",\"Tanzania\",\"Paraguay\",\"Pakistan\",\"South Sudan\",\"South Sudan\",\"South Sudan\",\"South Africa\",\"South Africa\",\"South Africa\",\"Timor-Leste\",\"South Africa\",\"South Africa\",\"South Africa\",\"South Africa\",\"South Africa\",\"South Africa\",\"Somalia\",\"Somalia\",\"Somalia\",\"Mali\",\"Timor-Leste\",\"Somalia\",\"Somalia\",\"Togo\",\"Somalia\",\"Somalia\",\"Somalia\",\"Togo\",\"Solomon Islands\",\"Solomon Islands\",\"Togo\",\"Sierra Leone\",\"South Sudan\",\"Sierra Leone\",\"South Sudan\",\"South Sudan\",\"Tanzania\",\"Tanzania\",\"Thailand\",\"Thailand\",\"Tanzania\",\"Tajikistan\",\"Thailand\",\"Thailand\",\"Tajikistan\",\"Tajikistan\",\"Tajikistan\",\"Tajikistan\",\"Thailand\",\"Tajikistan\",\"Suriname\",\"Suriname\",\"Thailand\",\"Suriname\",\"Suriname\",\"The Democratic Republic of the Congo\",\"Suriname\",\"Suriname\",\"Suriname\",\"The Democratic Republic of the Congo\",\"Suriname\",\"Suriname\",\"Timor-Leste\",\"South Sudan\",\"South Sudan\",\"South Sudan\",\"Sierra Leone\",\"Sierra Leone\",\"Senegal\",\"Ukraine\",\"Paraguay\",\"Paraguay\",\"Ukraine\",\"Paraguay\",\"Ukraine\",\"Paraguay\",\"Paraguay\",\"Paraguay\",\"Panama\",\"Panama\",\"Panama\",\"Ukraine\",\"Ukraine\",\"Ukraine\",\"Panama\",\"Panama\",\"Panama\",\"Panama\",\"Palestine\",\"United States\",\"United States\",\"Palestine\",\"Palestine\",\"Palestine\",\"Palestine\",\"United States\",\"Pakistan\",\"Pakistan\",\"Paraguay\",\"Paraguay\",\"Paraguay\",\"Paraguay\",\"Samoa\",\"Samoa\",\"Samoa\",\"Samoa\",\"Togo\",\"Samoa\",\"Saint Vincent and the Grenadines\",\"Saint Vincent and the Grenadines\",\"Saint Vincent and the Grenadines\",\"Rwanda\",\"Rwanda\",\"Rwanda\",\"Turkey\",\"Puerto Rico\",\"Pakistan\",\"Puerto Rico\",\"Philippines\",\"Turkey\",\"Philippines\",\"Philippines\",\"Uganda\",\"Peru\",\"Uganda\",\"Uganda\",\"Peru\",\"Uganda\",\"Peru\",\"Peru\",\"Uganda\",\"Peru\",\"Puerto Rico\",\"Somalia\",\"Afghanistan\",\"Georgia\",\"Honduras\",\"Burkina Faso\",\"Burkina Faso\",\"Haiti\",\"Burkina Faso\",\"Haiti\",\"Haiti\",\"Burkina Faso\",\"Haiti\",\"Haiti\",\"Burundi\",\"Burundi\",\"Haiti\",\"Guatemala\",\"Burundi\",\"Burundi\",\"Burundi\",\"Guatemala\",\"Burundi\",\"Burundi\",\"Burundi\",\"Guatemala\",\"Cambodia\",\"Cambodia\",\"Guam\",\"Cambodia\",\"Cameroon\",\"Cameroon\",\"Chile\",\"Burkina Faso\",\"Chile\",\"Brazil\",\"Honduras\",\"Bolivia\",\"Iraq\",\"Iraq\",\"Bolivia\",\"Bolivia\",\"Iraq\",\"Iraq\",\"Bolivia\",\"Iraq\",\"Bolivia\",\"Iraq\",\"Ecuador\",\"Iraq\",\"Iraq\",\"Bolivia\",\"Brazil\",\"Indonesia\",\"Indonesia\",\"Indonesia\",\"Indonesia\",\"Brazil\",\"Brazil\",\"India\",\"India\",\"India\",\"Brazil\",\"India\",\"Brazil\",\"Honduras\",\"Brazil\",\"Israel\",\"Chile\",\"Chile\",\"Congo\",\"Congo\",\"Georgia\",\"Congo\",\"Costa Rica\",\"Costa Rica\",\"Costa Rica\",\"Costa Rica\",\"Cote D'Ivoire\",\"El Salvador\",\"Cote D'Ivoire\",\"Cote D'Ivoire\",\"Cote D'Ivoire\",\"El Salvador\",\"Dominican Republic\",\"Dominican Republic\",\"Dominican Republic\",\"Egypt\",\"Egypt\",\"Egypt\",\"Egypt\",\"Egypt\",\"Egypt\",\"Egypt\",\"Egypt\",\"Egypt\",\"Dominican Republic\",\"Ecuador\",\"Dominican Republic\",\"Congo\",\"Chile\",\"Congo\",\"Georgia\",\"Guam\",\"Guam\",\"Guam\",\"Guam\",\"Chile\",\"Guam\",\"Guam\",\"China\",\"China\",\"China\",\"China\",\"Ghana\",\"Ghana\",\"China\",\"China\",\"China\",\"Ghana\",\"China\",\"Colombia\",\"Colombia\",\"Colombia\",\"Georgia\",\"Colombia\",\"Georgia\",\"Colombia\",\"Colombia\",\"Colombia\",\"Colombia\",\"Congo\",\"Georgia\",\"Bhutan\",\"Iraq\",\"Bhutan\",\"Armenia\",\"Lesotho\",\"Armenia\",\"Lesotho\",\"Lesotho\",\"Armenia\",\"Armenia\",\"Armenia\",\"Armenia\",\"Lesotho\",\"Armenia\",\"Armenia\",\"Lebanon\",\"Lebanon\",\"Liberia\",\"Lebanon\",\"Lebanon\",\"Lebanon\",\"Armenia\",\"Lao People's Democratic Republic\",\"Armenia\",\"Bhutan\",\"Armenia\",\"Lao People's Democratic Republic\",\"Azerbaijan\",\"Lao People's Democratic Republic\",\"Lao People's Democratic Republic\",\"Azerbaijan\",\"Kyrgyzstan\",\"Azerbaijan\",\"Lebanon\",\"Albania\",\"Albania\",\"Liberia\",\"Afghanistan\",\"Malawi\",\"Afghanistan\",\"Afghanistan\",\"Malawi\",\"Afghanistan\",\"Malawi\",\"Afghanistan\",\"Afghanistan\",\"Malawi\",\"Malawi\",\"Malawi\",\"Afghanistan\",\"Malawi\",\"Afghanistan\",\"Afghanistan\",\"Afghanistan\",\"Liberia\",\"Liberia\",\"Albania\",\"Albania\",\"Albania\",\"Albania\",\"Azerbaijan\",\"Albania\",\"Albania\",\"Albania\",\"Albania\",\"Albania\",\"Madagascar\",\"Madagascar\",\"Albania\",\"Azerbaijan\",\"Armenia\",\"Azerbaijan\",\"Kosovo\",\"Kenya\",\"Kenya\",\"Kenya\",\"Kyrgyzstan\",\"Belize\",\"Kenya\",\"Belize\",\"Belize\",\"Belize\",\"Kenya\",\"Kenya\",\"Benin\",\"Benin\",\"Benin\",\"Benin\",\"Jordan\",\"Benin\",\"Jordan\",\"Benin\",\"Jordan\",\"Benin\",\"Israel\",\"Bhutan\",\"Bhutan\",\"Israel\",\"Bhutan\",\"Azerbaijan\",\"Kosovo\",\"Ecuador\",\"Kyrgyzstan\",\"Kosovo\",\"Azerbaijan\",\"Kosovo\",\"Azerbaijan\",\"Kosovo\",\"Kosovo\",\"Azerbaijan\",\"Kyrgyzstan\",\"Kyrgyzstan\",\"Azerbaijan\",\"Kosovo\",\"Virgin Islands\",\"Togo\",\"United States\",\"Uganda\",\"Bhutan\",\"Timor-Leste\",\"United States\",\"Costa Rica\",\"United States\",\"United States\",\"Costa Rica\",\"Ukraine\",\"Ukraine\",\"Cambodia\",\"Africa\",\"Ukraine\",\"Timor-Leste\",\"Virgin Islands\",\"Dominican Republic\",\"Costa Rica\",\"Yemen\",\"Bolivia\",\"Cambodia\",\"Turkey\",\"Congo\",\"Brazil\",\"Yemen\",\"Yemen\",\"Chile\",\"Turkey\",\"Belize\",\"Thailand\",\"Uganda\",\"China\",\"Belize\",\"Chile\",\"Vietnam\",\"The Democratic Republic of the Congo\",\"Vietnam\",\"Tanzania\",\"Burkina Faso\",\"Vietnam\",\"Chile\",\"Zambia\",\"Tanzania\",\"The Democratic Republic of the Congo\",\"The Democratic Republic of the Congo\",\"Vietnam\",\"Zambia\",\"Tanzania\",\"Brazil\",\"Tanzania\",\"Tajikistan\",\"Turkey\",\"Yemen\",\"Zimbabwe\",\"Zambia\",\"male\",\"Honduras\",\"Namibia\",\"Kyrgyzstan\",\"Philippines\",\"Myanmar (Burma)\",\"Myanmar (Burma)\",\"Philippines\",\"Philippines\",\"Lao People's Democratic Republic\",\"Lao People's Democratic Republic\",\"Puerto Rico\",\"Guatemala\",\"Puerto Rico\",\"Puerto Rico\",\"Lao People's Democratic Republic\",\"Peru\",\"Myanmar (Burma)\",\"Lao People's Democratic Republic\",\"Lao People's Democratic Republic\",\"Lao People's Democratic Republic\",\"Rwanda\",\"Mozambique\",\"Mozambique\",\"Lebanon\",\"Lesotho\",\"Rwanda\",\"Rwanda\",\"Mongolia\",\"Rwanda\",\"Rwanda\",\"Saint Vincent and the Grenadines\",\"Puerto Rico\",\"Saint Vincent and the Grenadines\",\"Kyrgyzstan\",\"Honduras\",\"Jordan\",\"Jordan\",\"Nigeria\",\"Israel\",\"Nigeria\",\"Israel\",\"Israel\",\"Israel\",\"Nicaragua\",\"Pakistan\",\"Pakistan\",\"Pakistan\",\"Pakistan\",\"Israel\",\"Kosovo\",\"Palestine\",\"Nepal\",\"Iraq\",\"Palestine\",\"Palestine\",\"Indonesia\",\"Panama\",\"Indonesia\",\"Indonesia\",\"Indonesia\",\"India\",\"India\",\"Nepal\",\"Honduras\",\"Nepal\",\"Nepal\",\"Saint Vincent and the Grenadines\",\"Rwanda\",\"Saint Vincent and the Grenadines\",\"Sierra Leone\",\"Sierra Leone\",\"Sierra Leone\",\"Sierra Leone\",\"Mali\",\"Mexico\",\"Madagascar\",\"Solomon Islands\",\"El Salvador\",\"Solomon Islands\",\"Solomon Islands\",\"Mexico\",\"Solomon Islands\",\"Mexico\",\"Solomon Islands\",\"Solomon Islands\",\"Mexico\",\"Solomon Islands\",\"Solomon Islands\",\"El Salvador\",\"Mauritania\",\"Egypt\",\"Malawi\",\"Ecuador\",\"Malawi\",\"Mali\",\"Mali\",\"Sierra Leone\",\"Sierra Leone\",\"Sierra Leone\",\"Samoa\",\"Saint Vincent and the Grenadines\",\"Lesotho\",\"Lesotho\",\"Saint Vincent and the Grenadines\",\"Ghana\",\"Liberia\",\"Samoa\",\"Ghana\",\"Ghana\",\"Senegal\",\"Senegal\",\"Ghana\",\"Liberia\",\"Jordan\",\"Mexico\",\"Senegal\",\"Georgia\",\"Moldova\",\"Senegal\",\"Madagascar\",\"Senegal\",\"Madagascar\",\"Mexico\",\"Nicaragua\",\"Europe\",\"Belize\",\"Mauritania\",\"Madagascar\",\"Mongolia\",\"Nicaragua\",\"Lesotho\",\"Nicaragua\",\"Nicaragua\",\"Mali\",\"Moldova\",\"Kenya\",\"Namibia\",\"Nepal\",\"Mongolia\",\"Kyrgyzstan\",\"Madagascar\",\"Vietnam\",\"Liberia\",\"Vietnam\",\"Madagascar\",\"Mauritania\",\"Namibia\",\"Nepal\",\"Yemen\",\"Liberia\",\"Moldova\",\"Lesotho\",\"Kenya\",\"Jordan\",\"Zimbabwe\",\"Virgin Islands\",\"Ecuador\",\"Vanuatu\",\"Senegal\",\"Senegal\",\"Senegal\",\"Senegal\",\"Samoa\",\"Samoa\",\"Ghana\",\"Samoa\",\"Saint Vincent and the Grenadines\",\"Chile\",\"Guam\",\"The Democratic Republic of the Congo\",\"The Democratic Republic of the Congo\",\"Saint Vincent and the Grenadines\",\"Chile\",\"Tajikistan\",\"Congo\",\"Solomon Islands\",\"Tajikistan\",\"Ecuador\",\"Dominican Republic\",\"South Africa\",\"Dominican Republic\",\"South Sudan\",\"Dominican Republic\",\"South Sudan\",\"Rwanda\",\"Dominican Republic\",\"Somalia\",\"Somalia\",\"Cote D'Ivoire\",\"Suriname\",\"Cote D'Ivoire\",\"Suriname\",\"Solomon Islands\",\"El Salvador\",\"Nigeria\",\"Cameroon\",\"Cameroon\",\"Honduras\",\"South Africa\",\"Brazil\",\"Paraguay\",\"Panama\",\"Palestine\",\"Ukraine\",\"Iraq\",\"Pakistan\",\"United States\",\"Israel\",\"Pakistan\",\"Vanuatu\",\"Benin\",\"Vanuatu\",\"Honduras\",\"Uganda\",\"Peru\",\"Haiti\",\"Cameroon\",\"Timor-Leste\",\"Rwanda\",\"Rwanda\",\"Guatemala\",\"Puerto Rico\",\"Guatemala\",\"Timor-Leste\",\"Puerto Rico\",\"Guatemala\",\"Turkey\",\"Haiti\",\"Philippines\",\"Peru\",\"Haiti\",\"Peru\",\"Guatemala\",\"Mali\"],\"marker\":{\"colors\":[\"#636efa\",\"#636efa\",\"#636efa\",\"#636efa\",\"#EF553B\",\"#636efa\",\"#636efa\",\"#636efa\",\"#636efa\",\"#636efa\",\"#636efa\",\"#636efa\",\"#636efa\",\"#636efa\",\"#636efa\",\"#00cc96\",\"#636efa\",\"#636efa\",\"#636efa\",\"#636efa\",\"#636efa\",\"#00cc96\",\"#636efa\",\"#636efa\",\"#636efa\",\"#ab63fa\",\"#636efa\",\"#636efa\",\"#636efa\",\"#FFA15A\",\"#636efa\",\"#636efa\",\"#636efa\",\"#636efa\",\"#636efa\",\"#636efa\",\"#FFA15A\",\"#636efa\",\"#636efa\",\"#ab63fa\",\"#636efa\",\"#636efa\",\"#636efa\",\"#FFA15A\",\"#636efa\",\"#19d3f3\",\"#636efa\",\"#636efa\",\"#00cc96\",\"#636efa\",\"#636efa\",\"#FFA15A\",\"#FFA15A\",\"#FF6692\",\"#636efa\",\"#ab63fa\",\"#636efa\",\"#636efa\",\"#636efa\",\"#636efa\",\"#00cc96\",\"#00cc96\",\"#FF6692\",\"#FF6692\",\"#636efa\",\"#636efa\",\"#636efa\",\"#636efa\",\"#636efa\",\"#636efa\",\"#636efa\",\"#FFA15A\",\"#636efa\",\"#636efa\",\"#636efa\",\"#636efa\",\"#636efa\",\"#636efa\",\"#00cc96\",\"#636efa\",\"#636efa\",\"#636efa\",\"#636efa\",\"#636efa\",\"#636efa\",\"#636efa\",\"#636efa\",\"#636efa\",\"#636efa\",\"#636efa\",\"#636efa\",\"#636efa\",\"#ab63fa\",\"#636efa\",\"#636efa\",\"#636efa\",\"#636efa\",\"#636efa\",\"#636efa\",\"#636efa\",\"#00cc96\",\"#636efa\",\"#ab63fa\",\"#ab63fa\",\"#636efa\",\"#636efa\",\"#636efa\",\"#636efa\",\"#636efa\",\"#636efa\",\"#ab63fa\",\"#636efa\",\"#636efa\",\"#636efa\",\"#636efa\",\"#00cc96\",\"#636efa\",\"#00cc96\",\"#636efa\",\"#636efa\",\"#636efa\",\"#636efa\",\"#00cc96\",\"#636efa\",\"#636efa\",\"#636efa\",\"#636efa\",\"#636efa\",\"#00cc96\",\"#636efa\",\"#636efa\",\"#636efa\",\"#19d3f3\",\"#636efa\",\"#636efa\",\"#636efa\",\"#636efa\",\"#636efa\",\"#636efa\",\"#636efa\",\"#ab63fa\",\"#636efa\",\"#636efa\",\"#636efa\",\"#636efa\",\"#636efa\",\"#636efa\",\"#636efa\",\"#ab63fa\",\"#636efa\",\"#ab63fa\",\"#636efa\",\"#636efa\",\"#636efa\",\"#636efa\",\"#636efa\",\"#FFA15A\",\"#636efa\",\"#636efa\",\"#636efa\",\"#636efa\",\"#636efa\",\"#636efa\",\"#636efa\",\"#636efa\",\"#636efa\",\"#636efa\",\"#636efa\",\"#636efa\",\"#19d3f3\",\"#ab63fa\",\"#636efa\",\"#636efa\",\"#636efa\",\"#636efa\",\"#636efa\",\"#636efa\",\"#636efa\",\"#636efa\",\"#636efa\",\"#00cc96\",\"#636efa\",\"#636efa\",\"#636efa\",\"#636efa\",\"#636efa\",\"#636efa\",\"#636efa\",\"#636efa\",\"#00cc96\",\"#ab63fa\",\"#636efa\",\"#636efa\",\"#636efa\",\"#636efa\",\"#636efa\",\"#636efa\",\"#636efa\",\"#636efa\",\"#636efa\",\"#636efa\",\"#636efa\",\"#636efa\",\"#636efa\",\"#636efa\",\"#636efa\",\"#00cc96\",\"#636efa\",\"#636efa\",\"#636efa\",\"#ab63fa\",\"#636efa\",\"#636efa\",\"#636efa\",\"#ab63fa\",\"#636efa\",\"#636efa\",\"#636efa\",\"#636efa\",\"#636efa\",\"#636efa\",\"#ab63fa\",\"#636efa\",\"#636efa\",\"#00cc96\",\"#EF553B\",\"#EF553B\",\"#19d3f3\",\"#636efa\",\"#636efa\",\"#636efa\",\"#636efa\",\"#00cc96\",\"#636efa\",\"#636efa\",\"#636efa\",\"#636efa\",\"#636efa\",\"#ab63fa\",\"#636efa\",\"#636efa\",\"#636efa\",\"#636efa\",\"#636efa\",\"#636efa\",\"#636efa\",\"#636efa\",\"#636efa\",\"#636efa\",\"#ab63fa\",\"#636efa\",\"#636efa\",\"#FFA15A\",\"#636efa\",\"#636efa\",\"#636efa\",\"#636efa\",\"#636efa\",\"#FF6692\",\"#FF6692\",\"#636efa\",\"#636efa\",\"#636efa\",\"#00cc96\",\"#636efa\",\"#636efa\",\"#636efa\",\"#636efa\",\"#636efa\",\"#00cc96\",\"#00cc96\",\"#FF6692\",\"#EF553B\",\"#636efa\",\"#636efa\",\"#636efa\",\"#636efa\",\"#636efa\",\"#19d3f3\",\"#636efa\",\"#ab63fa\",\"#636efa\",\"#ab63fa\",\"#636efa\",\"#636efa\",\"#636efa\",\"#636efa\",\"#00cc96\",\"#636efa\",\"#636efa\",\"#636efa\",\"#636efa\",\"#FF6692\",\"#636efa\",\"#ab63fa\",\"#636efa\",\"#ab63fa\",\"#636efa\",\"#636efa\",\"#00cc96\",\"#00cc96\",\"#636efa\",\"#636efa\",\"#636efa\",\"#636efa\",\"#ab63fa\",\"#636efa\",\"#636efa\",\"#636efa\",\"#FFA15A\",\"#FFA15A\",\"#636efa\",\"#636efa\",\"#00cc96\",\"#636efa\",\"#636efa\",\"#636efa\",\"#636efa\",\"#636efa\",\"#636efa\",\"#636efa\",\"#636efa\",\"#636efa\",\"#636efa\",\"#636efa\",\"#00cc96\",\"#EF553B\",\"#636efa\",\"#636efa\",\"#636efa\",\"#B6E880\",\"#636efa\",\"#636efa\",\"#00cc96\",\"#636efa\",\"#636efa\",\"#636efa\",\"#636efa\",\"#636efa\",\"#636efa\",\"#00cc96\",\"#ab63fa\",\"#636efa\",\"#636efa\",\"#636efa\",\"#636efa\",\"#636efa\",\"#ab63fa\",\"#636efa\",\"#ab63fa\",\"#636efa\",\"#636efa\",\"#636efa\",\"#636efa\",\"#636efa\",\"#636efa\",\"#636efa\",\"#636efa\",\"#636efa\",\"#636efa\",\"#636efa\",\"#636efa\",\"#636efa\",\"#636efa\",\"#636efa\",\"#636efa\",\"#ab63fa\",\"#FFA15A\",\"#636efa\",\"#636efa\",\"#636efa\",\"#636efa\",\"#636efa\",\"#636efa\",\"#636efa\",\"#636efa\",\"#636efa\",\"#636efa\",\"#636efa\",\"#636efa\",\"#636efa\",\"#636efa\",\"#636efa\",\"#636efa\",\"#636efa\",\"#19d3f3\",\"#636efa\",\"#636efa\",\"#636efa\",\"#636efa\",\"#636efa\",\"#636efa\",\"#00cc96\",\"#636efa\",\"#636efa\",\"#636efa\",\"#636efa\",\"#636efa\",\"#636efa\",\"#636efa\",\"#636efa\",\"#00cc96\",\"#00cc96\",\"#636efa\",\"#636efa\",\"#636efa\",\"#636efa\",\"#636efa\",\"#636efa\",\"#636efa\",\"#00cc96\",\"#636efa\",\"#00cc96\",\"#00cc96\",\"#636efa\",\"#EF553B\",\"#636efa\",\"#636efa\",\"#636efa\",\"#636efa\",\"#636efa\",\"#636efa\",\"#636efa\",\"#636efa\",\"#636efa\",\"#ab63fa\",\"#ab63fa\",\"#636efa\",\"#636efa\",\"#636efa\",\"#636efa\",\"#636efa\",\"#636efa\",\"#636efa\",\"#ab63fa\",\"#636efa\",\"#636efa\",\"#FF6692\",\"#636efa\",\"#636efa\",\"#636efa\",\"#636efa\",\"#636efa\",\"#636efa\",\"#636efa\",\"#636efa\",\"#636efa\",\"#636efa\",\"#636efa\",\"#636efa\",\"#636efa\",\"#636efa\",\"#636efa\",\"#636efa\",\"#00cc96\",\"#636efa\",\"#636efa\",\"#636efa\",\"#636efa\",\"#636efa\",\"#636efa\",\"#636efa\",\"#636efa\",\"#636efa\",\"#636efa\",\"#636efa\",\"#636efa\",\"#636efa\",\"#19d3f3\",\"#636efa\",\"#636efa\",\"#FFA15A\",\"#636efa\",\"#636efa\",\"#636efa\",\"#636efa\",\"#636efa\",\"#636efa\",\"#636efa\",\"#636efa\",\"#636efa\",\"#ab63fa\",\"#FFA15A\",\"#636efa\",\"#636efa\",\"#636efa\",\"#636efa\",\"#FF6692\",\"#FF6692\",\"#EF553B\",\"#EF553B\",\"#636efa\",\"#636efa\",\"#636efa\",\"#636efa\",\"#636efa\",\"#FFA15A\",\"#636efa\",\"#636efa\",\"#636efa\",\"#636efa\",\"#636efa\",\"#636efa\",\"#ab63fa\",\"#636efa\",\"#636efa\",\"#636efa\",\"#636efa\",\"#636efa\",\"#636efa\",\"#FF6692\",\"#636efa\",\"#636efa\",\"#636efa\",\"#636efa\",\"#636efa\",\"#636efa\",\"#636efa\",\"#636efa\",\"#636efa\",\"#636efa\",\"#636efa\",\"#636efa\",\"#636efa\",\"#636efa\",\"#636efa\",\"#636efa\",\"#636efa\",\"#636efa\",\"#636efa\",\"#636efa\",\"#636efa\",\"#636efa\",\"#00cc96\",\"#636efa\",\"#636efa\",\"#636efa\",\"#636efa\",\"#636efa\",\"#636efa\",\"#FFA15A\",\"#636efa\",\"#636efa\",\"#636efa\",\"#636efa\",\"#636efa\",\"#636efa\",\"#636efa\",\"#636efa\",\"#00cc96\",\"#636efa\",\"#636efa\",\"#00cc96\",\"#636efa\",\"#FF6692\",\"#636efa\",\"#636efa\",\"#636efa\",\"#636efa\",\"#636efa\",\"#636efa\",\"#636efa\",\"#636efa\",\"#636efa\",\"#636efa\",\"#636efa\",\"#ab63fa\",\"#636efa\",\"#636efa\",\"#636efa\",\"#636efa\",\"#636efa\",\"#636efa\",\"#636efa\",\"#636efa\",\"#ab63fa\",\"#636efa\",\"#636efa\",\"#636efa\",\"#636efa\",\"#636efa\",\"#636efa\",\"#ab63fa\",\"#636efa\",\"#636efa\",\"#FF6692\",\"#636efa\",\"#636efa\",\"#636efa\",\"#636efa\",\"#636efa\",\"#636efa\",\"#636efa\",\"#636efa\",\"#636efa\",\"#636efa\",\"#636efa\",\"#636efa\",\"#636efa\",\"#636efa\",\"#636efa\",\"#636efa\",\"#636efa\",\"#636efa\",\"#636efa\",\"#636efa\",\"#636efa\",\"#636efa\",\"#636efa\",\"#636efa\",\"#636efa\",\"#636efa\",\"#636efa\",\"#636efa\",\"#636efa\",\"#FFA15A\",\"#FF6692\",\"#636efa\",\"#636efa\",\"#636efa\",\"#636efa\",\"#19d3f3\",\"#636efa\",\"#636efa\",\"#636efa\",\"#636efa\",\"#636efa\",\"#636efa\",\"#636efa\",\"#636efa\",\"#ab63fa\",\"#636efa\",\"#636efa\",\"#636efa\",\"#636efa\",\"#636efa\",\"#636efa\",\"#636efa\",\"#636efa\",\"#636efa\",\"#636efa\",\"#636efa\",\"#636efa\",\"#636efa\",\"#636efa\",\"#636efa\",\"#636efa\",\"#636efa\",\"#636efa\",\"#636efa\",\"#636efa\",\"#636efa\",\"#636efa\",\"#ab63fa\",\"#636efa\",\"#636efa\",\"#636efa\",\"#636efa\",\"#636efa\",\"#636efa\",\"#ab63fa\",\"#ab63fa\",\"#636efa\",\"#636efa\",\"#636efa\",\"#636efa\",\"#636efa\",\"#636efa\",\"#636efa\",\"#00cc96\",\"#636efa\",\"#636efa\",\"#636efa\",\"#636efa\",\"#636efa\",\"#636efa\",\"#636efa\",\"#636efa\",\"#636efa\",\"#636efa\",\"#ab63fa\",\"#ab63fa\",\"#636efa\",\"#636efa\",\"#ab63fa\",\"#636efa\",\"#636efa\",\"#636efa\",\"#636efa\",\"#636efa\",\"#636efa\",\"#ab63fa\",\"#636efa\",\"#636efa\",\"#636efa\",\"#636efa\",\"#636efa\",\"#636efa\",\"#636efa\",\"#636efa\",\"#636efa\",\"#636efa\",\"#00cc96\",\"#636efa\",\"#636efa\",\"#636efa\",\"#636efa\",\"#636efa\",\"#636efa\",\"#636efa\",\"#636efa\",\"#636efa\",\"#ab63fa\",\"#19d3f3\",\"#636efa\",\"#636efa\",\"#636efa\",\"#636efa\",\"#636efa\",\"#636efa\",\"#19d3f3\",\"#636efa\",\"#636efa\",\"#636efa\",\"#636efa\",\"#636efa\",\"#636efa\",\"#636efa\",\"#636efa\",\"#636efa\",\"#636efa\",\"#636efa\",\"#FFA15A\",\"#636efa\",\"#636efa\",\"#00cc96\",\"#00cc96\",\"#636efa\",\"#636efa\",\"#636efa\",\"#636efa\",\"#636efa\",\"#636efa\",\"#636efa\",\"#636efa\",\"#636efa\",\"#636efa\",\"#636efa\",\"#636efa\",\"#636efa\",\"#636efa\",\"#636efa\",\"#636efa\",\"#636efa\",\"#636efa\",\"#636efa\",\"#636efa\",\"#636efa\",\"#636efa\",\"#636efa\",\"#19d3f3\",\"#636efa\",\"#ab63fa\",\"#636efa\",\"#636efa\",\"#636efa\",\"#636efa\",\"#636efa\",\"#636efa\",\"#636efa\",\"#636efa\",\"#636efa\",\"#636efa\",\"#636efa\",\"#636efa\",\"#FFA15A\",\"#636efa\",\"#636efa\",\"#636efa\",\"#636efa\",\"#00cc96\",\"#636efa\",\"#636efa\",\"#FFA15A\",\"#636efa\",\"#636efa\",\"#ab63fa\",\"#636efa\",\"#636efa\",\"#636efa\",\"#636efa\",\"#636efa\",\"#636efa\",\"#636efa\",\"#FF6692\",\"#636efa\",\"#636efa\",\"#636efa\",\"#00cc96\",\"#636efa\",\"#636efa\",\"#636efa\",\"#636efa\",\"#636efa\",\"#636efa\",\"#636efa\",\"#636efa\",\"#636efa\",\"#636efa\",\"#636efa\",\"#636efa\",\"#636efa\",\"#636efa\",\"#ab63fa\",\"#636efa\",\"#00cc96\",\"#636efa\",\"#00cc96\",\"#636efa\",\"#636efa\",\"#636efa\",\"#636efa\",\"#636efa\",\"#B6E880\",\"#636efa\",\"#00cc96\",\"#636efa\",\"#ab63fa\",\"#636efa\",\"#636efa\",\"#636efa\",\"#636efa\",\"#636efa\",\"#636efa\",\"#636efa\",\"#636efa\",\"#FFA15A\",\"#FFA15A\",\"#636efa\",\"#636efa\",\"#636efa\",\"#636efa\",\"#636efa\",\"#636efa\",\"#636efa\",\"#636efa\",\"#00cc96\",\"#636efa\",\"#00cc96\",\"#636efa\",\"#636efa\",\"#636efa\",\"#636efa\",\"#636efa\",\"#636efa\",\"#636efa\",\"#636efa\",\"#636efa\",\"#636efa\",\"#636efa\",\"#ab63fa\",\"#636efa\",\"#636efa\",\"#636efa\",\"#636efa\",\"#636efa\",\"#636efa\",\"#636efa\",\"#636efa\",\"#636efa\",\"#636efa\",\"#636efa\",\"#636efa\",\"#636efa\",\"#636efa\",\"#636efa\",\"#636efa\",\"#636efa\",\"#636efa\",\"#636efa\",\"#636efa\",\"#636efa\",\"#636efa\",\"#636efa\",\"#636efa\",\"#636efa\",\"#636efa\",\"#FFA15A\",\"#636efa\",\"#636efa\",\"#636efa\",\"#636efa\",\"#636efa\",\"#636efa\",\"#636efa\",\"#636efa\",\"#636efa\",\"#636efa\",\"#FFA15A\",\"#636efa\",\"#636efa\",\"#636efa\",\"#636efa\",\"#636efa\",\"#636efa\",\"#636efa\",\"#636efa\",\"#636efa\",\"#636efa\",\"#636efa\",\"#636efa\",\"#636efa\",\"#FFA15A\",\"#636efa\",\"#00cc96\",\"#636efa\",\"#FF6692\",\"#636efa\",\"#636efa\",\"#636efa\",\"#636efa\",\"#636efa\",\"#636efa\",\"#636efa\",\"#FFA15A\",\"#636efa\",\"#636efa\",\"#636efa\",\"#636efa\",\"#636efa\",\"#636efa\",\"#636efa\",\"#636efa\",\"#00cc96\",\"#00cc96\",\"#00cc96\",\"#636efa\",\"#636efa\",\"#636efa\",\"#636efa\",\"#636efa\",\"#636efa\",\"#636efa\",\"#00cc96\",\"#636efa\",\"#636efa\",\"#636efa\",\"#636efa\",\"#19d3f3\",\"#636efa\",\"#636efa\",\"#636efa\",\"#636efa\",\"#FFA15A\",\"#636efa\",\"#FFA15A\",\"#636efa\",\"#00cc96\",\"#636efa\",\"#636efa\",\"#636efa\",\"#636efa\",\"#636efa\",\"#ab63fa\",\"#636efa\",\"#636efa\",\"#636efa\",\"#636efa\",\"#636efa\",\"#636efa\",\"#00cc96\",\"#636efa\",\"#636efa\",\"#636efa\",\"#636efa\",\"#00cc96\",\"#636efa\",\"#636efa\",\"#636efa\",\"#636efa\",\"#636efa\",\"#636efa\",\"#636efa\",\"#636efa\",\"#636efa\",\"#636efa\",\"#636efa\",\"#636efa\",\"#636efa\",\"#636efa\",\"#636efa\",\"#FF6692\",\"#636efa\",\"#636efa\",\"#636efa\",\"#636efa\",\"#636efa\",\"#636efa\",\"#636efa\",\"#636efa\",\"#636efa\",\"#636efa\",\"#636efa\",\"#636efa\",\"#636efa\",\"#00cc96\",\"#FFA15A\",\"#636efa\",\"#636efa\",\"#636efa\",\"#636efa\",\"#636efa\",\"#636efa\",\"#636efa\",\"#636efa\",\"#636efa\",\"#636efa\",\"#636efa\",\"#00cc96\",\"#636efa\",\"#636efa\",\"#636efa\",\"#636efa\",\"#636efa\",\"#636efa\",\"#636efa\",\"#636efa\",\"#636efa\",\"#636efa\",\"#636efa\",\"#636efa\",\"#ab63fa\",\"#ab63fa\",\"#636efa\",\"#636efa\",\"#636efa\",\"#636efa\",\"#00cc96\",\"#636efa\",\"#636efa\",\"#636efa\",\"#636efa\",\"#00cc96\",\"#00cc96\",\"#636efa\",\"#636efa\",\"#636efa\",\"#636efa\",\"#636efa\",\"#636efa\",\"#636efa\",\"#636efa\",\"#636efa\",\"#FF6692\",\"#FFA15A\",\"#636efa\",\"#636efa\",\"#636efa\"]},\"name\":\"\",\"parents\":[\"female/Africa\",\"female/Asia\",\"male/Oceania\",\"female/South America\",\"female/Oceania\",\"female/Europe\",\"male/Asia\",\"male/Oceania\",\"female/Africa\",\"female/South America\",\"female/Asia\",\"female/Oceania\",\"female/South America\",\"female/Asia\",\"female/Asia\",\"female/Africa\",\"female/South America\",\"male/Europe\",\"male/North America\",\"female/North America\",\"female/Europe\",\"male/Africa\",\"female/Asia\",\"male/Oceania\",\"male/Europe\",\"female/Asia\",\"male/Africa\",\"female/Africa\",\"male/Oceania\",\"female/North America\",\"female/Africa\",\"female/Europe\",\"female/Asia\",\"male/South America\",\"male/Europe\",\"female/Oceania\",\"male/North America\",\"male/Oceania\",\"female/Africa\",\"male/Asia\",\"male/Europe\",\"male/North America\",\"male/South America\",\"female/North America\",\"male/North America\",\"female/Europe\",\"male/South America\",\"female/Asia\",\"female/Africa\",\"male/South America\",\"male/Oceania\",\"male/North America\",\"female/North America\",\"male/South America\",\"male/Africa\",\"female/Asia\",\"female/South America\",\"female/North America\",\"male/North America\",\"male/South America\",\"male/Africa\",\"female/Africa\",\"male/South America\",\"female/South America\",\"male/Asia\",\"female/North America\",\"male/Europe\",\"male/Asia\",\"female/North America\",\"female/South America\",\"female/Oceania\",\"male/North America\",\"male/Europe\",\"male/Asia\",\"male/Africa\",\"female/Africa\",\"male/North America\",\"male/Asia\",\"male/Africa\",\"male/Oceania\",\"female/Oceania\",\"male/North America\",\"male/Europe\",\"male/Europe\",\"male/Asia\",\"male/Africa\",\"male/South America\",\"male/Asia\",\"male/Asia\",\"male/Oceania\",\"male/Europe\",\"male/Oceania\",\"male/Asia\",\"male/Europe\",\"male/Europe\",\"male/Asia\",\"female/Oceania\",\"female/South America\",\"female/South America\",\"male/Oceania\",\"male/Africa\",\"male/North America\",\"male/Asia\",\"female/Asia\",\"male/North America\",\"male/South America\",\"female/South America\",\"female/Oceania\",\"male/Oceania\",\"male/Africa\",\"male/Asia\",\"female/South America\",\"male/North America\",\"male/South America\",\"male/Africa\",\"male/Africa\",\"female/Asia\",\"female/Africa\",\"male/South America\",\"female/South America\",\"female/Oceania\",\"female/Oceania\",\"female/Africa\",\"male/South America\",\"male/Africa\",\"male/Europe\",\"female/Europe\",\"male/Asia\",\"male/Africa\",\"female/Asia\",\"female/Oceania\",\"male/North America\",\"female/Europe\",\"male/Europe\",\"male/North America\",\"female/Africa\",\"male/Africa\",\"male/Asia\",\"female/Europe\",\"female/Europe\",\"male/Asia\",\"female/North America\",\"female/Africa\",\"male/South America\",\"female/Oceania\",\"male/North America\",\"female/Africa\",\"male/Africa\",\"male/Asia\",\"male/Africa\",\"female/Asia\",\"male/Oceania\",\"female/Europe\",\"female/Asia\",\"male/Oceania\",\"female/Oceania\",\"male/North America\",\"male/Oceania\",\"female/Asia\",\"female/North America\",\"male/Oceania\",\"male/South America\",\"male/Europe\",\"male/Africa\",\"female/Africa\",\"male/North America\",\"female/South America\",\"female/Oceania\",\"female/Oceania\",\"female/Europe\",\"female/Asia\",\"male/Africa\",\"female/North America\",\"male/Oceania\",\"female/Africa\",\"male/Africa\",\"female/Asia\",\"male/Europe\",\"male/Asia\",\"male/Asia\",\"male/Africa\",\"female/South America\",\"female/Europe\",\"male/Europe\",\"female/Africa\",\"male/South America\",\"female/Africa\",\"male/Asia\",\"female/Asia\",\"male/Africa\",\"female/Asia\",\"male/South America\",\"male/Oceania\",\"female/Europe\",\"female/Europe\",\"female/North America\",\"male/Africa\",\"male/North America\",\"female/North America\",\"male/Europe\",\"female/South America\",\"male/Asia\",\"male/Asia\",\"female/Oceania\",\"male/Oceania\",\"female/South America\",\"male/Africa\",\"male/North America\",\"female/North America\",\"female/Europe\",\"male/Asia\",\"female/Europe\",\"male/North America\",\"female/Europe\",\"female/Asia\",\"male/Africa\",\"male/Africa\",\"female/North America\",\"male/Europe\",\"female/South America\",\"female/North America\",\"male/Asia\",\"male/Oceania\",\"male/South America\",\"female/Africa\",\"male/Oceania\",\"female/Oceania\",\"female/Europe\",\"male/Europe\",\"male/Europe\",\"female/Europe\",\"female/North America\",\"male/Africa\",\"male/North America\",\"male/Asia\",\"male/South America\",\"female/South America\",\"male/Africa\",\"female/Asia\",\"male/Europe\",\"female/Europe\",\"female/Oceania\",\"female/South America\",\"male/South America\",\"male/Oceania\",\"female/Oceania\",\"female/Asia\",\"female/Europe\",\"female/Europe\",\"female/Asia\",\"male/Africa\",\"female/North America\",\"female/North America\",\"male/Oceania\",\"female/South America\",\"female/Asia\",\"male/Africa\",\"male/Oceania\",\"male/South America\",\"female/South America\",\"female/South America\",\"female/Oceania\",\"male/South America\",\"female/Africa\",\"male/North America\",\"male/Europe\",\"male/North America\",\"female/North America\",\"female/Oceania\",\"female/Africa\",\"male/Africa\",\"female\",\"male\",\"female/Europe\",\"female/South America\",\"male/Europe\",\"male/Asia\",\"female/Europe\",\"female\",\"female/South America\",\"male/Asia\",\"male/Africa\",\"male/Asia\",\"male/Europe\",\"female/Europe\",\"male/North America\",\"male/South America\",\"male/Africa\",\"female/Asia\",\"male/South America\",\"female/Asia\",\"female/Africa\",\"male\",\"female/South America\",\"female\",\"female/Europe\",\"female/Asia\",\"male/Oceania\",\"male/Africa\",\"female/Africa\",\"male\",\"female/Asia\",\"male/South America\",\"female/Oceania\",\"female/South America\",\"male/Asia\",\"male/Oceania\",\"female/Oceania\",\"female/South America\",\"female\",\"male\",\"male/South America\",\"female/South America\",\"female/Africa\",\"male/Europe\",\"female/Oceania\",\"male/Oceania\",\"male/Oceania\",\"female/Oceania\",\"male/North America\",\"male/Europe\",\"male/Africa\",\"female/Asia\",\"female/Europe\",\"male/Asia\",\"male/Africa\",\"female\",\"male/Oceania\",\"female/Africa\",\"male/South America\",\"\",\"female/Oceania\",\"male/North America\",\"male/Africa\",\"male/Asia\",\"female/Europe\",\"female/North America\",\"female/Africa\",\"male/South America\",\"female/South America\",\"male/Africa\",\"female/Asia\",\"female/Oceania\",\"male/South America\",\"female/South America\",\"female/Oceania\",\"female/South America\",\"female/Asia\",\"male/Oceania\",\"male/Asia\",\"female/North America\",\"male/Europe\",\"female/North America\",\"male/Europe\",\"male/Europe\",\"male/Asia\",\"female/Europe\",\"male/Asia\",\"male/Oceania\",\"male/North America\",\"male/South America\",\"male/North America\",\"male/Africa\",\"female/Asia\",\"female/North America\",\"male/Oceania\",\"male\",\"female/North America\",\"female/Oceania\",\"male/Oceania\",\"female/North America\",\"female/Africa\",\"female/South America\",\"female/Europe\",\"male/Africa\",\"female/Oceania\",\"male/Asia\",\"male/North America\",\"female/Asia\",\"female/Asia\",\"male/Europe\",\"male/Asia\",\"male/North America\",\"female/North America\",\"male/Europe\",\"male/Europe\",\"female/Europe\",\"male/Oceania\",\"female/North America\",\"female/Europe\",\"female/Europe\",\"female/Asia\",\"female/Africa\",\"female/South America\",\"male/Oceania\",\"female/Oceania\",\"female/North America\",\"female/North America\",\"female/Europe\",\"male/Asia\",\"female/Asia\",\"male/Africa\",\"female/Africa\",\"male/South America\",\"female/South America\",\"male/Oceania\",\"female/North America\",\"male/South America\",\"female/North America\",\"male/Europe\",\"female/Africa\",\"female/Europe\",\"male/Africa\",\"female/Africa\",\"female/Asia\",\"female/Oceania\",\"female/Asia\",\"male/Asia\",\"female/South America\",\"female/North America\",\"male/Oceania\",\"male/North America\",\"male/Oceania\",\"male/Europe\",\"female/Europe\",\"female/Asia\",\"male/Asia\",\"female/Asia\",\"female/Oceania\",\"male/North America\",\"female/Oceania\",\"female/North America\",\"male/Europe\",\"female/Europe\",\"male/Asia\",\"male/Oceania\",\"female/Africa\",\"female/South America\",\"male/Oceania\",\"male/South America\",\"female/Oceania\",\"female/North America\",\"female/North America\",\"male/Europe\",\"male/Asia\",\"female/Asia\",\"female/South America\",\"male/Africa\",\"female/Africa\",\"female/Africa\",\"male/South America\",\"female/South America\",\"female/Oceania\",\"female/Asia\",\"female/Africa\",\"male/Asia\",\"female/Africa\",\"male/North America\",\"male/Europe\",\"male/Africa\",\"female/Europe\",\"male/Asia\",\"male/Asia\",\"female/Asia\",\"male/Africa\",\"male/South America\",\"female/South America\",\"female/Oceania\",\"male/Europe\",\"female/North America\",\"female/Oceania\",\"female/North America\",\"female/Europe\",\"male/Asia\",\"female/Africa\",\"male/South America\",\"female/Asia\",\"male/Asia\",\"male/North America\",\"female/North America\",\"male/Europe\",\"male/Asia\",\"female/North America\",\"male/South America\",\"male/North America\",\"female/Oceania\",\"male/Oceania\",\"female/South America\",\"male/South America\",\"male/Oceania\",\"female/Oceania\",\"female/Europe\",\"male/Asia\",\"female/South America\",\"female/Africa\",\"female/Oceania\",\"male/North America\",\"male/Asia\",\"male/South America\",\"female/South America\",\"male/Oceania\",\"male/Europe\",\"male/Europe\",\"female/Asia\",\"female/Europe\",\"female/South America\",\"female/Oceania\",\"female/Oceania\",\"female/Europe\",\"female/Asia\",\"male/South America\",\"male/Asia\",\"male/Europe\",\"female/Oceania\",\"male/North America\",\"male/Asia\",\"female/Asia\",\"female/Oceania\",\"male/Africa\",\"male/Africa\",\"female/Oceania\",\"female/Africa\",\"male/Africa\",\"female/Africa\",\"female/Asia\",\"female/Europe\",\"male/Oceania\",\"male/Oceania\",\"male/Europe\",\"female/Europe\",\"female/South America\",\"male/Asia\",\"female/Asia\",\"female/Africa\",\"female/Europe\",\"female/Africa\",\"female/South America\",\"male/Europe\",\"female/North America\",\"male/North America\",\"male/North America\",\"female/Oceania\",\"female/South America\",\"male/South America\",\"male/Africa\",\"female/North America\",\"male/Oceania\",\"male/South America\",\"male/South America\",\"male/Africa\",\"male/Asia\",\"female/Africa\",\"male/Africa\",\"male/Africa\",\"male/South America\",\"female/Oceania\",\"female/Africa\",\"male/South America\",\"female/South America\",\"male/Africa\",\"female/Asia\",\"female/Oceania\",\"male/North America\",\"male/Asia\",\"male/Europe\",\"male/North America\",\"male/Asia\",\"female/Africa\",\"male/Africa\",\"female/Africa\",\"female/Oceania\",\"female/Africa\",\"male/North America\",\"male/Europe\",\"female/Europe\",\"female/Asia\",\"male/Europe\",\"male/North America\",\"female/South America\",\"female/Oceania\",\"female/North America\",\"female/Oceania\",\"male/Asia\",\"male/Oceania\",\"female/South America\",\"female/South America\",\"male/Africa\",\"female/Asia\",\"female/North America\",\"male/Europe\",\"male/Oceania\",\"female/Africa\",\"male/South America\",\"female/Asia\",\"male/Asia\",\"male/Europe\",\"female/South America\",\"male/Asia\",\"male/Oceania\",\"female/Europe\",\"female/Oceania\",\"male/South America\",\"female/Europe\",\"male/Africa\",\"female/Asia\",\"female/Europe\",\"male/South America\",\"female/South America\",\"male/Oceania\",\"female/Oceania\",\"male/North America\",\"female/North America\",\"male/Europe\",\"female/Europe\",\"female/Asia\",\"female/North America\",\"male/South America\",\"female/Oceania\",\"female/Europe\",\"male/Europe\",\"male/Asia\",\"male/Europe\",\"female/South America\",\"male/Oceania\",\"male/North America\",\"female/North America\",\"male/Oceania\",\"female/Asia\",\"male/Africa\",\"female/Africa\",\"female/Asia\",\"female/Europe\",\"male/Europe\",\"male/Oceania\",\"male/North America\",\"female/North America\",\"male/North America\",\"male/Oceania\",\"female/Europe\",\"male/South America\",\"female/Africa\",\"male/Africa\",\"female/Asia\",\"male/South America\",\"male/Asia\",\"male/Oceania\",\"female/North America\",\"male/North America\",\"female/Oceania\",\"male/Oceania\",\"female/Asia\",\"female/Asia\",\"male/South America\",\"female/Asia\",\"male/Oceania\",\"female/Africa\",\"female/South America\",\"male/Africa\",\"female/Oceania\",\"female/North America\",\"female/Asia\",\"male/Asia\",\"female/Europe\",\"male/Europe\",\"female/Asia\",\"female/North America\",\"male/North America\",\"female/Oceania\",\"female/North America\",\"female/Africa\",\"male/Europe\",\"male/Africa\",\"female/Africa\",\"female/Oceania\",\"female/Oceania\",\"male/Oceania\",\"female/South America\",\"male/South America\",\"male/Europe\",\"female/Africa\",\"male/Asia\",\"female/Asia\",\"male/Africa\",\"male/South America\",\"female/Asia\",\"female/Europe\",\"male/South America\",\"female/South America\",\"female/Europe\",\"male/Africa\",\"male/Oceania\",\"female/Asia\",\"male/Asia\",\"female/Oceania\",\"female/Europe\",\"female/North America\",\"female/North America\",\"male/North America\",\"female/Europe\",\"male/Asia\",\"female/Asia\",\"female/Oceania\",\"male/Africa\",\"male/Oceania\",\"female/South America\",\"male/South America\",\"male/Oceania\",\"female/South America\",\"male/Oceania\",\"female/Oceania\",\"male/North America\",\"female/North America\",\"male/Asia\",\"male/Europe\",\"male/Asia\",\"female/Asia\",\"male/Africa\",\"female/Africa\",\"male/North America\",\"female/Oceania\",\"female/Europe\",\"female/Europe\",\"female/South America\",\"male/Europe\",\"female/Africa\",\"male/South America\",\"female/South America\",\"female/Oceania\",\"male/Oceania\",\"male/Asia\",\"female/Europe\",\"female/Europe\",\"male/North America\",\"female/Oceania\",\"female/Asia\",\"female/Africa\",\"female/Africa\",\"female/Asia\",\"male/Asia\",\"female/Europe\",\"male/North America\",\"male/Europe\",\"male/Europe\",\"female/South America\",\"male/Africa\",\"male/South America\",\"male/South America\",\"female/Africa\",\"male/Asia\",\"female/North America\",\"male/Europe\",\"male/South America\",\"female/Asia\",\"female/Asia\",\"male/Europe\",\"female/North America\",\"female/Oceania\",\"male/Oceania\",\"male/Oceania\",\"male/South America\",\"male/Europe\",\"female/North America\",\"male/Asia\",\"female/Oceania\",\"male/North America\",\"male/Asia\",\"male/Europe\",\"male/Oceania\",\"male/South America\",\"male/South America\",\"female/Oceania\",\"male/Africa\",\"male/Africa\",\"female/Europe\",\"female/Africa\",\"male/North America\",\"female/Oceania\",\"female/South America\",\"male/Oceania\",\"male/Europe\",\"female\",\"female/Asia\",\"female/South America\",\"female/North America\",\"female/Africa\",\"female/Africa\",\"female/Asia\",\"female/North America\",\"female/Oceania\",\"male/North America\",\"male/North America\",\"male/Asia\",\"male/Oceania\",\"female/South America\",\"female/South America\",\"female/South America\",\"female/Africa\",\"female/North America\",\"male/Africa\",\"female/Oceania\",\"male/Africa\",\"female/Oceania\",\"male/North America\",\"female/Europe\",\"female/North America\",\"female/South America\",\"female/Oceania\",\"male/Europe\",\"male/North America\",\"female/Oceania\",\"male/North America\",\"male/North America\",\"female/Oceania\",\"male/Asia\",\"male/South America\",\"male/Africa\",\"female/Europe\",\"female/Africa\",\"female/South America\",\"male/Asia\",\"female/Oceania\",\"female/Europe\",\"male/North America\",\"\",\"male/South America\",\"female/Africa\",\"female/South America\",\"female/Asia\",\"male/Oceania\",\"female/Oceania\",\"female/North America\",\"male/South America\",\"female/Africa\",\"male/Africa\",\"male/Asia\",\"male/Asia\",\"female/North America\",\"male/North America\",\"female/Europe\",\"male/North America\",\"female/Africa\",\"female/North America\",\"male/North America\",\"male/Oceania\",\"female/Asia\",\"female/Asia\",\"female/Africa\",\"male/South America\",\"female/Africa\",\"male/Asia\",\"female/North America\",\"male/North America\",\"male/North America\",\"female/Oceania\",\"female/Africa\",\"male/South America\",\"female/Asia\",\"male/North America\",\"male/Africa\",\"female/North America\",\"female/Asia\",\"male/North America\",\"female/South America\",\"female/South America\",\"male/Oceania\",\"male/Europe\",\"female/Europe\",\"male/Europe\",\"male/Europe\",\"female/North America\",\"female/Oceania\",\"female/South America\",\"female/Africa\",\"male/North America\",\"female/Africa\",\"male/Oceania\",\"female/North America\",\"female/Oceania\",\"female/South America\",\"male/South America\",\"male/Europe\",\"female/South America\",\"female/North America\",\"female/Africa\",\"male/South America\",\"female/Europe\",\"male/Europe\",\"male/North America\",\"female/Europe\",\"male/South America\",\"female/Europe\",\"male/Europe\",\"male/Europe\",\"male/Europe\",\"female/North America\",\"male/North America\",\"female/Oceania\",\"female/Europe\",\"male/North America\",\"male/Europe\",\"male/Africa\",\"female/South America\",\"female/Europe\",\"male/Europe\",\"female/Europe\",\"female/North America\",\"male/Asia\",\"male/North America\",\"male/Oceania\",\"female/Asia\",\"female/South America\",\"male/South America\",\"female/North America\",\"male/North America\",\"female/Africa\",\"male/Europe\",\"female/South America\",\"male/North America\",\"female/South America\",\"male/Oceania\",\"female/Europe\",\"male/Asia\",\"male/South America\",\"female/North America\",\"female/North America\",\"male/Oceania\",\"male/South America\",\"male/South America\",\"male/South America\",\"male/Asia\",\"male/North America\",\"male/Europe\",\"male/Asia\",\"female/Africa\",\"male/Africa\",\"male/Africa\",\"male/South America\",\"female/Oceania\",\"male/South America\",\"female/North America\",\"female/Oceania\",\"female/Africa\",\"male/North America\",\"female/Africa\",\"male/South America\",\"female/South America\",\"male/Oceania\",\"female/Europe\",\"male\",\"male/Europe\",\"female/Asia\",\"male/Oceania\",\"female/North America\",\"female/North America\",\"female/Europe\",\"male/North America\",\"female/South America\",\"male/Africa\",\"male/South America\",\"female/North America\",\"male/South America\",\"female/Africa\",\"female/Europe\",\"female/Asia\",\"female/North America\",\"female/South America\",\"female/North America\",\"male/Oceania\",\"female/Asia\",\"male/South America\",\"male/Africa\",\"male/North America\",\"female/Africa\",\"female/Asia\",\"male/Oceania\",\"male/Africa\",\"male/North America\",\"male/South America\",\"female/South America\",\"male/South America\",\"female/Europe\",\"female/North America\",\"female/South America\",\"male/Oceania\",\"female/Oceania\",\"female/Europe\",\"male/South America\",\"male/Europe\",\"female/North America\",\"male/Africa\",\"female/South America\",\"male/South America\",\"male/Europe\",\"male/Asia\",\"male/Europe\",\"male/Africa\",\"female/Europe\",\"male/Oceania\",\"female/Oceania\",\"female/Africa\",\"male/Africa\",\"female/North America\",\"female/South America\",\"male/South America\",\"male/Oceania\",\"male/Africa\",\"male/North America\",\"male/Europe\",\"female/Europe\",\"male/Europe\",\"male/Asia\",\"female/Asia\",\"male/North America\",\"female/Europe\",\"male/Africa\",\"male/North America\",\"male/Asia\",\"female/Asia\",\"female/Africa\",\"male/South America\",\"male/Oceania\",\"male/Europe\",\"male/North America\",\"female/North America\",\"female/Africa\",\"male/Africa\",\"female/Europe\",\"male/North America\",\"male/Oceania\",\"male/Oceania\",\"female/Europe\",\"female/Asia\",\"male/Asia\",\"female/Africa\",\"male/Oceania\",\"female/Europe\",\"male/Asia\",\"female/Africa\",\"female/Europe\",\"female/South America\",\"female/North America\",\"male/Oceania\",\"male/Africa\",\"female/Africa\",\"female/Africa\",\"female/Oceania\",\"male/Europe\",\"male/Europe\",\"female/Africa\",\"male/Oceania\",\"male/Africa\",\"male/Africa\",\"male/Africa\",\"female/South America\",\"female/North America\",\"female/North America\",\"female/Oceania\",\"male/Asia\"],\"type\":\"sunburst\",\"values\":[0,0,0,0,4300,0,0,0,0,0,0,0,0,0,0,4029200,0,0,0,0,0,855325,0,0,0,6468625,0,0,0,3420900,0,0,0,0,0,0,833825,0,0,3663150,0,0,0,9639900,0,2215925,0,0,50000,0,0,716300,1406225,500475,0,10921100,0,0,0,0,224800,561450,5790825,8115450,0,0,0,0,0,0,0,10909050,0,0,0,0,0,0,690850,0,0,0,0,0,0,0,0,0,0,0,0,0,1491075,0,0,0,0,0,0,0,974125,0,3375825,8764075,0,0,0,0,0,0,1852025,0,0,0,0,90350,0,5961625,0,0,0,0,1384175,0,0,0,0,0,294125,0,0,0,383000,0,0,0,0,0,0,0,1523700,0,0,0,0,0,0,0,25100,0,4870225,0,0,0,0,0,143275,0,0,0,0,0,0,0,0,0,0,0,0,909075,287500,0,0,0,0,0,0,0,0,0,10728000,0,0,0,0,0,0,0,0,806300,721650,0,0,0,0,0,0,0,0,0,0,0,0,0,0,0,163150,0,0,0,922450,0,0,0,16909575,0,0,0,0,0,0,2931750,0,0,2323825,2550,6700,937400,0,0,0,0,72350,0,0,0,0,0,10000,0,0,0,0,0,0,0,0,0,0,14052700,0,0,11550,0,0,0,0,0,4495150,15200575,0,0,0,515350,0,0,0,0,0,3220850,661225,84483600,72525,0,0,0,0,0,5799150,0,318150,0,264650,0,0,0,0,1935625,0,0,0,0,25516500,0,157209025,0,2104250,0,0,9319525,41883325,0,0,0,0,20125,0,0,0,64412800,37554900,0,0,511125,0,0,0,0,0,0,0,0,0,0,0,1906700,6710800,0,0,0,410013300,0,0,15000,0,0,0,0,0,0,179725,1366375,0,0,0,0,0,758325,0,875325,0,0,0,0,0,0,0,0,0,0,0,0,0,0,0,0,40723075,6386300,0,0,0,0,0,0,0,0,0,0,0,0,0,0,0,0,0,329700,0,0,0,0,0,0,73700,0,0,0,0,0,0,0,0,243475,328775,0,0,0,0,0,0,0,1362675,0,103275,122600,0,512550,0,0,0,0,0,0,0,0,0,249500,176600,0,0,0,0,0,0,0,4055350,0,0,40325,0,0,0,0,0,0,0,0,0,0,0,0,0,0,0,0,3200825,0,0,0,0,0,0,0,0,0,0,0,0,0,676800,0,0,121900,0,0,0,0,0,0,0,0,0,8172300,17098125,0,0,0,0,27488675,2025350,69975,6187250,0,0,0,0,0,26225,0,0,0,0,0,0,11700450,0,0,0,0,0,0,9156150,0,0,0,0,0,0,0,0,0,0,0,0,0,0,0,0,0,0,0,0,0,0,1675400,0,0,0,0,0,0,1660175,0,0,0,0,0,0,0,0,419175,0,0,642350,0,152350,0,0,0,0,0,0,0,0,0,0,0,1165075,0,0,0,0,0,0,0,0,3337675,0,0,0,0,0,0,165250,0,0,459675,0,0,0,0,0,0,0,0,0,0,0,0,0,0,0,0,0,0,0,0,0,0,0,0,0,0,0,0,0,1544250,3361200,0,0,0,0,1393575,0,0,0,0,0,0,0,0,107875,0,0,0,0,0,0,0,0,0,0,0,0,0,0,0,0,0,0,0,0,0,0,1453375,0,0,0,0,0,0,8454150,4456325,0,0,0,0,0,0,0,1080600,0,0,0,0,0,0,0,0,0,0,679500,482000,0,0,1227625,0,0,0,0,0,0,14000,0,0,0,0,0,0,0,0,0,0,227075,0,0,0,0,0,0,0,0,0,1594450,1291750,0,0,0,0,0,0,1353750,0,0,0,0,0,0,0,0,0,0,0,100425,0,0,23456350,446600,0,0,0,0,0,0,0,0,0,0,0,0,0,0,0,0,0,0,0,0,0,0,0,1011700,0,567350,0,0,0,0,0,0,0,0,0,0,0,0,13681950,0,0,0,0,91397925,0,0,10000,0,0,945375,0,0,0,0,0,0,0,37725,0,0,0,9035900,0,0,0,0,0,0,0,0,0,0,0,0,0,0,837975,0,2101825,0,4454075,0,0,0,0,0,150453850,0,15800,0,51638350,0,0,0,0,0,0,0,0,187000,174400,0,0,0,0,0,0,0,0,1086850,0,304275,0,0,0,0,0,0,0,0,0,0,0,3115850,0,0,0,0,0,0,0,0,0,0,0,0,0,0,0,0,0,0,0,0,0,0,0,0,0,0,2552975,0,0,0,0,0,0,0,0,0,0,3107325,0,0,0,0,0,0,0,0,0,0,0,0,0,15342650,0,412425,0,11588500,0,0,0,0,0,0,0,23000,0,0,0,0,0,0,0,0,6704275,317550,837625,0,0,0,0,0,0,0,940125,0,0,0,0,4703525,0,0,0,0,7396550,0,3133425,0,3021500,0,0,0,0,0,6582450,0,0,0,0,0,0,16575,0,0,0,0,55250,0,0,0,0,0,0,0,0,0,0,0,0,0,0,0,35000,0,0,0,0,0,0,0,0,0,0,0,0,0,30975,515550,0,0,0,0,0,0,0,0,0,0,0,298200,0,0,0,0,0,0,0,0,0,0,0,0,665950,1589575,0,0,0,0,6173625,0,0,0,0,5233125,11383625,0,0,0,0,0,0,0,0,0,21552675,1824450,0,0,0]}],                        {\"height\":800,\"legend\":{\"tracegroupgap\":0},\"margin\":{\"t\":60},\"template\":{\"data\":{\"bar\":[{\"error_x\":{\"color\":\"#2a3f5f\"},\"error_y\":{\"color\":\"#2a3f5f\"},\"marker\":{\"line\":{\"color\":\"#E5ECF6\",\"width\":0.5},\"pattern\":{\"fillmode\":\"overlay\",\"size\":10,\"solidity\":0.2}},\"type\":\"bar\"}],\"barpolar\":[{\"marker\":{\"line\":{\"color\":\"#E5ECF6\",\"width\":0.5},\"pattern\":{\"fillmode\":\"overlay\",\"size\":10,\"solidity\":0.2}},\"type\":\"barpolar\"}],\"carpet\":[{\"aaxis\":{\"endlinecolor\":\"#2a3f5f\",\"gridcolor\":\"white\",\"linecolor\":\"white\",\"minorgridcolor\":\"white\",\"startlinecolor\":\"#2a3f5f\"},\"baxis\":{\"endlinecolor\":\"#2a3f5f\",\"gridcolor\":\"white\",\"linecolor\":\"white\",\"minorgridcolor\":\"white\",\"startlinecolor\":\"#2a3f5f\"},\"type\":\"carpet\"}],\"choropleth\":[{\"colorbar\":{\"outlinewidth\":0,\"ticks\":\"\"},\"type\":\"choropleth\"}],\"contour\":[{\"colorbar\":{\"outlinewidth\":0,\"ticks\":\"\"},\"colorscale\":[[0.0,\"#0d0887\"],[0.1111111111111111,\"#46039f\"],[0.2222222222222222,\"#7201a8\"],[0.3333333333333333,\"#9c179e\"],[0.4444444444444444,\"#bd3786\"],[0.5555555555555556,\"#d8576b\"],[0.6666666666666666,\"#ed7953\"],[0.7777777777777778,\"#fb9f3a\"],[0.8888888888888888,\"#fdca26\"],[1.0,\"#f0f921\"]],\"type\":\"contour\"}],\"contourcarpet\":[{\"colorbar\":{\"outlinewidth\":0,\"ticks\":\"\"},\"type\":\"contourcarpet\"}],\"heatmap\":[{\"colorbar\":{\"outlinewidth\":0,\"ticks\":\"\"},\"colorscale\":[[0.0,\"#0d0887\"],[0.1111111111111111,\"#46039f\"],[0.2222222222222222,\"#7201a8\"],[0.3333333333333333,\"#9c179e\"],[0.4444444444444444,\"#bd3786\"],[0.5555555555555556,\"#d8576b\"],[0.6666666666666666,\"#ed7953\"],[0.7777777777777778,\"#fb9f3a\"],[0.8888888888888888,\"#fdca26\"],[1.0,\"#f0f921\"]],\"type\":\"heatmap\"}],\"heatmapgl\":[{\"colorbar\":{\"outlinewidth\":0,\"ticks\":\"\"},\"colorscale\":[[0.0,\"#0d0887\"],[0.1111111111111111,\"#46039f\"],[0.2222222222222222,\"#7201a8\"],[0.3333333333333333,\"#9c179e\"],[0.4444444444444444,\"#bd3786\"],[0.5555555555555556,\"#d8576b\"],[0.6666666666666666,\"#ed7953\"],[0.7777777777777778,\"#fb9f3a\"],[0.8888888888888888,\"#fdca26\"],[1.0,\"#f0f921\"]],\"type\":\"heatmapgl\"}],\"histogram\":[{\"marker\":{\"pattern\":{\"fillmode\":\"overlay\",\"size\":10,\"solidity\":0.2}},\"type\":\"histogram\"}],\"histogram2d\":[{\"colorbar\":{\"outlinewidth\":0,\"ticks\":\"\"},\"colorscale\":[[0.0,\"#0d0887\"],[0.1111111111111111,\"#46039f\"],[0.2222222222222222,\"#7201a8\"],[0.3333333333333333,\"#9c179e\"],[0.4444444444444444,\"#bd3786\"],[0.5555555555555556,\"#d8576b\"],[0.6666666666666666,\"#ed7953\"],[0.7777777777777778,\"#fb9f3a\"],[0.8888888888888888,\"#fdca26\"],[1.0,\"#f0f921\"]],\"type\":\"histogram2d\"}],\"histogram2dcontour\":[{\"colorbar\":{\"outlinewidth\":0,\"ticks\":\"\"},\"colorscale\":[[0.0,\"#0d0887\"],[0.1111111111111111,\"#46039f\"],[0.2222222222222222,\"#7201a8\"],[0.3333333333333333,\"#9c179e\"],[0.4444444444444444,\"#bd3786\"],[0.5555555555555556,\"#d8576b\"],[0.6666666666666666,\"#ed7953\"],[0.7777777777777778,\"#fb9f3a\"],[0.8888888888888888,\"#fdca26\"],[1.0,\"#f0f921\"]],\"type\":\"histogram2dcontour\"}],\"mesh3d\":[{\"colorbar\":{\"outlinewidth\":0,\"ticks\":\"\"},\"type\":\"mesh3d\"}],\"parcoords\":[{\"line\":{\"colorbar\":{\"outlinewidth\":0,\"ticks\":\"\"}},\"type\":\"parcoords\"}],\"pie\":[{\"automargin\":true,\"type\":\"pie\"}],\"scatter\":[{\"marker\":{\"colorbar\":{\"outlinewidth\":0,\"ticks\":\"\"}},\"type\":\"scatter\"}],\"scatter3d\":[{\"line\":{\"colorbar\":{\"outlinewidth\":0,\"ticks\":\"\"}},\"marker\":{\"colorbar\":{\"outlinewidth\":0,\"ticks\":\"\"}},\"type\":\"scatter3d\"}],\"scattercarpet\":[{\"marker\":{\"colorbar\":{\"outlinewidth\":0,\"ticks\":\"\"}},\"type\":\"scattercarpet\"}],\"scattergeo\":[{\"marker\":{\"colorbar\":{\"outlinewidth\":0,\"ticks\":\"\"}},\"type\":\"scattergeo\"}],\"scattergl\":[{\"marker\":{\"colorbar\":{\"outlinewidth\":0,\"ticks\":\"\"}},\"type\":\"scattergl\"}],\"scattermapbox\":[{\"marker\":{\"colorbar\":{\"outlinewidth\":0,\"ticks\":\"\"}},\"type\":\"scattermapbox\"}],\"scatterpolar\":[{\"marker\":{\"colorbar\":{\"outlinewidth\":0,\"ticks\":\"\"}},\"type\":\"scatterpolar\"}],\"scatterpolargl\":[{\"marker\":{\"colorbar\":{\"outlinewidth\":0,\"ticks\":\"\"}},\"type\":\"scatterpolargl\"}],\"scatterternary\":[{\"marker\":{\"colorbar\":{\"outlinewidth\":0,\"ticks\":\"\"}},\"type\":\"scatterternary\"}],\"surface\":[{\"colorbar\":{\"outlinewidth\":0,\"ticks\":\"\"},\"colorscale\":[[0.0,\"#0d0887\"],[0.1111111111111111,\"#46039f\"],[0.2222222222222222,\"#7201a8\"],[0.3333333333333333,\"#9c179e\"],[0.4444444444444444,\"#bd3786\"],[0.5555555555555556,\"#d8576b\"],[0.6666666666666666,\"#ed7953\"],[0.7777777777777778,\"#fb9f3a\"],[0.8888888888888888,\"#fdca26\"],[1.0,\"#f0f921\"]],\"type\":\"surface\"}],\"table\":[{\"cells\":{\"fill\":{\"color\":\"#EBF0F8\"},\"line\":{\"color\":\"white\"}},\"header\":{\"fill\":{\"color\":\"#C8D4E3\"},\"line\":{\"color\":\"white\"}},\"type\":\"table\"}]},\"layout\":{\"annotationdefaults\":{\"arrowcolor\":\"#2a3f5f\",\"arrowhead\":0,\"arrowwidth\":1},\"autotypenumbers\":\"strict\",\"coloraxis\":{\"colorbar\":{\"outlinewidth\":0,\"ticks\":\"\"}},\"colorscale\":{\"diverging\":[[0,\"#8e0152\"],[0.1,\"#c51b7d\"],[0.2,\"#de77ae\"],[0.3,\"#f1b6da\"],[0.4,\"#fde0ef\"],[0.5,\"#f7f7f7\"],[0.6,\"#e6f5d0\"],[0.7,\"#b8e186\"],[0.8,\"#7fbc41\"],[0.9,\"#4d9221\"],[1,\"#276419\"]],\"sequential\":[[0.0,\"#0d0887\"],[0.1111111111111111,\"#46039f\"],[0.2222222222222222,\"#7201a8\"],[0.3333333333333333,\"#9c179e\"],[0.4444444444444444,\"#bd3786\"],[0.5555555555555556,\"#d8576b\"],[0.6666666666666666,\"#ed7953\"],[0.7777777777777778,\"#fb9f3a\"],[0.8888888888888888,\"#fdca26\"],[1.0,\"#f0f921\"]],\"sequentialminus\":[[0.0,\"#0d0887\"],[0.1111111111111111,\"#46039f\"],[0.2222222222222222,\"#7201a8\"],[0.3333333333333333,\"#9c179e\"],[0.4444444444444444,\"#bd3786\"],[0.5555555555555556,\"#d8576b\"],[0.6666666666666666,\"#ed7953\"],[0.7777777777777778,\"#fb9f3a\"],[0.8888888888888888,\"#fdca26\"],[1.0,\"#f0f921\"]]},\"colorway\":[\"#636efa\",\"#EF553B\",\"#00cc96\",\"#ab63fa\",\"#FFA15A\",\"#19d3f3\",\"#FF6692\",\"#B6E880\",\"#FF97FF\",\"#FECB52\"],\"font\":{\"color\":\"#2a3f5f\"},\"geo\":{\"bgcolor\":\"white\",\"lakecolor\":\"white\",\"landcolor\":\"#E5ECF6\",\"showlakes\":true,\"showland\":true,\"subunitcolor\":\"white\"},\"hoverlabel\":{\"align\":\"left\"},\"hovermode\":\"closest\",\"mapbox\":{\"style\":\"light\"},\"paper_bgcolor\":\"white\",\"plot_bgcolor\":\"#E5ECF6\",\"polar\":{\"angularaxis\":{\"gridcolor\":\"white\",\"linecolor\":\"white\",\"ticks\":\"\"},\"bgcolor\":\"#E5ECF6\",\"radialaxis\":{\"gridcolor\":\"white\",\"linecolor\":\"white\",\"ticks\":\"\"}},\"scene\":{\"xaxis\":{\"backgroundcolor\":\"#E5ECF6\",\"gridcolor\":\"white\",\"gridwidth\":2,\"linecolor\":\"white\",\"showbackground\":true,\"ticks\":\"\",\"zerolinecolor\":\"white\"},\"yaxis\":{\"backgroundcolor\":\"#E5ECF6\",\"gridcolor\":\"white\",\"gridwidth\":2,\"linecolor\":\"white\",\"showbackground\":true,\"ticks\":\"\",\"zerolinecolor\":\"white\"},\"zaxis\":{\"backgroundcolor\":\"#E5ECF6\",\"gridcolor\":\"white\",\"gridwidth\":2,\"linecolor\":\"white\",\"showbackground\":true,\"ticks\":\"\",\"zerolinecolor\":\"white\"}},\"shapedefaults\":{\"line\":{\"color\":\"#2a3f5f\"}},\"ternary\":{\"aaxis\":{\"gridcolor\":\"white\",\"linecolor\":\"white\",\"ticks\":\"\"},\"baxis\":{\"gridcolor\":\"white\",\"linecolor\":\"white\",\"ticks\":\"\"},\"bgcolor\":\"#E5ECF6\",\"caxis\":{\"gridcolor\":\"white\",\"linecolor\":\"white\",\"ticks\":\"\"}},\"title\":{\"x\":0.05},\"xaxis\":{\"automargin\":true,\"gridcolor\":\"white\",\"linecolor\":\"white\",\"ticks\":\"\",\"title\":{\"standoff\":15},\"zerolinecolor\":\"white\",\"zerolinewidth\":2},\"yaxis\":{\"automargin\":true,\"gridcolor\":\"white\",\"linecolor\":\"white\",\"ticks\":\"\",\"title\":{\"standoff\":15},\"zerolinecolor\":\"white\",\"zerolinewidth\":2}}},\"width\":800},                        {\"responsive\": true}                    ).then(function(){\n",
       "                            \n",
       "var gd = document.getElementById('f99600c8-fc21-4b2b-9129-f3f1276839df');\n",
       "var x = new MutationObserver(function (mutations, observer) {{\n",
       "        var display = window.getComputedStyle(gd).display;\n",
       "        if (!display || display === 'none') {{\n",
       "            console.log([gd, 'removed!']);\n",
       "            Plotly.purge(gd);\n",
       "            observer.disconnect();\n",
       "        }}\n",
       "}});\n",
       "\n",
       "// Listen for the removal of the full notebook cells\n",
       "var notebookContainer = gd.closest('#notebook-container');\n",
       "if (notebookContainer) {{\n",
       "    x.observe(notebookContainer, {childList: true});\n",
       "}}\n",
       "\n",
       "// Listen for the clearing of the current output cell\n",
       "var outputEl = gd.closest('.output');\n",
       "if (outputEl) {{\n",
       "    x.observe(outputEl, {childList: true});\n",
       "}}\n",
       "\n",
       "                        })                };                });            </script>        </div>"
      ]
     },
     "metadata": {},
     "output_type": "display_data"
    }
   ],
   "source": [
    "fig0=px.sunburst(df, path=['sex',\"continent\", 'country'], values='loan_amount',\n",
    "                 color=(\"continent\"),\n",
    "                 \n",
    "                  width =800, height =800)\n",
    "fig0.show()"
   ]
  },
  {
   "cell_type": "markdown",
   "id": "4deab7f2",
   "metadata": {},
   "source": []
  },
  {
   "cell_type": "markdown",
   "id": "eabf7cba",
   "metadata": {},
   "source": [
    "## Exploring gender by repayment interval"
   ]
  },
  {
   "cell_type": "code",
   "execution_count": 20,
   "id": "86ed195e",
   "metadata": {},
   "outputs": [
    {
     "data": {
      "image/png": "[encoded data removed]",
      "text/plain": [
       "<Figure size 720x432 with 1 Axes>"
      ]
     },
     "metadata": {},
     "output_type": "display_data"
    }
   ],
   "source": [
    "plt.figure(figsize=(10,6))\n",
    "\n",
    "g = sns.barplot(x='repayment_interval',y=\"loan_amount\", data=df, \n",
    "                  hue='sex')\n",
    "g.set_title(\"Exploring gender by repayment interval\", fontsize=15)\n",
    "g.set_xlabel(\"\")\n",
    "g.set_ylabel(\"Count Distribuition\", fontsize=12)\n",
    "\n",
    "plt.show()"
   ]
  },
  {
   "cell_type": "markdown",
   "id": "e71d3336",
   "metadata": {},
   "source": [
    "## "
   ]
  },
  {
   "cell_type": "code",
   "execution_count": 21,
   "id": "2e13c629",
   "metadata": {
    "scrolled": false
   },
   "outputs": [
    {
     "data": {
      "image/png": "[encoded data removed]",
      "text/plain": [
       "<Figure size 864x1008 with 2 Axes>"
      ]
     },
     "metadata": {},
     "output_type": "display_data"
    }
   ],
   "source": [
    "sns.set_theme(style='whitegrid')\n",
    "plt.figure(figsize=(12,14))\n",
    "\n",
    "\n",
    "plt.subplot(311)\n",
    "g1 = sns.barplot(x='sector', y='loan_amount', data=df, \n",
    "              hue='sex', palette='bwr', hue_order=['male','female'])\n",
    "g1.set_xticklabels(g1.get_xticklabels(),rotation=45)\n",
    "g1.set_title(\"Exploring genders by sectors in relation to loan\", fontsize=15)\n",
    "g1.set_xlabel(\"\")\n",
    "g1.set_ylabel(\"Loan amount in Dollar\", fontsize=12)\n",
    "\n",
    "plt.subplot(312)\n",
    "g2 = sns.barplot(x='term_in_months',y=\"loan_amount\",data=df[df['term_in_months'] < 37], \n",
    "            hue='sex',palette='bwr', hue_order=['male','female'])\n",
    "g2.set_xticklabels(g2.get_xticklabels(),rotation=45)\n",
    "g2.set_title(\"Exploring genders by loan term in months\", fontsize=15)\n",
    "g2.set_xlabel(\"Term in months\")\n",
    "g2.set_ylabel(\"Loan amount in Dollar\", fontsize=12)\n",
    "\n",
    "plt.subplots_adjust(wspace = 0.4, hspace = 0.5,top = 0.9)\n",
    "\n",
    "\n",
    "\n",
    "plt.show()\n",
    "\n"
   ]
  },
  {
   "cell_type": "code",
   "execution_count": 22,
   "id": "d6594827",
   "metadata": {},
   "outputs": [
    {
     "ename": "SyntaxError",
     "evalue": "invalid syntax (Temp/ipykernel_17568/1783781258.py, line 1)",
     "output_type": "error",
     "traceback": [
      "\u001b[1;36m  File \u001b[1;32m\"C:\\Users\\elibo\\AppData\\Local\\Temp/ipykernel_17568/1783781258.py\"\u001b[1;36m, line \u001b[1;32m1\u001b[0m\n\u001b[1;33m    Diese Grafik beinhaltet zwei Subplots, welche 1. Beziehung der Geschlechter bei Sektoren mit der Kreditgröße  und 2.\u001b[0m\n\u001b[1;37m          ^\u001b[0m\n\u001b[1;31mSyntaxError\u001b[0m\u001b[1;31m:\u001b[0m invalid syntax\n"
     ]
    }
   ],
   "source": [
    "Diese Grafik beinhaltet zwei Subplots, welche 1. Beziehung der Geschlechter bei Sektoren mit der Kreditgröße  und 2. \n",
    "Beziehung der Geschlechter mit den Rückgabemonaten mit der Kreditgröße. \n",
    "\n",
    "Im ersten Subplot ist zu erkennen, dass es Männer über die meisten Sektoren hinweg höhere Kreditsummen erhalten als Frauen.\n",
    "Vereinzelt in einigen Sektoren wie Bildung und Gesundheit sind die Beträge gleich groß. Wir wissen aus ( weiter unten kommenden!) Analysen, dass die Frauen häufiger Kredite bekommen und auch häufiger erfolgreich sind diese zu erhalten. \n",
    "Die Kreditgrößen sind dabei aber zwar kleiner. Die Männer hingegen bekommen größere Beträge, aber diese sind auch seltener und mit geringerer Wahrscheinlichkeit den Zielbetrag zuerreichen. \n",
    "\n",
    "Im zweiten Subplot wird die Dauer der Kredite in Monaten in Beziehung zu der Kreditgröße angezeigt. Hierbei unterscheiden sich die Frauen und Männer. \n",
    "Wie bereits im ersten Subplot erkennbar, bekommen Männer höhere Kreditsummen. Die höheren Beträge stehen in Beziehung mit der Dauer der Auszahlung. \n",
    "Je hööher der Kredit desto höher die Dauer der Auszahlung. Dabei sind Vertragsgeregelte Zeiten, wie 6 Monate, 24 Monate und 36 Monate ausschlaggebend. \n",
    "Frauen hingegegen bekommen seltener hohe Kredite und bekommen diese in kürzeren Dauern. "
   ]
  },
  {
   "cell_type": "markdown",
   "id": "b99bcc87",
   "metadata": {},
   "source": [
    "## Which gender has more success regarding funding amount?"
   ]
  },
  {
   "cell_type": "code",
   "execution_count": null,
   "id": "01624ff4",
   "metadata": {
    "scrolled": true
   },
   "outputs": [],
   "source": [
    "data1=df[[\"country\",\"gender\",\"funded_amount\",\"loan_amount\",\"repayment_interval\",\"goal_pctg\"]]  \n",
    "data1"
   ]
  },
  {
   "cell_type": "code",
   "execution_count": null,
   "id": "a38119d1",
   "metadata": {
    "scrolled": true
   },
   "outputs": [],
   "source": [
    "data=data1.groupby([\"country\",\"gender\"],as_index=False,observed=True).agg({'funded_amount': np.mean,\"loan_amount\":np.mean,\"goal_pctg\":np.mean})\n",
    "data"
   ]
  },
  {
   "cell_type": "code",
   "execution_count": null,
   "id": "f8b647cd",
   "metadata": {},
   "outputs": [],
   "source": [
    "data['new_goal'] = np.where(data['goal_pctg']< 70, 'low success rate', \n",
    "                             np.where(data['goal_pctg']>=95, 'high success rate', 'moderate success rate'))\n",
    "data"
   ]
  },
  {
   "cell_type": "markdown",
   "id": "541d504e",
   "metadata": {},
   "source": [
    "# "
   ]
  },
  {
   "cell_type": "code",
   "execution_count": null,
   "id": "6e4e0973",
   "metadata": {
    "scrolled": false
   },
   "outputs": [],
   "source": [
    "fig2 =px.sunburst(data, path=['gender', 'new_goal'], \n",
    "                  values='goal_pctg',title=\"Gender and Groups of Gender in Relation to project success \",\n",
    "                  color='gender', \n",
    "                  color_discrete_map={'female':'pink', 'male':'steelblue',\n",
    "                                      'multiple female':'purple','multiple male':'darkblue',\n",
    "                                     'both':'grey',},\n",
    "                  width =800, height =800)\n",
    "\n",
    "fig2.update_traces(textinfo=\"label+ percent parent\")\n",
    "fig2.show()"
   ]
  },
  {
   "cell_type": "markdown",
   "id": "394ee46f",
   "metadata": {},
   "source": [
    "In diesem Plot wird dargestellt, dass Frauen ob nun einzeln oder in Gruppen eine höhere Rate haben, dass ihr Projekt den Zielbetrag erreicht. \n",
    "Man erkennt gut, dass bei female 92 % eine hohe Erfolgsrate haben und bei multiple female sogar 96% erfolgreich werden. \n",
    "Die Erfolgsrate sinkt jedoch bei Männern. Bei einem One-man Projekt ist die Rate nur leicht über 62% und bei mehreren Männer etwas mehr bei 72%. \n",
    "Anders sieht es bei gemischten Gruppen aus, da ist die Erfolgsrate noch bei 80%. \n",
    "\n",
    "Unser Start-Up unterstützt demzufolge mehr Frauenprojekte und fördert diese. \n",
    "\n"
   ]
  },
  {
   "cell_type": "markdown",
   "id": "ed2a3954",
   "metadata": {},
   "source": [
    "## In which sector and countries do women have better chances?"
   ]
  },
  {
   "cell_type": "code",
   "execution_count": null,
   "id": "f09ab661",
   "metadata": {},
   "outputs": [],
   "source": [
    "female=df.loc[(df.gender==\"female\") | ( df.gender== \"multiple female\" )]\n",
    "female"
   ]
  },
  {
   "cell_type": "markdown",
   "id": "cd616eb9",
   "metadata": {},
   "source": [
    "# "
   ]
  },
  {
   "cell_type": "code",
   "execution_count": null,
   "id": "a3333d71",
   "metadata": {
    "scrolled": false
   },
   "outputs": [],
   "source": [
    "female_fund=female.drop(female[female.funded_amount ==0].index)\n",
    "#summe=female_fund.funded_amount.sum()\n",
    "female_fund_agg=female_fund.groupby(['continent','country'], as_index=False, observed=True).agg({'funded_amount':'sum'})\n",
    "fig0=px.treemap(female_fund_agg, path=[px.Constant('summe'),'continent', 'country'], values='funded_amount', color='funded_amount')\n",
    "fig0.show()"
   ]
  },
  {
   "cell_type": "markdown",
   "id": "522a80db",
   "metadata": {},
   "source": [
    "In diesem Treemap Graphen können wir erkennen, dass besonders in Philippinien (ausschließlich Frauenprojekte) der gewünschte Zielbetrag\n",
    "übersteigt und das Ziel erreicht wird. Somit ist Philippien in Asien das meist unterstützte Land in unserem Start-up. An zweiter Stelle ist in Südamerika Paragua und dicht gefolgt von Kenya in Afrika. \n",
    "Wir stellen also fest, dass oft Entwicklungsländer Unterstützung erhalten. "
   ]
  },
  {
   "cell_type": "code",
   "execution_count": null,
   "id": "6411de85",
   "metadata": {},
   "outputs": [],
   "source": [
    "female_loan_agg=female_fund.groupby(['sector','activity'], as_index=False, observed=True).agg({'loan_amount':'sum'})\n",
    "fig1=px.treemap(female_loan_agg, path=[px.Constant('sum'),'sector', 'activity'],\n",
    "                values='loan_amount', color='loan_amount')\n",
    "fig1.show()"
   ]
  },
  {
   "cell_type": "code",
   "execution_count": null,
   "id": "2c227491",
   "metadata": {},
   "outputs": [],
   "source": [
    "female1=female.loc[(female.sector=='Agriculture') ]\n",
    "female1=female1.groupby('activity',as_index=False, observed=True).size()\n",
    "female1"
   ]
  },
  {
   "cell_type": "code",
   "execution_count": null,
   "id": "69f08fae",
   "metadata": {},
   "outputs": [],
   "source": [
    "female1[\"activity\"] = female1[\"activity\"].cat.remove_unused_categories()\n",
    "female1[\"activity\"].unique()"
   ]
  },
  {
   "cell_type": "code",
   "execution_count": null,
   "id": "529c5e26",
   "metadata": {
    "scrolled": true
   },
   "outputs": [],
   "source": [
    "female2=female.loc[female.sector=='Retail']\n",
    "female2=female2.groupby('activity',as_index=False, observed=True).size()\n",
    "female2"
   ]
  },
  {
   "cell_type": "code",
   "execution_count": null,
   "id": "e83920a3",
   "metadata": {},
   "outputs": [],
   "source": [
    "female2[\"activity\"] = female2[\"activity\"].cat.remove_unused_categories()\n",
    "female2[\"activity\"].unique()"
   ]
  },
  {
   "cell_type": "code",
   "execution_count": null,
   "id": "1e29223f",
   "metadata": {},
   "outputs": [],
   "source": [
    "\n",
    "plt.figure(figsize=(12,14))\n",
    "\n",
    "plt.subplot(311)\n",
    "g1 = sns.barplot(x='activity',y=\"size\",data=female1,order=female1.sort_values('size',ascending=False).activity)\n",
    "g1.set_xticklabels(g1.get_xticklabels(),rotation=45)\n",
    "g1.set_title(\"Activities by Agriculture Sector\", fontsize=15)\n",
    "g1.set_xlabel(\"\")\n",
    "g1.set_ylabel(\"Count\", fontsize=12)\n",
    "\n",
    "\n",
    "plt.subplot(312)\n",
    "g2 = sns.barplot(x='activity', y=\"size\",data=female2,order=female2.sort_values('size',ascending=False).activity)\n",
    "g2.set_xticklabels(g2.get_xticklabels(),rotation=90)\n",
    "g2.set_title(\"Activities by Retail Sector\", fontsize=15)\n",
    "g2.set_xlabel(\"\")\n",
    "g2.set_ylabel(\"Count\", fontsize=12)\n",
    "\n",
    "plt.subplots_adjust(wspace = 0.2, hspace = 0.8,top = 0.9)\n",
    "plt.show()"
   ]
  },
  {
   "cell_type": "code",
   "execution_count": null,
   "id": "a6c8d694",
   "metadata": {},
   "outputs": [],
   "source": [
    "female_act=female.loc[(female[\"activity\"]==\"General Store\")|(female[\"activity\"]==\"Farming\") ].reset_index()\n",
    "female_act"
   ]
  }
 ],
 "metadata": {
  "hide_input": false,
  "kernelspec": {
   "display_name": "Python 3 (ipykernel)",
   "language": "python",
   "name": "python3"
  },
  "language_info": {
   "codemirror_mode": {
    "name": "ipython",
    "version": 3
   },
   "file_extension": ".py",
   "mimetype": "text/x-python",
   "name": "python",
   "nbconvert_exporter": "python",
   "pygments_lexer": "ipython3",
   "version": "3.8.11"
  },
  "toc": {
   "base_numbering": 1,
   "nav_menu": {},
   "number_sections": true,
   "sideBar": true,
   "skip_h1_title": false,
   "title_cell": "Table of Contents",
   "title_sidebar": "Contents",
   "toc_cell": false,
   "toc_position": {},
   "toc_section_display": true,
   "toc_window_display": false
  },
  "varInspector": {
   "cols": {
    "lenName": 16,
    "lenType": 16,
    "lenVar": 40
   },
   "kernels_config": {
    "python": {
     "delete_cmd_postfix": "",
     "delete_cmd_prefix": "del ",
     "library": "var_list.py",
     "varRefreshCmd": "print(var_dic_list())"
    },
    "r": {
     "delete_cmd_postfix": ") ",
     "delete_cmd_prefix": "rm(",
     "library": "var_list.r",
     "varRefreshCmd": "cat(var_dic_list()) "
    }
   },
   "types_to_exclude": [
    "module",
    "function",
    "builtin_function_or_method",
    "instance",
    "_Feature"
   ],
   "window_display": false
  }
 },
 "nbformat": 4,
 "nbformat_minor": 5
}
